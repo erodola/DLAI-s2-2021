{
  "nbformat": 4,
  "nbformat_minor": 0,
  "metadata": {
    "colab": {
      "name": "03_Linear_models_and_Pytorch_Datasets_2021.ipynb",
      "provenance": [],
      "collapsed_sections": [],
      "toc_visible": true
    },
    "kernelspec": {
      "name": "python3",
      "display_name": "Python 3"
    },
    "accelerator": "GPU",
    "widgets": {
      "application/vnd.jupyter.widget-state+json": {
        "e008a393d65c48a78baffbced4d1268a": {
          "model_module": "@jupyter-widgets/controls",
          "model_name": "HBoxModel",
          "state": {
            "_view_name": "HBoxView",
            "_dom_classes": [],
            "_model_name": "HBoxModel",
            "_view_module": "@jupyter-widgets/controls",
            "_model_module_version": "1.5.0",
            "_view_count": null,
            "_view_module_version": "1.5.0",
            "box_style": "",
            "layout": "IPY_MODEL_a3ecf9263ed14590ac886a520d6b6efb",
            "_model_module": "@jupyter-widgets/controls",
            "children": [
              "IPY_MODEL_23571d6e4c1d4169a962dc4b8eb131c8",
              "IPY_MODEL_3ea746f07dd34c3780b255658ec578ed"
            ]
          }
        },
        "a3ecf9263ed14590ac886a520d6b6efb": {
          "model_module": "@jupyter-widgets/base",
          "model_name": "LayoutModel",
          "state": {
            "_view_name": "LayoutView",
            "grid_template_rows": null,
            "right": null,
            "justify_content": null,
            "_view_module": "@jupyter-widgets/base",
            "overflow": null,
            "_model_module_version": "1.2.0",
            "_view_count": null,
            "flex_flow": null,
            "width": null,
            "min_width": null,
            "border": null,
            "align_items": null,
            "bottom": null,
            "_model_module": "@jupyter-widgets/base",
            "top": null,
            "grid_column": null,
            "overflow_y": null,
            "overflow_x": null,
            "grid_auto_flow": null,
            "grid_area": null,
            "grid_template_columns": null,
            "flex": null,
            "_model_name": "LayoutModel",
            "justify_items": null,
            "grid_row": null,
            "max_height": null,
            "align_content": null,
            "visibility": null,
            "align_self": null,
            "height": null,
            "min_height": null,
            "padding": null,
            "grid_auto_rows": null,
            "grid_gap": null,
            "max_width": null,
            "order": null,
            "_view_module_version": "1.2.0",
            "grid_template_areas": null,
            "object_position": null,
            "object_fit": null,
            "grid_auto_columns": null,
            "margin": null,
            "display": null,
            "left": null
          }
        },
        "23571d6e4c1d4169a962dc4b8eb131c8": {
          "model_module": "@jupyter-widgets/controls",
          "model_name": "FloatProgressModel",
          "state": {
            "_view_name": "ProgressView",
            "style": "IPY_MODEL_1af3c7dfccba4768ae7b35c764957243",
            "_dom_classes": [],
            "description": "100%",
            "_model_name": "FloatProgressModel",
            "bar_style": "success",
            "max": 20000,
            "_view_module": "@jupyter-widgets/controls",
            "_model_module_version": "1.5.0",
            "value": 20000,
            "_view_count": null,
            "_view_module_version": "1.5.0",
            "orientation": "horizontal",
            "min": 0,
            "description_tooltip": null,
            "_model_module": "@jupyter-widgets/controls",
            "layout": "IPY_MODEL_0af0cf7b768b416e91044481c967ea99"
          }
        },
        "3ea746f07dd34c3780b255658ec578ed": {
          "model_module": "@jupyter-widgets/controls",
          "model_name": "HTMLModel",
          "state": {
            "_view_name": "HTMLView",
            "style": "IPY_MODEL_7e4dcf58357d47fcb45c82a761ccde93",
            "_dom_classes": [],
            "description": "",
            "_model_name": "HTMLModel",
            "placeholder": "​",
            "_view_module": "@jupyter-widgets/controls",
            "_model_module_version": "1.5.0",
            "value": " 20000/20000 [00:00&lt;00:00, 211066.02it/s]",
            "_view_count": null,
            "_view_module_version": "1.5.0",
            "description_tooltip": null,
            "_model_module": "@jupyter-widgets/controls",
            "layout": "IPY_MODEL_7cda4ecaf3744351b3b8799b677f808b"
          }
        },
        "1af3c7dfccba4768ae7b35c764957243": {
          "model_module": "@jupyter-widgets/controls",
          "model_name": "ProgressStyleModel",
          "state": {
            "_view_name": "StyleView",
            "_model_name": "ProgressStyleModel",
            "description_width": "initial",
            "_view_module": "@jupyter-widgets/base",
            "_model_module_version": "1.5.0",
            "_view_count": null,
            "_view_module_version": "1.2.0",
            "bar_color": null,
            "_model_module": "@jupyter-widgets/controls"
          }
        },
        "0af0cf7b768b416e91044481c967ea99": {
          "model_module": "@jupyter-widgets/base",
          "model_name": "LayoutModel",
          "state": {
            "_view_name": "LayoutView",
            "grid_template_rows": null,
            "right": null,
            "justify_content": null,
            "_view_module": "@jupyter-widgets/base",
            "overflow": null,
            "_model_module_version": "1.2.0",
            "_view_count": null,
            "flex_flow": null,
            "width": null,
            "min_width": null,
            "border": null,
            "align_items": null,
            "bottom": null,
            "_model_module": "@jupyter-widgets/base",
            "top": null,
            "grid_column": null,
            "overflow_y": null,
            "overflow_x": null,
            "grid_auto_flow": null,
            "grid_area": null,
            "grid_template_columns": null,
            "flex": null,
            "_model_name": "LayoutModel",
            "justify_items": null,
            "grid_row": null,
            "max_height": null,
            "align_content": null,
            "visibility": null,
            "align_self": null,
            "height": null,
            "min_height": null,
            "padding": null,
            "grid_auto_rows": null,
            "grid_gap": null,
            "max_width": null,
            "order": null,
            "_view_module_version": "1.2.0",
            "grid_template_areas": null,
            "object_position": null,
            "object_fit": null,
            "grid_auto_columns": null,
            "margin": null,
            "display": null,
            "left": null
          }
        },
        "7e4dcf58357d47fcb45c82a761ccde93": {
          "model_module": "@jupyter-widgets/controls",
          "model_name": "DescriptionStyleModel",
          "state": {
            "_view_name": "StyleView",
            "_model_name": "DescriptionStyleModel",
            "description_width": "",
            "_view_module": "@jupyter-widgets/base",
            "_model_module_version": "1.5.0",
            "_view_count": null,
            "_view_module_version": "1.2.0",
            "_model_module": "@jupyter-widgets/controls"
          }
        },
        "7cda4ecaf3744351b3b8799b677f808b": {
          "model_module": "@jupyter-widgets/base",
          "model_name": "LayoutModel",
          "state": {
            "_view_name": "LayoutView",
            "grid_template_rows": null,
            "right": null,
            "justify_content": null,
            "_view_module": "@jupyter-widgets/base",
            "overflow": null,
            "_model_module_version": "1.2.0",
            "_view_count": null,
            "flex_flow": null,
            "width": null,
            "min_width": null,
            "border": null,
            "align_items": null,
            "bottom": null,
            "_model_module": "@jupyter-widgets/base",
            "top": null,
            "grid_column": null,
            "overflow_y": null,
            "overflow_x": null,
            "grid_auto_flow": null,
            "grid_area": null,
            "grid_template_columns": null,
            "flex": null,
            "_model_name": "LayoutModel",
            "justify_items": null,
            "grid_row": null,
            "max_height": null,
            "align_content": null,
            "visibility": null,
            "align_self": null,
            "height": null,
            "min_height": null,
            "padding": null,
            "grid_auto_rows": null,
            "grid_gap": null,
            "max_width": null,
            "order": null,
            "_view_module_version": "1.2.0",
            "grid_template_areas": null,
            "object_position": null,
            "object_fit": null,
            "grid_auto_columns": null,
            "margin": null,
            "display": null,
            "left": null
          }
        },
        "519441628bab4ecf8b60277794e0ed2f": {
          "model_module": "@jupyter-widgets/controls",
          "model_name": "HBoxModel",
          "state": {
            "_view_name": "HBoxView",
            "_dom_classes": [],
            "_model_name": "HBoxModel",
            "_view_module": "@jupyter-widgets/controls",
            "_model_module_version": "1.5.0",
            "_view_count": null,
            "_view_module_version": "1.5.0",
            "box_style": "",
            "layout": "IPY_MODEL_3258522a8fc74584ac9129a8881affa4",
            "_model_module": "@jupyter-widgets/controls",
            "children": [
              "IPY_MODEL_e10d5f1459434061807d68b22fd2aea2",
              "IPY_MODEL_c8b80003c8aa47e2b7339e2da7325034"
            ]
          }
        },
        "3258522a8fc74584ac9129a8881affa4": {
          "model_module": "@jupyter-widgets/base",
          "model_name": "LayoutModel",
          "state": {
            "_view_name": "LayoutView",
            "grid_template_rows": null,
            "right": null,
            "justify_content": null,
            "_view_module": "@jupyter-widgets/base",
            "overflow": null,
            "_model_module_version": "1.2.0",
            "_view_count": null,
            "flex_flow": null,
            "width": null,
            "min_width": null,
            "border": null,
            "align_items": null,
            "bottom": null,
            "_model_module": "@jupyter-widgets/base",
            "top": null,
            "grid_column": null,
            "overflow_y": null,
            "overflow_x": null,
            "grid_auto_flow": null,
            "grid_area": null,
            "grid_template_columns": null,
            "flex": null,
            "_model_name": "LayoutModel",
            "justify_items": null,
            "grid_row": null,
            "max_height": null,
            "align_content": null,
            "visibility": null,
            "align_self": null,
            "height": null,
            "min_height": null,
            "padding": null,
            "grid_auto_rows": null,
            "grid_gap": null,
            "max_width": null,
            "order": null,
            "_view_module_version": "1.2.0",
            "grid_template_areas": null,
            "object_position": null,
            "object_fit": null,
            "grid_auto_columns": null,
            "margin": null,
            "display": null,
            "left": null
          }
        },
        "e10d5f1459434061807d68b22fd2aea2": {
          "model_module": "@jupyter-widgets/controls",
          "model_name": "FloatProgressModel",
          "state": {
            "_view_name": "ProgressView",
            "style": "IPY_MODEL_4d1a0693b7a34753b5f12469f1349fcf",
            "_dom_classes": [],
            "description": "100%",
            "_model_name": "FloatProgressModel",
            "bar_style": "success",
            "max": 200,
            "_view_module": "@jupyter-widgets/controls",
            "_model_module_version": "1.5.0",
            "value": 200,
            "_view_count": null,
            "_view_module_version": "1.5.0",
            "orientation": "horizontal",
            "min": 0,
            "description_tooltip": null,
            "_model_module": "@jupyter-widgets/controls",
            "layout": "IPY_MODEL_c4ca384546694b53bf0d747b52bdd675"
          }
        },
        "c8b80003c8aa47e2b7339e2da7325034": {
          "model_module": "@jupyter-widgets/controls",
          "model_name": "HTMLModel",
          "state": {
            "_view_name": "HTMLView",
            "style": "IPY_MODEL_3152a68d37134fd5a3dfa09c344d609d",
            "_dom_classes": [],
            "description": "",
            "_model_name": "HTMLModel",
            "placeholder": "​",
            "_view_module": "@jupyter-widgets/controls",
            "_model_module_version": "1.5.0",
            "value": " 200/200 [29:29&lt;00:00,  8.85s/it]",
            "_view_count": null,
            "_view_module_version": "1.5.0",
            "description_tooltip": null,
            "_model_module": "@jupyter-widgets/controls",
            "layout": "IPY_MODEL_256daa14adfb423dadac72f08048991c"
          }
        },
        "4d1a0693b7a34753b5f12469f1349fcf": {
          "model_module": "@jupyter-widgets/controls",
          "model_name": "ProgressStyleModel",
          "state": {
            "_view_name": "StyleView",
            "_model_name": "ProgressStyleModel",
            "description_width": "initial",
            "_view_module": "@jupyter-widgets/base",
            "_model_module_version": "1.5.0",
            "_view_count": null,
            "_view_module_version": "1.2.0",
            "bar_color": null,
            "_model_module": "@jupyter-widgets/controls"
          }
        },
        "c4ca384546694b53bf0d747b52bdd675": {
          "model_module": "@jupyter-widgets/base",
          "model_name": "LayoutModel",
          "state": {
            "_view_name": "LayoutView",
            "grid_template_rows": null,
            "right": null,
            "justify_content": null,
            "_view_module": "@jupyter-widgets/base",
            "overflow": null,
            "_model_module_version": "1.2.0",
            "_view_count": null,
            "flex_flow": null,
            "width": null,
            "min_width": null,
            "border": null,
            "align_items": null,
            "bottom": null,
            "_model_module": "@jupyter-widgets/base",
            "top": null,
            "grid_column": null,
            "overflow_y": null,
            "overflow_x": null,
            "grid_auto_flow": null,
            "grid_area": null,
            "grid_template_columns": null,
            "flex": null,
            "_model_name": "LayoutModel",
            "justify_items": null,
            "grid_row": null,
            "max_height": null,
            "align_content": null,
            "visibility": null,
            "align_self": null,
            "height": null,
            "min_height": null,
            "padding": null,
            "grid_auto_rows": null,
            "grid_gap": null,
            "max_width": null,
            "order": null,
            "_view_module_version": "1.2.0",
            "grid_template_areas": null,
            "object_position": null,
            "object_fit": null,
            "grid_auto_columns": null,
            "margin": null,
            "display": null,
            "left": null
          }
        },
        "3152a68d37134fd5a3dfa09c344d609d": {
          "model_module": "@jupyter-widgets/controls",
          "model_name": "DescriptionStyleModel",
          "state": {
            "_view_name": "StyleView",
            "_model_name": "DescriptionStyleModel",
            "description_width": "",
            "_view_module": "@jupyter-widgets/base",
            "_model_module_version": "1.5.0",
            "_view_count": null,
            "_view_module_version": "1.2.0",
            "_model_module": "@jupyter-widgets/controls"
          }
        },
        "256daa14adfb423dadac72f08048991c": {
          "model_module": "@jupyter-widgets/base",
          "model_name": "LayoutModel",
          "state": {
            "_view_name": "LayoutView",
            "grid_template_rows": null,
            "right": null,
            "justify_content": null,
            "_view_module": "@jupyter-widgets/base",
            "overflow": null,
            "_model_module_version": "1.2.0",
            "_view_count": null,
            "flex_flow": null,
            "width": null,
            "min_width": null,
            "border": null,
            "align_items": null,
            "bottom": null,
            "_model_module": "@jupyter-widgets/base",
            "top": null,
            "grid_column": null,
            "overflow_y": null,
            "overflow_x": null,
            "grid_auto_flow": null,
            "grid_area": null,
            "grid_template_columns": null,
            "flex": null,
            "_model_name": "LayoutModel",
            "justify_items": null,
            "grid_row": null,
            "max_height": null,
            "align_content": null,
            "visibility": null,
            "align_self": null,
            "height": null,
            "min_height": null,
            "padding": null,
            "grid_auto_rows": null,
            "grid_gap": null,
            "max_width": null,
            "order": null,
            "_view_module_version": "1.2.0",
            "grid_template_areas": null,
            "object_position": null,
            "object_fit": null,
            "grid_auto_columns": null,
            "margin": null,
            "display": null,
            "left": null
          }
        },
        "26783c0e1ee6419aa16a465f59c1c00d": {
          "model_module": "@jupyter-widgets/controls",
          "model_name": "HBoxModel",
          "state": {
            "_view_name": "HBoxView",
            "_dom_classes": [],
            "_model_name": "HBoxModel",
            "_view_module": "@jupyter-widgets/controls",
            "_model_module_version": "1.5.0",
            "_view_count": null,
            "_view_module_version": "1.5.0",
            "box_style": "",
            "layout": "IPY_MODEL_f1556961dfcc4c4696651fded74c8a8b",
            "_model_module": "@jupyter-widgets/controls",
            "children": [
              "IPY_MODEL_6b2592acac494c2d90aa735be4544724",
              "IPY_MODEL_c7e1d744ed984e919a45b7ebcd11f05f"
            ]
          }
        },
        "f1556961dfcc4c4696651fded74c8a8b": {
          "model_module": "@jupyter-widgets/base",
          "model_name": "LayoutModel",
          "state": {
            "_view_name": "LayoutView",
            "grid_template_rows": null,
            "right": null,
            "justify_content": null,
            "_view_module": "@jupyter-widgets/base",
            "overflow": null,
            "_model_module_version": "1.2.0",
            "_view_count": null,
            "flex_flow": null,
            "width": null,
            "min_width": null,
            "border": null,
            "align_items": null,
            "bottom": null,
            "_model_module": "@jupyter-widgets/base",
            "top": null,
            "grid_column": null,
            "overflow_y": null,
            "overflow_x": null,
            "grid_auto_flow": null,
            "grid_area": null,
            "grid_template_columns": null,
            "flex": null,
            "_model_name": "LayoutModel",
            "justify_items": null,
            "grid_row": null,
            "max_height": null,
            "align_content": null,
            "visibility": null,
            "align_self": null,
            "height": null,
            "min_height": null,
            "padding": null,
            "grid_auto_rows": null,
            "grid_gap": null,
            "max_width": null,
            "order": null,
            "_view_module_version": "1.2.0",
            "grid_template_areas": null,
            "object_position": null,
            "object_fit": null,
            "grid_auto_columns": null,
            "margin": null,
            "display": null,
            "left": null
          }
        },
        "6b2592acac494c2d90aa735be4544724": {
          "model_module": "@jupyter-widgets/controls",
          "model_name": "FloatProgressModel",
          "state": {
            "_view_name": "ProgressView",
            "style": "IPY_MODEL_021d02e549c1476bbb35140015740577",
            "_dom_classes": [],
            "description": "100%",
            "_model_name": "FloatProgressModel",
            "bar_style": "success",
            "max": 25,
            "_view_module": "@jupyter-widgets/controls",
            "_model_module_version": "1.5.0",
            "value": 25,
            "_view_count": null,
            "_view_module_version": "1.5.0",
            "orientation": "horizontal",
            "min": 0,
            "description_tooltip": null,
            "_model_module": "@jupyter-widgets/controls",
            "layout": "IPY_MODEL_7c1803e766a04ae6919642b3200569c5"
          }
        },
        "c7e1d744ed984e919a45b7ebcd11f05f": {
          "model_module": "@jupyter-widgets/controls",
          "model_name": "HTMLModel",
          "state": {
            "_view_name": "HTMLView",
            "style": "IPY_MODEL_a9ba298be9534b399e0c6b72cea97a77",
            "_dom_classes": [],
            "description": "",
            "_model_name": "HTMLModel",
            "placeholder": "​",
            "_view_module": "@jupyter-widgets/controls",
            "_model_module_version": "1.5.0",
            "value": " 25/25 [29:29&lt;00:00, 70.79s/it]",
            "_view_count": null,
            "_view_module_version": "1.5.0",
            "description_tooltip": null,
            "_model_module": "@jupyter-widgets/controls",
            "layout": "IPY_MODEL_7c22b752d1e1492cb38aa09380c1082b"
          }
        },
        "021d02e549c1476bbb35140015740577": {
          "model_module": "@jupyter-widgets/controls",
          "model_name": "ProgressStyleModel",
          "state": {
            "_view_name": "StyleView",
            "_model_name": "ProgressStyleModel",
            "description_width": "initial",
            "_view_module": "@jupyter-widgets/base",
            "_model_module_version": "1.5.0",
            "_view_count": null,
            "_view_module_version": "1.2.0",
            "bar_color": null,
            "_model_module": "@jupyter-widgets/controls"
          }
        },
        "7c1803e766a04ae6919642b3200569c5": {
          "model_module": "@jupyter-widgets/base",
          "model_name": "LayoutModel",
          "state": {
            "_view_name": "LayoutView",
            "grid_template_rows": null,
            "right": null,
            "justify_content": null,
            "_view_module": "@jupyter-widgets/base",
            "overflow": null,
            "_model_module_version": "1.2.0",
            "_view_count": null,
            "flex_flow": null,
            "width": null,
            "min_width": null,
            "border": null,
            "align_items": null,
            "bottom": null,
            "_model_module": "@jupyter-widgets/base",
            "top": null,
            "grid_column": null,
            "overflow_y": null,
            "overflow_x": null,
            "grid_auto_flow": null,
            "grid_area": null,
            "grid_template_columns": null,
            "flex": null,
            "_model_name": "LayoutModel",
            "justify_items": null,
            "grid_row": null,
            "max_height": null,
            "align_content": null,
            "visibility": null,
            "align_self": null,
            "height": null,
            "min_height": null,
            "padding": null,
            "grid_auto_rows": null,
            "grid_gap": null,
            "max_width": null,
            "order": null,
            "_view_module_version": "1.2.0",
            "grid_template_areas": null,
            "object_position": null,
            "object_fit": null,
            "grid_auto_columns": null,
            "margin": null,
            "display": null,
            "left": null
          }
        },
        "a9ba298be9534b399e0c6b72cea97a77": {
          "model_module": "@jupyter-widgets/controls",
          "model_name": "DescriptionStyleModel",
          "state": {
            "_view_name": "StyleView",
            "_model_name": "DescriptionStyleModel",
            "description_width": "",
            "_view_module": "@jupyter-widgets/base",
            "_model_module_version": "1.5.0",
            "_view_count": null,
            "_view_module_version": "1.2.0",
            "_model_module": "@jupyter-widgets/controls"
          }
        },
        "7c22b752d1e1492cb38aa09380c1082b": {
          "model_module": "@jupyter-widgets/base",
          "model_name": "LayoutModel",
          "state": {
            "_view_name": "LayoutView",
            "grid_template_rows": null,
            "right": null,
            "justify_content": null,
            "_view_module": "@jupyter-widgets/base",
            "overflow": null,
            "_model_module_version": "1.2.0",
            "_view_count": null,
            "flex_flow": null,
            "width": null,
            "min_width": null,
            "border": null,
            "align_items": null,
            "bottom": null,
            "_model_module": "@jupyter-widgets/base",
            "top": null,
            "grid_column": null,
            "overflow_y": null,
            "overflow_x": null,
            "grid_auto_flow": null,
            "grid_area": null,
            "grid_template_columns": null,
            "flex": null,
            "_model_name": "LayoutModel",
            "justify_items": null,
            "grid_row": null,
            "max_height": null,
            "align_content": null,
            "visibility": null,
            "align_self": null,
            "height": null,
            "min_height": null,
            "padding": null,
            "grid_auto_rows": null,
            "grid_gap": null,
            "max_width": null,
            "order": null,
            "_view_module_version": "1.2.0",
            "grid_template_areas": null,
            "object_position": null,
            "object_fit": null,
            "grid_auto_columns": null,
            "margin": null,
            "display": null,
            "left": null
          }
        },
        "38ed4d6571cf42b2a112acd40c989fa9": {
          "model_module": "@jupyter-widgets/controls",
          "model_name": "HBoxModel",
          "state": {
            "_view_name": "HBoxView",
            "_dom_classes": [],
            "_model_name": "HBoxModel",
            "_view_module": "@jupyter-widgets/controls",
            "_model_module_version": "1.5.0",
            "_view_count": null,
            "_view_module_version": "1.5.0",
            "box_style": "",
            "layout": "IPY_MODEL_d347edce71db4282bfdc6b78b9440dfd",
            "_model_module": "@jupyter-widgets/controls",
            "children": [
              "IPY_MODEL_dd50069045e54ca4870485cd47a129e7",
              "IPY_MODEL_f0df272f60ef406a919a3a6ca44c5846"
            ]
          }
        },
        "d347edce71db4282bfdc6b78b9440dfd": {
          "model_module": "@jupyter-widgets/base",
          "model_name": "LayoutModel",
          "state": {
            "_view_name": "LayoutView",
            "grid_template_rows": null,
            "right": null,
            "justify_content": null,
            "_view_module": "@jupyter-widgets/base",
            "overflow": null,
            "_model_module_version": "1.2.0",
            "_view_count": null,
            "flex_flow": null,
            "width": null,
            "min_width": null,
            "border": null,
            "align_items": null,
            "bottom": null,
            "_model_module": "@jupyter-widgets/base",
            "top": null,
            "grid_column": null,
            "overflow_y": null,
            "overflow_x": null,
            "grid_auto_flow": null,
            "grid_area": null,
            "grid_template_columns": null,
            "flex": null,
            "_model_name": "LayoutModel",
            "justify_items": null,
            "grid_row": null,
            "max_height": null,
            "align_content": null,
            "visibility": null,
            "align_self": null,
            "height": null,
            "min_height": null,
            "padding": null,
            "grid_auto_rows": null,
            "grid_gap": null,
            "max_width": null,
            "order": null,
            "_view_module_version": "1.2.0",
            "grid_template_areas": null,
            "object_position": null,
            "object_fit": null,
            "grid_auto_columns": null,
            "margin": null,
            "display": null,
            "left": null
          }
        },
        "dd50069045e54ca4870485cd47a129e7": {
          "model_module": "@jupyter-widgets/controls",
          "model_name": "FloatProgressModel",
          "state": {
            "_view_name": "ProgressView",
            "style": "IPY_MODEL_a62403bf3d1a4885b663846afd3d4114",
            "_dom_classes": [],
            "description": "100%",
            "_model_name": "FloatProgressModel",
            "bar_style": "success",
            "max": 2500,
            "_view_module": "@jupyter-widgets/controls",
            "_model_module_version": "1.5.0",
            "value": 2500,
            "_view_count": null,
            "_view_module_version": "1.5.0",
            "orientation": "horizontal",
            "min": 0,
            "description_tooltip": null,
            "_model_module": "@jupyter-widgets/controls",
            "layout": "IPY_MODEL_268c1045f2ab4161af2067171b7710ea"
          }
        },
        "f0df272f60ef406a919a3a6ca44c5846": {
          "model_module": "@jupyter-widgets/controls",
          "model_name": "HTMLModel",
          "state": {
            "_view_name": "HTMLView",
            "style": "IPY_MODEL_c84520e3bad54e91bee762be8b37a545",
            "_dom_classes": [],
            "description": "",
            "_model_name": "HTMLModel",
            "placeholder": "​",
            "_view_module": "@jupyter-widgets/controls",
            "_model_module_version": "1.5.0",
            "value": " 2500/2500 [19:13&lt;00:00,  2.17it/s]",
            "_view_count": null,
            "_view_module_version": "1.5.0",
            "description_tooltip": null,
            "_model_module": "@jupyter-widgets/controls",
            "layout": "IPY_MODEL_d01df6d5d77b4a85b80d1b32d3f0c4ed"
          }
        },
        "a62403bf3d1a4885b663846afd3d4114": {
          "model_module": "@jupyter-widgets/controls",
          "model_name": "ProgressStyleModel",
          "state": {
            "_view_name": "StyleView",
            "_model_name": "ProgressStyleModel",
            "description_width": "initial",
            "_view_module": "@jupyter-widgets/base",
            "_model_module_version": "1.5.0",
            "_view_count": null,
            "_view_module_version": "1.2.0",
            "bar_color": null,
            "_model_module": "@jupyter-widgets/controls"
          }
        },
        "268c1045f2ab4161af2067171b7710ea": {
          "model_module": "@jupyter-widgets/base",
          "model_name": "LayoutModel",
          "state": {
            "_view_name": "LayoutView",
            "grid_template_rows": null,
            "right": null,
            "justify_content": null,
            "_view_module": "@jupyter-widgets/base",
            "overflow": null,
            "_model_module_version": "1.2.0",
            "_view_count": null,
            "flex_flow": null,
            "width": null,
            "min_width": null,
            "border": null,
            "align_items": null,
            "bottom": null,
            "_model_module": "@jupyter-widgets/base",
            "top": null,
            "grid_column": null,
            "overflow_y": null,
            "overflow_x": null,
            "grid_auto_flow": null,
            "grid_area": null,
            "grid_template_columns": null,
            "flex": null,
            "_model_name": "LayoutModel",
            "justify_items": null,
            "grid_row": null,
            "max_height": null,
            "align_content": null,
            "visibility": null,
            "align_self": null,
            "height": null,
            "min_height": null,
            "padding": null,
            "grid_auto_rows": null,
            "grid_gap": null,
            "max_width": null,
            "order": null,
            "_view_module_version": "1.2.0",
            "grid_template_areas": null,
            "object_position": null,
            "object_fit": null,
            "grid_auto_columns": null,
            "margin": null,
            "display": null,
            "left": null
          }
        },
        "c84520e3bad54e91bee762be8b37a545": {
          "model_module": "@jupyter-widgets/controls",
          "model_name": "DescriptionStyleModel",
          "state": {
            "_view_name": "StyleView",
            "_model_name": "DescriptionStyleModel",
            "description_width": "",
            "_view_module": "@jupyter-widgets/base",
            "_model_module_version": "1.5.0",
            "_view_count": null,
            "_view_module_version": "1.2.0",
            "_model_module": "@jupyter-widgets/controls"
          }
        },
        "d01df6d5d77b4a85b80d1b32d3f0c4ed": {
          "model_module": "@jupyter-widgets/base",
          "model_name": "LayoutModel",
          "state": {
            "_view_name": "LayoutView",
            "grid_template_rows": null,
            "right": null,
            "justify_content": null,
            "_view_module": "@jupyter-widgets/base",
            "overflow": null,
            "_model_module_version": "1.2.0",
            "_view_count": null,
            "flex_flow": null,
            "width": null,
            "min_width": null,
            "border": null,
            "align_items": null,
            "bottom": null,
            "_model_module": "@jupyter-widgets/base",
            "top": null,
            "grid_column": null,
            "overflow_y": null,
            "overflow_x": null,
            "grid_auto_flow": null,
            "grid_area": null,
            "grid_template_columns": null,
            "flex": null,
            "_model_name": "LayoutModel",
            "justify_items": null,
            "grid_row": null,
            "max_height": null,
            "align_content": null,
            "visibility": null,
            "align_self": null,
            "height": null,
            "min_height": null,
            "padding": null,
            "grid_auto_rows": null,
            "grid_gap": null,
            "max_width": null,
            "order": null,
            "_view_module_version": "1.2.0",
            "grid_template_areas": null,
            "object_position": null,
            "object_fit": null,
            "grid_auto_columns": null,
            "margin": null,
            "display": null,
            "left": null
          }
        }
      }
    }
  },
  "cells": [
    {
      "cell_type": "markdown",
      "metadata": {
        "id": "4C5Ct9yoZKYa"
      },
      "source": [
        "# Deep Learning & Applied AI\n",
        "\n",
        "# Tutorial 3: Linear models and Pytorch Datasets\n",
        "\n",
        "In this tutorial, we will cover:\n",
        "\n",
        "- Linear models\n",
        "- Pytorch Dataset and DataLoader\n",
        "\n",
        "Our info:\n",
        "\n",
        "- Luca Moschella (moschella@di.uniroma1.it)\n",
        "- Antonio Norelli (norelli@di.uniroma1.it)\n",
        "\n",
        "Course:\n",
        "\n",
        "- Website and notebooks will be available at [DLAI-s2-2021](https://erodola.github.io/DLAI-s2-2021/)"
      ]
    },
    {
      "cell_type": "markdown",
      "metadata": {
        "id": "dHLO4Z-T_yxB"
      },
      "source": [
        "### Import dependencies\n",
        "\n",
        "In this notebook you will discover **Plotly**, a powerful plotting library (there are many [libraries](https://pyviz.org/overviews/index.html)).\n",
        "Being able to speak through plots is very important in science and Plotly is among the most used tools.\n",
        "[Here](https://plot.ly/python/) you can find its documentation."
      ]
    },
    {
      "cell_type": "code",
      "metadata": {
        "id": "pRePt-K1_yw9"
      },
      "source": [
        "import torch\n",
        "import numpy as np\n",
        "import plotly.express as px\n",
        "from plotly.subplots import make_subplots\n",
        "import plotly.graph_objects as go\n"
      ],
      "execution_count": 1,
      "outputs": []
    },
    {
      "cell_type": "code",
      "metadata": {
        "id": "2tGN_bJOcfd3"
      },
      "source": [
        "# Reproducibility stuff\n",
        "\n",
        "import random\n",
        "torch.manual_seed(42)\n",
        "np.random.seed(42)\n",
        "random.seed(0)\n",
        "\n",
        "torch.cuda.manual_seed(0)\n",
        "torch.backends.cudnn.deterministic = True  # Note that this Deterministic mode can have a performance impact\n",
        "torch.backends.cudnn.benchmark = False"
      ],
      "execution_count": 2,
      "outputs": []
    },
    {
      "cell_type": "markdown",
      "metadata": {
        "id": "GPHftSvUaIhe"
      },
      "source": [
        "##Linear models\n"
      ]
    },
    {
      "cell_type": "markdown",
      "metadata": {
        "id": "0PAIT1NjFUhk"
      },
      "source": [
        "###The regression problem\n",
        "####The general definition\n",
        "We observe a phenomenon where a variable of interest $t\\in \\mathbb{R}$ depends on a real-valued variable $x$. \n",
        "\n",
        "**Problem**: Given a dataset of $N$ observations of couples $(x, t)$, $\\mathbf{D}=\\{(x_1, t_1),...,(x_N, t_N)\\}$, and a new *input* istance $x_i$, find the corresponding *target* $t_i$.\n"
      ]
    },
    {
      "cell_type": "markdown",
      "metadata": {
        "id": "i8kq5mSFOHul"
      },
      "source": [
        "####Our workspace\n",
        "For our purposes we are going to synthetically create this phenomenon $\\mathcal{P}$ by linking a $t$ to an $x \\in [0,1]$ through a $\\sin$ function. Our dataset will be generated following this rule:\n",
        "\n",
        "\n",
        "$t=\\sin(2\\pi x) + 0.1\\epsilon \\;\\;\\;\\;\\;\\;\\;\\;\\; \\epsilon \\sim \\mathcal{N}(0,1)$\n",
        "\n",
        "where $\\sim \\mathcal{N}(0,1)$ means \"*sampled from a gaussian distribution with $\\mu=0$ and $\\sigma=1$*\".\n",
        "\n",
        "In this way we are capturing the behaviour of many real datasets, there is a global and general regularity (that we wish to learn) but local observations are affected by noise. We add this noise to model sources of variability of $t$ different from $x$, such as the dependency from a unconsidered variables $z_\\alpha, z_\\beta, ...$ or the finite precision of the measuring instrument. Sometimes the problem we are tackling is intrinsicly stochastic, such as measurements in quantum mechanics or idealized scenarios like the multi-armed bandit.\n",
        "\n",
        "This is our dataset:"
      ]
    },
    {
      "cell_type": "code",
      "metadata": {
        "id": "qJyjckvQE-aZ"
      },
      "source": [
        "x = np.random.rand(10)\n",
        "t = np.sin(2 * np.pi * x) + 0.1 * np.random.randn(10)"
      ],
      "execution_count": 3,
      "outputs": []
    },
    {
      "cell_type": "code",
      "metadata": {
        "id": "IMJNXRXZGJS0",
        "colab": {
          "base_uri": "https://localhost:8080/",
          "height": 542
        },
        "outputId": "e0bcc99b-65f9-4f44-dd63-6cf9b722c9b8"
      },
      "source": [
        "fig = px.scatter(x=x, y=t)\n",
        "fig.show()"
      ],
      "execution_count": 4,
      "outputs": [
        {
          "output_type": "display_data",
          "data": {
            "text/html": [
              "<html>\n",
              "<head><meta charset=\"utf-8\" /></head>\n",
              "<body>\n",
              "    <div>\n",
              "            <script src=\"https://cdnjs.cloudflare.com/ajax/libs/mathjax/2.7.5/MathJax.js?config=TeX-AMS-MML_SVG\"></script><script type=\"text/javascript\">if (window.MathJax) {MathJax.Hub.Config({SVG: {font: \"STIX-Web\"}});}</script>\n",
              "                <script type=\"text/javascript\">window.PlotlyConfig = {MathJaxConfig: 'local'};</script>\n",
              "        <script src=\"https://cdn.plot.ly/plotly-latest.min.js\"></script>    \n",
              "            <div id=\"ca51f233-43f6-4595-8609-861f54329371\" class=\"plotly-graph-div\" style=\"height:525px; width:100%;\"></div>\n",
              "            <script type=\"text/javascript\">\n",
              "                \n",
              "                    window.PLOTLYENV=window.PLOTLYENV || {};\n",
              "                    \n",
              "                if (document.getElementById(\"ca51f233-43f6-4595-8609-861f54329371\")) {\n",
              "                    Plotly.newPlot(\n",
              "                        'ca51f233-43f6-4595-8609-861f54329371',\n",
              "                        [{\"hoverlabel\": {\"namelength\": 0}, \"hovertemplate\": \"x=%{x}<br>y=%{y}\", \"legendgroup\": \"\", \"marker\": {\"color\": \"#636efa\", \"symbol\": \"circle\"}, \"mode\": \"markers\", \"name\": \"\", \"showlegend\": false, \"type\": \"scatter\", \"x\": [0.3745401188473625, 0.9507143064099162, 0.7319939418114051, 0.5986584841970366, 0.15601864044243652, 0.15599452033620265, 0.05808361216819946, 0.8661761457749352, 0.6011150117432088, 0.7080725777960455], \"xaxis\": \"x\", \"y\": [0.6621995859491285, -0.2504894367193866, -1.0399487832345553, -0.6275182299806012, 0.854857342681687, 0.6392487011533475, 0.18441089666331875, -0.8014323286500792, -0.6947217251134631, -0.9340757540684701], \"yaxis\": \"y\"}],\n",
              "                        {\"legend\": {\"tracegroupgap\": 0}, \"margin\": {\"t\": 60}, \"template\": {\"data\": {\"bar\": [{\"error_x\": {\"color\": \"#2a3f5f\"}, \"error_y\": {\"color\": \"#2a3f5f\"}, \"marker\": {\"line\": {\"color\": \"#E5ECF6\", \"width\": 0.5}}, \"type\": \"bar\"}], \"barpolar\": [{\"marker\": {\"line\": {\"color\": \"#E5ECF6\", \"width\": 0.5}}, \"type\": \"barpolar\"}], \"carpet\": [{\"aaxis\": {\"endlinecolor\": \"#2a3f5f\", \"gridcolor\": \"white\", \"linecolor\": \"white\", \"minorgridcolor\": \"white\", \"startlinecolor\": \"#2a3f5f\"}, \"baxis\": {\"endlinecolor\": \"#2a3f5f\", \"gridcolor\": \"white\", \"linecolor\": \"white\", \"minorgridcolor\": \"white\", \"startlinecolor\": \"#2a3f5f\"}, \"type\": \"carpet\"}], \"choropleth\": [{\"colorbar\": {\"outlinewidth\": 0, \"ticks\": \"\"}, \"type\": \"choropleth\"}], \"contour\": [{\"colorbar\": {\"outlinewidth\": 0, \"ticks\": \"\"}, \"colorscale\": [[0.0, \"#0d0887\"], [0.1111111111111111, \"#46039f\"], [0.2222222222222222, \"#7201a8\"], [0.3333333333333333, \"#9c179e\"], [0.4444444444444444, \"#bd3786\"], [0.5555555555555556, \"#d8576b\"], [0.6666666666666666, \"#ed7953\"], [0.7777777777777778, \"#fb9f3a\"], [0.8888888888888888, \"#fdca26\"], [1.0, \"#f0f921\"]], \"type\": \"contour\"}], \"contourcarpet\": [{\"colorbar\": {\"outlinewidth\": 0, \"ticks\": \"\"}, \"type\": \"contourcarpet\"}], \"heatmap\": [{\"colorbar\": {\"outlinewidth\": 0, \"ticks\": \"\"}, \"colorscale\": [[0.0, \"#0d0887\"], [0.1111111111111111, \"#46039f\"], [0.2222222222222222, \"#7201a8\"], [0.3333333333333333, \"#9c179e\"], [0.4444444444444444, \"#bd3786\"], [0.5555555555555556, \"#d8576b\"], [0.6666666666666666, \"#ed7953\"], [0.7777777777777778, \"#fb9f3a\"], [0.8888888888888888, \"#fdca26\"], [1.0, \"#f0f921\"]], \"type\": \"heatmap\"}], \"heatmapgl\": [{\"colorbar\": {\"outlinewidth\": 0, \"ticks\": \"\"}, \"colorscale\": [[0.0, \"#0d0887\"], [0.1111111111111111, \"#46039f\"], [0.2222222222222222, \"#7201a8\"], [0.3333333333333333, \"#9c179e\"], [0.4444444444444444, \"#bd3786\"], [0.5555555555555556, \"#d8576b\"], [0.6666666666666666, \"#ed7953\"], [0.7777777777777778, \"#fb9f3a\"], [0.8888888888888888, \"#fdca26\"], [1.0, \"#f0f921\"]], \"type\": \"heatmapgl\"}], \"histogram\": [{\"marker\": {\"colorbar\": {\"outlinewidth\": 0, \"ticks\": \"\"}}, \"type\": \"histogram\"}], \"histogram2d\": [{\"colorbar\": {\"outlinewidth\": 0, \"ticks\": \"\"}, \"colorscale\": [[0.0, \"#0d0887\"], [0.1111111111111111, \"#46039f\"], [0.2222222222222222, \"#7201a8\"], [0.3333333333333333, \"#9c179e\"], [0.4444444444444444, \"#bd3786\"], [0.5555555555555556, \"#d8576b\"], [0.6666666666666666, \"#ed7953\"], [0.7777777777777778, \"#fb9f3a\"], [0.8888888888888888, \"#fdca26\"], [1.0, \"#f0f921\"]], \"type\": \"histogram2d\"}], \"histogram2dcontour\": [{\"colorbar\": {\"outlinewidth\": 0, \"ticks\": \"\"}, \"colorscale\": [[0.0, \"#0d0887\"], [0.1111111111111111, \"#46039f\"], [0.2222222222222222, \"#7201a8\"], [0.3333333333333333, \"#9c179e\"], [0.4444444444444444, \"#bd3786\"], [0.5555555555555556, \"#d8576b\"], [0.6666666666666666, \"#ed7953\"], [0.7777777777777778, \"#fb9f3a\"], [0.8888888888888888, \"#fdca26\"], [1.0, \"#f0f921\"]], \"type\": \"histogram2dcontour\"}], \"mesh3d\": [{\"colorbar\": {\"outlinewidth\": 0, \"ticks\": \"\"}, \"type\": \"mesh3d\"}], \"parcoords\": [{\"line\": {\"colorbar\": {\"outlinewidth\": 0, \"ticks\": \"\"}}, \"type\": \"parcoords\"}], \"pie\": [{\"automargin\": true, \"type\": \"pie\"}], \"scatter\": [{\"marker\": {\"colorbar\": {\"outlinewidth\": 0, \"ticks\": \"\"}}, \"type\": \"scatter\"}], \"scatter3d\": [{\"line\": {\"colorbar\": {\"outlinewidth\": 0, \"ticks\": \"\"}}, \"marker\": {\"colorbar\": {\"outlinewidth\": 0, \"ticks\": \"\"}}, \"type\": \"scatter3d\"}], \"scattercarpet\": [{\"marker\": {\"colorbar\": {\"outlinewidth\": 0, \"ticks\": \"\"}}, \"type\": \"scattercarpet\"}], \"scattergeo\": [{\"marker\": {\"colorbar\": {\"outlinewidth\": 0, \"ticks\": \"\"}}, \"type\": \"scattergeo\"}], \"scattergl\": [{\"marker\": {\"colorbar\": {\"outlinewidth\": 0, \"ticks\": \"\"}}, \"type\": \"scattergl\"}], \"scattermapbox\": [{\"marker\": {\"colorbar\": {\"outlinewidth\": 0, \"ticks\": \"\"}}, \"type\": \"scattermapbox\"}], \"scatterpolar\": [{\"marker\": {\"colorbar\": {\"outlinewidth\": 0, \"ticks\": \"\"}}, \"type\": \"scatterpolar\"}], \"scatterpolargl\": [{\"marker\": {\"colorbar\": {\"outlinewidth\": 0, \"ticks\": \"\"}}, \"type\": \"scatterpolargl\"}], \"scatterternary\": [{\"marker\": {\"colorbar\": {\"outlinewidth\": 0, \"ticks\": \"\"}}, \"type\": \"scatterternary\"}], \"surface\": [{\"colorbar\": {\"outlinewidth\": 0, \"ticks\": \"\"}, \"colorscale\": [[0.0, \"#0d0887\"], [0.1111111111111111, \"#46039f\"], [0.2222222222222222, \"#7201a8\"], [0.3333333333333333, \"#9c179e\"], [0.4444444444444444, \"#bd3786\"], [0.5555555555555556, \"#d8576b\"], [0.6666666666666666, \"#ed7953\"], [0.7777777777777778, \"#fb9f3a\"], [0.8888888888888888, \"#fdca26\"], [1.0, \"#f0f921\"]], \"type\": \"surface\"}], \"table\": [{\"cells\": {\"fill\": {\"color\": \"#EBF0F8\"}, \"line\": {\"color\": \"white\"}}, \"header\": {\"fill\": {\"color\": \"#C8D4E3\"}, \"line\": {\"color\": \"white\"}}, \"type\": \"table\"}]}, \"layout\": {\"annotationdefaults\": {\"arrowcolor\": \"#2a3f5f\", \"arrowhead\": 0, \"arrowwidth\": 1}, \"coloraxis\": {\"colorbar\": {\"outlinewidth\": 0, \"ticks\": \"\"}}, \"colorscale\": {\"diverging\": [[0, \"#8e0152\"], [0.1, \"#c51b7d\"], [0.2, \"#de77ae\"], [0.3, \"#f1b6da\"], [0.4, \"#fde0ef\"], [0.5, \"#f7f7f7\"], [0.6, \"#e6f5d0\"], [0.7, \"#b8e186\"], [0.8, \"#7fbc41\"], [0.9, \"#4d9221\"], [1, \"#276419\"]], \"sequential\": [[0.0, \"#0d0887\"], [0.1111111111111111, \"#46039f\"], [0.2222222222222222, \"#7201a8\"], [0.3333333333333333, \"#9c179e\"], [0.4444444444444444, \"#bd3786\"], [0.5555555555555556, \"#d8576b\"], [0.6666666666666666, \"#ed7953\"], [0.7777777777777778, \"#fb9f3a\"], [0.8888888888888888, \"#fdca26\"], [1.0, \"#f0f921\"]], \"sequentialminus\": [[0.0, \"#0d0887\"], [0.1111111111111111, \"#46039f\"], [0.2222222222222222, \"#7201a8\"], [0.3333333333333333, \"#9c179e\"], [0.4444444444444444, \"#bd3786\"], [0.5555555555555556, \"#d8576b\"], [0.6666666666666666, \"#ed7953\"], [0.7777777777777778, \"#fb9f3a\"], [0.8888888888888888, \"#fdca26\"], [1.0, \"#f0f921\"]]}, \"colorway\": [\"#636efa\", \"#EF553B\", \"#00cc96\", \"#ab63fa\", \"#FFA15A\", \"#19d3f3\", \"#FF6692\", \"#B6E880\", \"#FF97FF\", \"#FECB52\"], \"font\": {\"color\": \"#2a3f5f\"}, \"geo\": {\"bgcolor\": \"white\", \"lakecolor\": \"white\", \"landcolor\": \"#E5ECF6\", \"showlakes\": true, \"showland\": true, \"subunitcolor\": \"white\"}, \"hoverlabel\": {\"align\": \"left\"}, \"hovermode\": \"closest\", \"mapbox\": {\"style\": \"light\"}, \"paper_bgcolor\": \"white\", \"plot_bgcolor\": \"#E5ECF6\", \"polar\": {\"angularaxis\": {\"gridcolor\": \"white\", \"linecolor\": \"white\", \"ticks\": \"\"}, \"bgcolor\": \"#E5ECF6\", \"radialaxis\": {\"gridcolor\": \"white\", \"linecolor\": \"white\", \"ticks\": \"\"}}, \"scene\": {\"xaxis\": {\"backgroundcolor\": \"#E5ECF6\", \"gridcolor\": \"white\", \"gridwidth\": 2, \"linecolor\": \"white\", \"showbackground\": true, \"ticks\": \"\", \"zerolinecolor\": \"white\"}, \"yaxis\": {\"backgroundcolor\": \"#E5ECF6\", \"gridcolor\": \"white\", \"gridwidth\": 2, \"linecolor\": \"white\", \"showbackground\": true, \"ticks\": \"\", \"zerolinecolor\": \"white\"}, \"zaxis\": {\"backgroundcolor\": \"#E5ECF6\", \"gridcolor\": \"white\", \"gridwidth\": 2, \"linecolor\": \"white\", \"showbackground\": true, \"ticks\": \"\", \"zerolinecolor\": \"white\"}}, \"shapedefaults\": {\"line\": {\"color\": \"#2a3f5f\"}}, \"ternary\": {\"aaxis\": {\"gridcolor\": \"white\", \"linecolor\": \"white\", \"ticks\": \"\"}, \"baxis\": {\"gridcolor\": \"white\", \"linecolor\": \"white\", \"ticks\": \"\"}, \"bgcolor\": \"#E5ECF6\", \"caxis\": {\"gridcolor\": \"white\", \"linecolor\": \"white\", \"ticks\": \"\"}}, \"title\": {\"x\": 0.05}, \"xaxis\": {\"automargin\": true, \"gridcolor\": \"white\", \"linecolor\": \"white\", \"ticks\": \"\", \"title\": {\"standoff\": 15}, \"zerolinecolor\": \"white\", \"zerolinewidth\": 2}, \"yaxis\": {\"automargin\": true, \"gridcolor\": \"white\", \"linecolor\": \"white\", \"ticks\": \"\", \"title\": {\"standoff\": 15}, \"zerolinecolor\": \"white\", \"zerolinewidth\": 2}}}, \"xaxis\": {\"anchor\": \"y\", \"domain\": [0.0, 1.0], \"title\": {\"text\": \"x\"}}, \"yaxis\": {\"anchor\": \"x\", \"domain\": [0.0, 1.0], \"title\": {\"text\": \"y\"}}},\n",
              "                        {\"responsive\": true}\n",
              "                    ).then(function(){\n",
              "                            \n",
              "var gd = document.getElementById('ca51f233-43f6-4595-8609-861f54329371');\n",
              "var x = new MutationObserver(function (mutations, observer) {{\n",
              "        var display = window.getComputedStyle(gd).display;\n",
              "        if (!display || display === 'none') {{\n",
              "            console.log([gd, 'removed!']);\n",
              "            Plotly.purge(gd);\n",
              "            observer.disconnect();\n",
              "        }}\n",
              "}});\n",
              "\n",
              "// Listen for the removal of the full notebook cells\n",
              "var notebookContainer = gd.closest('#notebook-container');\n",
              "if (notebookContainer) {{\n",
              "    x.observe(notebookContainer, {childList: true});\n",
              "}}\n",
              "\n",
              "// Listen for the clearing of the current output cell\n",
              "var outputEl = gd.closest('.output');\n",
              "if (outputEl) {{\n",
              "    x.observe(outputEl, {childList: true});\n",
              "}}\n",
              "\n",
              "                        })\n",
              "                };\n",
              "                \n",
              "            </script>\n",
              "        </div>\n",
              "</body>\n",
              "</html>"
            ]
          },
          "metadata": {
            "tags": []
          }
        }
      ]
    },
    {
      "cell_type": "markdown",
      "metadata": {
        "id": "SN_Ao9LRMr7s"
      },
      "source": [
        "Ponder a bit about this *inductive* problem. We are trying to distill a **general** rule $f$ from a **finite** set of observations $(\\mathbf{x}, \\mathbf{t})$, such that $t_i=f(x_i)$ for every $x_i \\in [0,1]$.\r\n",
        "\r\n",
        "If we collect 10 points and every one of them agrees with a precise rule, why does that give us any grounds -even probabilistic grounds- for expecting the 11[$^{st}$](https://translate.google.com/translate?sl=it&tl=en&u=https://it.wikipedia.org/wiki/Tacchino_induttivista) point to follow the same rule?\r\n",
        "\r\n",
        "This is the essence of the so called [*Problem of induction*](https://en.wikipedia.org/wiki/Problem_of_induction) raised by David Hume more than two centuries ago. Still today this problem is at the core of the philosophical debate on the nature of knowledge."
      ]
    },
    {
      "cell_type": "markdown",
      "metadata": {
        "id": "mhRdUyWpwX-v"
      },
      "source": [
        "## Where to restart from?\n",
        "\n",
        "We encourage you to ponder about the problem raised in the last paragraph. For the moment we take a very operational point of view noting that \"often induction seems to work\" and we proceed in searching a proper $f$.\n",
        "\n",
        "First of all we observe that the quality of our guess $f$ depends crucially on the informativity of our observations - or *priors* - respect to the problem.\n",
        "\n",
        "\n",
        "\n",
        "**EXERCISE**: Suppose you wish to find this general rule $f$ to do predictions in the interval $x \\in [0,1]$.\n",
        "Rank the following scenarios by informativity. (Plots at the end)\n",
        "\n",
        "\n",
        "> **Scenario A**\n",
        "> \n",
        "> *priors:*\n",
        "> - 20 observations $(x_i,t_i)$ in the interval $[0,1]$ affected by a gaussian noise $0.1*\\epsilon$ where $\\epsilon \\sim \\mathcal{N}(0,1)$\n",
        "\n",
        "> **Scenario B**\n",
        "> \n",
        "> *priors:*\n",
        "> - 20 observations $(x_i,t_i)$ in the interval $[0,1]$ affected by a gaussian noise $0.5*\\epsilon$ where $\\epsilon \\sim \\mathcal{N}(0,1)$\n",
        "\n",
        "> **Scenario C**\n",
        "> \n",
        "> *priors:*\n",
        "> - 40 observations $(x_i,t_i)$ in the interval $[0,1]$ affected by a gaussian noise $0.1*\\epsilon$ where $\\epsilon \\sim \\mathcal{N}(0,1)$\n",
        "\n",
        "> **Scenario D**\n",
        "> \n",
        "> *priors:*\n",
        "> - 100 observations $(x_i,t_i)$ in the interval $[0,0.3]$ affected by a gaussian noise $0.1*\\epsilon$ where $\\epsilon \\sim \\mathcal{N}(0,1)$\n",
        "\n",
        "> **Scenario E**\n",
        "> \n",
        "> *priors:*\n",
        "> - 10 observations $(x_i,t_i)$ in the interval $[0,1]$ affected by a gaussian noise $0.1*\\epsilon$ where $\\epsilon \\sim \\mathcal{N}(0,1)$\n",
        "> - you know that $f$ is in the form $f(x)=\\sin(kx)$ with $k\\in \\mathbb{R}$\n",
        "\n",
        "\n",
        "\n",
        "\n"
      ]
    },
    {
      "cell_type": "code",
      "metadata": {
        "id": "3drUw3Pc8RWr",
        "cellView": "form",
        "colab": {
          "base_uri": "https://localhost:8080/",
          "height": 542
        },
        "outputId": "78772c02-1421-45da-eaac-8f51592824b6"
      },
      "source": [
        "# @title Scenario plots\n",
        "\n",
        "xA = np.random.rand(20)\n",
        "tA = np.sin(2 * np.pi * xA) + 0.1 * np.random.randn(20)\n",
        "\n",
        "xB = np.random.rand(20)\n",
        "tB = np.sin(2 * np.pi * xB) + 0.5 * np.random.randn(20)\n",
        "\n",
        "xC = np.random.rand(40)\n",
        "tC = np.sin(2 * np.pi * xC) + 0.1 * np.random.randn(40)\n",
        "\n",
        "xD = np.random.rand(100) * 0.3\n",
        "tD = np.sin(2 * np.pi * xD) + 0.1 * np.random.randn(100)\n",
        "\n",
        "xE = np.random.rand(10)\n",
        "tE = np.sin(2 * np.pi * xE) + 0.1 * np.random.randn(10)\n",
        "\n",
        "fig = make_subplots(\n",
        "    rows=1, cols=5,\n",
        "    subplot_titles=(\"Scenario A\", \"Scenario B\", \"Scenario C\", \"Scenario D\", \"Scenario E\"))\n",
        "\n",
        "fig.add_trace(go.Scatter(x=xA, y=tA, mode='markers', marker=dict(color=\"mediumpurple\")),\n",
        "              row=1, col=1)\n",
        "\n",
        "fig.add_trace(go.Scatter(x=xB, y=tB, mode='markers', marker=dict(color=\"mediumpurple\")),\n",
        "              row=1, col=2)\n",
        "\n",
        "fig.add_trace(go.Scatter(x=xC, y=tC, mode='markers', marker=dict(color=\"mediumpurple\")),\n",
        "              row=1, col=3)\n",
        "\n",
        "fig.add_trace(go.Scatter(x=xD, y=tD, mode='markers', marker=dict(color=\"mediumpurple\")),\n",
        "              row=1, col=4)\n",
        "\n",
        "fig.add_trace(go.Scatter(x=xE, y=tE, mode='markers', marker=dict(color=\"crimson\")),\n",
        "              row=1, col=5)\n",
        "\n",
        "fig.update_xaxes(title_text=\"x\", range=[0, 1])\n",
        "fig.update_yaxes(title_text=\"\", range=[-1.7, 1.7])\n",
        "fig.update_layout(showlegend=False)\n",
        "\n",
        "fig.show()"
      ],
      "execution_count": 5,
      "outputs": [
        {
          "output_type": "display_data",
          "data": {
            "text/html": [
              "<html>\n",
              "<head><meta charset=\"utf-8\" /></head>\n",
              "<body>\n",
              "    <div>\n",
              "            <script src=\"https://cdnjs.cloudflare.com/ajax/libs/mathjax/2.7.5/MathJax.js?config=TeX-AMS-MML_SVG\"></script><script type=\"text/javascript\">if (window.MathJax) {MathJax.Hub.Config({SVG: {font: \"STIX-Web\"}});}</script>\n",
              "                <script type=\"text/javascript\">window.PlotlyConfig = {MathJaxConfig: 'local'};</script>\n",
              "        <script src=\"https://cdn.plot.ly/plotly-latest.min.js\"></script>    \n",
              "            <div id=\"87150233-546e-4b65-a189-a652a6c12e2a\" class=\"plotly-graph-div\" style=\"height:525px; width:100%;\"></div>\n",
              "            <script type=\"text/javascript\">\n",
              "                \n",
              "                    window.PLOTLYENV=window.PLOTLYENV || {};\n",
              "                    \n",
              "                if (document.getElementById(\"87150233-546e-4b65-a189-a652a6c12e2a\")) {\n",
              "                    Plotly.newPlot(\n",
              "                        '87150233-546e-4b65-a189-a652a6c12e2a',\n",
              "                        [{\"marker\": {\"color\": \"mediumpurple\"}, \"mode\": \"markers\", \"type\": \"scatter\", \"x\": [0.29214464853521815, 0.3663618432936917, 0.45606998421703593, 0.7851759613930136, 0.19967378215835974, 0.5142344384136116, 0.5924145688620425, 0.046450412719997725, 0.6075448519014384, 0.17052412368729153, 0.06505159298527952, 0.9488855372533332, 0.9656320330745594, 0.8083973481164611, 0.3046137691733707, 0.09767211400638387, 0.6842330265121569, 0.4401524937396013, 0.12203823484477883, 0.4951769101112702], \"xaxis\": \"x\", \"y\": [1.0473986646372184, 0.6223406569333729, 0.2934152421753372, -1.171641999181489, 0.8176025258895546, -0.06963230184878447, -0.4747274365242228, 0.3048675877466595, -0.6370273950283458, 0.8477780508141505, 0.2495931776706199, -0.3876534400464828, -0.26032986655933765, -0.8277239867725625, 0.9760618621915267, 0.3995856670069373, -0.8834217094123248, 0.3287252937868287, 0.6261341303657666, 0.09146735826145963], \"yaxis\": \"y\"}, {\"marker\": {\"color\": \"mediumpurple\"}, \"mode\": \"markers\", \"type\": \"scatter\", \"x\": [0.005522117123602399, 0.8154614284548342, 0.7068573438476171, 0.7290071680409873, 0.7712703466859457, 0.07404465173409036, 0.3584657285442726, 0.11586905952512971, 0.8631034258755935, 0.6232981268275579, 0.3308980248526492, 0.06355835028602363, 0.3109823217156622, 0.32518332202674705, 0.7296061783380641, 0.6375574713552131, 0.8872127425763265, 0.4722149251619493, 0.1195942459383017, 0.713244787222995], \"xaxis\": \"x2\", \"y\": [0.2153873268108042, -0.14758105968559254, -0.9813970771358488, -0.20899172756978435, -2.300955272813918, 0.8595852224156049, 0.820145717991251, 0.515894263730882, -0.7120577767262324, -1.6932897329097907, 0.7637385267809292, 0.5673748359932289, 1.6664337078529434, 0.6313478968344268, -1.3960483343758894, -1.0115189555624717, -0.19311838126033076, 0.3380688845501171, 0.4178063284244009, -0.7168179922721039], \"yaxis\": \"y2\"}, {\"marker\": {\"color\": \"mediumpurple\"}, \"mode\": \"markers\", \"type\": \"scatter\", \"x\": [0.8925589984899778, 0.5393422419156507, 0.8074401551640625, 0.8960912999234932, 0.3180034749718639, 0.11005192452767676, 0.22793516254194168, 0.4271077886262563, 0.8180147659224931, 0.8607305832563434, 0.006952130531190703, 0.5107473025775657, 0.417411003148779, 0.22210781047073025, 0.1198653673336828, 0.33761517140362796, 0.9429097039125192, 0.32320293202075523, 0.5187906217433661, 0.7030189588951778, 0.363629602379294, 0.9717820827209607, 0.9624472949421112, 0.25178229582536416, 0.49724850589238545, 0.30087830981676966, 0.2848404943774676, 0.036886947354532795, 0.6095643339798968, 0.5026790232288615, 0.05147875124998935, 0.27864646423661144, 0.9082658859666537, 0.23956189066697242, 0.1448948720912231, 0.489452760277563, 0.9856504541106007, 0.2420552715115004, 0.6721355474058786, 0.7616196153287176], \"xaxis\": \"x3\", \"y\": [-0.5458501143397135, -0.3356235442910603, -0.7952974458681501, -0.7476598279337927, 0.9687826324163429, 0.8567208994483376, 0.8913515771922633, 0.385521101140059, -0.9001023857248115, -0.8179266757765974, -0.11139870864918461, -0.060619687850113776, 0.3897139441639967, 1.0320419111183123, 0.5919877870607935, 1.0072552790717517, -0.4293909417964871, 0.8638696133639039, -0.03643913666568993, -1.0798331452977148, 0.7785233870777207, -0.045656698970320264, -0.3945156802943589, 1.0184006833640145, 0.04327556560710827, 1.0275189940299556, 0.8524398245980173, 0.09765248553567893, -0.5831182675564751, 0.012866462832574338, 0.3428893351058709, 1.0184901172314904, -0.612996873677882, 1.0210754722494138, 0.8190572388783036, -0.00521337654043931, 0.09653869820973064, 1.0461376373754585, -1.0018221402938086, -0.9316807243537488], \"yaxis\": \"y3\"}, {\"marker\": {\"color\": \"mediumpurple\"}, \"mode\": \"markers\", \"type\": \"scatter\", \"x\": [0.21365376640426076, 0.07117472624904002, 0.09761990944778032, 0.22394742153540723, 0.1948898697141644, 0.2547670231482534, 0.197283867690103, 0.1704925810006415, 0.028102430348427743, 0.11031474091783006, 0.07956071030451763, 0.07319689301372508, 0.29190316642573366, 0.11792931740002811, 0.26761396655313396, 0.18934158779917887, 0.23844339106249451, 0.15079112793155763, 0.17307116538790773, 0.14775530814565915, 0.058572896339413344, 0.2167356345784516, 0.08423170873225673, 0.007294789929436152, 0.19364168877215035, 0.05313320382211468, 0.2821375753058743, 0.2861785731007762, 0.2744593170661345, 0.11104761007663332, 0.004636984958660229, 0.2784955687763176, 0.1284552444951943, 0.28999644571310085, 0.28908599312677585, 0.255902836640208, 0.0883346676208757, 0.11552931858057758, 0.25534100145505706, 0.0950766015468833, 0.05084782400582775, 0.16704037873750505, 0.2808464322482343, 0.2088089390024919, 0.17101835102680948, 0.02915294813123056, 0.18450216800975092, 0.297016155031279, 0.04202520457095721, 0.155498895709121, 0.26321192157838663, 0.22223058532626133, 0.20910472229858038, 0.21074522519613278, 0.10784734536592655, 0.088077553279348, 0.24280834664355408, 0.24303401840375422, 0.2601216955740311, 0.2739721657669414, 0.15340271965828134, 0.15045488840615986, 0.23948855369003252, 0.19498917923332953, 0.210590063177311, 0.2387378008308303, 0.2670016025452699, 0.10139854705546074, 0.1126748857919832, 0.028194581952260697, 0.1734840422988522, 0.010782682139022625, 0.13967940543973803, 0.16279339041227298, 0.08596237563848531, 0.17724997817070323, 0.009150074981714829, 0.011204456624764325, 0.24678016819789747, 0.10805719242337887, 0.038118153795565435, 0.1566729780164413, 0.23099806592958325, 0.06474630824905295, 0.18686714274570007, 0.0256042394981304, 0.01550451635058231, 0.1594063894704444, 0.16219053648303194, 0.19122897044946197, 0.21782740011679846, 0.29275562383876036, 0.1548901044903586, 0.09688694188237379, 0.23855585843061108, 0.08124967537862227, 0.13169142621169083, 0.023536914402679788, 0.007605223024637253, 0.2887945244033775], \"xaxis\": \"x4\", \"y\": [1.0245354052648041, 0.5190217012945867, 0.4555918529463594, 0.953182037930033, 0.8931516164622207, 0.9342185464347299, 1.122190030978894, 0.9182916686226423, 0.04956828188807677, 0.7307326851603748, 0.6915487339294399, 0.5471136663375872, 0.8136031655938346, 0.6265817959130471, 1.120573237774318, 0.8574786835278394, 1.041746826755194, 0.8893921576797281, 0.792746165799121, 0.7946942566945034, 0.03564605180553432, 0.8757988408299362, 0.479623611560726, -0.07895984782191007, 1.1011967027453649, 0.18466474242996847, 0.9356776061269534, 0.9873486835895604, 1.132341409903907, 0.4988957002856807, 0.14544728927161799, 0.9850378904931532, 0.6241393262395908, 1.0147990621164746, 0.9899013454740325, 0.9392906083863244, 0.533943129117044, 0.6252715681020851, 1.010788700843733, 0.6286944554831024, 0.4726805791729871, 0.7434155164684184, 1.1945801530163491, 0.7714861660612208, 0.8641927064886631, 0.24098249272510502, 0.9446070577950813, 0.8944125530060174, 0.24018216063614214, 0.7795383514712947, 0.9376199274539417, 1.0697770860337474, 1.002870463504912, 0.9004460419355562, 0.7169043923746283, 0.5563191936571572, 1.0802654761103807, 1.0620051939678787, 0.9150789237018115, 0.9326598981981646, 0.8961273039617218, 0.871730691530382, 0.995729638158491, 0.9525904746979749, 1.09726500369009, 0.9383402410693642, 1.0490094549864089, 0.5746523017028511, 0.6285151001201837, 0.2861043359717379, 0.9691835267504757, 0.1490487369665766, 0.8997755629123495, 0.8557022868529239, 0.5824320965201186, 0.8663086771221707, 0.08987658612804088, 0.05732723473393957, 1.009494960847243, 0.6874867641912586, 0.15539818555909518, 1.0421819125760046, 0.8922794190632143, 0.2742656316464558, 1.0381616330865717, 0.23934940494528323, 0.15967571818857207, 0.9051581002808491, 0.8503979210031914, 0.8428659029939242, 0.987218351156479, 0.896416188438326, 0.9242042353622808, 0.5571437776983994, 0.9148661818902639, 0.45648087773868695, 0.7774955244282766, 0.09097586884858652, -0.0344551973712225, 0.9948077146690533], \"yaxis\": \"y4\"}, {\"marker\": {\"color\": \"crimson\"}, \"mode\": \"markers\", \"type\": \"scatter\", \"x\": [0.08410680611499743, 0.70096913145912, 0.07276300636419353, 0.8218600592903562, 0.7062422271564962, 0.08134878064189976, 0.08483771408519192, 0.9866395785011755, 0.3742707957561203, 0.3706421470668909], \"xaxis\": \"x5\", \"y\": [0.4323584300469619, -0.9742652642366553, 0.4725133315290869, -0.7522536264180602, -0.8766760163182921, 0.47316881517583953, 0.5062618555254742, -0.18410038163147216, 0.7084878034927269, 0.697334875506115], \"yaxis\": \"y5\"}],\n",
              "                        {\"annotations\": [{\"font\": {\"size\": 16}, \"showarrow\": false, \"text\": \"Scenario A\", \"x\": 0.08399999999999999, \"xanchor\": \"center\", \"xref\": \"paper\", \"y\": 1.0, \"yanchor\": \"bottom\", \"yref\": \"paper\"}, {\"font\": {\"size\": 16}, \"showarrow\": false, \"text\": \"Scenario B\", \"x\": 0.292, \"xanchor\": \"center\", \"xref\": \"paper\", \"y\": 1.0, \"yanchor\": \"bottom\", \"yref\": \"paper\"}, {\"font\": {\"size\": 16}, \"showarrow\": false, \"text\": \"Scenario C\", \"x\": 0.5, \"xanchor\": \"center\", \"xref\": \"paper\", \"y\": 1.0, \"yanchor\": \"bottom\", \"yref\": \"paper\"}, {\"font\": {\"size\": 16}, \"showarrow\": false, \"text\": \"Scenario D\", \"x\": 0.708, \"xanchor\": \"center\", \"xref\": \"paper\", \"y\": 1.0, \"yanchor\": \"bottom\", \"yref\": \"paper\"}, {\"font\": {\"size\": 16}, \"showarrow\": false, \"text\": \"Scenario E\", \"x\": 0.9159999999999999, \"xanchor\": \"center\", \"xref\": \"paper\", \"y\": 1.0, \"yanchor\": \"bottom\", \"yref\": \"paper\"}], \"showlegend\": false, \"template\": {\"data\": {\"bar\": [{\"error_x\": {\"color\": \"#2a3f5f\"}, \"error_y\": {\"color\": \"#2a3f5f\"}, \"marker\": {\"line\": {\"color\": \"#E5ECF6\", \"width\": 0.5}}, \"type\": \"bar\"}], \"barpolar\": [{\"marker\": {\"line\": {\"color\": \"#E5ECF6\", \"width\": 0.5}}, \"type\": \"barpolar\"}], \"carpet\": [{\"aaxis\": {\"endlinecolor\": \"#2a3f5f\", \"gridcolor\": \"white\", \"linecolor\": \"white\", \"minorgridcolor\": \"white\", \"startlinecolor\": \"#2a3f5f\"}, \"baxis\": {\"endlinecolor\": \"#2a3f5f\", \"gridcolor\": \"white\", \"linecolor\": \"white\", \"minorgridcolor\": \"white\", \"startlinecolor\": \"#2a3f5f\"}, \"type\": \"carpet\"}], \"choropleth\": [{\"colorbar\": {\"outlinewidth\": 0, \"ticks\": \"\"}, \"type\": \"choropleth\"}], \"contour\": [{\"colorbar\": {\"outlinewidth\": 0, \"ticks\": \"\"}, \"colorscale\": [[0.0, \"#0d0887\"], [0.1111111111111111, \"#46039f\"], [0.2222222222222222, \"#7201a8\"], [0.3333333333333333, \"#9c179e\"], [0.4444444444444444, \"#bd3786\"], [0.5555555555555556, \"#d8576b\"], [0.6666666666666666, \"#ed7953\"], [0.7777777777777778, \"#fb9f3a\"], [0.8888888888888888, \"#fdca26\"], [1.0, \"#f0f921\"]], \"type\": \"contour\"}], \"contourcarpet\": [{\"colorbar\": {\"outlinewidth\": 0, \"ticks\": \"\"}, \"type\": \"contourcarpet\"}], \"heatmap\": [{\"colorbar\": {\"outlinewidth\": 0, \"ticks\": \"\"}, \"colorscale\": [[0.0, \"#0d0887\"], [0.1111111111111111, \"#46039f\"], [0.2222222222222222, \"#7201a8\"], [0.3333333333333333, \"#9c179e\"], [0.4444444444444444, \"#bd3786\"], [0.5555555555555556, \"#d8576b\"], [0.6666666666666666, \"#ed7953\"], [0.7777777777777778, \"#fb9f3a\"], [0.8888888888888888, \"#fdca26\"], [1.0, \"#f0f921\"]], \"type\": \"heatmap\"}], \"heatmapgl\": [{\"colorbar\": {\"outlinewidth\": 0, \"ticks\": \"\"}, \"colorscale\": [[0.0, \"#0d0887\"], [0.1111111111111111, \"#46039f\"], [0.2222222222222222, \"#7201a8\"], [0.3333333333333333, \"#9c179e\"], [0.4444444444444444, \"#bd3786\"], [0.5555555555555556, \"#d8576b\"], [0.6666666666666666, \"#ed7953\"], [0.7777777777777778, \"#fb9f3a\"], [0.8888888888888888, \"#fdca26\"], [1.0, \"#f0f921\"]], \"type\": \"heatmapgl\"}], \"histogram\": [{\"marker\": {\"colorbar\": {\"outlinewidth\": 0, \"ticks\": \"\"}}, \"type\": \"histogram\"}], \"histogram2d\": [{\"colorbar\": {\"outlinewidth\": 0, \"ticks\": \"\"}, \"colorscale\": [[0.0, \"#0d0887\"], [0.1111111111111111, \"#46039f\"], [0.2222222222222222, \"#7201a8\"], [0.3333333333333333, \"#9c179e\"], [0.4444444444444444, \"#bd3786\"], [0.5555555555555556, \"#d8576b\"], [0.6666666666666666, \"#ed7953\"], [0.7777777777777778, \"#fb9f3a\"], [0.8888888888888888, \"#fdca26\"], [1.0, \"#f0f921\"]], \"type\": \"histogram2d\"}], \"histogram2dcontour\": [{\"colorbar\": {\"outlinewidth\": 0, \"ticks\": \"\"}, \"colorscale\": [[0.0, \"#0d0887\"], [0.1111111111111111, \"#46039f\"], [0.2222222222222222, \"#7201a8\"], [0.3333333333333333, \"#9c179e\"], [0.4444444444444444, \"#bd3786\"], [0.5555555555555556, \"#d8576b\"], [0.6666666666666666, \"#ed7953\"], [0.7777777777777778, \"#fb9f3a\"], [0.8888888888888888, \"#fdca26\"], [1.0, \"#f0f921\"]], \"type\": \"histogram2dcontour\"}], \"mesh3d\": [{\"colorbar\": {\"outlinewidth\": 0, \"ticks\": \"\"}, \"type\": \"mesh3d\"}], \"parcoords\": [{\"line\": {\"colorbar\": {\"outlinewidth\": 0, \"ticks\": \"\"}}, \"type\": \"parcoords\"}], \"pie\": [{\"automargin\": true, \"type\": \"pie\"}], \"scatter\": [{\"marker\": {\"colorbar\": {\"outlinewidth\": 0, \"ticks\": \"\"}}, \"type\": \"scatter\"}], \"scatter3d\": [{\"line\": {\"colorbar\": {\"outlinewidth\": 0, \"ticks\": \"\"}}, \"marker\": {\"colorbar\": {\"outlinewidth\": 0, \"ticks\": \"\"}}, \"type\": \"scatter3d\"}], \"scattercarpet\": [{\"marker\": {\"colorbar\": {\"outlinewidth\": 0, \"ticks\": \"\"}}, \"type\": \"scattercarpet\"}], \"scattergeo\": [{\"marker\": {\"colorbar\": {\"outlinewidth\": 0, \"ticks\": \"\"}}, \"type\": \"scattergeo\"}], \"scattergl\": [{\"marker\": {\"colorbar\": {\"outlinewidth\": 0, \"ticks\": \"\"}}, \"type\": \"scattergl\"}], \"scattermapbox\": [{\"marker\": {\"colorbar\": {\"outlinewidth\": 0, \"ticks\": \"\"}}, \"type\": \"scattermapbox\"}], \"scatterpolar\": [{\"marker\": {\"colorbar\": {\"outlinewidth\": 0, \"ticks\": \"\"}}, \"type\": \"scatterpolar\"}], \"scatterpolargl\": [{\"marker\": {\"colorbar\": {\"outlinewidth\": 0, \"ticks\": \"\"}}, \"type\": \"scatterpolargl\"}], \"scatterternary\": [{\"marker\": {\"colorbar\": {\"outlinewidth\": 0, \"ticks\": \"\"}}, \"type\": \"scatterternary\"}], \"surface\": [{\"colorbar\": {\"outlinewidth\": 0, \"ticks\": \"\"}, \"colorscale\": [[0.0, \"#0d0887\"], [0.1111111111111111, \"#46039f\"], [0.2222222222222222, \"#7201a8\"], [0.3333333333333333, \"#9c179e\"], [0.4444444444444444, \"#bd3786\"], [0.5555555555555556, \"#d8576b\"], [0.6666666666666666, \"#ed7953\"], [0.7777777777777778, \"#fb9f3a\"], [0.8888888888888888, \"#fdca26\"], [1.0, \"#f0f921\"]], \"type\": \"surface\"}], \"table\": [{\"cells\": {\"fill\": {\"color\": \"#EBF0F8\"}, \"line\": {\"color\": \"white\"}}, \"header\": {\"fill\": {\"color\": \"#C8D4E3\"}, \"line\": {\"color\": \"white\"}}, \"type\": \"table\"}]}, \"layout\": {\"annotationdefaults\": {\"arrowcolor\": \"#2a3f5f\", \"arrowhead\": 0, \"arrowwidth\": 1}, \"coloraxis\": {\"colorbar\": {\"outlinewidth\": 0, \"ticks\": \"\"}}, \"colorscale\": {\"diverging\": [[0, \"#8e0152\"], [0.1, \"#c51b7d\"], [0.2, \"#de77ae\"], [0.3, \"#f1b6da\"], [0.4, \"#fde0ef\"], [0.5, \"#f7f7f7\"], [0.6, \"#e6f5d0\"], [0.7, \"#b8e186\"], [0.8, \"#7fbc41\"], [0.9, \"#4d9221\"], [1, \"#276419\"]], \"sequential\": [[0.0, \"#0d0887\"], [0.1111111111111111, \"#46039f\"], [0.2222222222222222, \"#7201a8\"], [0.3333333333333333, \"#9c179e\"], [0.4444444444444444, \"#bd3786\"], [0.5555555555555556, \"#d8576b\"], [0.6666666666666666, \"#ed7953\"], [0.7777777777777778, \"#fb9f3a\"], [0.8888888888888888, \"#fdca26\"], [1.0, \"#f0f921\"]], \"sequentialminus\": [[0.0, \"#0d0887\"], [0.1111111111111111, \"#46039f\"], [0.2222222222222222, \"#7201a8\"], [0.3333333333333333, \"#9c179e\"], [0.4444444444444444, \"#bd3786\"], [0.5555555555555556, \"#d8576b\"], [0.6666666666666666, \"#ed7953\"], [0.7777777777777778, \"#fb9f3a\"], [0.8888888888888888, \"#fdca26\"], [1.0, \"#f0f921\"]]}, \"colorway\": [\"#636efa\", \"#EF553B\", \"#00cc96\", \"#ab63fa\", \"#FFA15A\", \"#19d3f3\", \"#FF6692\", \"#B6E880\", \"#FF97FF\", \"#FECB52\"], \"font\": {\"color\": \"#2a3f5f\"}, \"geo\": {\"bgcolor\": \"white\", \"lakecolor\": \"white\", \"landcolor\": \"#E5ECF6\", \"showlakes\": true, \"showland\": true, \"subunitcolor\": \"white\"}, \"hoverlabel\": {\"align\": \"left\"}, \"hovermode\": \"closest\", \"mapbox\": {\"style\": \"light\"}, \"paper_bgcolor\": \"white\", \"plot_bgcolor\": \"#E5ECF6\", \"polar\": {\"angularaxis\": {\"gridcolor\": \"white\", \"linecolor\": \"white\", \"ticks\": \"\"}, \"bgcolor\": \"#E5ECF6\", \"radialaxis\": {\"gridcolor\": \"white\", \"linecolor\": \"white\", \"ticks\": \"\"}}, \"scene\": {\"xaxis\": {\"backgroundcolor\": \"#E5ECF6\", \"gridcolor\": \"white\", \"gridwidth\": 2, \"linecolor\": \"white\", \"showbackground\": true, \"ticks\": \"\", \"zerolinecolor\": \"white\"}, \"yaxis\": {\"backgroundcolor\": \"#E5ECF6\", \"gridcolor\": \"white\", \"gridwidth\": 2, \"linecolor\": \"white\", \"showbackground\": true, \"ticks\": \"\", \"zerolinecolor\": \"white\"}, \"zaxis\": {\"backgroundcolor\": \"#E5ECF6\", \"gridcolor\": \"white\", \"gridwidth\": 2, \"linecolor\": \"white\", \"showbackground\": true, \"ticks\": \"\", \"zerolinecolor\": \"white\"}}, \"shapedefaults\": {\"line\": {\"color\": \"#2a3f5f\"}}, \"ternary\": {\"aaxis\": {\"gridcolor\": \"white\", \"linecolor\": \"white\", \"ticks\": \"\"}, \"baxis\": {\"gridcolor\": \"white\", \"linecolor\": \"white\", \"ticks\": \"\"}, \"bgcolor\": \"#E5ECF6\", \"caxis\": {\"gridcolor\": \"white\", \"linecolor\": \"white\", \"ticks\": \"\"}}, \"title\": {\"x\": 0.05}, \"xaxis\": {\"automargin\": true, \"gridcolor\": \"white\", \"linecolor\": \"white\", \"ticks\": \"\", \"title\": {\"standoff\": 15}, \"zerolinecolor\": \"white\", \"zerolinewidth\": 2}, \"yaxis\": {\"automargin\": true, \"gridcolor\": \"white\", \"linecolor\": \"white\", \"ticks\": \"\", \"title\": {\"standoff\": 15}, \"zerolinecolor\": \"white\", \"zerolinewidth\": 2}}}, \"xaxis\": {\"anchor\": \"y\", \"domain\": [0.0, 0.16799999999999998], \"range\": [0, 1], \"title\": {\"text\": \"x\"}}, \"xaxis2\": {\"anchor\": \"y2\", \"domain\": [0.208, 0.376], \"range\": [0, 1], \"title\": {\"text\": \"x\"}}, \"xaxis3\": {\"anchor\": \"y3\", \"domain\": [0.416, 0.584], \"range\": [0, 1], \"title\": {\"text\": \"x\"}}, \"xaxis4\": {\"anchor\": \"y4\", \"domain\": [0.624, 0.792], \"range\": [0, 1], \"title\": {\"text\": \"x\"}}, \"xaxis5\": {\"anchor\": \"y5\", \"domain\": [0.832, 1.0], \"range\": [0, 1], \"title\": {\"text\": \"x\"}}, \"yaxis\": {\"anchor\": \"x\", \"domain\": [0.0, 1.0], \"range\": [-1.7, 1.7], \"title\": {\"text\": \"\"}}, \"yaxis2\": {\"anchor\": \"x2\", \"domain\": [0.0, 1.0], \"range\": [-1.7, 1.7], \"title\": {\"text\": \"\"}}, \"yaxis3\": {\"anchor\": \"x3\", \"domain\": [0.0, 1.0], \"range\": [-1.7, 1.7], \"title\": {\"text\": \"\"}}, \"yaxis4\": {\"anchor\": \"x4\", \"domain\": [0.0, 1.0], \"range\": [-1.7, 1.7], \"title\": {\"text\": \"\"}}, \"yaxis5\": {\"anchor\": \"x5\", \"domain\": [0.0, 1.0], \"range\": [-1.7, 1.7], \"title\": {\"text\": \"\"}}},\n",
              "                        {\"responsive\": true}\n",
              "                    ).then(function(){\n",
              "                            \n",
              "var gd = document.getElementById('87150233-546e-4b65-a189-a652a6c12e2a');\n",
              "var x = new MutationObserver(function (mutations, observer) {{\n",
              "        var display = window.getComputedStyle(gd).display;\n",
              "        if (!display || display === 'none') {{\n",
              "            console.log([gd, 'removed!']);\n",
              "            Plotly.purge(gd);\n",
              "            observer.disconnect();\n",
              "        }}\n",
              "}});\n",
              "\n",
              "// Listen for the removal of the full notebook cells\n",
              "var notebookContainer = gd.closest('#notebook-container');\n",
              "if (notebookContainer) {{\n",
              "    x.observe(notebookContainer, {childList: true});\n",
              "}}\n",
              "\n",
              "// Listen for the clearing of the current output cell\n",
              "var outputEl = gd.closest('.output');\n",
              "if (outputEl) {{\n",
              "    x.observe(outputEl, {childList: true});\n",
              "}}\n",
              "\n",
              "                        })\n",
              "                };\n",
              "                \n",
              "            </script>\n",
              "        </div>\n",
              "</body>\n",
              "</html>"
            ]
          },
          "metadata": {
            "tags": []
          }
        }
      ]
    },
    {
      "cell_type": "markdown",
      "metadata": {
        "id": "uQDNfE2ADPUG"
      },
      "source": [
        "If you want to learn more, [here](http://bit.ly/3BLUE1BROWN2TWY9iI) you can find a nice discussion about an analogous exercise:\n",
        "> Three Amazon resellers offers a book at essentially the same price. These are their ratings:\n",
        ">\n",
        "> - 100% positive out of 10 reviews\n",
        "> - 96% positive out of 50 reviews\n",
        "> - 93% positive out of 200 reviews\n",
        ">\n",
        "> Which rating is better?\n",
        "\n",
        "> **EXERCISE (optional)**: The dataset of which scenario, A or B, contains more *absolute* information?\n",
        ">\n",
        ">Answer [here](http://bit.ly/VeritasiumRandom3b0rPBe), or more directly [here](https://en.wikipedia.org/wiki/Quantities_of_information#Self-information)."
      ]
    },
    {
      "cell_type": "markdown",
      "metadata": {
        "id": "yTDKBC5GL7MI"
      },
      "source": [
        "### Linear in the parameters does not mean linear in the input\n",
        "\n",
        "In this tutorial we will restrict our search of $f$ among parametrized functions $f_\\theta$ which depend *linearly* on their finite set of parameters $\\theta = \\{a,b,c,...\\}$.\n",
        "\n",
        "Possible choices of $f$ are\n",
        "- $f_1(x) = ax + b$\n",
        "- $f_2(x) = ax^2 + bx + c$\n",
        "- $f_3(x) = a \\sin(2 \\pi x) + bx + c$"
      ]
    },
    {
      "cell_type": "code",
      "metadata": {
        "id": "1C9ECfD-Q65g",
        "cellView": "form",
        "colab": {
          "base_uri": "https://localhost:8080/",
          "height": 542
        },
        "outputId": "b28f98e2-f9b2-4528-b0a0-351fb0fd7ca5"
      },
      "source": [
        "# @title Linear models plots\n",
        "\n",
        "\n",
        "x_funcs = np.arange(0., 1.1, 2./51)\n",
        "theta_funcs = np.random.randn(10, 3)\n",
        "\n",
        "fig = make_subplots(\n",
        "    rows=1, cols=3,\n",
        "    subplot_titles=(\"f1\", \"f2\", \"f3\"))\n",
        "\n",
        "for a, b in theta_funcs[:,:2]:\n",
        "    fig.add_trace(go.Scatter(x=x_funcs, y=a*x_funcs + b, mode='lines'),\n",
        "                row=1, col=1)\n",
        "\n",
        "for a, b, c in theta_funcs:\n",
        "    fig.add_trace(go.Scatter(x=x_funcs, y=a*x_funcs**2 + b*x_funcs + c, mode='lines'),\n",
        "                row=1, col=2)\n",
        "\n",
        "for a, b, c in theta_funcs:\n",
        "    fig.add_trace(go.Scatter(x=x_funcs, y=a*np.sin(2 * np.pi * x_funcs) + b*x_funcs + c, mode='lines'),\n",
        "                row=1, col=3)\n",
        "\n",
        "for i in range(3):\n",
        "    fig.add_trace(go.Scatter(x=x, y=t, mode='markers', marker=dict(color=\"mediumpurple\")),\n",
        "                row=1, col=i + 1)\n",
        "\n",
        "fig.update_xaxes(title_text=\"x\", range = [0,1])\n",
        "fig.update_yaxes(title_text=\"t\", range = [-2,2])\n",
        "fig.update_layout(showlegend=False)\n",
        "\n",
        "fig.show()"
      ],
      "execution_count": 6,
      "outputs": [
        {
          "output_type": "display_data",
          "data": {
            "text/html": [
              "<html>\n",
              "<head><meta charset=\"utf-8\" /></head>\n",
              "<body>\n",
              "    <div>\n",
              "            <script src=\"https://cdnjs.cloudflare.com/ajax/libs/mathjax/2.7.5/MathJax.js?config=TeX-AMS-MML_SVG\"></script><script type=\"text/javascript\">if (window.MathJax) {MathJax.Hub.Config({SVG: {font: \"STIX-Web\"}});}</script>\n",
              "                <script type=\"text/javascript\">window.PlotlyConfig = {MathJaxConfig: 'local'};</script>\n",
              "        <script src=\"https://cdn.plot.ly/plotly-latest.min.js\"></script>    \n",
              "            <div id=\"dfe9ccf0-9f01-4f77-820f-d4607f80cdd2\" class=\"plotly-graph-div\" style=\"height:525px; width:100%;\"></div>\n",
              "            <script type=\"text/javascript\">\n",
              "                \n",
              "                    window.PLOTLYENV=window.PLOTLYENV || {};\n",
              "                    \n",
              "                if (document.getElementById(\"dfe9ccf0-9f01-4f77-820f-d4607f80cdd2\")) {\n",
              "                    Plotly.newPlot(\n",
              "                        'dfe9ccf0-9f01-4f77-820f-d4607f80cdd2',\n",
              "                        [{\"mode\": \"lines\", \"type\": \"scatter\", \"x\": [0.0, 0.0392156862745098, 0.0784313725490196, 0.11764705882352941, 0.1568627450980392, 0.19607843137254902, 0.23529411764705882, 0.27450980392156865, 0.3137254901960784, 0.3529411764705882, 0.39215686274509803, 0.43137254901960786, 0.47058823529411764, 0.5098039215686274, 0.5490196078431373, 0.5882352941176471, 0.6274509803921569, 0.6666666666666666, 0.7058823529411764, 0.7450980392156863, 0.7843137254901961, 0.8235294117647058, 0.8627450980392157, 0.9019607843137255, 0.9411764705882353, 0.9803921568627451, 1.0196078431372548, 1.0588235294117647, 1.0980392156862746], \"xaxis\": \"x\", \"y\": [-0.827230943552323, -0.814575313735143, -0.801919683917963, -0.789264054100783, -0.776608424283603, -0.7639527944664231, -0.7512971646492431, -0.7386415348320631, -0.7259859050148831, -0.7133302751977032, -0.7006746453805232, -0.6880190155633432, -0.6753633857461632, -0.6627077559289832, -0.6500521261118032, -0.6373964962946232, -0.6247408664774433, -0.6120852366602634, -0.5994296068430833, -0.5867739770259033, -0.5741183472087233, -0.5614627173915434, -0.5488070875743634, -0.5361514577571834, -0.5234958279400035, -0.5108401981228234, -0.4981845683056435, -0.4855289384884635, -0.47287330867128347], \"yaxis\": \"y\"}, {\"mode\": \"lines\", \"type\": \"scatter\", \"x\": [0.0, 0.0392156862745098, 0.0784313725490196, 0.11764705882352941, 0.1568627450980392, 0.19607843137254902, 0.23529411764705882, 0.27450980392156865, 0.3137254901960784, 0.3529411764705882, 0.39215686274509803, 0.43137254901960786, 0.47058823529411764, 0.5098039215686274, 0.5490196078431373, 0.5882352941176471, 0.6274509803921569, 0.6666666666666666, 0.7058823529411764, 0.7450980392156863, 0.7843137254901961, 0.8235294117647058, 0.8627450980392157, 0.9019607843137255, 0.9411764705882353, 0.9803921568627451, 1.0196078431372548, 1.0588235294117647, 1.0980392156862746], \"xaxis\": \"x\", \"y\": [-0.1087601484568576, -0.04865274010381533, 0.011454668249226932, 0.0715620766022692, 0.13166948495531144, 0.19177689330835368, 0.25188430166139597, 0.31199171001443826, 0.3720991183674805, 0.4322065267205227, 0.49231393507356497, 0.5524213434266073, 0.6125287517796496, 0.6726361601326918, 0.7327435684857342, 0.7928509768387764, 0.8529583851918187, 0.9130657935448608, 0.973173201897903, 1.0332806102509453, 1.0933880186039875, 1.15349542695703, 1.213602835310072, 1.2737102436631145, 1.3338176520161567, 1.3939250603691988, 1.454032468722241, 1.5141398770752834, 1.5742472854283258], \"yaxis\": \"y\"}, {\"mode\": \"lines\", \"type\": \"scatter\", \"x\": [0.0, 0.0392156862745098, 0.0784313725490196, 0.11764705882352941, 0.1568627450980392, 0.19607843137254902, 0.23529411764705882, 0.27450980392156865, 0.3137254901960784, 0.3529411764705882, 0.39215686274509803, 0.43137254901960786, 0.47058823529411764, 0.5098039215686274, 0.5490196078431373, 0.5882352941176471, 0.6274509803921569, 0.6666666666666666, 0.7058823529411764, 0.7450980392156863, 0.7843137254901961, 0.8235294117647058, 0.8627450980392157, 0.9019607843137255, 0.9411764705882353, 0.9803921568627451, 1.0196078431372548, 1.0588235294117647, 1.0980392156862746], \"xaxis\": \"x\", \"y\": [-0.40122047188583626, -0.3741560016226554, -0.3470915313594745, -0.32002706109629364, -0.2929625908331127, -0.26589812056993184, -0.23883365030675097, -0.21176918004357007, -0.1847047097803892, -0.15764023951720835, -0.13057576925402742, -0.10351129899084655, -0.07644682872766567, -0.0493823584644848, -0.02231788820130387, 0.004746582061877003, 0.031811052325057876, 0.05887552258823875, 0.08593999285141957, 0.1130044631146005, 0.14006893337778142, 0.16713340364096224, 0.19419787390414317, 0.2212623441673241, 0.24832681443050492, 0.27539128469368573, 0.30245575495686666, 0.3295202252200476, 0.3565846954832285], \"yaxis\": \"y\"}, {\"mode\": \"lines\", \"type\": \"scatter\", \"x\": [0.0, 0.0392156862745098, 0.0784313725490196, 0.11764705882352941, 0.1568627450980392, 0.19607843137254902, 0.23529411764705882, 0.27450980392156865, 0.3137254901960784, 0.3529411764705882, 0.39215686274509803, 0.43137254901960786, 0.47058823529411764, 0.5098039215686274, 0.5490196078431373, 0.5882352941176471, 0.6274509803921569, 0.6666666666666666, 0.7058823529411764, 0.7450980392156863, 0.7843137254901961, 0.8235294117647058, 0.8627450980392157, 0.9019607843137255, 0.9411764705882353, 0.9803921568627451, 1.0196078431372548, 1.0588235294117647, 1.0980392156862746], \"xaxis\": \"x\", \"y\": [0.09767609854883172, 0.09816991818733348, 0.09866373782583523, 0.09915755746433699, 0.09965137710283875, 0.10014519674134051, 0.10063901637984228, 0.10113283601834404, 0.1016266556568458, 0.10212047529534755, 0.10261429493384931, 0.10310811457235107, 0.10360193421085283, 0.10409575384935459, 0.10458957348785634, 0.1050833931263581, 0.10557721276485987, 0.10607103240336163, 0.10656485204186339, 0.10705867168036515, 0.1075524913188669, 0.10804631095736866, 0.10854013059587042, 0.10903395023437218, 0.10952776987287394, 0.1100215895113757, 0.11051540914987745, 0.11100922878837921, 0.11150304842688098], \"yaxis\": \"y\"}, {\"mode\": \"lines\", \"type\": \"scatter\", \"x\": [0.0, 0.0392156862745098, 0.0784313725490196, 0.11764705882352941, 0.1568627450980392, 0.19607843137254902, 0.23529411764705882, 0.27450980392156865, 0.3137254901960784, 0.3529411764705882, 0.39215686274509803, 0.43137254901960786, 0.47058823529411764, 0.5098039215686274, 0.5490196078431373, 0.5882352941176471, 0.6274509803921569, 0.6666666666666666, 0.7058823529411764, 0.7450980392156863, 0.7843137254901961, 0.8235294117647058, 0.8627450980392157, 0.9019607843137255, 0.9411764705882353, 0.9803921568627451, 1.0196078431372548, 1.0588235294117647, 1.0980392156862746], \"xaxis\": \"x\", \"y\": [0.49799829124544975, 0.498959474549722, 0.49992065785399425, 0.5008818411582665, 0.5018430244625388, 0.5028042077668111, 0.5037653910710833, 0.5047265743753556, 0.5056877576796278, 0.5066489409839001, 0.5076101242881724, 0.5085713075924446, 0.5095324908967169, 0.5104936742009891, 0.5114548575052614, 0.5124160408095337, 0.5133772241138059, 0.5143384074180782, 0.5152995907223505, 0.5162607740266227, 0.517221957330895, 0.5181831406351672, 0.5191443239394395, 0.5201055072437119, 0.521066690547984, 0.5220278738522564, 0.5229890571565285, 0.5239502404608009, 0.5249114237650732], \"yaxis\": \"y\"}, {\"mode\": \"lines\", \"type\": \"scatter\", \"x\": [0.0, 0.0392156862745098, 0.0784313725490196, 0.11764705882352941, 0.1568627450980392, 0.19607843137254902, 0.23529411764705882, 0.27450980392156865, 0.3137254901960784, 0.3529411764705882, 0.39215686274509803, 0.43137254901960786, 0.47058823529411764, 0.5098039215686274, 0.5490196078431373, 0.5882352941176471, 0.6274509803921569, 0.6666666666666666, 0.7058823529411764, 0.7450980392156863, 0.7843137254901961, 0.8235294117647058, 0.8627450980392157, 0.9019607843137255, 0.9411764705882353, 0.9803921568627451, 1.0196078431372548, 1.0588235294117647, 1.0980392156862746], \"xaxis\": \"x\", \"y\": [2.1531824575115563, 2.1908009212796036, 2.228419385047651, 2.2660378488156985, 2.3036563125837457, 2.341274776351793, 2.37889324011984, 2.416511703887888, 2.454130167655935, 2.4917486314239823, 2.5293670951920295, 2.566985558960077, 2.6046040227281244, 2.6422224864961716, 2.679840950264219, 2.717459414032266, 2.7550778778003133, 2.792696341568361, 2.8303148053364082, 2.8679332691044555, 2.905551732872503, 2.9431701966405504, 2.9807886604085976, 3.018407124176645, 3.056025587944692, 3.0936440517127393, 3.131262515480787, 3.168880979248834, 3.206499443016882], \"yaxis\": \"y\"}, {\"mode\": \"lines\", \"type\": \"scatter\", \"x\": [0.0, 0.0392156862745098, 0.0784313725490196, 0.11764705882352941, 0.1568627450980392, 0.19607843137254902, 0.23529411764705882, 0.27450980392156865, 0.3137254901960784, 0.3529411764705882, 0.39215686274509803, 0.43137254901960786, 0.47058823529411764, 0.5098039215686274, 0.5490196078431373, 0.5882352941176471, 0.6274509803921569, 0.6666666666666666, 0.7058823529411764, 0.7450980392156863, 0.7843137254901961, 0.8235294117647058, 0.8627450980392157, 0.9019607843137255, 0.9411764705882353, 0.9803921568627451, 1.0196078431372548, 1.0588235294117647, 1.0980392156862746], \"xaxis\": \"x\", \"y\": [0.18334200573835174, 0.2175506581587705, 0.25175931057918927, 0.285967962999608, 0.32017661542002673, 0.3543852678404455, 0.38859392026086426, 0.422802572681283, 0.4570112251017018, 0.4912198775221205, 0.5254285299425392, 0.559637182362958, 0.5938458347833768, 0.6280544872037954, 0.6622631396242142, 0.696471792044633, 0.7306804444650519, 0.7648890968854705, 0.7990977493058893, 0.8333064017263081, 0.8675150541467267, 0.9017237065671455, 0.9359323589875643, 0.9701410114079831, 1.0043496638284017, 1.0385583162488206, 1.0727669686692392, 1.106975621089658, 1.1411842735100768], \"yaxis\": \"y\"}, {\"mode\": \"lines\", \"type\": \"scatter\", \"x\": [0.0, 0.0392156862745098, 0.0784313725490196, 0.11764705882352941, 0.1568627450980392, 0.19607843137254902, 0.23529411764705882, 0.27450980392156865, 0.3137254901960784, 0.3529411764705882, 0.39215686274509803, 0.43137254901960786, 0.47058823529411764, 0.5098039215686274, 0.5490196078431373, 0.5882352941176471, 0.6274509803921569, 0.6666666666666666, 0.7058823529411764, 0.7450980392156863, 0.7843137254901961, 0.8235294117647058, 0.8627450980392157, 0.9019607843137255, 0.9411764705882353, 0.9803921568627451, 1.0196078431372548, 1.0588235294117647, 1.0980392156862746], \"xaxis\": \"x\", \"y\": [-0.8397218421807761, -0.8714198141554879, -0.9031177861301997, -0.9348157581049115, -0.9665137300796234, -0.9982117020543352, -1.029909674029047, -1.061607646003759, -1.0933056179784706, -1.1250035899531825, -1.1567015619278942, -1.188399533902606, -1.2200975058773178, -1.2517954778520297, -1.2834934498267416, -1.3151914218014533, -1.3468893937761652, -1.3785873657508771, -1.4102853377255888, -1.4419833097003005, -1.4736812816750124, -1.5053792536497244, -1.537077225624436, -1.568775197599148, -1.6004731695738599, -1.6321711415485716, -1.6638691135232833, -1.6955670854979954, -1.727265057472707], \"yaxis\": \"y\"}, {\"mode\": \"lines\", \"type\": \"scatter\", \"x\": [0.0, 0.0392156862745098, 0.0784313725490196, 0.11764705882352941, 0.1568627450980392, 0.19607843137254902, 0.23529411764705882, 0.27450980392156865, 0.3137254901960784, 0.3529411764705882, 0.39215686274509803, 0.43137254901960786, 0.47058823529411764, 0.5098039215686274, 0.5490196078431373, 0.5882352941176471, 0.6274509803921569, 0.6666666666666666, 0.7058823529411764, 0.7450980392156863, 0.7843137254901961, 0.8235294117647058, 0.8627450980392157, 0.9019607843137255, 0.9411764705882353, 0.9803921568627451, 1.0196078431372548, 1.0588235294117647, 1.0980392156862746], \"xaxis\": \"x\", \"y\": [-0.525755021680761, -0.6090450500850672, -0.6923350784893734, -0.7756251068936795, -0.8589151352979856, -0.9422051637022918, -1.025495192106598, -1.1087852205109041, -1.1920752489152102, -1.2753652773195163, -1.3586553057238224, -1.4419453341281288, -1.5252353625324349, -1.608525390936741, -1.6918154193410473, -1.7751054477453532, -1.8583954761496595, -1.9416855045539654, -2.0249755329582717, -2.108265561362578, -2.191555589766884, -2.2748456181711902, -2.3581356465754966, -2.4414256749798025, -2.524715703384109, -2.6080057317884147, -2.6912957601927205, -2.774585788597027, -2.857875817001333], \"yaxis\": \"y\"}, {\"mode\": \"lines\", \"type\": \"scatter\", \"x\": [0.0, 0.0392156862745098, 0.0784313725490196, 0.11764705882352941, 0.1568627450980392, 0.19607843137254902, 0.23529411764705882, 0.27450980392156865, 0.3137254901960784, 0.3529411764705882, 0.39215686274509803, 0.43137254901960786, 0.47058823529411764, 0.5098039215686274, 0.5490196078431373, 0.5882352941176471, 0.6274509803921569, 0.6666666666666666, 0.7058823529411764, 0.7450980392156863, 0.7843137254901961, 0.8235294117647058, 0.8627450980392157, 0.9019607843137255, 0.9411764705882353, 0.9803921568627451, 1.0196078431372548, 1.0588235294117647, 1.0980392156862746], \"xaxis\": \"x\", \"y\": [0.34175597577715944, 0.347653771325246, 0.35355156687333256, 0.35944936242141917, 0.36534715796950573, 0.3712449535175923, 0.3771427490656789, 0.38304054461376547, 0.388938340161852, 0.3948361357099386, 0.40073393125802514, 0.40663172680611176, 0.4125295223541983, 0.4184273179022849, 0.4243251134503715, 0.43022290899845805, 0.4361207045465446, 0.4420185000946312, 0.44791629564271773, 0.45381409119080435, 0.4597118867388909, 0.46560968228697747, 0.4715074778350641, 0.47740527338315064, 0.4833030689312372, 0.48920086447932376, 0.4950986600274103, 0.5009964555754969, 0.5068942511235836], \"yaxis\": \"y\"}, {\"mode\": \"lines\", \"type\": \"scatter\", \"x\": [0.0, 0.0392156862745098, 0.0784313725490196, 0.11764705882352941, 0.1568627450980392, 0.19607843137254902, 0.23529411764705882, 0.27450980392156865, 0.3137254901960784, 0.3529411764705882, 0.39215686274509803, 0.43137254901960786, 0.47058823529411764, 0.5098039215686274, 0.5490196078431373, 0.5882352941176471, 0.6274509803921569, 0.6666666666666666, 0.7058823529411764, 0.7450980392156863, 0.7843137254901961, 0.8235294117647058, 0.8627450980392157, 0.9019607843137255, 0.9411764705882353, 0.9803921568627451, 1.0196078431372548, 1.0588235294117647, 1.0980392156862746], \"xaxis\": \"x2\", \"y\": [0.5193465142411723, 0.48740238429077454, 0.4564508527574105, 0.4264919196410802, 0.3975255849417836, 0.36955184865952073, 0.3425707107942916, 0.3165821713460961, 0.29158623031493447, 0.2675828877008065, 0.24457214350371226, 0.2225539977236517, 0.20152845036062494, 0.18149550141463183, 0.16245515088567247, 0.14440739877374686, 0.12735224507885495, 0.11128968980099674, 0.09621973294017239, 0.08214237449638151, 0.06905761446962455, 0.05696545285990129, 0.04586588966721172, 0.035758924891555854, 0.026644558532933793, 0.018522790591345317, 0.01139362106679076, 0.005257049959269788, 0.00011307726878262425], \"yaxis\": \"y2\"}, {\"mode\": \"lines\", \"type\": \"scatter\", \"x\": [0.0, 0.0392156862745098, 0.0784313725490196, 0.11764705882352941, 0.1568627450980392, 0.19607843137254902, 0.23529411764705882, 0.27450980392156865, 0.3137254901960784, 0.3529411764705882, 0.39215686274509803, 0.43137254901960786, 0.47058823529411764, 0.5098039215686274, 0.5490196078431373, 0.5882352941176471, 0.6274509803921569, 0.6666666666666666, 0.7058823529411764, 0.7450980392156863, 0.7843137254901961, 0.8235294117647058, 0.8627450980392157, 0.9019607843137255, 0.9411764705882353, 0.9803921568627451, 1.0196078431372548, 1.0588235294117647, 1.0980392156862746], \"xaxis\": \"x2\", \"y\": [0.40171172209894146, 0.399803771506635, 0.402610127451822, 0.4101307899345025, 0.4223657589546766, 0.43931503451234416, 0.4609786166075052, 0.48735650524015983, 0.5184487004103079, 0.5542552021179494, 0.5947760103630846, 0.6400111251457132, 0.6899605464658354, 0.744624274323451, 0.8040023087185603, 0.8680946496511629, 0.936901297121259, 1.0104222511288485, 1.0886575116739317, 1.1716070787565087, 1.2592709523765788, 1.3516491325341424, 1.4487416192292, 1.5505484124617506, 1.6570695122317949, 1.7683049185393325, 1.8842546313843636, 2.004918650766889, 2.1302969766869078], \"yaxis\": \"y2\"}, {\"mode\": \"lines\", \"type\": \"scatter\", \"x\": [0.0, 0.0392156862745098, 0.0784313725490196, 0.11764705882352941, 0.1568627450980392, 0.19607843137254902, 0.23529411764705882, 0.27450980392156865, 0.3137254901960784, 0.3529411764705882, 0.39215686274509803, 0.43137254901960786, 0.47058823529411764, 0.5098039215686274, 0.5490196078431373, 0.5882352941176471, 0.6274509803921569, 0.6666666666666666, 0.7058823529411764, 0.7450980392156863, 0.7843137254901961, 0.8235294117647058, 0.8627450980392157, 0.9019607843137255, 0.9411764705882353, 0.9803921568627451, 1.0196078431372548, 1.0588235294117647, 1.0980392156862746], \"xaxis\": \"x2\", \"y\": [0.22409248181041677, 0.20941969743305774, 0.1968696166057521, 0.18644223932849988, 0.17813756560130106, 0.17195559542415562, 0.1678963287970636, 0.165959765720025, 0.16614590619303976, 0.16845475021610795, 0.17288629778922954, 0.17944054891240452, 0.18811750358563292, 0.1989171618089147, 0.21183952358224997, 0.22688458890563853, 0.24405235777908055, 0.263342830202576, 0.28475600617612473, 0.308291885699727, 0.3339504687733825, 0.36173175539709157, 0.391635745570854, 0.42366243929466985, 0.4578118365685391, 0.4940839373924617, 0.5324787417664376, 0.5729962496904673, 0.6156364611645502], \"yaxis\": \"y2\"}, {\"mode\": \"lines\", \"type\": \"scatter\", \"x\": [0.0, 0.0392156862745098, 0.0784313725490196, 0.11764705882352941, 0.1568627450980392, 0.19607843137254902, 0.23529411764705882, 0.27450980392156865, 0.3137254901960784, 0.3529411764705882, 0.39215686274509803, 0.43137254901960786, 0.47058823529411764, 0.5098039215686274, 0.5490196078431373, 0.5882352941176471, 0.6274509803921569, 0.6666666666666666, 0.7058823529411764, 0.7450980392156863, 0.7843137254901961, 0.8235294117647058, 0.8627450980392157, 0.9019607843137255, 0.9411764705882353, 0.9803921568627451, 1.0196078431372548, 1.0588235294117647, 1.0980392156862746], \"xaxis\": \"x2\", \"y\": [-0.7730097838554665, -0.7691599831422378, -0.7652714514769696, -0.7613441888596622, -0.7573781952903154, -0.7533734707689291, -0.7493300152955036, -0.7452478288700387, -0.7411269114925345, -0.7369672631629909, -0.7327688838814079, -0.7285317736477857, -0.7242559324621239, -0.719941360324423, -0.7155880572346826, -0.7111960231929029, -0.7067652581990838, -0.7022957622532254, -0.6977875353553277, -0.6932405775053905, -0.688654888703414, -0.6840304689493981, -0.679367318243343, -0.6746654365852485, -0.6699248239751145, -0.6651454804129413, -0.6603274058987287, -0.6554706004324767, -0.6505750640141854], \"yaxis\": \"y2\"}, {\"mode\": \"lines\", \"type\": \"scatter\", \"x\": [0.0, 0.0392156862745098, 0.0784313725490196, 0.11764705882352941, 0.1568627450980392, 0.19607843137254902, 0.23529411764705882, 0.27450980392156865, 0.3137254901960784, 0.3529411764705882, 0.39215686274509803, 0.43137254901960786, 0.47058823529411764, 0.5098039215686274, 0.5490196078431373, 0.5882352941176471, 0.6274509803921569, 0.6666666666666666, 0.7058823529411764, 0.7450980392156863, 0.7843137254901961, 0.8235294117647058, 0.8627450980392157, 0.9019607843137255, 0.9411764705882353, 0.9803921568627451, 1.0196078431372548, 1.0588235294117647, 1.0980392156862746], \"xaxis\": \"x2\", \"y\": [1.4511436077950417, 1.4707106460126778, 1.4903530711561392, 1.510070883225426, 1.529864082220538, 1.5497326681414751, 1.569676640988238, 1.5896960007608256, 1.6097907474592388, 1.629960881083477, 1.6502064016335407, 1.6705273091094295, 1.6909236035111437, 1.7113952848386833, 1.7319423530920481, 1.752564808271238, 1.7732626503762532, 1.7940358794070939, 1.8148844953637597, 1.8358084982462508, 1.856807888054567, 1.8778826647887088, 1.899032828448676, 1.920258379034468, 1.9415593165460856, 1.9629356409835284, 1.9843873523467963, 2.0059144506358897, 2.0275169358508083], \"yaxis\": \"y2\"}, {\"mode\": \"lines\", \"type\": \"scatter\", \"x\": [0.0, 0.0392156862745098, 0.0784313725490196, 0.11764705882352941, 0.1568627450980392, 0.19607843137254902, 0.23529411764705882, 0.27450980392156865, 0.3137254901960784, 0.3529411764705882, 0.39215686274509803, 0.43137254901960786, 0.47058823529411764, 0.5098039215686274, 0.5490196078431373, 0.5882352941176471, 0.6274509803921569, 0.6666666666666666, 0.7058823529411764, 0.7450980392156863, 0.7843137254901961, 0.8235294117647058, 0.8627450980392157, 0.9019607843137255, 0.9411764705882353, 0.9803921568627451, 1.0196078431372548, 1.0588235294117647, 1.0980392156862746], \"xaxis\": \"x2\", \"y\": [-0.7673475628880495, -0.6814338012692416, -0.59256957190392, -0.5007548747920849, -0.40598970993373645, -0.3082740773288744, -0.20760797697749878, -0.10399140887960967, 0.0025756269647928542, 0.11209313055570891, 0.2245611018931386, 0.33997954097708183, 0.4583484478075386, 0.5796678223845084, 0.7039376647079925, 0.8311579747779896, 0.9613287525945002, 1.0944499981575242, 1.2305217114670621, 1.3695438925231134, 1.5115165413256784, 1.6564396578747567, 1.8043132421703487, 1.9551372942124536, 2.1089118140010727, 2.2656368015362047, 2.4253122568178505, 2.58793817984601, 2.7535145706206836], \"yaxis\": \"y2\"}, {\"mode\": \"lines\", \"type\": \"scatter\", \"x\": [0.0, 0.0392156862745098, 0.0784313725490196, 0.11764705882352941, 0.1568627450980392, 0.19607843137254902, 0.23529411764705882, 0.27450980392156865, 0.3137254901960784, 0.3529411764705882, 0.39215686274509803, 0.43137254901960786, 0.47058823529411764, 0.5098039215686274, 0.5490196078431373, 0.5882352941176471, 0.6274509803921569, 0.6666666666666666, 0.7058823529411764, 0.7450980392156863, 0.7843137254901961, 0.8235294117647058, 0.8627450980392157, 0.9019607843137255, 0.9411764705882353, 0.9803921568627451, 1.0196078431372548, 1.0588235294117647, 1.0980392156862746], \"xaxis\": \"x2\", \"y\": [2.1898029332176723, 2.1983343315768398, 2.209548761498393, 2.223446222982332, 2.2400267160286567, 2.2592902406373674, 2.281236796808464, 2.3058663845419463, 2.333179003837814, 2.363174654696068, 2.3958533371167072, 2.431215051099733, 2.4692597966451437, 2.5099875737529405, 2.5533983824231234, 2.599492222655692, 2.648269094450646, 2.699728997807986, 2.7538719327277117, 2.8106978992098233, 2.8702068972543207, 2.932398926861204, 2.997273988030473, 3.0648320807621277, 3.1350732050561683, 3.2079973609125942, 3.2836045483314065, 3.3618947673126045, 3.4428680178561883], \"yaxis\": \"y2\"}, {\"mode\": \"lines\", \"type\": \"scatter\", \"x\": [0.0, 0.0392156862745098, 0.0784313725490196, 0.11764705882352941, 0.1568627450980392, 0.19607843137254902, 0.23529411764705882, 0.27450980392156865, 0.3137254901960784, 0.3529411764705882, 0.39215686274509803, 0.43137254901960786, 0.47058823529411764, 0.5098039215686274, 0.5490196078431373, 0.5882352941176471, 0.6274509803921569, 0.6666666666666666, 0.7058823529411764, 0.7450980392156863, 0.7843137254901961, 0.8235294117647058, 0.8627450980392157, 0.9019607843137255, 0.9411764705882353, 0.9803921568627451, 1.0196078431372548, 1.0588235294117647, 1.0980392156862746], \"xaxis\": \"x2\", \"y\": [-0.5993926454440222, -0.6335659714893354, -0.6702254129836457, -0.7093709699269529, -0.7510026423192572, -0.7951204301605584, -0.8417243334508567, -0.890814352190152, -0.9423904863784444, -0.9964527360157336, -1.05300110110202, -1.1120355816373033, -1.1735561776215835, -1.237562889054861, -1.3040557159371353, -1.3730346582684065, -1.444499716048675, -1.5184508892779403, -1.5948881779562023, -1.6738115820834618, -1.7552211016597181, -1.8391167366849714, -1.925498487159222, -2.0143663530824694, -2.1057203344547135, -2.199560431275955, -2.295886643546193, -2.394698971265429, -2.4959974144336616], \"yaxis\": \"y2\"}, {\"mode\": \"lines\", \"type\": \"scatter\", \"x\": [0.0, 0.0392156862745098, 0.0784313725490196, 0.11764705882352941, 0.1568627450980392, 0.19607843137254902, 0.23529411764705882, 0.27450980392156865, 0.3137254901960784, 0.3529411764705882, 0.39215686274509803, 0.43137254901960786, 0.47058823529411764, 0.5098039215686274, 0.5490196078431373, 0.5882352941176471, 0.6274509803921569, 0.6666666666666666, 0.7058823529411764, 0.7450980392156863, 0.7843137254901961, 0.8235294117647058, 0.8627450980392157, 0.9019607843137255, 0.9411764705882353, 0.9803921568627451, 1.0196078431372548, 1.0588235294117647, 1.0980392156862746], \"xaxis\": \"x2\", \"y\": [-0.759132661553698, -0.783016781164877, -0.8134334520234527, -0.8503826741294249, -0.8938644474827937, -0.9438787720835591, -1.000425647931721, -1.0635050750272796, -1.1331170533702344, -1.2092615829605862, -1.291938663798334, -1.381148295883479, -1.4768904792160202, -1.579165213795958, -1.6879724996232928, -1.8033123366980235, -1.925184725020151, -2.053589664589675, -2.1885271554065957, -2.329997197470913, -2.4779997907826266, -2.632534935341737, -2.793602631148244, -2.9612028782021476, -3.1353356765034475, -3.3160010260521435, -3.5031989268482366, -3.696929378891727, -3.897192382182614], \"yaxis\": \"y2\"}, {\"mode\": \"lines\", \"type\": \"scatter\", \"x\": [0.0, 0.0392156862745098, 0.0784313725490196, 0.11764705882352941, 0.1568627450980392, 0.19607843137254902, 0.23529411764705882, 0.27450980392156865, 0.3137254901960784, 0.3529411764705882, 0.39215686274509803, 0.43137254901960786, 0.47058823529411764, 0.5098039215686274, 0.5490196078431373, 0.5882352941176471, 0.6274509803921569, 0.6666666666666666, 0.7058823529411764, 0.7450980392156863, 0.7843137254901961, 0.8235294117647058, 0.8627450980392157, 0.9019607843137255, 0.9411764705882353, 0.9803921568627451, 1.0196078431372548, 1.0588235294117647, 1.0980392156862746], \"xaxis\": \"x2\", \"y\": [1.8761708392158862, 1.8898043204443273, 1.9039003738726181, 1.918458999500759, 1.9334801973287499, 1.9489639673565906, 1.9649103095842813, 1.9813192240118218, 1.9981907106392123, 2.015524769466453, 2.033321400493543, 2.0515806037204833, 2.0703023791472734, 2.089486726773914, 2.109133646600404, 2.129243138626744, 2.149815202852934, 2.170849839278974, 2.1923470479048635, 2.2143068287306034, 2.2367291817561927, 2.2596141069816325, 2.282961604406922, 2.306771674032061, 2.3310443158570506, 2.35577952988189, 2.380977316106579, 2.4066376745311184, 2.4327606051555075], \"yaxis\": \"y2\"}, {\"mode\": \"lines\", \"type\": \"scatter\", \"x\": [0.0, 0.0392156862745098, 0.0784313725490196, 0.11764705882352941, 0.1568627450980392, 0.19607843137254902, 0.23529411764705882, 0.27450980392156865, 0.3137254901960784, 0.3529411764705882, 0.39215686274509803, 0.43137254901960786, 0.47058823529411764, 0.5098039215686274, 0.5490196078431373, 0.5882352941176471, 0.6274509803921569, 0.6666666666666666, 0.7058823529411764, 0.7450980392156863, 0.7843137254901961, 0.8235294117647058, 0.8627450980392157, 0.9019607843137255, 0.9411764705882353, 0.9803921568627451, 1.0196078431372548, 1.0588235294117647, 1.0980392156862746], \"xaxis\": \"x3\", \"y\": [0.5193465142411723, 0.5656215696823408, 0.6071417274906863, 0.6394393149880879, 0.658603759258471, 0.6615178097156548, 0.6460458391410515, 0.6111628486546425, 0.5570163839284534, 0.4849176225238136, 0.39726217073184794, 0.2973853542733854, 0.1893607441867785, 0.07775408817462798, -0.03265248853603597, -0.13714935286199403, -0.23138385456236754, -0.311623252985903, -0.3749801974802801, -0.41958714106499584, -0.44470915171318304, -0.45078830674964643, -0.4394169886714233, -0.413241695486957, -0.3758031760188294, -0.3313225469774188, -0.2844463116448829, -0.23996568260347206, -0.20252716313534436], \"yaxis\": \"y3\"}, {\"mode\": \"lines\", \"type\": \"scatter\", \"x\": [0.0, 0.0392156862745098, 0.0784313725490196, 0.11764705882352941, 0.1568627450980392, 0.19607843137254902, 0.23529411764705882, 0.27450980392156865, 0.3137254901960784, 0.3529411764705882, 0.39215686274509803, 0.43137254901960786, 0.47058823529411764, 0.5098039215686274, 0.5490196078431373, 0.5882352941176471, 0.6274509803921569, 0.6666666666666666, 0.7058823529411764, 0.7450980392156863, 0.7843137254901961, 0.8235294117647058, 0.8627450980392157, 0.9019607843137255, 0.9411764705882353, 0.9803921568627451, 1.0196078431372548, 1.0588235294117647, 1.0980392156862746], \"xaxis\": \"x3\", \"y\": [0.40171172209894146, 0.7713026684632172, 1.1183104184301844, 1.421515939053178, 1.6623461204549033, 1.825995705478742, 1.9023216179465903, 1.8864556666160772, 1.7790986137635396, 1.586477844848308, 1.3199711962699807, 0.9954196643273064, 0.6321705119692205, 0.25190857555405655, -0.1226536321496553, -0.4691478969150914, -0.7669014802672929, -0.998185879568142, -1.1492877382147286, -1.2113372164126537, -1.1808437838533703, -1.059907069134545, -0.8560900293263782, -0.5819621010193008, -0.2543399293292733, 0.10672846051843055, 0.4791746867657351, 0.8402430766134402, 1.1678652483034688], \"yaxis\": \"y3\"}, {\"mode\": \"lines\", \"type\": \"scatter\", \"x\": [0.0, 0.0392156862745098, 0.0784313725490196, 0.11764705882352941, 0.1568627450980392, 0.19607843137254902, 0.23529411764705882, 0.27450980392156865, 0.3137254901960784, 0.3529411764705882, 0.39215686274509803, 0.43137254901960786, 0.47058823529411764, 0.5098039215686274, 0.5490196078431373, 0.5882352941176471, 0.6274509803921569, 0.6666666666666666, 0.7058823529411764, 0.7450980392156863, 0.7843137254901961, 0.8235294117647058, 0.8627450980392157, 0.9019607843137255, 0.9411764705882353, 0.9803921568627451, 1.0196078431372548, 1.0588235294117647, 1.0980392156862746], \"xaxis\": \"x3\", \"y\": [0.22409248181041677, 0.37669393408673346, 0.5191268852732573, 0.6418370740578817, 0.7364616148372818, 0.7963341672545324, 0.816887624007534, 0.7959299921169728, 0.7337768027346507, 0.6332320511283638, 0.49941881818504075, 0.33946980493129153, 0.162096473682708, -0.02293717766323, -0.20540442093325764, -0.37523355472866216, -0.52311629690845, -0.641070061871161, -0.7229201576419239, -0.7646727751058172, -0.764756238552194, -0.7241159445187242, -0.6461572540471937, -0.5365397880087691, -0.40283555132161597, -0.2540715374531284, -0.10018444269771151, 0.04857957117077663, 0.18228380785793033], \"yaxis\": \"y3\"}, {\"mode\": \"lines\", \"type\": \"scatter\", \"x\": [0.0, 0.0392156862745098, 0.0784313725490196, 0.11764705882352941, 0.1568627450980392, 0.19607843137254902, 0.23529411764705882, 0.27450980392156865, 0.3137254901960784, 0.3529411764705882, 0.39215686274509803, 0.43137254901960786, 0.47058823529411764, 0.5098039215686274, 0.5490196078431373, 0.5882352941176471, 0.6274509803921569, 0.6666666666666666, 0.7058823529411764, 0.7450980392156863, 0.7843137254901961, 0.8235294117647058, 0.8627450980392157, 0.9019607843137255, 0.9411764705882353, 0.9803921568627451, 1.0196078431372548, 1.0588235294117647, 1.0980392156862746], \"xaxis\": \"x3\", \"y\": [-0.7730097838554665, -0.7661078892984742, -0.7593915297060845, -0.7530350325940925, -0.7471909875792656, -0.7419810290314316, -0.7374884886121745, -0.7337533615318241, -0.7307698905936646, -0.7284869139638952, -0.7268109556599088, -0.7256118720724549, -0.7247307134371497, -0.7239893253742774, -0.7232011105050435, -0.7221823000767089, -0.7207630547213776, -0.7187977237945814, -0.7161736435667426, -0.7128179428028365, -0.7087019446315357, -0.7038428988039692, -0.6983029397030481, -0.6921853330459833, -0.6856282380021603, -0.6787963615326791, -0.6718710090805905, -0.6650391326111091, -0.6584820375672862], \"yaxis\": \"y3\"}, {\"mode\": \"lines\", \"type\": \"scatter\", \"x\": [0.0, 0.0392156862745098, 0.0784313725490196, 0.11764705882352941, 0.1568627450980392, 0.19607843137254902, 0.23529411764705882, 0.27450980392156865, 0.3137254901960784, 0.3529411764705882, 0.39215686274509803, 0.43137254901960786, 0.47058823529411764, 0.5098039215686274, 0.5490196078431373, 0.5882352941176471, 0.6274509803921569, 0.6666666666666666, 0.7058823529411764, 0.7450980392156863, 0.7843137254901961, 0.8235294117647058, 0.8627450980392157, 0.9019607843137255, 0.9411764705882353, 0.9803921568627451, 1.0196078431372548, 1.0588235294117647, 1.0980392156862746], \"xaxis\": \"x3\", \"y\": [1.4511436077950417, 1.4766513203337686, 1.5017979028233224, 1.52624403968248, 1.5496927265383758, 1.571907211110645, 1.5927252944999588, 1.6120691289954885, 1.6299499205536825, 1.6464672518898302, 1.661803067071821, 1.6762106809835033, 1.6899994775534048, 1.703516221069566, 1.7171241094915959, 1.7311808350682585, 1.7460169775337357, 1.7619160350659138, 1.7790972992591796, 1.797702608568319, 1.817787780396669, 1.8393192393829143, 1.8621760455586545, 1.8861571998636095, 1.910993785720568, 1.936365213244554, 1.961918584836429, 1.9872900123604147, 2.0121265982173737], \"yaxis\": \"y3\"}, {\"mode\": \"lines\", \"type\": \"scatter\", \"x\": [0.0, 0.0392156862745098, 0.0784313725490196, 0.11764705882352941, 0.1568627450980392, 0.19607843137254902, 0.23529411764705882, 0.27450980392156865, 0.3137254901960784, 0.3529411764705882, 0.39215686274509803, 0.43137254901960786, 0.47058823529411764, 0.5098039215686274, 0.5490196078431373, 0.5882352941176471, 0.6274509803921569, 0.6666666666666666, 0.7058823529411764, 0.7450980392156863, 0.7843137254901961, 0.8235294117647058, 0.8627450980392157, 0.9019607843137255, 0.9411764705882353, 0.9803921568627451, 1.0196078431372548, 1.0588235294117647, 1.0980392156862746], \"xaxis\": \"x3\", \"y\": [-0.7673475628880495, -0.44892971936061943, -0.14464566031527892, 0.13222459695944233, 0.37005699679181747, 0.5595856093208951, 0.6944623494410687, 0.7716404400430772, 0.7915584560218414, 0.7581138316652534, 0.6784274317399843, 0.5624134076234166, 0.4221803218072253, 0.27129971652245555, 0.1239863094233089, -0.005760662465964406, -0.10500308245367629, -0.16264549571275178, -0.170105342744453, -0.12183139856542768, -0.0156391007142217, 0.14715748978920273, 0.36182506578154916, 0.6204969947142205, 0.9126485114654332, 1.2257324786485908, 1.545937310598421, 1.8590212777815798, 2.1511727945327936], \"yaxis\": \"y3\"}, {\"mode\": \"lines\", \"type\": \"scatter\", \"x\": [0.0, 0.0392156862745098, 0.0784313725490196, 0.11764705882352941, 0.1568627450980392, 0.19607843137254902, 0.23529411764705882, 0.27450980392156865, 0.3137254901960784, 0.3529411764705882, 0.39215686274509803, 0.43137254901960786, 0.47058823529411764, 0.5098039215686274, 0.5490196078431373, 0.5882352941176471, 0.6274509803921569, 0.6666666666666666, 0.7058823529411764, 0.7450980392156863, 0.7843137254901961, 0.8235294117647058, 0.8627450980392157, 0.9019607843137255, 0.9411764705882353, 0.9803921568627451, 1.0196078431372548, 1.0588235294117647, 1.0980392156862746], \"xaxis\": \"x3\", \"y\": [2.1898029332176723, 2.409763787425496, 2.61687197110126, 2.799051193773308, 2.9457310269775334, 3.048485422911461, 3.101541699355744, 3.102129245054808, 3.0506468816147967, 2.9506387722346124, 2.808580332530316, 2.6334870757510256, 2.4363700205322356, 2.229570557895479, 2.0260149556034497, 1.838433532375872, 1.678591668628325, 1.5565791053977165, 1.4802004621544254, 1.4545037899601319, 1.4814756382495857, 1.5599210550713123, 1.6855357695080655, 1.851166196016496, 2.047241554830646, 2.262352005708877, 2.48393787220317, 2.6990483230814015, 2.8951236818955524], \"yaxis\": \"y3\"}, {\"mode\": \"lines\", \"type\": \"scatter\", \"x\": [0.0, 0.0392156862745098, 0.0784313725490196, 0.11764705882352941, 0.1568627450980392, 0.19607843137254902, 0.23529411764705882, 0.27450980392156865, 0.3137254901960784, 0.3529411764705882, 0.39215686274509803, 0.43137254901960786, 0.47058823529411764, 0.5098039215686274, 0.5490196078431373, 0.5882352941176471, 0.6274509803921569, 0.6666666666666666, 0.7058823529411764, 0.7450980392156863, 0.7843137254901961, 0.8235294117647058, 0.8627450980392157, 0.9019607843137255, 0.9411764705882353, 0.9803921568627451, 1.0196078431372548, 1.0588235294117647, 1.0980392156862746], \"xaxis\": \"x3\", \"y\": [-0.5993926454440222, -0.8294779555030345, -1.0476538928887684, -1.2427304840172138, -1.4049130973694766, -1.526394099256337, -1.6018244827377113, -1.6286369804201712, -1.6072011431395439, -1.5408010168258448, -1.4354367660047016, -1.2994622270914191, -1.1430802854797688, -0.9777265587416386, -0.8153786152490263, -0.6678324556466728, -0.5459899621280504, -0.45920035794490854, -0.41469545703148214, -0.41715281812681493, -0.46841319156316774, -0.5673693266659608, -0.7100328564796753, -0.8897752195723954, -1.0977280657656623, -1.3233189588298764, -1.554910016419719, -1.7805009094839337, -1.9884537556772013], \"yaxis\": \"y3\"}, {\"mode\": \"lines\", \"type\": \"scatter\", \"x\": [0.0, 0.0392156862745098, 0.0784313725490196, 0.11764705882352941, 0.1568627450980392, 0.19607843137254902, 0.23529411764705882, 0.27450980392156865, 0.3137254901960784, 0.3529411764705882, 0.39215686274509803, 0.43137254901960786, 0.47058823529411764, 0.5098039215686274, 0.5490196078431373, 0.5882352941176471, 0.6274509803921569, 0.6666666666666666, 0.7058823529411764, 0.7450980392156863, 0.7843137254901961, 0.8235294117647058, 0.8627450980392157, 0.9019607843137255, 0.9411764705882353, 0.9803921568627451, 1.0196078431372548, 1.0588235294117647, 1.0980392156862746], \"xaxis\": \"x3\", \"y\": [-0.759132661553698, -1.29779781277986, -1.80516973209118, -2.2518454905432064, -2.612088579249214, -2.865383552228482, -2.9976752850607538, -3.002217990530032, -2.87998270551014, -2.6395986343870934, -2.2968318922350304, -1.8736331348520783, -1.3968116046380703, -0.8964156880684307, -0.40391780901665153, 0.04968669850846963, 0.4357518984742077, 0.7297116429005708, 0.9125635177379274, 0.9720167051210666, 0.9032344240855292, 0.709126101777316, 0.400171626224501, -0.00621170311967667, -0.48672128699579287, -1.01357684613019, -1.5561985203387252, -2.083054079473124, -2.563563663349242], \"yaxis\": \"y3\"}, {\"mode\": \"lines\", \"type\": \"scatter\", \"x\": [0.0, 0.0392156862745098, 0.0784313725490196, 0.11764705882352941, 0.1568627450980392, 0.19607843137254902, 0.23529411764705882, 0.27450980392156865, 0.3137254901960784, 0.3529411764705882, 0.39215686274509803, 0.43137254901960786, 0.47058823529411764, 0.5098039215686274, 0.5490196078431373, 0.5882352941176471, 0.6274509803921569, 0.6666666666666666, 0.7058823529411764, 0.7450980392156863, 0.7843137254901961, 0.8235294117647058, 0.8627450980392157, 0.9019607843137255, 0.9411764705882353, 0.9803921568627451, 1.0196078431372548, 1.0588235294117647, 1.0980392156862746], \"xaxis\": \"x3\", \"y\": [1.8761708392158862, 1.926256142284999, 1.9741255608429829, 2.017697063381966, 2.055148238858953, 2.085026381490428, 2.1063362430837604, 2.1186001521268483, 2.1218868680745895, 2.1168074278564504, 2.1044782355015363, 2.0864536244939877, 2.0646319665056905, 2.041140998114205, 2.0182092924748627, 1.998031639845642, 1.9826364688060658, 1.9737633167409308, 1.9727577511225012, 1.9804900889896415, 1.9973028244654274, 2.022989940013331, 2.0568093511588894, 2.0975277329394024, 2.1434950202894116, 2.1927440820821325, 2.2431095479039587, 2.29235860969668, 2.3383258970466887], \"yaxis\": \"y3\"}, {\"marker\": {\"color\": \"mediumpurple\"}, \"mode\": \"markers\", \"type\": \"scatter\", \"x\": [0.3745401188473625, 0.9507143064099162, 0.7319939418114051, 0.5986584841970366, 0.15601864044243652, 0.15599452033620265, 0.05808361216819946, 0.8661761457749352, 0.6011150117432088, 0.7080725777960455], \"xaxis\": \"x\", \"y\": [0.6621995859491285, -0.2504894367193866, -1.0399487832345553, -0.6275182299806012, 0.854857342681687, 0.6392487011533475, 0.18441089666331875, -0.8014323286500792, -0.6947217251134631, -0.9340757540684701], \"yaxis\": \"y\"}, {\"marker\": {\"color\": \"mediumpurple\"}, \"mode\": \"markers\", \"type\": \"scatter\", \"x\": [0.3745401188473625, 0.9507143064099162, 0.7319939418114051, 0.5986584841970366, 0.15601864044243652, 0.15599452033620265, 0.05808361216819946, 0.8661761457749352, 0.6011150117432088, 0.7080725777960455], \"xaxis\": \"x2\", \"y\": [0.6621995859491285, -0.2504894367193866, -1.0399487832345553, -0.6275182299806012, 0.854857342681687, 0.6392487011533475, 0.18441089666331875, -0.8014323286500792, -0.6947217251134631, -0.9340757540684701], \"yaxis\": \"y2\"}, {\"marker\": {\"color\": \"mediumpurple\"}, \"mode\": \"markers\", \"type\": \"scatter\", \"x\": [0.3745401188473625, 0.9507143064099162, 0.7319939418114051, 0.5986584841970366, 0.15601864044243652, 0.15599452033620265, 0.05808361216819946, 0.8661761457749352, 0.6011150117432088, 0.7080725777960455], \"xaxis\": \"x3\", \"y\": [0.6621995859491285, -0.2504894367193866, -1.0399487832345553, -0.6275182299806012, 0.854857342681687, 0.6392487011533475, 0.18441089666331875, -0.8014323286500792, -0.6947217251134631, -0.9340757540684701], \"yaxis\": \"y3\"}],\n",
              "                        {\"annotations\": [{\"font\": {\"size\": 16}, \"showarrow\": false, \"text\": \"f1\", \"x\": 0.14444444444444446, \"xanchor\": \"center\", \"xref\": \"paper\", \"y\": 1.0, \"yanchor\": \"bottom\", \"yref\": \"paper\"}, {\"font\": {\"size\": 16}, \"showarrow\": false, \"text\": \"f2\", \"x\": 0.5, \"xanchor\": \"center\", \"xref\": \"paper\", \"y\": 1.0, \"yanchor\": \"bottom\", \"yref\": \"paper\"}, {\"font\": {\"size\": 16}, \"showarrow\": false, \"text\": \"f3\", \"x\": 0.8555555555555556, \"xanchor\": \"center\", \"xref\": \"paper\", \"y\": 1.0, \"yanchor\": \"bottom\", \"yref\": \"paper\"}], \"showlegend\": false, \"template\": {\"data\": {\"bar\": [{\"error_x\": {\"color\": \"#2a3f5f\"}, \"error_y\": {\"color\": \"#2a3f5f\"}, \"marker\": {\"line\": {\"color\": \"#E5ECF6\", \"width\": 0.5}}, \"type\": \"bar\"}], \"barpolar\": [{\"marker\": {\"line\": {\"color\": \"#E5ECF6\", \"width\": 0.5}}, \"type\": \"barpolar\"}], \"carpet\": [{\"aaxis\": {\"endlinecolor\": \"#2a3f5f\", \"gridcolor\": \"white\", \"linecolor\": \"white\", \"minorgridcolor\": \"white\", \"startlinecolor\": \"#2a3f5f\"}, \"baxis\": {\"endlinecolor\": \"#2a3f5f\", \"gridcolor\": \"white\", \"linecolor\": \"white\", \"minorgridcolor\": \"white\", \"startlinecolor\": \"#2a3f5f\"}, \"type\": \"carpet\"}], \"choropleth\": [{\"colorbar\": {\"outlinewidth\": 0, \"ticks\": \"\"}, \"type\": \"choropleth\"}], \"contour\": [{\"colorbar\": {\"outlinewidth\": 0, \"ticks\": \"\"}, \"colorscale\": [[0.0, \"#0d0887\"], [0.1111111111111111, \"#46039f\"], [0.2222222222222222, \"#7201a8\"], [0.3333333333333333, \"#9c179e\"], [0.4444444444444444, \"#bd3786\"], [0.5555555555555556, \"#d8576b\"], [0.6666666666666666, \"#ed7953\"], [0.7777777777777778, \"#fb9f3a\"], [0.8888888888888888, \"#fdca26\"], [1.0, \"#f0f921\"]], \"type\": \"contour\"}], \"contourcarpet\": [{\"colorbar\": {\"outlinewidth\": 0, \"ticks\": \"\"}, \"type\": \"contourcarpet\"}], \"heatmap\": [{\"colorbar\": {\"outlinewidth\": 0, \"ticks\": \"\"}, \"colorscale\": [[0.0, \"#0d0887\"], [0.1111111111111111, \"#46039f\"], [0.2222222222222222, \"#7201a8\"], [0.3333333333333333, \"#9c179e\"], [0.4444444444444444, \"#bd3786\"], [0.5555555555555556, \"#d8576b\"], [0.6666666666666666, \"#ed7953\"], [0.7777777777777778, \"#fb9f3a\"], [0.8888888888888888, \"#fdca26\"], [1.0, \"#f0f921\"]], \"type\": \"heatmap\"}], \"heatmapgl\": [{\"colorbar\": {\"outlinewidth\": 0, \"ticks\": \"\"}, \"colorscale\": [[0.0, \"#0d0887\"], [0.1111111111111111, \"#46039f\"], [0.2222222222222222, \"#7201a8\"], [0.3333333333333333, \"#9c179e\"], [0.4444444444444444, \"#bd3786\"], [0.5555555555555556, \"#d8576b\"], [0.6666666666666666, \"#ed7953\"], [0.7777777777777778, \"#fb9f3a\"], [0.8888888888888888, \"#fdca26\"], [1.0, \"#f0f921\"]], \"type\": \"heatmapgl\"}], \"histogram\": [{\"marker\": {\"colorbar\": {\"outlinewidth\": 0, \"ticks\": \"\"}}, \"type\": \"histogram\"}], \"histogram2d\": [{\"colorbar\": {\"outlinewidth\": 0, \"ticks\": \"\"}, \"colorscale\": [[0.0, \"#0d0887\"], [0.1111111111111111, \"#46039f\"], [0.2222222222222222, \"#7201a8\"], [0.3333333333333333, \"#9c179e\"], [0.4444444444444444, \"#bd3786\"], [0.5555555555555556, \"#d8576b\"], [0.6666666666666666, \"#ed7953\"], [0.7777777777777778, \"#fb9f3a\"], [0.8888888888888888, \"#fdca26\"], [1.0, \"#f0f921\"]], \"type\": \"histogram2d\"}], \"histogram2dcontour\": [{\"colorbar\": {\"outlinewidth\": 0, \"ticks\": \"\"}, \"colorscale\": [[0.0, \"#0d0887\"], [0.1111111111111111, \"#46039f\"], [0.2222222222222222, \"#7201a8\"], [0.3333333333333333, \"#9c179e\"], [0.4444444444444444, \"#bd3786\"], [0.5555555555555556, \"#d8576b\"], [0.6666666666666666, \"#ed7953\"], [0.7777777777777778, \"#fb9f3a\"], [0.8888888888888888, \"#fdca26\"], [1.0, \"#f0f921\"]], \"type\": \"histogram2dcontour\"}], \"mesh3d\": [{\"colorbar\": {\"outlinewidth\": 0, \"ticks\": \"\"}, \"type\": \"mesh3d\"}], \"parcoords\": [{\"line\": {\"colorbar\": {\"outlinewidth\": 0, \"ticks\": \"\"}}, \"type\": \"parcoords\"}], \"pie\": [{\"automargin\": true, \"type\": \"pie\"}], \"scatter\": [{\"marker\": {\"colorbar\": {\"outlinewidth\": 0, \"ticks\": \"\"}}, \"type\": \"scatter\"}], \"scatter3d\": [{\"line\": {\"colorbar\": {\"outlinewidth\": 0, \"ticks\": \"\"}}, \"marker\": {\"colorbar\": {\"outlinewidth\": 0, \"ticks\": \"\"}}, \"type\": \"scatter3d\"}], \"scattercarpet\": [{\"marker\": {\"colorbar\": {\"outlinewidth\": 0, \"ticks\": \"\"}}, \"type\": \"scattercarpet\"}], \"scattergeo\": [{\"marker\": {\"colorbar\": {\"outlinewidth\": 0, \"ticks\": \"\"}}, \"type\": \"scattergeo\"}], \"scattergl\": [{\"marker\": {\"colorbar\": {\"outlinewidth\": 0, \"ticks\": \"\"}}, \"type\": \"scattergl\"}], \"scattermapbox\": [{\"marker\": {\"colorbar\": {\"outlinewidth\": 0, \"ticks\": \"\"}}, \"type\": \"scattermapbox\"}], \"scatterpolar\": [{\"marker\": {\"colorbar\": {\"outlinewidth\": 0, \"ticks\": \"\"}}, \"type\": \"scatterpolar\"}], \"scatterpolargl\": [{\"marker\": {\"colorbar\": {\"outlinewidth\": 0, \"ticks\": \"\"}}, \"type\": \"scatterpolargl\"}], \"scatterternary\": [{\"marker\": {\"colorbar\": {\"outlinewidth\": 0, \"ticks\": \"\"}}, \"type\": \"scatterternary\"}], \"surface\": [{\"colorbar\": {\"outlinewidth\": 0, \"ticks\": \"\"}, \"colorscale\": [[0.0, \"#0d0887\"], [0.1111111111111111, \"#46039f\"], [0.2222222222222222, \"#7201a8\"], [0.3333333333333333, \"#9c179e\"], [0.4444444444444444, \"#bd3786\"], [0.5555555555555556, \"#d8576b\"], [0.6666666666666666, \"#ed7953\"], [0.7777777777777778, \"#fb9f3a\"], [0.8888888888888888, \"#fdca26\"], [1.0, \"#f0f921\"]], \"type\": \"surface\"}], \"table\": [{\"cells\": {\"fill\": {\"color\": \"#EBF0F8\"}, \"line\": {\"color\": \"white\"}}, \"header\": {\"fill\": {\"color\": \"#C8D4E3\"}, \"line\": {\"color\": \"white\"}}, \"type\": \"table\"}]}, \"layout\": {\"annotationdefaults\": {\"arrowcolor\": \"#2a3f5f\", \"arrowhead\": 0, \"arrowwidth\": 1}, \"coloraxis\": {\"colorbar\": {\"outlinewidth\": 0, \"ticks\": \"\"}}, \"colorscale\": {\"diverging\": [[0, \"#8e0152\"], [0.1, \"#c51b7d\"], [0.2, \"#de77ae\"], [0.3, \"#f1b6da\"], [0.4, \"#fde0ef\"], [0.5, \"#f7f7f7\"], [0.6, \"#e6f5d0\"], [0.7, \"#b8e186\"], [0.8, \"#7fbc41\"], [0.9, \"#4d9221\"], [1, \"#276419\"]], \"sequential\": [[0.0, \"#0d0887\"], [0.1111111111111111, \"#46039f\"], [0.2222222222222222, \"#7201a8\"], [0.3333333333333333, \"#9c179e\"], [0.4444444444444444, \"#bd3786\"], [0.5555555555555556, \"#d8576b\"], [0.6666666666666666, \"#ed7953\"], [0.7777777777777778, \"#fb9f3a\"], [0.8888888888888888, \"#fdca26\"], [1.0, \"#f0f921\"]], \"sequentialminus\": [[0.0, \"#0d0887\"], [0.1111111111111111, \"#46039f\"], [0.2222222222222222, \"#7201a8\"], [0.3333333333333333, \"#9c179e\"], [0.4444444444444444, \"#bd3786\"], [0.5555555555555556, \"#d8576b\"], [0.6666666666666666, \"#ed7953\"], [0.7777777777777778, \"#fb9f3a\"], [0.8888888888888888, \"#fdca26\"], [1.0, \"#f0f921\"]]}, \"colorway\": [\"#636efa\", \"#EF553B\", \"#00cc96\", \"#ab63fa\", \"#FFA15A\", \"#19d3f3\", \"#FF6692\", \"#B6E880\", \"#FF97FF\", \"#FECB52\"], \"font\": {\"color\": \"#2a3f5f\"}, \"geo\": {\"bgcolor\": \"white\", \"lakecolor\": \"white\", \"landcolor\": \"#E5ECF6\", \"showlakes\": true, \"showland\": true, \"subunitcolor\": \"white\"}, \"hoverlabel\": {\"align\": \"left\"}, \"hovermode\": \"closest\", \"mapbox\": {\"style\": \"light\"}, \"paper_bgcolor\": \"white\", \"plot_bgcolor\": \"#E5ECF6\", \"polar\": {\"angularaxis\": {\"gridcolor\": \"white\", \"linecolor\": \"white\", \"ticks\": \"\"}, \"bgcolor\": \"#E5ECF6\", \"radialaxis\": {\"gridcolor\": \"white\", \"linecolor\": \"white\", \"ticks\": \"\"}}, \"scene\": {\"xaxis\": {\"backgroundcolor\": \"#E5ECF6\", \"gridcolor\": \"white\", \"gridwidth\": 2, \"linecolor\": \"white\", \"showbackground\": true, \"ticks\": \"\", \"zerolinecolor\": \"white\"}, \"yaxis\": {\"backgroundcolor\": \"#E5ECF6\", \"gridcolor\": \"white\", \"gridwidth\": 2, \"linecolor\": \"white\", \"showbackground\": true, \"ticks\": \"\", \"zerolinecolor\": \"white\"}, \"zaxis\": {\"backgroundcolor\": \"#E5ECF6\", \"gridcolor\": \"white\", \"gridwidth\": 2, \"linecolor\": \"white\", \"showbackground\": true, \"ticks\": \"\", \"zerolinecolor\": \"white\"}}, \"shapedefaults\": {\"line\": {\"color\": \"#2a3f5f\"}}, \"ternary\": {\"aaxis\": {\"gridcolor\": \"white\", \"linecolor\": \"white\", \"ticks\": \"\"}, \"baxis\": {\"gridcolor\": \"white\", \"linecolor\": \"white\", \"ticks\": \"\"}, \"bgcolor\": \"#E5ECF6\", \"caxis\": {\"gridcolor\": \"white\", \"linecolor\": \"white\", \"ticks\": \"\"}}, \"title\": {\"x\": 0.05}, \"xaxis\": {\"automargin\": true, \"gridcolor\": \"white\", \"linecolor\": \"white\", \"ticks\": \"\", \"title\": {\"standoff\": 15}, \"zerolinecolor\": \"white\", \"zerolinewidth\": 2}, \"yaxis\": {\"automargin\": true, \"gridcolor\": \"white\", \"linecolor\": \"white\", \"ticks\": \"\", \"title\": {\"standoff\": 15}, \"zerolinecolor\": \"white\", \"zerolinewidth\": 2}}}, \"xaxis\": {\"anchor\": \"y\", \"domain\": [0.0, 0.2888888888888889], \"range\": [0, 1], \"title\": {\"text\": \"x\"}}, \"xaxis2\": {\"anchor\": \"y2\", \"domain\": [0.35555555555555557, 0.6444444444444445], \"range\": [0, 1], \"title\": {\"text\": \"x\"}}, \"xaxis3\": {\"anchor\": \"y3\", \"domain\": [0.7111111111111111, 1.0], \"range\": [0, 1], \"title\": {\"text\": \"x\"}}, \"yaxis\": {\"anchor\": \"x\", \"domain\": [0.0, 1.0], \"range\": [-2, 2], \"title\": {\"text\": \"t\"}}, \"yaxis2\": {\"anchor\": \"x2\", \"domain\": [0.0, 1.0], \"range\": [-2, 2], \"title\": {\"text\": \"t\"}}, \"yaxis3\": {\"anchor\": \"x3\", \"domain\": [0.0, 1.0], \"range\": [-2, 2], \"title\": {\"text\": \"t\"}}},\n",
              "                        {\"responsive\": true}\n",
              "                    ).then(function(){\n",
              "                            \n",
              "var gd = document.getElementById('dfe9ccf0-9f01-4f77-820f-d4607f80cdd2');\n",
              "var x = new MutationObserver(function (mutations, observer) {{\n",
              "        var display = window.getComputedStyle(gd).display;\n",
              "        if (!display || display === 'none') {{\n",
              "            console.log([gd, 'removed!']);\n",
              "            Plotly.purge(gd);\n",
              "            observer.disconnect();\n",
              "        }}\n",
              "}});\n",
              "\n",
              "// Listen for the removal of the full notebook cells\n",
              "var notebookContainer = gd.closest('#notebook-container');\n",
              "if (notebookContainer) {{\n",
              "    x.observe(notebookContainer, {childList: true});\n",
              "}}\n",
              "\n",
              "// Listen for the clearing of the current output cell\n",
              "var outputEl = gd.closest('.output');\n",
              "if (outputEl) {{\n",
              "    x.observe(outputEl, {childList: true});\n",
              "}}\n",
              "\n",
              "                        })\n",
              "                };\n",
              "                \n",
              "            </script>\n",
              "        </div>\n",
              "</body>\n",
              "</html>"
            ]
          },
          "metadata": {
            "tags": []
          }
        }
      ]
    },
    {
      "cell_type": "markdown",
      "metadata": {
        "id": "CENyGHlSp_FX"
      },
      "source": [
        "###Loss landscapes\n",
        "\n",
        "Let's focus now on the simple $f(x) = ax + b$.\n",
        "Given our dataset $(\\mathbf{x}, \\mathbf{t})$ we will choose the parameters $a$ and $b$ that minimize an error $E$.\n",
        "\n",
        "The standard choice for $E$ in a regression problem is the Mean Squared Error, defined as:\n",
        "\n",
        "$$E(\\theta) = \\frac{1}{N} \\sum_{i=1}^N(f_\\theta(x_i) - t_i)^2$$\n",
        "\n",
        "Notice that apart from normalization factors, the MSE corresponds to the $L_2$ norm of the residual vector $|f_\\theta(x_i) - t_i|$.\n",
        "\n",
        "Let's visualize the MSE **loss landscape** for our dataset.\n",
        "\n",
        "\n",
        "\n"
      ]
    },
    {
      "cell_type": "code",
      "metadata": {
        "id": "OXuXlT5Sx-UE"
      },
      "source": [
        "resolution = 51\n",
        "\n",
        "mse_losses = np.empty((resolution, resolution))\n",
        "a_range = np.linspace(-5, 5, resolution)\n",
        "b_range = np.linspace(-5, 5, resolution)\n",
        "\n",
        "for i, a in enumerate(a_range):\n",
        "    for j, b in enumerate(b_range):\n",
        "        y_pred = a * x + b\n",
        "        residuals = t - y_pred\n",
        "        loss = np.einsum('i,i->', residuals, residuals)\n",
        "        mse_losses[i][j] = loss"
      ],
      "execution_count": 7,
      "outputs": []
    },
    {
      "cell_type": "markdown",
      "metadata": {
        "id": "VDZ63eJt6Uj5"
      },
      "source": [
        ">**EXERCISE** Vectorize the piece of code above. i.e. the two `for` cycles should disappear."
      ]
    },
    {
      "cell_type": "code",
      "metadata": {
        "id": "uAiwop63Qc1Q",
        "cellView": "both"
      },
      "source": [
        "# ✏️ your code here"
      ],
      "execution_count": 8,
      "outputs": []
    },
    {
      "cell_type": "code",
      "metadata": {
        "cellView": "form",
        "id": "AutBpNSt0nAI"
      },
      "source": [
        "# @title Solution\r\n",
        "\r\n",
        "a_times_x = np.einsum('i,j->ij', a_range, x)\r\n",
        "Y_pred = a_times_x[:, :, None] + b_range[None, None, :]\r\n",
        "residuals = t[None, :, None] - Y_pred\r\n",
        "mse_losses = np.einsum('ijk->ik', residuals ** 2)"
      ],
      "execution_count": 9,
      "outputs": []
    },
    {
      "cell_type": "code",
      "metadata": {
        "id": "6B6SVoGH3kvN",
        "cellView": "form",
        "colab": {
          "base_uri": "https://localhost:8080/",
          "height": 542
        },
        "outputId": "37198f10-c6ae-4ce4-80df-ed088fda7c1d"
      },
      "source": [
        "# @title MSE loss landscape plot \n",
        "fig = go.Figure(data=[go.Surface(z=mse_losses, x=a_range, y=b_range)])\n",
        "fig.update_traces(contours_z=dict(show=True, usecolormap=True,\n",
        "                                  highlightcolor=\"limegreen\", project_z=True))\n",
        "fig.update_layout(\n",
        "    title=\"MSE loss landscape\",\n",
        "    scene = dict(\n",
        "                xaxis_title='a',\n",
        "                yaxis_title='b',\n",
        "                zaxis_title='loss')\n",
        ")\n",
        "\n",
        "\n",
        "fig.show()"
      ],
      "execution_count": 10,
      "outputs": [
        {
          "output_type": "display_data",
          "data": {
            "text/html": [
              "<html>\n",
              "<head><meta charset=\"utf-8\" /></head>\n",
              "<body>\n",
              "    <div>\n",
              "            <script src=\"https://cdnjs.cloudflare.com/ajax/libs/mathjax/2.7.5/MathJax.js?config=TeX-AMS-MML_SVG\"></script><script type=\"text/javascript\">if (window.MathJax) {MathJax.Hub.Config({SVG: {font: \"STIX-Web\"}});}</script>\n",
              "                <script type=\"text/javascript\">window.PlotlyConfig = {MathJaxConfig: 'local'};</script>\n",
              "        <script src=\"https://cdn.plot.ly/plotly-latest.min.js\"></script>    \n",
              "            <div id=\"a98e8dea-ad6c-479c-a6b2-0e7240b68d9a\" class=\"plotly-graph-div\" style=\"height:525px; width:100%;\"></div>\n",
              "            <script type=\"text/javascript\">\n",
              "                \n",
              "                    window.PLOTLYENV=window.PLOTLYENV || {};\n",
              "                    \n",
              "                if (document.getElementById(\"a98e8dea-ad6c-479c-a6b2-0e7240b68d9a\")) {\n",
              "                    Plotly.newPlot(\n",
              "                        'a98e8dea-ad6c-479c-a6b2-0e7240b68d9a',\n",
              "                        [{\"contours\": {\"z\": {\"highlightcolor\": \"limegreen\", \"project\": {\"z\": true}, \"show\": true, \"usecolormap\": true}}, \"type\": \"surface\", \"x\": [-5.0, -4.8, -4.6, -4.4, -4.2, -4.0, -3.8, -3.5999999999999996, -3.4, -3.2, -3.0, -2.8, -2.5999999999999996, -2.4, -2.1999999999999997, -2.0, -1.7999999999999998, -1.5999999999999996, -1.4, -1.1999999999999997, -1.0, -0.7999999999999998, -0.5999999999999996, -0.39999999999999947, -0.1999999999999993, 0.0, 0.20000000000000018, 0.40000000000000036, 0.6000000000000005, 0.8000000000000007, 1.0, 1.2000000000000002, 1.4000000000000004, 1.6000000000000005, 1.8000000000000007, 2.0, 2.2, 2.4000000000000004, 2.6000000000000005, 2.8000000000000007, 3.0, 3.200000000000001, 3.4000000000000004, 3.5999999999999996, 3.8000000000000007, 4.0, 4.200000000000001, 4.4, 4.600000000000001, 4.800000000000001, 5.0], \"y\": [-5.0, -4.8, -4.6, -4.4, -4.2, -4.0, -3.8, -3.5999999999999996, -3.4, -3.2, -3.0, -2.8, -2.5999999999999996, -2.4, -2.1999999999999997, -2.0, -1.7999999999999998, -1.5999999999999996, -1.4, -1.1999999999999997, -1.0, -0.7999999999999998, -0.5999999999999996, -0.39999999999999947, -0.1999999999999993, 0.0, 0.20000000000000018, 0.40000000000000036, 0.6000000000000005, 0.8000000000000007, 1.0, 1.2000000000000002, 1.4000000000000004, 1.6000000000000005, 1.8000000000000007, 2.0, 2.2, 2.4000000000000004, 2.6000000000000005, 2.8000000000000007, 3.0, 3.200000000000001, 3.4000000000000004, 3.5999999999999996, 3.8000000000000007, 4.0, 4.200000000000001, 4.4, 4.600000000000001, 4.800000000000001, 5.0], \"z\": [[558.6610318169367, 529.4612849904108, 501.06153816388496, 473.46179133735916, 446.6620445108333, 420.66229768430736, 395.46255085778154, 371.0628040312556, 347.46305720472975, 324.66331037820396, 302.66356355167807, 281.4638167251521, 261.06406989862626, 241.46432307210046, 222.6645762455745, 204.6648294190487, 187.46508259252283, 171.0653357659969, 155.46558893947108, 140.6658421129452, 126.66609528641936, 113.46634845989348, 101.0666016333676, 89.46685480684172, 78.66710798031585, 68.66736115379003, 59.467614327264144, 51.067867500738274, 43.4681206742124, 36.66837384768653, 30.668627021160685, 25.46888019463481, 21.069133368108943, 17.46938654158307, 14.669639715057205, 12.669892888531347, 11.47014606200548, 11.070399235479613, 11.470652408953747, 12.670905582427885, 14.671158755902011, 17.471411929376163, 21.071665102850286, 25.471918276324402, 30.67217144979856, 36.672424623272676, 43.47267779674685, 51.07293097022095, 59.47318414369514, 68.67343731716923, 78.67369049064334], [542.2582703799138, 513.4746329421499, 485.49099550438626, 458.30735806662267, 431.9237206288589, 406.3400831910951, 381.5564457533314, 357.5728083155676, 334.3891708778039, 312.0055334400402, 290.42189600227647, 269.63825856451274, 249.65462112674896, 230.47098368898526, 212.08734625122153, 194.50370881345785, 177.7200713756941, 161.73643393793037, 146.55279650016666, 132.1691590624029, 118.58552162463921, 105.80188418687547, 93.8182467491117, 82.63460931134799, 72.25097187358425, 62.66733443582056, 53.88369699805681, 45.90005956029309, 38.71642212252935, 32.33278468476563, 26.749147247001922, 21.965509809238185, 17.98187237147446, 14.798234933710734, 12.414597495947008, 10.830960058183287, 10.047322620419559, 10.063685182655831, 10.880047744892108, 12.496410307128384, 14.912772869364648, 18.129135431600936, 22.145497993837203, 26.96186055607346, 32.578223118309765, 38.99458568054602, 46.21094824278234, 54.227310805018575, 63.043673367254904, 72.66003592949114, 83.07639849172737], [526.1437779081236, 497.77624985912195, 470.2087218101205, 443.4411937611189, 417.47366571211734, 392.30613766311575, 367.938609614114, 344.3710815651124, 321.60355351611094, 299.63602546710933, 278.46849741810775, 258.1009693691061, 238.53344132010454, 219.76591327110296, 201.79838522210136, 184.6308571730998, 168.26332912409822, 152.69580107509665, 137.92827302609504, 123.96074497709347, 110.79321692809191, 98.42568887909027, 86.85816083008869, 76.09063278108708, 66.1231047320855, 56.95557668308395, 48.58804863408234, 41.02052058508076, 34.25299253607916, 28.28546448707757, 23.117936438076008, 18.750408389074416, 15.182880340072828, 12.41535229107124, 10.447824242069656, 9.280296193068073, 8.912768144066488, 9.345240095064902, 10.577712046063317, 12.610183997061736, 15.442655948060137, 19.07512789905857, 23.507599850056973, 28.740071801055368, 34.772543752053814, 41.6050157030522, 49.23748765405065, 57.669959605049044, 66.9024315560475, 76.9349035070459, 87.76737545804428], [510.3175544015665, 482.366135741327, 455.21471708108743, 428.8632984208481, 403.31187976060863, 378.5604611003692, 354.60904244012966, 331.4576237798902, 309.10620511965084, 287.5547864594114, 266.80336779917195, 246.85194913893247, 227.700530478693, 209.3491118184536, 191.79769315821414, 175.0462744979747, 159.0948558377352, 143.94343717749578, 129.59201851725632, 116.04059985701687, 103.28918119677745, 91.337762536538, 80.18634387629852, 69.83492521605906, 60.28350655581962, 51.532087895580204, 43.58066923534074, 36.42925057510129, 30.07783191486184, 24.526413254622387, 19.774994594382957, 15.823575934143504, 12.672157273904055, 10.320738613664606, 8.769319953425159, 8.017901293185718, 8.066482632946268, 8.915063972706823, 10.563645312467376, 13.012226652227929, 16.26080799198847, 20.309389331749042, 25.157970671509585, 30.806552011270114, 37.2551333510307, 44.50371469079123, 52.55229603055182, 61.400877370312344, 71.04945871007297, 81.49804004983349, 92.746621389594], [494.77959986024194, 467.2442905887647, 440.50898131728735, 414.5736720458101, 389.43836277433275, 365.10305350285546, 341.56774423137813, 318.83243495990087, 296.8971256884235, 275.76181641694626, 255.42650714546892, 235.89119787399162, 217.15588860251427, 199.220579331037, 182.08527005955963, 165.7499607880824, 150.21465151660504, 135.47934224512773, 121.54403297365045, 108.40872370217312, 96.07341443069582, 84.5381051592185, 73.80279588774118, 63.867486616263875, 54.73217734478655, 46.396868073309285, 38.86155880183197, 32.12624953035465, 26.19094025887734, 21.055630987400033, 16.720321715922736, 13.185012444445427, 10.44970317296812, 8.514393901490811, 7.379084630013506, 7.043775358536201, 7.508466087058893, 8.773156815581586, 10.837847544104282, 13.702538272626978, 17.367229001149656, 21.831919729672375, 27.096610458195048, 33.16130118671772, 40.02599191524045, 47.69068264376312, 56.15537337228585, 65.42006410080852, 75.48475482933128, 86.34944555785393, 98.01413628637657], [479.52991428415044, 452.41071440143526, 426.09151451872003, 400.57231463600493, 375.8531147532898, 351.93391487057454, 328.8147149878594, 306.49551510514414, 284.9763152224291, 264.2571153397139, 244.3379154569987, 225.2187155742836, 206.89951569156835, 189.38031580885325, 172.66111592613802, 156.7419160434229, 141.62271616070774, 127.30351627799254, 113.78431639527736, 101.0651165125622, 89.14591662984705, 78.02671674713189, 67.70751686441669, 58.18831698170153, 49.469117098986345, 41.54991721627122, 34.43071733355604, 28.111517450840868, 22.592317568125694, 17.873117685410524, 13.95391780269537, 10.834717919980202, 8.515518037265034, 6.996318154549865, 6.2771182718347, 6.357918389119534, 7.238718506404367, 8.919518623689202, 11.400318740974036, 14.681118858258872, 18.76191897554369, 23.642719092828553, 29.323519210113364, 35.80431932739817, 43.08511944468305, 51.16591956196785, 60.046719679252725, 69.72751979653752, 80.20831991382242, 91.48912003110722, 103.56992014839201], [464.56849767329174, 437.8654071793386, 411.96231668538553, 386.85922619143264, 362.5561356974796, 339.0530452035265, 316.3499547095735, 294.44686421562045, 273.3437737216675, 253.04068322771445, 233.53759273376141, 214.83450223980836, 196.9314117458553, 179.82832125190237, 163.52523075794926, 148.02214026399628, 133.31904977004325, 119.4159592760902, 106.31286878213719, 94.00977828818415, 82.50668779423113, 71.8035973002781, 61.90050680632506, 52.79741631237203, 44.49432581841899, 36.99123532446598, 30.288144830512962, 24.38505433655993, 19.281963842606896, 14.978873348653867, 11.475782854700853, 8.772692360747826, 6.869601866794797, 5.766511372841769, 5.463420878888745, 5.960330384935717, 7.257239890982689, 9.354149397029664, 12.251058903076641, 15.947968409123618, 20.44487791517058, 25.741787421217584, 31.83869692726453, 38.73560643331148, 46.432515939358495, 54.92942544540543, 64.22633495145246, 74.32324445749938, 85.22015396354642, 96.91706346959336, 109.41397297564029], [449.89535002766576, 423.60836892247494, 398.1213878172841, 373.43440671209316, 349.5474256069023, 326.4604445017114, 304.1734633965205, 282.6864822913295, 261.9995011861388, 242.11252008094786, 223.02553897575692, 204.73855787056604, 187.25157676537515, 170.56459566018427, 154.67761455499334, 139.59063344980248, 125.30365234461162, 111.8166712394207, 99.12969013422983, 87.24270902903893, 76.15572792384805, 65.86874681865716, 56.38176571346627, 47.694784608275384, 39.807803503084486, 32.72082239789362, 26.43384129270273, 20.946860187511835, 16.259879082320946, 12.372897977130059, 9.285916871939184, 6.998935766748294, 5.511954661557407, 4.824973556366522, 4.937992451175637, 5.851011345984747, 7.56403024079386, 10.077049135602977, 13.390068030412092, 17.50308692522121, 22.416105820030307, 28.129124714839453, 34.64214360964854, 41.95516250445763, 50.068181399266784, 58.98120029407587, 68.69421918888503, 79.20723808369411, 90.52025697850328, 102.63327587331236, 115.54629476812143], [435.5104713472728, 409.63959963084403, 384.56872791441526, 360.2978561979866, 336.8269844815578, 314.1561127651291, 292.2852410487003, 271.21436933227153, 250.94349761584283, 231.47262589941408, 212.80175418298535, 194.93088246655657, 177.8600107501278, 161.5891390336991, 146.11826731727032, 131.4473956008416, 117.57652388441284, 104.50565216798408, 92.23478045155532, 80.76390873512658, 70.09303701869786, 60.22216530226909, 51.151293585840335, 42.88042186941159, 35.40955015298284, 28.73867843655411, 22.867806720125355, 17.796935003696603, 13.52606328726785, 10.055191570839103, 7.384319854410367, 5.513448137981618, 4.442576421552869, 4.171704705124122, 4.700832988695376, 6.0299612722666245, 8.15908955583788, 11.088217839409134, 14.81734612298039, 19.34647440655165, 24.675602690122883, 30.80473097369417, 37.7338592572654, 45.46298754083662, 53.99211582440793, 63.32124410797914, 73.45037239155046, 84.37950067512166, 96.10862895869299, 108.6377572422642, 121.9668855258354], [421.4138616321126, 395.959099304446, 371.3043369767794, 347.44957464911283, 324.39481232144624, 302.1400499937796, 280.685287666113, 260.03052533844635, 240.17576301077983, 221.1210006831132, 202.86623835544657, 185.41147602777994, 168.75671370011332, 152.90195137244672, 137.84718904478012, 123.59242671711351, 110.1376643894469, 97.48290206178028, 85.6281397341137, 74.57337740644708, 64.31861507878047, 54.86385275111386, 46.20909042344725, 38.35432809578063, 31.29956576811402, 25.04480344044744, 19.590041112780828, 14.935278785114214, 11.080516457447606, 8.025754129780996, 5.770991802114397, 4.316229474447787, 3.6614671467811797, 3.8067048191145725, 4.7519424914479655, 6.497180163781354, 9.042417836114748, 12.387655508448143, 16.53289318078154, 21.478130853114934, 27.223368525448308, 33.76860619778174, 41.113843870115105, 49.25908154244848, 58.20431921478192, 67.94955688711526, 78.49479455944874, 89.84003223178209, 101.98526990411554, 114.93050757644887, 128.67574524878225], [407.6055208821853, 382.56686794328084, 358.3282150043764, 334.889562065472, 312.2509091265675, 290.412256187663, 269.3736032487585, 249.13495030985402, 229.6962973709496, 211.05764443204515, 193.21899149314066, 176.1803385542362, 159.9416856153317, 144.50303267642724, 129.86437973752277, 116.02572679861832, 102.98707385971382, 90.74842092080935, 79.3097679819049, 68.67111504300043, 58.83246210409596, 49.79380916519149, 41.55515622628701, 34.11650328738253, 27.477850348478068, 21.63919740957362, 16.60054447066915, 12.361891531764673, 8.923238592860203, 6.284585653955735, 4.445932715051274, 3.407279776146804, 3.168626837242336, 3.72997389833787, 5.091320959433405, 7.25266802052893, 10.214015081624463, 13.975362142719998, 18.536709203815537, 23.898056264911073, 30.059403326006585, 37.020750387102154, 44.78209744819766, 53.343444509293164, 62.70479157038874, 72.86613863148423, 83.82748569257984, 95.58883275367533, 108.15017981477094, 121.51152687586641, 135.67287393696188], [394.0854490974908, 369.4629055473485, 345.6403619972062, 322.61781844706394, 300.39527489692165, 278.9727313467792, 258.3501877966369, 238.52764424649456, 219.5051006963522, 201.28255714620994, 183.86001359606755, 167.23747004592528, 151.41492649578288, 136.3923829456406, 122.16983939549824, 108.74729584535592, 96.1247522952136, 84.30220874507125, 73.27966519492892, 63.05712164478659, 53.63457809464428, 45.01203454450195, 37.189490994359616, 30.16694744421728, 23.944403894074952, 18.52186034393264, 13.899316793790309, 10.076773243647978, 7.054229693505647, 4.83168614336332, 3.409142593220998, 2.7865990430786702, 2.964055492936343, 3.9415119427940173, 5.718968392651692, 8.296424842509355, 11.67388129236703, 15.851337742224706, 20.828794192082384, 26.60625064194006, 33.183707091797714, 40.561163541655425, 48.73861999151306, 57.71607644137071, 67.49353289122843, 78.07098934108606, 89.4484457909438, 101.62590224080144, 114.60335869065918, 128.3808151405168, 142.95827159037444], [380.85364627802926, 356.647212116649, 333.24077795526875, 310.63434379388866, 288.82790963250847, 267.8214754711282, 247.6150413097481, 228.2086071483679, 209.6021729869877, 191.79573882560757, 174.78930466422733, 158.58287050284716, 143.1764363414669, 128.57000218008676, 114.76356801870655, 101.75713385732642, 89.55069969594621, 78.14426553456602, 67.53783137318582, 57.731397211805636, 48.72496305042545, 40.518528889045264, 33.112094727665074, 26.505660566284877, 20.699226404904685, 15.692792243524517, 11.486358082144323, 8.07992392076413, 5.473489759383943, 3.667055598003756, 2.6606214366235723, 2.4541872752433846, 3.0477531138631977, 4.441318952483012, 6.63488479110283, 9.628450629722632, 13.422016468342447, 18.015582306962262, 23.409148145582083, 29.602713984201902, 36.596279822821685, 44.38984566144155, 52.98341150006132, 62.3769773386811, 72.57054317730096, 83.56410901592075, 95.35767485454062, 107.95124069316039, 121.34480653178026, 135.53837237040005, 150.5319382090198], [367.91011242380046, 344.1197876511823, 321.12946287856437, 298.9391381059463, 277.54881333332827, 256.9584885607102, 237.1681637880922, 218.1778390154741, 199.9875142428561, 182.59718947023805, 166.00686469761996, 150.21653992500194, 135.22621515238384, 121.03589037976582, 107.64556560714774, 95.05524083452973, 83.26491606191166, 72.27459128929361, 62.08426651667557, 52.69394174405752, 44.103616971439486, 36.31329219882143, 29.322967426203377, 23.132642653585318, 17.74231788096727, 13.15199310834924, 9.361668335731187, 6.371343563113136, 4.181018790495089, 2.790694017877041, 2.200369245258996, 2.410044472640947, 3.419719700022901, 5.229394927404855, 7.839070154786812, 11.248745382168753, 15.458420609550707, 20.46809583693266, 26.27777106431462, 32.887446291696584, 40.29712151907851, 48.5067967464605, 57.51647197384242, 67.32614720122434, 77.93582242860636, 89.34549765598825, 101.55517288337026, 114.56484811075218, 128.37452333813422, 142.98419856551612, 158.393873792898], [355.2548475348046, 331.8806321509486, 309.3064167670927, 287.53220138323684, 266.5579859993809, 246.383770615525, 227.00955523166908, 208.43533984781314, 190.66112446395724, 173.68690908010134, 157.51269369624544, 142.1384783123895, 127.56426292853362, 113.7900475446777, 100.81583216082178, 88.6416167769659, 77.26740139310998, 66.69318600925406, 56.91897062539817, 47.94475524154225, 39.77053985768636, 32.39632447383043, 25.82210908997452, 20.047893706118614, 15.073678322262703, 10.89946293840681, 7.5252475545509, 4.951032170694989, 3.1768167868390806, 2.202601402983174, 2.028386019127267, 2.6541706352713597, 4.079955251415454, 6.3057398675595495, 9.331524483703646, 13.157309099847724, 17.78309371599182, 23.20887833213592, 29.434662948280014, 36.460447564424115, 44.286232180568184, 52.91201679671232, 62.337801412856386, 72.56358602900043, 83.5893706451446, 95.41515526128863, 108.04093987743279, 121.46672449357686, 135.69250910972102, 150.71829372586504, 166.5440783420091], [342.88785161104147, 319.92974561594764, 297.7716396208539, 276.4135336257602, 255.85542763066644, 236.0973216355726, 217.13921564047882, 198.98110964538506, 181.62300365029128, 165.06489765519757, 149.30679166010376, 134.34868566500998, 120.19057966991622, 106.83247367482245, 94.2743676797287, 82.51626168463494, 71.55815568954115, 61.40004969444736, 52.041943699353624, 43.48383770425984, 35.725731709166084, 28.767625714072302, 22.609519718978532, 17.251413723884756, 12.693307728790987, 8.935201733697234, 5.977095738603462, 3.8189897435096927, 2.460883748415924, 1.9027777533221564, 2.1446717582283883, 3.1865657631346203, 5.028459768040853, 7.670353772947088, 11.112247777853325, 15.354141782759543, 20.396035787665777, 26.237929792572015, 32.87982379747825, 40.32171780238449, 48.5636118072907, 57.605505812196974, 67.44739981710316, 78.08929382200935, 89.53118782691567, 101.77308183182186, 114.81497583672814, 128.65686984163435, 143.29876384654065, 158.74065785144685, 174.982551856353], [330.80912465251123, 308.26712804617955, 286.52513143984794, 265.5831348335164, 245.44113822718475, 226.0991416208531, 207.55714501452144, 189.8151484081898, 172.8731518018582, 156.73115519552658, 141.38915858919495, 126.8471619828633, 113.10516537653166, 100.16316877020004, 88.02117216386839, 76.67917555753681, 66.13717895120516, 56.39518234487351, 47.4531857385419, 39.31118913221027, 31.969192525878643, 25.427195919547014, 19.68519931321538, 14.74320270688375, 10.601206100552119, 7.259209494220503, 4.717212887888872, 2.9752162815572425, 2.0332196752256135, 1.891223068893987, 2.5492264625623573, 4.00722985623073, 6.2652332498991035, 9.32323664356748, 13.181240037235858, 17.83924343090421, 23.29724682457259, 29.555250218240968, 36.61325361190934, 44.47125700557772, 53.12926039924608, 62.587263792914484, 72.84526718658282, 83.90327058025116, 95.7612739739196, 108.41927736758792, 121.87728076125637, 136.13528415492468, 151.19328754859316, 167.0512909422615, 183.7092943359298], [319.0186666592138, 296.8927794416444, 275.5668922240748, 255.04100500650546, 235.31511778893594, 216.3892305713664, 198.26334335379687, 180.93745613622738, 164.41156891865793, 148.68568170108844, 133.75979448351896, 119.63390726594947, 106.30802004837996, 93.78213283081048, 82.05624561324096, 71.13035839567151, 61.004471178102015, 51.67858396053251, 43.15269674296303, 35.42680952539354, 28.500922307824062, 22.375035090254567, 17.049147872685076, 12.523260655115585, 8.797373437546097, 5.871486219976619, 3.7455990024071286, 2.41971178483764, 1.8938245672681524, 2.1679373496986667, 3.2420501321291755, 5.116162914559689, 7.7902756969902045, 11.26438847942072, 15.538501261851234, 20.61261404428173, 26.48672682671225, 33.16083960914277, 40.634952391573286, 48.909065174003814, 57.98317795643428, 67.85729073886485, 78.53140352129533, 90.00551630372581, 102.27962908615638, 115.35374186858684, 129.22785465101742, 143.9019674334479, 159.3760802158785, 175.65019299830897, 192.7243057807394], [307.5164776311493, 285.80669980234194, 264.8969219735346, 244.78714414472728, 225.47736631591994, 206.9675884871126, 189.2578106583052, 172.34803282949784, 156.23825500069051, 140.9284771718832, 126.41869934307584, 112.70892151426847, 99.7991436854611, 87.6893658566538, 76.37958802784642, 65.8698101990391, 56.16003237023172, 47.25025454142436, 39.14047671261704, 31.830698883809678, 25.32092105500233, 19.611143226194983, 14.70136539738763, 10.591587568580275, 7.281809739772927, 4.772031910965587, 3.0622540821582374, 2.1524762533508874, 2.04269842454354, 2.7329205957361937, 4.223142766928841, 6.5133649381214935, 9.603587109314148, 13.493809280506804, 18.18403145169946, 23.674253622892092, 29.964475794084752, 37.054697965277406, 44.94492013647007, 53.63514230766272, 63.125364478855346, 73.41558665004806, 84.50580882124066, 96.39603099243327, 109.086253163626, 122.57647533481858, 136.86669750601135, 151.95691967720393, 167.8471418483967, 184.53736401958926, 202.02758619078185], [296.3025575683177, 275.0088891282724, 254.51522068822715, 234.821552248182, 215.92788380813678, 197.83421536809158, 180.54054692804638, 164.04687848800114, 148.35321004795594, 133.45954160791078, 119.36587316786557, 106.07220472782035, 93.57853628777511, 81.88486784772992, 70.99119940768469, 60.8975309676395, 51.60386252759428, 43.110194087549054, 35.41652564750387, 28.522857207458646, 22.429188767413446, 17.135520327368233, 12.641851887323021, 8.94818344727781, 6.054515007232602, 3.9608465671874016, 2.667178127142192, 2.173509687096983, 2.4798412470517763, 3.5861728070065704, 5.492504366961358, 8.19883592691615, 11.705167486870947, 16.01149904682574, 21.11783060678054, 27.024162166735312, 33.730493726690106, 41.2368252866449, 49.54315684659971, 58.6494884065545, 68.55581996650926, 79.26215152646411, 90.76848308641885, 103.07481464637361, 116.18114620632846, 130.0874777662832, 144.7938093262381, 160.30014088619285, 176.6064724461477, 193.71280400610243, 211.61913556605717], [285.37690647071884, 264.4993474194357, 244.4217883681526, 225.1442293168696, 206.66667026558656, 188.98911121430345, 172.1115521630204, 156.0339931117373, 140.75643406045424, 126.2788750091712, 112.60131595788812, 99.72375690660505, 87.64619785532197, 76.3686388040389, 65.89107975275581, 56.21352070147277, 47.33596165018969, 39.25840259890661, 31.980843547623557, 25.503284496340477, 19.825725445057422, 14.948166393774343, 10.870607342491267, 7.5930482912081985, 5.11548923992513, 3.437930188642066, 2.5603711373589957, 2.4828120860759273, 3.20525303479286, 4.727693983509795, 7.050134932226717, 10.17257588094365, 14.095016829660587, 18.817457778377523, 24.339898727094457, 30.662339675811367, 37.7847806245283, 45.70722157324525, 54.429662521962186, 63.95210347067912, 74.27454441939601, 85.39698536811301, 97.31942631682989, 110.04186726554678, 123.5643082142638, 137.8867491629807, 153.00919011169768, 168.9316310604146, 185.65407200913157, 203.17651295784847, 221.4989539065653], [274.73952433835285, 254.27807467583185, 234.61662501331088, 215.75517535079004, 197.69372568826915, 180.43227602574817, 163.97082636322725, 148.30937670070628, 133.44792703818538, 119.38647737566446, 106.12502771314354, 93.66357805062259, 82.00212838810165, 71.14067872558074, 61.0792290630598, 51.817779400538875, 43.35632973801793, 35.694880075497004, 28.83343041297608, 22.771980750455153, 17.51053108793423, 13.049081425413295, 9.387631762892362, 6.5261821003714315, 4.464732437850502, 3.203282775329579, 2.741833112808649, 3.080383450287721, 4.218933787766794, 6.157484125245869, 8.896034462724932, 12.434584800204005, 16.773135137683077, 21.91168547516216, 27.85023581264123, 34.58878615012028, 42.12733648759936, 50.46588682507844, 59.604437162557524, 69.5429875000366, 80.28153783751563, 91.82008817499477, 104.15863851247379, 117.29718884995283, 131.23573918743196, 145.97428952491097, 161.51283986239014, 177.85139019986912, 194.98994053734836, 212.92849087482733, 231.66704121230637], [264.3904111712197, 244.34507089746083, 225.09973062370204, 206.65439034994336, 189.0090500761845, 172.16370980242576, 156.1183695286669, 140.87302925490812, 126.42768898114934, 112.7823487073906, 99.93700843363179, 87.89166815987299, 76.64632788611418, 66.2009876123554, 56.555647338596614, 47.71030706483785, 39.66496679107904, 32.41962651732024, 25.974286243561462, 20.328945969802664, 15.483605696043886, 11.438265422285092, 8.192925148526303, 5.747584874767515, 4.102244601008725, 3.2569043272499405, 3.2115640534911507, 3.966223779732363, 5.520883505973577, 7.875543232214792, 11.030202958455995, 14.984862684697205, 19.739522410938424, 25.29418213717964, 31.648841863420856, 38.80350158966205, 46.758161315903266, 55.51282104214448, 65.0674807683857, 75.42214049462692, 86.57680022086808, 98.53145994710937, 111.28611967335051, 124.84077939959171, 139.19543912583296, 154.35009885207415, 170.30475857831541, 187.0594183045566, 204.6140780307979, 222.9687377570391, 242.1233974832802], [254.32956696931942, 234.70033608432271, 215.87110519932602, 197.84187431432946, 180.6126434293328, 164.18341254433614, 148.5541816593395, 133.7249507743428, 119.69571988934618, 106.46648900434955, 94.03725811935288, 82.40802723435623, 71.57879634935956, 61.549565464362935, 52.32033457936629, 43.89110369436965, 36.26187280937298, 29.432641924376327, 23.40341103937969, 18.174180154383038, 13.744949269386398, 10.115718384389746, 7.286487499393093, 5.257256614396445, 4.028025729399797, 3.5987948444031503, 3.9695639594065026, 5.140333074409854, 7.111102189413209, 9.881871304416565, 13.452640419419906, 17.823409534423263, 22.99417864942662, 28.964947764429976, 35.73571687943333, 43.306485994436656, 51.67725510944002, 60.848024224443385, 70.81879333944674, 81.5895624544501, 93.1603315694534, 105.53110068445685, 118.70186979946014, 132.67263891446345, 147.44340802946687, 163.01417714447015, 179.3849462594736, 196.55571537447688, 214.52648448948034, 233.29725360448361, 252.86802271948696], [244.5569917326519, 225.34387023641742, 206.9307487401829, 189.31762724394844, 172.5045057477139, 156.49138425147936, 141.27826275524484, 126.86514125901036, 113.25201976277587, 100.43889826654136, 88.42577677030685, 77.21265527407232, 66.79953377783781, 57.18641228160331, 48.373290785368795, 40.3601692891343, 33.147047792899784, 26.73392629666527, 21.12080480043077, 16.307683304196257, 12.294561807961752, 9.081440311727244, 6.668318815492733, 5.055197319258224, 4.242075823023717, 4.22895432678921, 5.015832830554702, 6.602711334320196, 8.98958983808569, 12.176468341851187, 16.163346845616665, 20.95022534938216, 26.537103853147663, 32.92398235691316, 40.110860860678656, 48.09773936444413, 56.884617868209624, 66.47149637197512, 76.85837487574062, 88.04525337950612, 100.03213188327157, 112.81901038703712, 126.4058888908026, 140.79276739456802, 155.97964589833362, 171.96652440209903, 188.75340290586462, 206.34028140963002, 224.72715991339564, 243.91403841716107, 263.9009169209265], [235.07268546121736, 216.27567335374496, 198.27866124627258, 181.08164913880026, 164.6846370313279, 149.08762492385551, 134.29061281638315, 120.29360070891074, 107.09658860143841, 94.69957649396606, 83.10256438649367, 72.3055522790213, 62.30854017154891, 53.11152806407655, 44.71451595660418, 37.11750384913182, 30.320491741659445, 24.323479634187066, 19.126467526714706, 14.729455419242333, 11.132443311769967, 8.335431204297594, 6.338419096825223, 5.141406989352852, 4.744394881880485, 5.147382774408113, 6.350370666935746, 8.353358559463377, 11.156346451991013, 14.759334344518644, 19.16232223704626, 24.365310129573892, 30.368298022101527, 37.171285914629166, 44.7742738071568, 53.17726169968441, 62.38024959221205, 72.38323748473967, 83.18622537726733, 94.78921326979497, 107.19220116232255, 120.39518905485025, 134.39817694737786, 149.2011648399054, 164.80415273243312, 181.2071406249607, 198.41012851748843, 216.413116410016, 235.21610430254373, 254.81909219507128, 275.22208008759884], [225.87664815501563, 207.49574543630536, 189.91484271759515, 173.13393999888496, 157.15303728017471, 141.9721345614645, 127.59123184275421, 114.01032912404399, 101.22942640533377, 89.24852368662357, 78.06762096791333, 67.68671824920308, 58.105815530492855, 49.32491281178263, 41.34401009307239, 34.16310737436217, 27.782204655651935, 22.2013019369417, 17.42039921823148, 13.43949649952125, 10.25859378081102, 7.877691062100789, 6.296788343390559, 5.515885624680329, 5.5349829059701, 6.3540801872598704, 7.9731774685496415, 10.392274749839414, 13.61137203112919, 17.630469312418967, 22.449566593708717, 28.068663874998492, 34.48776115628826, 41.70685843757805, 49.72595571886783, 58.545053000157566, 68.16415028144735, 78.58324756273713, 89.8023448440269, 101.82144212531668, 114.64053940660642, 128.2596366878963, 142.678733969186, 157.89783125047566, 173.91692853176556, 190.73602581305528, 208.3551230943451, 226.77422037563483, 245.99331765692472, 266.0124149382144, 286.83151221950413], [216.96887981404672, 199.00408648409862, 181.8392931541505, 165.4744998242025, 149.90970649425438, 135.1449131643063, 121.18011983435815, 108.01532650441008, 95.65053317446201, 84.08573984451392, 73.32094651456582, 63.35615318461773, 54.19135985466962, 45.82656652472156, 38.26177319477346, 31.496979864825374, 25.53218653487728, 20.36739320492919, 16.0025998749811, 12.437806545033009, 9.673013215084925, 7.708219885136834, 6.543426555188743, 6.178633225240656, 6.6138398952925685, 7.8490465653444765, 9.884253235396386, 12.719459905448304, 16.354666575500218, 20.789873245552137, 26.025079915604024, 32.060286585655945, 38.895493255707855, 46.530699925759784, 54.965906595811695, 64.20111326586357, 74.23631993591549, 85.07152660596742, 96.70673327601934, 109.14193994607126, 122.37714661612311, 136.41235328617512, 151.24755995622695, 166.88276662627882, 183.31797329633085, 200.55317996638266, 218.58838663643468, 237.4235933064865, 257.0587999765385, 277.4940066465904, 298.72921331664224], [208.3493804383107, 190.80069649712473, 174.05201255593877, 158.10332861475288, 142.9546446735669, 128.60596073238094, 115.05727679119497, 102.308592850009, 90.35990890882306, 79.21122496763715, 68.86254102645118, 59.31385708526523, 50.56517314407927, 42.61648920289333, 35.46780526170737, 29.11912132052143, 23.570437379335473, 18.82175343814952, 14.873069496963577, 11.724385555777625, 9.375701614591678, 7.827017673405729, 7.078333732219778, 7.12964979103383, 7.980965849847884, 9.63228190866193, 12.083597967475981, 15.334914026290036, 19.386230085104092, 24.237546143918152, 29.88886220273218, 36.340178261546235, 43.5914943203603, 51.64281037917435, 60.49412643798841, 70.14544249680243, 80.5967585556165, 91.84807461443054, 103.89939067324462, 116.75070673205869, 130.40202279087268, 144.85333884968682, 160.1046549085008, 176.1559709673148, 193.00728702612892, 210.65860308494288, 229.10991914375708, 248.36123520257107, 268.4125512613852, 289.26386732019915, 310.9151833790132], [200.01815002780748, 182.88557547538363, 166.5530009229598, 151.02042637053606, 136.28785181811222, 122.35527726568841, 109.22270271326461, 96.89012816084079, 85.35755360841699, 74.6249790559932, 64.69240450356938, 55.55982995114555, 47.227255398721745, 39.69468084629794, 32.96210629387413, 27.029531741450327, 21.89695718902651, 17.5643826366027, 14.031808084178897, 11.299233531755087, 9.36665897933128, 8.234084426907469, 7.901509874483663, 8.368935322059857, 9.636360769636049, 11.703786217212233, 14.571211664788429, 18.238637112364625, 22.70606255994082, 27.973488007517016, 34.04091345509319, 40.908338902669385, 48.575764350245585, 57.04318979782178, 66.31061524539798, 76.37804069297415, 87.24546614055033, 98.91289158812654, 111.38031703570275, 124.64774248327893, 138.71516793085507, 153.58259337843137, 169.25001882600748, 185.71744427358365, 202.9848697211599, 221.05229516873604, 239.9197206163123, 259.58714606388844, 280.0545715114648, 301.3219969590409, 323.38942240661703], [191.97518858253716, 175.25872341887546, 159.34225825521378, 144.22579309155216, 129.9093279278905, 116.39286276422881, 103.67639760056711, 91.75993243690544, 80.64346727324379, 70.32700210958212, 60.81053694592044, 52.09407178225877, 44.17760661859709, 37.06114145493544, 30.744676291273752, 25.228211127612084, 20.51174596395041, 16.59528080028874, 13.478815636627075, 11.162350472965402, 9.645885309303731, 8.92942014564206, 9.012954981980391, 9.89648981831872, 11.580024654657052, 14.063559490995374, 17.347094327333707, 21.43062916367204, 26.314164000010376, 31.99769883634871, 38.48123367268702, 45.764768509025345, 53.84830334536368, 62.731838181702024, 72.41537301804038, 82.89890785437866, 94.18244269071698, 106.26597752705534, 119.14951236339367, 132.83304719973202, 147.31658203607032, 162.6001168724087, 178.683651708747, 195.56718654508524, 213.25072138142366, 231.7342562177619, 251.01779105410037, 271.10132589043866, 291.984860726777, 313.6683955631154, 336.1519303994536], [184.22049610249965, 167.9201403276001, 152.41978455270058, 137.71942877780106, 123.81907300290155, 110.718717228002, 98.41836145310246, 86.91800567820293, 76.21764990330341, 66.31729412840387, 57.21693835350435, 48.91658257860481, 41.416226803705264, 34.71587102880574, 28.815515253906213, 23.715159479006687, 19.41480370410715, 15.91444792920762, 13.21409215430809, 11.31373637940856, 10.21338060450903, 9.913024829609501, 10.41266905470997, 11.712313279810441, 13.811957504910914, 16.711601730011377, 20.41124595511185, 24.91089018021232, 30.210534405312796, 36.310178630413276, 43.209822855513714, 50.90946708061419, 59.40911130571467, 68.70875553081514, 78.80839975591563, 89.70804398101606, 101.40768820611652, 113.90733243121701, 127.2069766563175, 141.30662088141798, 156.2062651065184, 171.90590933161897, 188.40555355671938, 205.7051977818198, 223.80484200692032, 242.70448623202077, 262.40413045712137, 282.9037746822217, 304.20341890732226, 326.3030631324227, 349.2027073575231], [176.754072587695, 160.86982620155757, 145.7855798154202, 131.50133342928285, 118.01708704314545, 105.33284065700805, 93.44859427087064, 82.36434788473323, 72.08010149859588, 62.595855112458494, 53.911608726321084, 46.02736234018369, 38.94311595404629, 32.658869567908916, 27.174623181771516, 22.49037679563413, 18.60613040949674, 15.521884023359345, 13.237637637221958, 11.753391251084565, 11.069144864947178, 11.184898478809789, 12.100652092672401, 13.816405706535011, 16.332159320397626, 19.647912934260226, 23.763666548122842, 28.679420161985455, 34.39517377584807, 40.910927389710686, 48.226681003573276, 56.3424346174359, 65.2581882312985, 74.97394184516112, 85.48969545902375, 96.8054490728863, 108.92120268674894, 121.83695630061156, 135.5527099144742, 150.06846352833682, 165.38421714219936, 181.49997075606203, 198.4157243699246, 216.13147798378714, 234.64723159764984, 253.96298521151238, 274.0787388253751, 294.99449243923766, 316.7102460531004, 339.22599966696293, 362.54175328082545], [169.57591803812315, 154.1077810407479, 139.43964404337262, 125.57150704599744, 112.5033700486222, 100.23523305124691, 88.76709605387167, 78.09895905649643, 68.23082205912117, 59.16268506174595, 50.89454806437069, 43.426411066995435, 36.75827406962017, 30.890137072244933, 25.822000074869674, 21.553863077494423, 18.085726080119176, 15.417589082743921, 13.549452085368674, 12.481315087993423, 12.213178090618177, 12.745041093242925, 14.076904095867679, 16.20876709849243, 19.140630101117186, 22.872493103741924, 27.404356106366677, 32.736219108991435, 38.86808211161619, 45.79994511424095, 53.531808116865676, 62.06367111949044, 71.3955341221152, 81.52739712473995, 92.45926012736471, 104.19112312998942, 116.72298613261418, 130.05484913523895, 144.1867121378637, 159.11857514048847, 174.8504381431132, 191.382301145738, 208.71416414836267, 226.84602715098737, 245.77789015361225, 265.5097531562369, 286.04161615886176, 307.3734791614865, 329.5053421641113, 352.437205166736, 376.1690681693606], [162.6860324537842, 147.6340048451711, 133.38197723655796, 119.92994962794488, 107.27792201933181, 95.42589441071866, 84.37386680210557, 74.12183919349243, 64.66981158487934, 56.01778397626625, 48.165756367653124, 41.11372875904001, 34.8617011504269, 29.40967354181379, 24.757645933200678, 20.905618324587575, 17.853590715974462, 15.60156310736135, 14.149535498748243, 13.497507890135132, 13.645480281522023, 14.593452672908914, 16.341425064295805, 18.8893974556827, 22.237369847069594, 26.385342238456474, 31.333314629843365, 37.08128702123027, 43.629259412617166, 50.977231804004056, 59.12520419539092, 68.07317658677783, 77.82114897816471, 88.3691213695516, 99.71709376093852, 111.86506615232537, 124.81303854371227, 138.56101093509918, 153.10898332648605, 168.45695571787297, 184.60492810925984, 201.55290050064679, 219.30087289203362, 237.84884528342047, 257.19681767480745, 277.34479006619426, 298.29276245758126, 320.0407348489681, 342.5887072403551, 365.936679631742, 390.08465202312874], [156.0844158346781, 141.44849761482718, 127.61257939497618, 114.57666117512522, 102.34074295527427, 90.90482473542326, 80.26890651557231, 70.43298829572133, 61.397070075870374, 53.1611518560194, 45.72523363616842, 39.089315416317454, 33.25339719646647, 28.21747897661551, 23.981560756764537, 20.54564253691357, 17.909724317062594, 16.073806097211623, 15.037887877360655, 14.80196965750968, 15.366051437658708, 16.73013321780774, 18.894214997956773, 21.858296778105803, 25.62237855825484, 30.186460338403855, 35.55054211855288, 41.71462389870192, 48.678705678850946, 56.442787458999994, 65.006869239149, 74.37095101929802, 84.53503279944708, 95.49911457959611, 107.26319635974515, 119.82727813989412, 133.19135992004317, 147.35544170019222, 162.31952348034125, 178.08360526049032, 194.64768704063925, 212.01176882078838, 230.17585060093734, 249.13993238108634, 268.9040141612354, 289.4680959413844, 310.8321777215335, 332.9962595016825, 355.96034128183163, 379.7244230619806, 404.28850484212944], [149.7710681808049, 135.55125934971602, 122.13145051862718, 109.5116416875384, 97.69183285644957, 86.67202402536073, 76.45221519427187, 67.03240636318304, 58.41259753209424, 50.59278870100541, 43.572979869916566, 37.35317103882774, 31.933362207738902, 27.313553376650077, 23.493744545561242, 20.47393571447241, 18.254126883383577, 16.834318052294744, 16.214509221205915, 16.394700390117084, 17.374891559028253, 19.155082727939423, 21.735273896850597, 25.115465065761768, 29.295656234672943, 34.2758474035841, 40.056038572495275, 46.636229741406446, 54.01642091031762, 62.1966120792288, 71.17680324813995, 80.9569944170511, 91.53718558596229, 102.91737675487347, 115.09756792378467, 128.0777590926958, 141.85795026160696, 156.43814143051816, 171.8183325994293, 187.9985237683405, 204.97871493725162, 222.7589061061629, 241.339097275074, 260.7192884439851, 280.89947961289636, 301.8796707818075, 323.6598619507188, 346.2400531196299, 369.6202442885412, 393.80043545745224, 418.78062662636336], [143.74598949216445, 129.9422900498378, 116.93859060751107, 104.73489116518442, 93.33119172285772, 82.72749228053102, 72.92379283820432, 63.920093395877615, 55.71639395355094, 48.31269451122426, 41.70899506889756, 35.90529562657086, 30.901596184244166, 26.697896741917486, 23.29419729959079, 20.690497857264102, 18.886798414937406, 17.883098972610718, 17.679399530284027, 18.27570008795734, 19.672000645630646, 21.86830120330396, 24.864601760977273, 28.660902318650585, 33.25720287632391, 38.653503433997194, 44.84980399167051, 51.84610454934383, 59.64240510701714, 68.23870566469046, 77.63500622236374, 87.83130678003704, 98.82760733771036, 110.6239078953837, 123.22020845305701, 136.61650901073028, 150.8128095684036, 165.8091101260769, 181.60541068375025, 198.20171124142357, 215.5980117990968, 233.79431235677018, 252.79061291444347, 272.5869134721167, 293.1832140297901, 314.57951458746334, 336.77581514513673, 359.77211570280997, 383.56841626048345, 408.16471681815665, 433.5610173758299], [138.00917976875687, 124.62158971519233, 112.03399966162776, 100.24640960806327, 89.2588195544987, 79.07122950093415, 69.6836394473696, 61.096049393805046, 53.308459340240496, 46.32086928667596, 40.1332792331114, 34.74568917954685, 30.158099125982297, 26.37050907241775, 23.38291901885319, 21.19532896528865, 19.80773891172409, 19.220148858159543, 19.43255880459499, 20.44496875103044, 22.257378697465885, 24.86978864390134, 28.28219859033679, 32.49460853677225, 37.5070184832077, 43.31942842964313, 49.931838376078595, 57.34424832251405, 65.5566582689495, 74.56906821538497, 84.38147816182037, 94.99388810825583, 106.40629805469129, 118.61870800112676, 131.6311179475622, 145.4435278939976, 160.05593784043307, 175.46834778686855, 191.680757733304, 208.69316767973947, 226.50557762617484, 245.1179875726104, 264.5303975190458, 284.74280746548123, 305.75521741191676, 327.56762735835207, 350.1800373047876, 373.592447251223, 397.8048571976586, 422.817267144094, 448.6296770905293], [132.5606390105822, 119.58915834577975, 107.41767768097735, 96.04619701617499, 85.47471635137256, 75.70323568657012, 66.73175502176773, 58.56027435696531, 51.18879369216291, 44.6173130273605, 38.845832362558085, 33.87435169775568, 29.70287103295326, 26.331390368150853, 23.75990970334845, 21.98842903854603, 21.01694837374362, 20.845467708941214, 21.473987044138802, 22.902506379336394, 25.131025714533983, 28.159545049731566, 31.988064384929167, 36.616583720126755, 42.045103055324354, 48.273622390521936, 55.302141725719515, 63.13066106091712, 71.75918039611471, 81.1876997313123, 91.41621906650985, 102.44473840170747, 114.27325773690508, 126.90177707210266, 140.3302964073003, 154.5588157424978, 169.5873350776954, 185.41585441289305, 202.04437374809063, 219.47289308328823, 237.70141241848575, 256.72993175368345, 276.55845108888093, 297.1869704240784, 318.6154897592762, 340.8440090944737, 363.87252842967143, 387.7010477648689, 412.3295671000667, 437.75808643526415, 463.98660577046167], [127.40036721764034, 114.84499594160008, 103.0896246655598, 92.13425338951954, 81.97888211347924, 72.623510837439, 64.06813956139872, 56.312768285358445, 49.35739700931817, 43.20202573327791, 37.84665445723763, 33.29128318119735, 29.535911905157082, 26.58054062911681, 24.42516935307654, 23.06979807703627, 22.514426800995995, 22.759055524955723, 23.803684248915452, 25.648312972875186, 28.2929416968349, 31.737570420794636, 35.98219914475437, 41.02682786871411, 46.87145659267383, 53.51608531663355, 60.96071404059328, 69.20534276455301, 78.24997148851276, 88.09460021247249, 98.7392289364322, 110.18385766039191, 122.42848638435167, 135.47311510831142, 149.31774383227113, 163.96237255623083, 179.40700128019054, 195.6516300041503, 212.69625872811002, 230.5408874520698, 249.18551617602944, 268.6301448999893, 288.87477362394895, 309.9194023479086, 331.76403107186843, 354.40865979582816, 377.85328851978795, 402.0979172437476, 427.1425459677075, 452.9871746916671, 479.63180341562673], [122.52836438993131, 110.38910250265316, 99.04984061537503, 88.51057872809695, 78.7713168408188, 69.83205495354066, 61.69279306626251, 54.35353117898439, 47.81426929170627, 42.07500740442815, 37.135745517150006, 32.99648362987188, 29.657221742593748, 27.117959855315622, 25.378697968037486, 24.43943608075936, 24.300174193481233, 24.960912306203102, 26.421650418924973, 28.682388531646847, 31.74312664436871, 35.603864757090584, 40.26460286981246, 45.725340982534334, 51.986079095256216, 59.046817207978066, 66.90755532069994, 75.56829343342181, 85.0290315461437, 95.2897696588656, 106.35050777158742, 118.21124588430929, 130.87198399703115, 144.33272210975306, 158.59346022247493, 173.65419833519672, 189.51493644791864, 206.17567456064052, 223.63641267336237, 241.89715078608427, 260.9578888988061, 280.81862701152806, 301.47936512424985, 322.9401032369717, 345.2008413496937, 368.26157946241545, 392.12231757513746, 416.78305568785925, 442.2437938005812, 468.50453191330297, 495.56527002602473], [117.94463052745516, 106.22147802893916, 95.29832553042317, 85.17517303190722, 75.8520205333912, 67.32886803487521, 59.6057155363592, 52.68256303784322, 46.55941053932722, 41.23625804081125, 36.71310554229526, 32.98995304377925, 30.066800545263263, 27.943648046747278, 26.620495548231286, 26.09734304971529, 26.374190551199295, 27.45103805268331, 29.327885554167317, 32.00473305565132, 35.48158055713533, 39.758428058619344, 44.835275560103355, 50.71212306158737, 57.38897056307139, 64.86581806455536, 73.14266556603938, 82.2195130675234, 92.0963605690074, 102.77320807049145, 114.25005557197541, 126.52690307345941, 139.60375057494346, 153.48059807642747, 168.1574455779115, 183.63429307939543, 199.91114058087942, 216.98798808236347, 234.8648355838475, 253.54168308533158, 273.0185305868155, 293.29537808829957, 314.37222558978357, 336.24907309126746, 358.9259205927516, 382.4027680942355, 406.67961559571967, 431.7564630972036, 457.63331059868773, 484.31015810017163, 511.7870056016556], [113.64916563021185, 102.34212252045799, 91.83507941070414, 82.12803630095033, 73.22099319119647, 65.11395008144261, 57.80690697168875, 51.29986386193489, 45.592820752181034, 40.6857776424272, 36.57873453267333, 33.27169142291948, 30.764648313165626, 29.057605203411775, 28.150562093657918, 28.04351898390406, 28.736475874150212, 30.229432764396364, 32.5223896546425, 35.61534654488866, 39.5083034351348, 44.20126032538095, 49.694217215627106, 55.98717410587326, 63.08013099611941, 70.97308788636553, 79.66604477661167, 89.15900166685785, 99.451958557104, 110.54491544735014, 122.43787233759625, 135.13082922784244, 148.6237861180886, 162.91674300833472, 178.00969989858092, 193.902656788827, 210.59561367907315, 228.08857056931933, 246.3815274595655, 265.47448434981163, 285.36744124005776, 306.06039813030395, 327.55335502055004, 349.8463119107961, 372.93926880104243, 396.8322256912885, 421.52518258153475, 447.0181394717808, 473.3110963620271, 500.4040532522731, 528.2970101425192], [109.64196969820136, 98.75103597720967, 88.66010225621794, 79.36916853522627, 70.87823481423455, 63.187301093242816, 56.29636737225111, 50.20543365125939, 44.91449993026768, 40.423566209275975, 36.732632488284274, 33.84169876729255, 31.75076504630084, 30.45983132530913, 29.96889760431742, 30.277963883325707, 31.387030162334, 33.29609644134229, 36.005162720350576, 39.51422899935886, 43.823295278367155, 48.932361557375444, 54.841427836383744, 61.550494115392034, 69.05956039440034, 77.3686266734086, 86.4776929524169, 96.38675923142519, 107.09582551043349, 118.60489178944178, 130.91395806845003, 144.02302434745835, 157.93209062646662, 172.64115690547496, 188.1502231844832, 204.45928946349147, 221.56835574249982, 239.47742202150803, 258.1864883005164, 277.6955545795247, 298.0046208585329, 319.11368713754126, 341.02275341654945, 363.73181969555776, 387.2408859745662, 411.54995225357436, 436.65901853258276, 462.568084811591, 489.27715109059943, 516.7862173696076, 545.0952836486158], [105.92304273142375, 95.44821839919419, 85.7733940669646, 76.89856973473505, 68.82374540250548, 61.5489210702759, 55.074096738046336, 49.39927240581676, 44.52444807358719, 40.44962374135762, 37.17479940912804, 34.69997507689847, 33.0251507446689, 32.15032641243933, 32.07550208020975, 32.80067774798018, 34.32585341575061, 36.65102908352104, 39.77620475129146, 43.70138041906189, 48.42655608683231, 53.95173175460275, 60.27690742237318, 67.40208309014362, 75.32725875791405, 84.05243442568444, 93.57761009345488, 103.90278576122532, 115.02796142899577, 126.95313709676618, 139.67831276453657, 153.20348843230704, 167.52866410007746, 182.65383976784793, 198.57901543561832, 215.3041911033887, 232.8293667711592, 251.15454243892958, 270.27971810670005, 290.2048937744705, 310.9300694422408, 332.45524511001133, 354.7804207777817, 377.9055964455521, 401.83077211332267, 426.5559477810929, 452.0811234488635, 478.4062991166339, 505.53147478440445, 533.4566504521748, 562.1818261199451], [102.49238472987898, 92.43366978641154, 83.1749548429441, 74.71623989947672, 67.05752495600926, 60.198810012541834, 54.14009506907439, 48.88138012560697, 44.42266518213953, 40.7639502386721, 37.90523529520468, 35.84652035173725, 34.587805408269816, 34.12909046480239, 34.47037552133496, 35.611660577867525, 37.55294563440009, 40.294230690932665, 43.83551574746523, 48.17680080399779, 53.31808586053037, 59.259370917062945, 66.00065597359551, 73.5419410301281, 81.88322608666067, 91.02451114319321, 100.96579619972579, 111.70708125625836, 123.24836631279098, 135.58965136932355, 148.73093642585607, 162.67222148238864, 177.4135065389212, 192.9547915954538, 209.29607665198637, 226.4373617085189, 244.37864676505149, 263.11993182158403, 282.66121687811665, 303.0025019346492, 324.14378699118174, 346.08507204771445, 368.8263571042469, 392.3676421607794, 416.70892721731207, 441.85021227384453, 467.7914973303773, 494.53278238690984, 522.0740674434425, 550.4153524999749, 579.5566375565074], [99.34999569356707, 89.70739013886178, 80.86478458415647, 72.82217902945119, 65.57957347474591, 59.13696792004062, 53.49436236533532, 48.65175681063001, 44.609151255924736, 41.36654570121946, 38.923940146514155, 37.28133459180886, 36.43872903710356, 36.39612348239827, 37.153517927692974, 38.71091237298769, 41.068306818282394, 44.225701263577115, 48.18309570887181, 52.940490154166525, 58.49788459946122, 64.85527904475595, 72.01267349005066, 79.97006793534536, 88.72746238064008, 98.28485682593475, 108.64225127122947, 119.7996457165242, 131.7570401618189, 144.51443460711363, 158.0718290524083, 172.429223497703, 187.58661794299775, 203.54401238829246, 220.30140683358718, 237.85880127888183, 256.21619572417654, 275.3735901694713, 295.33098461476595, 316.0883790600607, 337.64577350535535, 360.00316795065027, 383.1605623959448, 407.1179568412395, 431.8753512865342, 457.43274573182896, 483.7901401771239, 510.9475346224184, 538.9049290677132, 567.6623235130079, 597.2197179583025], [96.49587562248797, 87.26937945654483, 78.84288329060168, 71.21638712465855, 64.38989095871538, 58.36339479277223, 53.13689862682908, 48.71040246088594, 45.083906294942786, 42.257410128999645, 40.230913963056494, 39.00441779711334, 38.577921631170184, 38.95142546522704, 40.124929299283885, 42.098433133340734, 44.87193696739759, 48.44544080145444, 52.818944635511286, 57.99244846956814, 63.965952303624974, 70.73945613768184, 78.3129599717387, 86.68646380579555, 95.8599676398524, 105.83347147390924, 116.6069753079661, 128.18047914202293, 140.5539829760798, 153.72748681013667, 167.7009906441935, 182.47449447825034, 198.0479983123072, 214.42150214636405, 231.59500598042092, 249.5685098144777, 268.3420136485346, 287.91551748259144, 308.2890213166483, 329.4625251507052, 351.43602898476195, 374.2095328188189, 397.78303665287564, 422.15654048693244, 447.33004432098943, 473.3035481550462, 500.07705198910327, 527.65055582316, 556.0240596572171, 585.1975634912737, 615.1710673253305], [93.93002451664177, 85.11963773946076, 77.10925096227972, 69.89886418509876, 63.488477407917735, 57.878090630736715, 53.067703853555706, 49.05731707637468, 45.84693029919368, 43.43654352201268, 41.82615674483166, 41.01576996765065, 41.00538319046963, 41.794996413288615, 43.38460963610761, 45.77422285892659, 48.96383608174558, 52.95344930456458, 57.74306252738356, 63.332675750202554, 69.72228897302153, 76.91190219584053, 84.90151541865953, 93.69112864147851, 103.28074186429751, 113.67035508711649, 124.85996830993548, 136.84958153275448, 149.6391947555735, 163.22880797839247, 177.61842120121145, 192.8080344240304, 208.79764764684944, 225.5872608696684, 243.17687409248745, 261.56648731530635, 280.7561005381254, 300.74571376094434, 321.5353269837633, 343.12494020658244, 365.5145534294013, 388.70416665222035, 412.69377987503924, 437.4833930978582, 463.07300632067734, 489.4626195434962, 516.6522327663154, 544.6418459891344, 573.4314592119534, 603.0210724347722, 633.4106856575912], [91.65244237602839, 83.25816498760952, 75.66388759919066, 68.8696102107718, 62.87533282235292, 57.68105543393404, 53.28677804551516, 49.69250065709628, 46.89822326867741, 44.903945880258554, 43.70966849183967, 43.315391103420794, 43.72111371500193, 44.92683632658305, 46.93255893816417, 49.7382815497453, 53.34400416132644, 57.749726772907565, 62.955449384488674, 68.96117199606982, 75.76689460765094, 83.37261721923205, 91.77833983081318, 100.98406244239433, 110.98978505397545, 121.79550766555656, 133.4012302771377, 145.80695288871883, 159.0126755003, 173.0183981118811, 187.82412072346216, 203.42984333504333, 219.83556594662446, 237.0412885582056, 255.04701116978674, 273.8527337813678, 293.45845639294896, 313.8641790045301, 335.0699016161113, 357.0756242276924, 379.8813468392735, 403.48706945085473, 427.8927920624357, 453.09851467401677, 479.104237285598, 505.909959897179, 533.5156825087604, 561.9214051203414, 591.1271277319227, 621.1328503435036, 651.9385729550846]]}],\n",
              "                        {\"scene\": {\"xaxis\": {\"title\": {\"text\": \"a\"}}, \"yaxis\": {\"title\": {\"text\": \"b\"}}, \"zaxis\": {\"title\": {\"text\": \"loss\"}}}, \"template\": {\"data\": {\"bar\": [{\"error_x\": {\"color\": \"#2a3f5f\"}, \"error_y\": {\"color\": \"#2a3f5f\"}, \"marker\": {\"line\": {\"color\": \"#E5ECF6\", \"width\": 0.5}}, \"type\": \"bar\"}], \"barpolar\": [{\"marker\": {\"line\": {\"color\": \"#E5ECF6\", \"width\": 0.5}}, \"type\": \"barpolar\"}], \"carpet\": [{\"aaxis\": {\"endlinecolor\": \"#2a3f5f\", \"gridcolor\": \"white\", \"linecolor\": \"white\", \"minorgridcolor\": \"white\", \"startlinecolor\": \"#2a3f5f\"}, \"baxis\": {\"endlinecolor\": \"#2a3f5f\", \"gridcolor\": \"white\", \"linecolor\": \"white\", \"minorgridcolor\": \"white\", \"startlinecolor\": \"#2a3f5f\"}, \"type\": \"carpet\"}], \"choropleth\": [{\"colorbar\": {\"outlinewidth\": 0, \"ticks\": \"\"}, \"type\": \"choropleth\"}], \"contour\": [{\"colorbar\": {\"outlinewidth\": 0, \"ticks\": \"\"}, \"colorscale\": [[0.0, \"#0d0887\"], [0.1111111111111111, \"#46039f\"], [0.2222222222222222, \"#7201a8\"], [0.3333333333333333, \"#9c179e\"], [0.4444444444444444, \"#bd3786\"], [0.5555555555555556, \"#d8576b\"], [0.6666666666666666, \"#ed7953\"], [0.7777777777777778, \"#fb9f3a\"], [0.8888888888888888, \"#fdca26\"], [1.0, \"#f0f921\"]], \"type\": \"contour\"}], \"contourcarpet\": [{\"colorbar\": {\"outlinewidth\": 0, \"ticks\": \"\"}, \"type\": \"contourcarpet\"}], \"heatmap\": [{\"colorbar\": {\"outlinewidth\": 0, \"ticks\": \"\"}, \"colorscale\": [[0.0, \"#0d0887\"], [0.1111111111111111, \"#46039f\"], [0.2222222222222222, \"#7201a8\"], [0.3333333333333333, \"#9c179e\"], [0.4444444444444444, \"#bd3786\"], [0.5555555555555556, \"#d8576b\"], [0.6666666666666666, \"#ed7953\"], [0.7777777777777778, \"#fb9f3a\"], [0.8888888888888888, \"#fdca26\"], [1.0, \"#f0f921\"]], \"type\": \"heatmap\"}], \"heatmapgl\": [{\"colorbar\": {\"outlinewidth\": 0, \"ticks\": \"\"}, \"colorscale\": [[0.0, \"#0d0887\"], [0.1111111111111111, \"#46039f\"], [0.2222222222222222, \"#7201a8\"], [0.3333333333333333, \"#9c179e\"], [0.4444444444444444, \"#bd3786\"], [0.5555555555555556, \"#d8576b\"], [0.6666666666666666, \"#ed7953\"], [0.7777777777777778, \"#fb9f3a\"], [0.8888888888888888, \"#fdca26\"], [1.0, \"#f0f921\"]], \"type\": \"heatmapgl\"}], \"histogram\": [{\"marker\": {\"colorbar\": {\"outlinewidth\": 0, \"ticks\": \"\"}}, \"type\": \"histogram\"}], \"histogram2d\": [{\"colorbar\": {\"outlinewidth\": 0, \"ticks\": \"\"}, \"colorscale\": [[0.0, \"#0d0887\"], [0.1111111111111111, \"#46039f\"], [0.2222222222222222, \"#7201a8\"], [0.3333333333333333, \"#9c179e\"], [0.4444444444444444, \"#bd3786\"], [0.5555555555555556, \"#d8576b\"], [0.6666666666666666, \"#ed7953\"], [0.7777777777777778, \"#fb9f3a\"], [0.8888888888888888, \"#fdca26\"], [1.0, \"#f0f921\"]], \"type\": \"histogram2d\"}], \"histogram2dcontour\": [{\"colorbar\": {\"outlinewidth\": 0, \"ticks\": \"\"}, \"colorscale\": [[0.0, \"#0d0887\"], [0.1111111111111111, \"#46039f\"], [0.2222222222222222, \"#7201a8\"], [0.3333333333333333, \"#9c179e\"], [0.4444444444444444, \"#bd3786\"], [0.5555555555555556, \"#d8576b\"], [0.6666666666666666, \"#ed7953\"], [0.7777777777777778, \"#fb9f3a\"], [0.8888888888888888, \"#fdca26\"], [1.0, \"#f0f921\"]], \"type\": \"histogram2dcontour\"}], \"mesh3d\": [{\"colorbar\": {\"outlinewidth\": 0, \"ticks\": \"\"}, \"type\": \"mesh3d\"}], \"parcoords\": [{\"line\": {\"colorbar\": {\"outlinewidth\": 0, \"ticks\": \"\"}}, \"type\": \"parcoords\"}], \"pie\": [{\"automargin\": true, \"type\": \"pie\"}], \"scatter\": [{\"marker\": {\"colorbar\": {\"outlinewidth\": 0, \"ticks\": \"\"}}, \"type\": \"scatter\"}], \"scatter3d\": [{\"line\": {\"colorbar\": {\"outlinewidth\": 0, \"ticks\": \"\"}}, \"marker\": {\"colorbar\": {\"outlinewidth\": 0, \"ticks\": \"\"}}, \"type\": \"scatter3d\"}], \"scattercarpet\": [{\"marker\": {\"colorbar\": {\"outlinewidth\": 0, \"ticks\": \"\"}}, \"type\": \"scattercarpet\"}], \"scattergeo\": [{\"marker\": {\"colorbar\": {\"outlinewidth\": 0, \"ticks\": \"\"}}, \"type\": \"scattergeo\"}], \"scattergl\": [{\"marker\": {\"colorbar\": {\"outlinewidth\": 0, \"ticks\": \"\"}}, \"type\": \"scattergl\"}], \"scattermapbox\": [{\"marker\": {\"colorbar\": {\"outlinewidth\": 0, \"ticks\": \"\"}}, \"type\": \"scattermapbox\"}], \"scatterpolar\": [{\"marker\": {\"colorbar\": {\"outlinewidth\": 0, \"ticks\": \"\"}}, \"type\": \"scatterpolar\"}], \"scatterpolargl\": [{\"marker\": {\"colorbar\": {\"outlinewidth\": 0, \"ticks\": \"\"}}, \"type\": \"scatterpolargl\"}], \"scatterternary\": [{\"marker\": {\"colorbar\": {\"outlinewidth\": 0, \"ticks\": \"\"}}, \"type\": \"scatterternary\"}], \"surface\": [{\"colorbar\": {\"outlinewidth\": 0, \"ticks\": \"\"}, \"colorscale\": [[0.0, \"#0d0887\"], [0.1111111111111111, \"#46039f\"], [0.2222222222222222, \"#7201a8\"], [0.3333333333333333, \"#9c179e\"], [0.4444444444444444, \"#bd3786\"], [0.5555555555555556, \"#d8576b\"], [0.6666666666666666, \"#ed7953\"], [0.7777777777777778, \"#fb9f3a\"], [0.8888888888888888, \"#fdca26\"], [1.0, \"#f0f921\"]], \"type\": \"surface\"}], \"table\": [{\"cells\": {\"fill\": {\"color\": \"#EBF0F8\"}, \"line\": {\"color\": \"white\"}}, \"header\": {\"fill\": {\"color\": \"#C8D4E3\"}, \"line\": {\"color\": \"white\"}}, \"type\": \"table\"}]}, \"layout\": {\"annotationdefaults\": {\"arrowcolor\": \"#2a3f5f\", \"arrowhead\": 0, \"arrowwidth\": 1}, \"coloraxis\": {\"colorbar\": {\"outlinewidth\": 0, \"ticks\": \"\"}}, \"colorscale\": {\"diverging\": [[0, \"#8e0152\"], [0.1, \"#c51b7d\"], [0.2, \"#de77ae\"], [0.3, \"#f1b6da\"], [0.4, \"#fde0ef\"], [0.5, \"#f7f7f7\"], [0.6, \"#e6f5d0\"], [0.7, \"#b8e186\"], [0.8, \"#7fbc41\"], [0.9, \"#4d9221\"], [1, \"#276419\"]], \"sequential\": [[0.0, \"#0d0887\"], [0.1111111111111111, \"#46039f\"], [0.2222222222222222, \"#7201a8\"], [0.3333333333333333, \"#9c179e\"], [0.4444444444444444, \"#bd3786\"], [0.5555555555555556, \"#d8576b\"], [0.6666666666666666, \"#ed7953\"], [0.7777777777777778, \"#fb9f3a\"], [0.8888888888888888, \"#fdca26\"], [1.0, \"#f0f921\"]], \"sequentialminus\": [[0.0, \"#0d0887\"], [0.1111111111111111, \"#46039f\"], [0.2222222222222222, \"#7201a8\"], [0.3333333333333333, \"#9c179e\"], [0.4444444444444444, \"#bd3786\"], [0.5555555555555556, \"#d8576b\"], [0.6666666666666666, \"#ed7953\"], [0.7777777777777778, \"#fb9f3a\"], [0.8888888888888888, \"#fdca26\"], [1.0, \"#f0f921\"]]}, \"colorway\": [\"#636efa\", \"#EF553B\", \"#00cc96\", \"#ab63fa\", \"#FFA15A\", \"#19d3f3\", \"#FF6692\", \"#B6E880\", \"#FF97FF\", \"#FECB52\"], \"font\": {\"color\": \"#2a3f5f\"}, \"geo\": {\"bgcolor\": \"white\", \"lakecolor\": \"white\", \"landcolor\": \"#E5ECF6\", \"showlakes\": true, \"showland\": true, \"subunitcolor\": \"white\"}, \"hoverlabel\": {\"align\": \"left\"}, \"hovermode\": \"closest\", \"mapbox\": {\"style\": \"light\"}, \"paper_bgcolor\": \"white\", \"plot_bgcolor\": \"#E5ECF6\", \"polar\": {\"angularaxis\": {\"gridcolor\": \"white\", \"linecolor\": \"white\", \"ticks\": \"\"}, \"bgcolor\": \"#E5ECF6\", \"radialaxis\": {\"gridcolor\": \"white\", \"linecolor\": \"white\", \"ticks\": \"\"}}, \"scene\": {\"xaxis\": {\"backgroundcolor\": \"#E5ECF6\", \"gridcolor\": \"white\", \"gridwidth\": 2, \"linecolor\": \"white\", \"showbackground\": true, \"ticks\": \"\", \"zerolinecolor\": \"white\"}, \"yaxis\": {\"backgroundcolor\": \"#E5ECF6\", \"gridcolor\": \"white\", \"gridwidth\": 2, \"linecolor\": \"white\", \"showbackground\": true, \"ticks\": \"\", \"zerolinecolor\": \"white\"}, \"zaxis\": {\"backgroundcolor\": \"#E5ECF6\", \"gridcolor\": \"white\", \"gridwidth\": 2, \"linecolor\": \"white\", \"showbackground\": true, \"ticks\": \"\", \"zerolinecolor\": \"white\"}}, \"shapedefaults\": {\"line\": {\"color\": \"#2a3f5f\"}}, \"ternary\": {\"aaxis\": {\"gridcolor\": \"white\", \"linecolor\": \"white\", \"ticks\": \"\"}, \"baxis\": {\"gridcolor\": \"white\", \"linecolor\": \"white\", \"ticks\": \"\"}, \"bgcolor\": \"#E5ECF6\", \"caxis\": {\"gridcolor\": \"white\", \"linecolor\": \"white\", \"ticks\": \"\"}}, \"title\": {\"x\": 0.05}, \"xaxis\": {\"automargin\": true, \"gridcolor\": \"white\", \"linecolor\": \"white\", \"ticks\": \"\", \"title\": {\"standoff\": 15}, \"zerolinecolor\": \"white\", \"zerolinewidth\": 2}, \"yaxis\": {\"automargin\": true, \"gridcolor\": \"white\", \"linecolor\": \"white\", \"ticks\": \"\", \"title\": {\"standoff\": 15}, \"zerolinecolor\": \"white\", \"zerolinewidth\": 2}}}, \"title\": {\"text\": \"MSE loss landscape\"}},\n",
              "                        {\"responsive\": true}\n",
              "                    ).then(function(){\n",
              "                            \n",
              "var gd = document.getElementById('a98e8dea-ad6c-479c-a6b2-0e7240b68d9a');\n",
              "var x = new MutationObserver(function (mutations, observer) {{\n",
              "        var display = window.getComputedStyle(gd).display;\n",
              "        if (!display || display === 'none') {{\n",
              "            console.log([gd, 'removed!']);\n",
              "            Plotly.purge(gd);\n",
              "            observer.disconnect();\n",
              "        }}\n",
              "}});\n",
              "\n",
              "// Listen for the removal of the full notebook cells\n",
              "var notebookContainer = gd.closest('#notebook-container');\n",
              "if (notebookContainer) {{\n",
              "    x.observe(notebookContainer, {childList: true});\n",
              "}}\n",
              "\n",
              "// Listen for the clearing of the current output cell\n",
              "var outputEl = gd.closest('.output');\n",
              "if (outputEl) {{\n",
              "    x.observe(outputEl, {childList: true});\n",
              "}}\n",
              "\n",
              "                        })\n",
              "                };\n",
              "                \n",
              "            </script>\n",
              "        </div>\n",
              "</body>\n",
              "</html>"
            ]
          },
          "metadata": {
            "tags": []
          }
        }
      ]
    },
    {
      "cell_type": "markdown",
      "metadata": {
        "id": "jZy5qkSz6_2S"
      },
      "source": [
        "Look at the convexity of the MSE loss. Can you do the linear regression by eye hovering the mouse over it? \n",
        "\n",
        ">**EXERCISE** Visualize the **loss landscape** of other loss choices, such as the $L_1$ norm of the residual vector $|f_\\theta(x_i) - t_i|$ (absolute error) or the $L_{50}$ norm. Are these still convex?  "
      ]
    },
    {
      "cell_type": "code",
      "metadata": {
        "id": "DhhE2MtUi3g_"
      },
      "source": [
        "# ✏️ your code here "
      ],
      "execution_count": 11,
      "outputs": []
    },
    {
      "cell_type": "code",
      "metadata": {
        "cellView": "form",
        "id": "IrlLWxcm0tb9"
      },
      "source": [
        "#@title Solution \r\n",
        "\r\n",
        "p = 1\r\n",
        "\r\n",
        "predictions = a_range[:, None, None] * x[None, None, :]  + b_range[None, :, None]\r\n",
        "residuals = np.abs(t[None, None, :] - predictions) ** p\r\n",
        "losses = (residuals.sum(-1) ** (1/p)) / predictions.shape[-1]"
      ],
      "execution_count": 12,
      "outputs": []
    },
    {
      "cell_type": "markdown",
      "metadata": {
        "id": "FXq55ce581os"
      },
      "source": [
        "### \"Tear down this loss[!](https://en.wikipedia.org/wiki/Tear_down_this_wall!)\"\n",
        "\n",
        "Now we will explicitily compute the parameters $\\theta$ for several polynomial fits, defined in matrix notation as: ($\\mathbf{y} \\equiv \\mathbf{t}$)\n",
        "\n",
        "\n",
        "![polyfit matrix notation](https://drive.google.com/uc?export=view&id=1e4AsSC00ivIXW4c35VNLladTcCTY4dpL)\n",
        "\n",
        "As seen in lecture, we can analytically find the parameters $\\theta$ that minimize the MSE loss:\n",
        "\n",
        "$$\\theta = (X^TX)^{-1}X^T\\mathbf{y}$$\n",
        "\n",
        "Let's do it for a 3-degree polynomial fit using pytorch\n",
        "\n",
        "\n",
        "\n"
      ]
    },
    {
      "cell_type": "code",
      "metadata": {
        "id": "g1Oq4K-CbWqa"
      },
      "source": [
        "# Poly3 fit\n",
        "y = torch.from_numpy(t)\n",
        "x_tens = torch.from_numpy(x)\n",
        "X = torch.ones((y.shape[0], 4), dtype=torch.float64)  # double precision is needed for this calculation, especially with high degree polyfits\n",
        "X[:,0] = x_tens ** 3\n",
        "X[:,1] = x_tens ** 2\n",
        "X[:,2] = x_tens"
      ],
      "execution_count": 13,
      "outputs": []
    },
    {
      "cell_type": "markdown",
      "metadata": {
        "id": "Tv9COWdXnovB"
      },
      "source": [
        ">**EXERCISE**: complete the code"
      ]
    },
    {
      "cell_type": "code",
      "metadata": {
        "id": "4v9Puu-9qosN"
      },
      "source": [
        "# ✏️ your code here\n",
        "theta = None"
      ],
      "execution_count": 14,
      "outputs": []
    },
    {
      "cell_type": "code",
      "metadata": {
        "id": "4di4c5yUqkdE",
        "cellView": "form"
      },
      "source": [
        "#@title Solution (double click here to peek 👀)\n",
        "\n",
        "temp_inverse = torch.inverse(torch.einsum('ij,jk->ik', X.t(), X))  # or torch.einsum('ji,jk->ik', X, X)\n",
        "theta = torch.einsum('ij,jk,k->i', temp_inverse, X.t(), y)"
      ],
      "execution_count": 15,
      "outputs": []
    },
    {
      "cell_type": "code",
      "metadata": {
        "id": "tOJse7C9bojf",
        "cellView": "form",
        "colab": {
          "base_uri": "https://localhost:8080/",
          "height": 542
        },
        "outputId": "86d297b5-83fa-4d7c-9b3b-ba2a62dc2736"
      },
      "source": [
        "#@title 3-degree polynomial fit\n",
        "\n",
        "a, b, c, d = theta.numpy()\n",
        "fig = go.Figure()\n",
        "fig.add_trace(go.Scatter(x=x, y=t, name='dataset', mode='markers', marker=dict(color=\"mediumpurple\")))\n",
        "fig.add_trace(go.Scatter(x=x_funcs, y=np.sin(2*np.pi*x_funcs), name='ground truth', mode='lines', line=dict(color=\"lightgreen\")))\n",
        "fig.add_trace(go.Scatter(x=x_funcs, y=a*x_funcs**3 + b*x_funcs**2 + c*x_funcs + d, name='poly3 fit', mode='lines', line=dict(color=\"lightsalmon\")))\n",
        "fig.update_xaxes(title_text=\"x\", range = [0,1])\n",
        "fig.update_yaxes(title_text=\"t\", range = [-1.5,1.5])\n",
        "fig.show()"
      ],
      "execution_count": 16,
      "outputs": [
        {
          "output_type": "display_data",
          "data": {
            "text/html": [
              "<html>\n",
              "<head><meta charset=\"utf-8\" /></head>\n",
              "<body>\n",
              "    <div>\n",
              "            <script src=\"https://cdnjs.cloudflare.com/ajax/libs/mathjax/2.7.5/MathJax.js?config=TeX-AMS-MML_SVG\"></script><script type=\"text/javascript\">if (window.MathJax) {MathJax.Hub.Config({SVG: {font: \"STIX-Web\"}});}</script>\n",
              "                <script type=\"text/javascript\">window.PlotlyConfig = {MathJaxConfig: 'local'};</script>\n",
              "        <script src=\"https://cdn.plot.ly/plotly-latest.min.js\"></script>    \n",
              "            <div id=\"f8d648a3-ee3d-4b93-9eec-545119358358\" class=\"plotly-graph-div\" style=\"height:525px; width:100%;\"></div>\n",
              "            <script type=\"text/javascript\">\n",
              "                \n",
              "                    window.PLOTLYENV=window.PLOTLYENV || {};\n",
              "                    \n",
              "                if (document.getElementById(\"f8d648a3-ee3d-4b93-9eec-545119358358\")) {\n",
              "                    Plotly.newPlot(\n",
              "                        'f8d648a3-ee3d-4b93-9eec-545119358358',\n",
              "                        [{\"marker\": {\"color\": \"mediumpurple\"}, \"mode\": \"markers\", \"name\": \"dataset\", \"type\": \"scatter\", \"x\": [0.3745401188473625, 0.9507143064099162, 0.7319939418114051, 0.5986584841970366, 0.15601864044243652, 0.15599452033620265, 0.05808361216819946, 0.8661761457749352, 0.6011150117432088, 0.7080725777960455], \"y\": [0.6621995859491285, -0.2504894367193866, -1.0399487832345553, -0.6275182299806012, 0.854857342681687, 0.6392487011533475, 0.18441089666331875, -0.8014323286500792, -0.6947217251134631, -0.9340757540684701]}, {\"line\": {\"color\": \"lightgreen\"}, \"mode\": \"lines\", \"name\": \"ground truth\", \"type\": \"scatter\", \"x\": [0.0, 0.0392156862745098, 0.0784313725490196, 0.11764705882352941, 0.1568627450980392, 0.19607843137254902, 0.23529411764705882, 0.27450980392156865, 0.3137254901960784, 0.3529411764705882, 0.39215686274509803, 0.43137254901960786, 0.47058823529411764, 0.5098039215686274, 0.5490196078431373, 0.5882352941176471, 0.6274509803921569, 0.6666666666666666, 0.7058823529411764, 0.7450980392156863, 0.7843137254901961, 0.8235294117647058, 0.8627450980392157, 0.9019607843137255, 0.9411764705882353, 0.9803921568627451, 1.0196078431372548, 1.0588235294117647, 1.0980392156862746], \"y\": [0.0, 0.24391372010837714, 0.47309355683601007, 0.6736956436465572, 0.8336023852211195, 0.9431544344712774, 0.9957341762950345, 0.9881654720812594, 0.9209055179449537, 0.7980172272802396, 0.6269238058941065, 0.41796034488678324, 0.18374951781657037, -0.061560906133942536, -0.3031526741130438, -0.5264321628773558, -0.7179119230644417, -0.8660254037844384, -0.961825643172819, -0.9995257197133659, -0.9768483177596007, -0.8951632913550626, -0.7594049166547069, -0.5777738314082513, -0.36124166618715303, -0.12288829066471489, 0.12288829066471353, 0.3612416661871526, 0.5777738314082517]}, {\"line\": {\"color\": \"lightsalmon\"}, \"mode\": \"lines\", \"name\": \"poly3 fit\", \"type\": \"scatter\", \"x\": [0.0, 0.0392156862745098, 0.0784313725490196, 0.11764705882352941, 0.1568627450980392, 0.19607843137254902, 0.23529411764705882, 0.27450980392156865, 0.3137254901960784, 0.3529411764705882, 0.39215686274509803, 0.43137254901960786, 0.47058823529411764, 0.5098039215686274, 0.5490196078431373, 0.5882352941176471, 0.6274509803921569, 0.6666666666666666, 0.7058823529411764, 0.7450980392156863, 0.7843137254901961, 0.8235294117647058, 0.8627450980392157, 0.9019607843137255, 0.9411764705882353, 0.9803921568627451, 1.0196078431372548, 1.0588235294117647, 1.0980392156862746], \"y\": [-0.5120931109714033, -0.03449154326996551, 0.3345659110516732, 0.6043139768508135, 0.7839873789847562, 0.8828208423108022, 0.9100490916862518, 0.8749068519684062, 0.7866288480145669, 0.654449804682034, 0.48760444682810844, 0.29532749931009006, 0.08685368698528029, -0.12858226528901762, -0.34174563265551017, -0.5434016902568879, -0.7243157132358538, -0.8752529767351089, -0.9869787558973457, -1.0502583258652725, -1.0558569617815814, -0.9945399387889755, -0.857072532030156, -0.6342200166478134, -0.31674766778465946, 0.10457923941662406, 0.63899542981332, 1.2957356282627308, 2.0840345596221694]}],\n",
              "                        {\"template\": {\"data\": {\"bar\": [{\"error_x\": {\"color\": \"#2a3f5f\"}, \"error_y\": {\"color\": \"#2a3f5f\"}, \"marker\": {\"line\": {\"color\": \"#E5ECF6\", \"width\": 0.5}}, \"type\": \"bar\"}], \"barpolar\": [{\"marker\": {\"line\": {\"color\": \"#E5ECF6\", \"width\": 0.5}}, \"type\": \"barpolar\"}], \"carpet\": [{\"aaxis\": {\"endlinecolor\": \"#2a3f5f\", \"gridcolor\": \"white\", \"linecolor\": \"white\", \"minorgridcolor\": \"white\", \"startlinecolor\": \"#2a3f5f\"}, \"baxis\": {\"endlinecolor\": \"#2a3f5f\", \"gridcolor\": \"white\", \"linecolor\": \"white\", \"minorgridcolor\": \"white\", \"startlinecolor\": \"#2a3f5f\"}, \"type\": \"carpet\"}], \"choropleth\": [{\"colorbar\": {\"outlinewidth\": 0, \"ticks\": \"\"}, \"type\": \"choropleth\"}], \"contour\": [{\"colorbar\": {\"outlinewidth\": 0, \"ticks\": \"\"}, \"colorscale\": [[0.0, \"#0d0887\"], [0.1111111111111111, \"#46039f\"], [0.2222222222222222, \"#7201a8\"], [0.3333333333333333, \"#9c179e\"], [0.4444444444444444, \"#bd3786\"], [0.5555555555555556, \"#d8576b\"], [0.6666666666666666, \"#ed7953\"], [0.7777777777777778, \"#fb9f3a\"], [0.8888888888888888, \"#fdca26\"], [1.0, \"#f0f921\"]], \"type\": \"contour\"}], \"contourcarpet\": [{\"colorbar\": {\"outlinewidth\": 0, \"ticks\": \"\"}, \"type\": \"contourcarpet\"}], \"heatmap\": [{\"colorbar\": {\"outlinewidth\": 0, \"ticks\": \"\"}, \"colorscale\": [[0.0, \"#0d0887\"], [0.1111111111111111, \"#46039f\"], [0.2222222222222222, \"#7201a8\"], [0.3333333333333333, \"#9c179e\"], [0.4444444444444444, \"#bd3786\"], [0.5555555555555556, \"#d8576b\"], [0.6666666666666666, \"#ed7953\"], [0.7777777777777778, \"#fb9f3a\"], [0.8888888888888888, \"#fdca26\"], [1.0, \"#f0f921\"]], \"type\": \"heatmap\"}], \"heatmapgl\": [{\"colorbar\": {\"outlinewidth\": 0, \"ticks\": \"\"}, \"colorscale\": [[0.0, \"#0d0887\"], [0.1111111111111111, \"#46039f\"], [0.2222222222222222, \"#7201a8\"], [0.3333333333333333, \"#9c179e\"], [0.4444444444444444, \"#bd3786\"], [0.5555555555555556, \"#d8576b\"], [0.6666666666666666, \"#ed7953\"], [0.7777777777777778, \"#fb9f3a\"], [0.8888888888888888, \"#fdca26\"], [1.0, \"#f0f921\"]], \"type\": \"heatmapgl\"}], \"histogram\": [{\"marker\": {\"colorbar\": {\"outlinewidth\": 0, \"ticks\": \"\"}}, \"type\": \"histogram\"}], \"histogram2d\": [{\"colorbar\": {\"outlinewidth\": 0, \"ticks\": \"\"}, \"colorscale\": [[0.0, \"#0d0887\"], [0.1111111111111111, \"#46039f\"], [0.2222222222222222, \"#7201a8\"], [0.3333333333333333, \"#9c179e\"], [0.4444444444444444, \"#bd3786\"], [0.5555555555555556, \"#d8576b\"], [0.6666666666666666, \"#ed7953\"], [0.7777777777777778, \"#fb9f3a\"], [0.8888888888888888, \"#fdca26\"], [1.0, \"#f0f921\"]], \"type\": \"histogram2d\"}], \"histogram2dcontour\": [{\"colorbar\": {\"outlinewidth\": 0, \"ticks\": \"\"}, \"colorscale\": [[0.0, \"#0d0887\"], [0.1111111111111111, \"#46039f\"], [0.2222222222222222, \"#7201a8\"], [0.3333333333333333, \"#9c179e\"], [0.4444444444444444, \"#bd3786\"], [0.5555555555555556, \"#d8576b\"], [0.6666666666666666, \"#ed7953\"], [0.7777777777777778, \"#fb9f3a\"], [0.8888888888888888, \"#fdca26\"], [1.0, \"#f0f921\"]], \"type\": \"histogram2dcontour\"}], \"mesh3d\": [{\"colorbar\": {\"outlinewidth\": 0, \"ticks\": \"\"}, \"type\": \"mesh3d\"}], \"parcoords\": [{\"line\": {\"colorbar\": {\"outlinewidth\": 0, \"ticks\": \"\"}}, \"type\": \"parcoords\"}], \"pie\": [{\"automargin\": true, \"type\": \"pie\"}], \"scatter\": [{\"marker\": {\"colorbar\": {\"outlinewidth\": 0, \"ticks\": \"\"}}, \"type\": \"scatter\"}], \"scatter3d\": [{\"line\": {\"colorbar\": {\"outlinewidth\": 0, \"ticks\": \"\"}}, \"marker\": {\"colorbar\": {\"outlinewidth\": 0, \"ticks\": \"\"}}, \"type\": \"scatter3d\"}], \"scattercarpet\": [{\"marker\": {\"colorbar\": {\"outlinewidth\": 0, \"ticks\": \"\"}}, \"type\": \"scattercarpet\"}], \"scattergeo\": [{\"marker\": {\"colorbar\": {\"outlinewidth\": 0, \"ticks\": \"\"}}, \"type\": \"scattergeo\"}], \"scattergl\": [{\"marker\": {\"colorbar\": {\"outlinewidth\": 0, \"ticks\": \"\"}}, \"type\": \"scattergl\"}], \"scattermapbox\": [{\"marker\": {\"colorbar\": {\"outlinewidth\": 0, \"ticks\": \"\"}}, \"type\": \"scattermapbox\"}], \"scatterpolar\": [{\"marker\": {\"colorbar\": {\"outlinewidth\": 0, \"ticks\": \"\"}}, \"type\": \"scatterpolar\"}], \"scatterpolargl\": [{\"marker\": {\"colorbar\": {\"outlinewidth\": 0, \"ticks\": \"\"}}, \"type\": \"scatterpolargl\"}], \"scatterternary\": [{\"marker\": {\"colorbar\": {\"outlinewidth\": 0, \"ticks\": \"\"}}, \"type\": \"scatterternary\"}], \"surface\": [{\"colorbar\": {\"outlinewidth\": 0, \"ticks\": \"\"}, \"colorscale\": [[0.0, \"#0d0887\"], [0.1111111111111111, \"#46039f\"], [0.2222222222222222, \"#7201a8\"], [0.3333333333333333, \"#9c179e\"], [0.4444444444444444, \"#bd3786\"], [0.5555555555555556, \"#d8576b\"], [0.6666666666666666, \"#ed7953\"], [0.7777777777777778, \"#fb9f3a\"], [0.8888888888888888, \"#fdca26\"], [1.0, \"#f0f921\"]], \"type\": \"surface\"}], \"table\": [{\"cells\": {\"fill\": {\"color\": \"#EBF0F8\"}, \"line\": {\"color\": \"white\"}}, \"header\": {\"fill\": {\"color\": \"#C8D4E3\"}, \"line\": {\"color\": \"white\"}}, \"type\": \"table\"}]}, \"layout\": {\"annotationdefaults\": {\"arrowcolor\": \"#2a3f5f\", \"arrowhead\": 0, \"arrowwidth\": 1}, \"coloraxis\": {\"colorbar\": {\"outlinewidth\": 0, \"ticks\": \"\"}}, \"colorscale\": {\"diverging\": [[0, \"#8e0152\"], [0.1, \"#c51b7d\"], [0.2, \"#de77ae\"], [0.3, \"#f1b6da\"], [0.4, \"#fde0ef\"], [0.5, \"#f7f7f7\"], [0.6, \"#e6f5d0\"], [0.7, \"#b8e186\"], [0.8, \"#7fbc41\"], [0.9, \"#4d9221\"], [1, \"#276419\"]], \"sequential\": [[0.0, \"#0d0887\"], [0.1111111111111111, \"#46039f\"], [0.2222222222222222, \"#7201a8\"], [0.3333333333333333, \"#9c179e\"], [0.4444444444444444, \"#bd3786\"], [0.5555555555555556, \"#d8576b\"], [0.6666666666666666, \"#ed7953\"], [0.7777777777777778, \"#fb9f3a\"], [0.8888888888888888, \"#fdca26\"], [1.0, \"#f0f921\"]], \"sequentialminus\": [[0.0, \"#0d0887\"], [0.1111111111111111, \"#46039f\"], [0.2222222222222222, \"#7201a8\"], [0.3333333333333333, \"#9c179e\"], [0.4444444444444444, \"#bd3786\"], [0.5555555555555556, \"#d8576b\"], [0.6666666666666666, \"#ed7953\"], [0.7777777777777778, \"#fb9f3a\"], [0.8888888888888888, \"#fdca26\"], [1.0, \"#f0f921\"]]}, \"colorway\": [\"#636efa\", \"#EF553B\", \"#00cc96\", \"#ab63fa\", \"#FFA15A\", \"#19d3f3\", \"#FF6692\", \"#B6E880\", \"#FF97FF\", \"#FECB52\"], \"font\": {\"color\": \"#2a3f5f\"}, \"geo\": {\"bgcolor\": \"white\", \"lakecolor\": \"white\", \"landcolor\": \"#E5ECF6\", \"showlakes\": true, \"showland\": true, \"subunitcolor\": \"white\"}, \"hoverlabel\": {\"align\": \"left\"}, \"hovermode\": \"closest\", \"mapbox\": {\"style\": \"light\"}, \"paper_bgcolor\": \"white\", \"plot_bgcolor\": \"#E5ECF6\", \"polar\": {\"angularaxis\": {\"gridcolor\": \"white\", \"linecolor\": \"white\", \"ticks\": \"\"}, \"bgcolor\": \"#E5ECF6\", \"radialaxis\": {\"gridcolor\": \"white\", \"linecolor\": \"white\", \"ticks\": \"\"}}, \"scene\": {\"xaxis\": {\"backgroundcolor\": \"#E5ECF6\", \"gridcolor\": \"white\", \"gridwidth\": 2, \"linecolor\": \"white\", \"showbackground\": true, \"ticks\": \"\", \"zerolinecolor\": \"white\"}, \"yaxis\": {\"backgroundcolor\": \"#E5ECF6\", \"gridcolor\": \"white\", \"gridwidth\": 2, \"linecolor\": \"white\", \"showbackground\": true, \"ticks\": \"\", \"zerolinecolor\": \"white\"}, \"zaxis\": {\"backgroundcolor\": \"#E5ECF6\", \"gridcolor\": \"white\", \"gridwidth\": 2, \"linecolor\": \"white\", \"showbackground\": true, \"ticks\": \"\", \"zerolinecolor\": \"white\"}}, \"shapedefaults\": {\"line\": {\"color\": \"#2a3f5f\"}}, \"ternary\": {\"aaxis\": {\"gridcolor\": \"white\", \"linecolor\": \"white\", \"ticks\": \"\"}, \"baxis\": {\"gridcolor\": \"white\", \"linecolor\": \"white\", \"ticks\": \"\"}, \"bgcolor\": \"#E5ECF6\", \"caxis\": {\"gridcolor\": \"white\", \"linecolor\": \"white\", \"ticks\": \"\"}}, \"title\": {\"x\": 0.05}, \"xaxis\": {\"automargin\": true, \"gridcolor\": \"white\", \"linecolor\": \"white\", \"ticks\": \"\", \"title\": {\"standoff\": 15}, \"zerolinecolor\": \"white\", \"zerolinewidth\": 2}, \"yaxis\": {\"automargin\": true, \"gridcolor\": \"white\", \"linecolor\": \"white\", \"ticks\": \"\", \"title\": {\"standoff\": 15}, \"zerolinecolor\": \"white\", \"zerolinewidth\": 2}}}, \"xaxis\": {\"range\": [0, 1], \"title\": {\"text\": \"x\"}}, \"yaxis\": {\"range\": [-1.5, 1.5], \"title\": {\"text\": \"t\"}}},\n",
              "                        {\"responsive\": true}\n",
              "                    ).then(function(){\n",
              "                            \n",
              "var gd = document.getElementById('f8d648a3-ee3d-4b93-9eec-545119358358');\n",
              "var x = new MutationObserver(function (mutations, observer) {{\n",
              "        var display = window.getComputedStyle(gd).display;\n",
              "        if (!display || display === 'none') {{\n",
              "            console.log([gd, 'removed!']);\n",
              "            Plotly.purge(gd);\n",
              "            observer.disconnect();\n",
              "        }}\n",
              "}});\n",
              "\n",
              "// Listen for the removal of the full notebook cells\n",
              "var notebookContainer = gd.closest('#notebook-container');\n",
              "if (notebookContainer) {{\n",
              "    x.observe(notebookContainer, {childList: true});\n",
              "}}\n",
              "\n",
              "// Listen for the clearing of the current output cell\n",
              "var outputEl = gd.closest('.output');\n",
              "if (outputEl) {{\n",
              "    x.observe(outputEl, {childList: true});\n",
              "}}\n",
              "\n",
              "                        })\n",
              "                };\n",
              "                \n",
              "            </script>\n",
              "        </div>\n",
              "</body>\n",
              "</html>"
            ]
          },
          "metadata": {
            "tags": []
          }
        }
      ]
    },
    {
      "cell_type": "markdown",
      "metadata": {
        "id": "xV6sseHGnDCZ"
      },
      "source": [
        "Let's now compare several polynomial fits with different degrees.\n",
        "\n",
        "Play a bit with the degrees taking a look at the coefficients $\\theta$.\n",
        "\n",
        "Which one is the best in *your judgement*?\n",
        "Which one is the best according to the MSE loss? \n",
        "\n",
        "An evergreen reminder that here fits well:\n",
        "> **be skeptical!** Especially about the numbers that should evaluate results. Are these really evaluating what should be evaluated?"
      ]
    },
    {
      "cell_type": "code",
      "metadata": {
        "id": "uFyk0X9cfcis",
        "colab": {
          "base_uri": "https://localhost:8080/",
          "height": 717
        },
        "cellView": "form",
        "outputId": "03dc6167-64a2-410e-c598-d71338bf8d32"
      },
      "source": [
        "# @title Polynomial fits { run: \"auto\" }\n",
        "\n",
        "degree = {}\n",
        "deg_a = 2  #@param {type:\"slider\", min:0, max:15, step:1}\n",
        "deg_b = 3  #@param {type:\"slider\", min:0, max:15, step:1}\n",
        "deg_c = 10 #@param {type:\"slider\", min:0, max:15, step:1}\n",
        "\n",
        "degree[0], degree[1], degree[2] = deg_a, deg_b, deg_c\n",
        "\n",
        "max_degree = max(degree.values())\n",
        "y = torch.from_numpy(t)\n",
        "X_full = torch.ones((y.shape[0], max_degree + 1), dtype=torch.float64)  # double precision is needed for this calculation! \n",
        "for i in range(max_degree):\n",
        "    X_full[:,i] =  torch.from_numpy(x) ** (max_degree - i)\n",
        "\n",
        "theta_collection = {}\n",
        "\n",
        "for i in range(3):\n",
        "    X = X_full[:,-(degree[i] + 1):]\n",
        "    temp_inverse = torch.inverse(torch.einsum('ij,jk->ik', X.t(), X)) \n",
        "    theta_collection[i] = torch.einsum('ij,jk,k->i', temp_inverse, X.t(), y)\n",
        "\n",
        "fig = make_subplots(\n",
        "    rows=1, cols=3,\n",
        "    subplot_titles=(f\"poly{degree[0]} fit\", f\"poly{degree[1]} fit\", f\"poly{degree[2]} fit\"))\n",
        "\n",
        "x_funcs = np.arange(0,1,1./100)\n",
        "y_funcs = {}\n",
        "for i in range(3):\n",
        "    theta_funcs = theta_collection[i].numpy()\n",
        "    X_funcs = np.ones((x_funcs.shape[0], degree[i] + 1), dtype=np.float64)\n",
        "    for j in range(degree[i]):\n",
        "        X_funcs[:,j] =  x_funcs ** (degree[i] - j)\n",
        "    y_funcs[i] = np.einsum('ij,j->i', X_funcs, theta_funcs)\n",
        "    coefficients_string = '<br><br><br>' + '<br>'.join([c + f': {np.round(theta_funcs[i], decimals=2)}' for i, c in enumerate('abcdefghijklmnopqrstuvwxyz'[:len(theta_funcs)])])\n",
        "\n",
        "    fig.add_trace(go.Scatter(x=x, y=t, mode='markers', marker=dict(color=\"mediumpurple\")), row=1, col=i + 1)\n",
        "    fig.add_trace(go.Scatter(x=x_funcs, y=np.sin(2*np.pi*x_funcs), mode='lines', line=dict(color=\"lightgreen\")), row=1, col=i + 1)\n",
        "    fig.add_trace(go.Scatter(x=x_funcs, y=y_funcs[i], mode='lines', line=dict(color=\"lightsalmon\")), row=1, col=i + 1)\n",
        "    fig.update_xaxes(title_text=\"x\" + coefficients_string, range = [0,1], row=1, col=i+1)\n",
        "\n",
        "fig.update_layout(showlegend=False)\n",
        "fig.update_yaxes(title_text=\"t\", range = [-5,5])\n",
        "fig.update_layout(height=700, width=1300, title_text=\"Polynomial fits and their coefficients\")\n",
        "fig.show()"
      ],
      "execution_count": 17,
      "outputs": [
        {
          "output_type": "display_data",
          "data": {
            "text/html": [
              "<html>\n",
              "<head><meta charset=\"utf-8\" /></head>\n",
              "<body>\n",
              "    <div>\n",
              "            <script src=\"https://cdnjs.cloudflare.com/ajax/libs/mathjax/2.7.5/MathJax.js?config=TeX-AMS-MML_SVG\"></script><script type=\"text/javascript\">if (window.MathJax) {MathJax.Hub.Config({SVG: {font: \"STIX-Web\"}});}</script>\n",
              "                <script type=\"text/javascript\">window.PlotlyConfig = {MathJaxConfig: 'local'};</script>\n",
              "        <script src=\"https://cdn.plot.ly/plotly-latest.min.js\"></script>    \n",
              "            <div id=\"9202c2a5-61fd-46e3-92d5-ddfb90eade11\" class=\"plotly-graph-div\" style=\"height:700px; width:1300px;\"></div>\n",
              "            <script type=\"text/javascript\">\n",
              "                \n",
              "                    window.PLOTLYENV=window.PLOTLYENV || {};\n",
              "                    \n",
              "                if (document.getElementById(\"9202c2a5-61fd-46e3-92d5-ddfb90eade11\")) {\n",
              "                    Plotly.newPlot(\n",
              "                        '9202c2a5-61fd-46e3-92d5-ddfb90eade11',\n",
              "                        [{\"marker\": {\"color\": \"mediumpurple\"}, \"mode\": \"markers\", \"type\": \"scatter\", \"x\": [0.3745401188473625, 0.9507143064099162, 0.7319939418114051, 0.5986584841970366, 0.15601864044243652, 0.15599452033620265, 0.05808361216819946, 0.8661761457749352, 0.6011150117432088, 0.7080725777960455], \"xaxis\": \"x\", \"y\": [0.6621995859491285, -0.2504894367193866, -1.0399487832345553, -0.6275182299806012, 0.854857342681687, 0.6392487011533475, 0.18441089666331875, -0.8014323286500792, -0.6947217251134631, -0.9340757540684701], \"yaxis\": \"y\"}, {\"line\": {\"color\": \"lightgreen\"}, \"mode\": \"lines\", \"type\": \"scatter\", \"x\": [0.0, 0.01, 0.02, 0.03, 0.04, 0.05, 0.06, 0.07, 0.08, 0.09, 0.1, 0.11, 0.12, 0.13, 0.14, 0.15, 0.16, 0.17, 0.18, 0.19, 0.2, 0.21, 0.22, 0.23, 0.24, 0.25, 0.26, 0.27, 0.28, 0.29, 0.3, 0.31, 0.32, 0.33, 0.34, 0.35000000000000003, 0.36, 0.37, 0.38, 0.39, 0.4, 0.41000000000000003, 0.42, 0.43, 0.44, 0.45, 0.46, 0.47000000000000003, 0.48, 0.49, 0.5, 0.51, 0.52, 0.53, 0.54, 0.55, 0.56, 0.5700000000000001, 0.58, 0.59, 0.6, 0.61, 0.62, 0.63, 0.64, 0.65, 0.66, 0.67, 0.68, 0.6900000000000001, 0.7000000000000001, 0.71, 0.72, 0.73, 0.74, 0.75, 0.76, 0.77, 0.78, 0.79, 0.8, 0.81, 0.8200000000000001, 0.8300000000000001, 0.84, 0.85, 0.86, 0.87, 0.88, 0.89, 0.9, 0.91, 0.92, 0.93, 0.9400000000000001, 0.9500000000000001, 0.96, 0.97, 0.98, 0.99], \"xaxis\": \"x\", \"y\": [0.0, 0.06279051952931337, 0.12533323356430426, 0.1873813145857246, 0.2486898871648548, 0.3090169943749474, 0.3681245526846779, 0.4257792915650727, 0.4817536741017153, 0.5358267949789967, 0.5877852522924731, 0.6374239897486896, 0.6845471059286886, 0.7289686274214116, 0.7705132427757893, 0.8090169943749475, 0.8443279255020151, 0.8763066800438637, 0.9048270524660196, 0.9297764858882513, 0.9510565162951535, 0.9685831611286311, 0.9822872507286886, 0.9921147013144779, 0.9980267284282716, 1.0, 0.9980267284282716, 0.9921147013144778, 0.9822872507286886, 0.9685831611286312, 0.9510565162951536, 0.9297764858882513, 0.9048270524660195, 0.8763066800438635, 0.844327925502015, 0.8090169943749475, 0.7705132427757893, 0.7289686274214114, 0.6845471059286888, 0.6374239897486899, 0.5877852522924732, 0.5358267949789967, 0.4817536741017156, 0.4257792915650729, 0.36812455268467814, 0.3090169943749475, 0.24868988716485482, 0.18738131458572457, 0.12533323356430454, 0.06279051952931358, 1.2246467991473532e-16, -0.06279051952931335, -0.12533323356430429, -0.18738131458572477, -0.24868988716485502, -0.30901699437494773, -0.3681245526846783, -0.42577929156507266, -0.481753674101715, -0.5358267949789964, -0.587785252292473, -0.6374239897486896, -0.6845471059286887, -0.7289686274214113, -0.7705132427757894, -0.8090169943749473, -0.8443279255020153, -0.8763066800438636, -0.9048270524660198, -0.9297764858882515, -0.9510565162951535, -0.968583161128631, -0.9822872507286887, -0.9921147013144778, -0.9980267284282716, -1.0, -0.9980267284282716, -0.9921147013144779, -0.9822872507286887, -0.9685831611286311, -0.9510565162951536, -0.9297764858882512, -0.9048270524660196, -0.8763066800438634, -0.8443279255020155, -0.8090169943749476, -0.7705132427757896, -0.7289686274214116, -0.684547105928689, -0.6374239897486896, -0.5877852522924734, -0.5358267949789963, -0.4817536741017153, -0.4257792915650722, -0.36812455268467786, -0.3090169943749476, -0.24868988716485535, -0.18738131458572468, -0.12533323356430465, -0.06279051952931326], \"yaxis\": \"y\"}, {\"line\": {\"color\": \"lightsalmon\"}, \"mode\": \"lines\", \"type\": \"scatter\", \"x\": [0.0, 0.01, 0.02, 0.03, 0.04, 0.05, 0.06, 0.07, 0.08, 0.09, 0.1, 0.11, 0.12, 0.13, 0.14, 0.15, 0.16, 0.17, 0.18, 0.19, 0.2, 0.21, 0.22, 0.23, 0.24, 0.25, 0.26, 0.27, 0.28, 0.29, 0.3, 0.31, 0.32, 0.33, 0.34, 0.35000000000000003, 0.36, 0.37, 0.38, 0.39, 0.4, 0.41000000000000003, 0.42, 0.43, 0.44, 0.45, 0.46, 0.47000000000000003, 0.48, 0.49, 0.5, 0.51, 0.52, 0.53, 0.54, 0.55, 0.56, 0.5700000000000001, 0.58, 0.59, 0.6, 0.61, 0.62, 0.63, 0.64, 0.65, 0.66, 0.67, 0.68, 0.6900000000000001, 0.7000000000000001, 0.71, 0.72, 0.73, 0.74, 0.75, 0.76, 0.77, 0.78, 0.79, 0.8, 0.81, 0.8200000000000001, 0.8300000000000001, 0.84, 0.85, 0.86, 0.87, 0.88, 0.89, 0.9, 0.91, 0.92, 0.93, 0.9400000000000001, 0.9500000000000001, 0.96, 0.97, 0.98, 0.99], \"xaxis\": \"x\", \"y\": [1.0148930945699406, 0.978352438626784, 0.9421975368298897, 0.9064283891792579, 0.8710449956748885, 0.8360473563167813, 0.8014354711049366, 0.767209340039354, 0.7333689631200341, 0.6999143403469764, 0.666845471720181, 0.6341623572396481, 0.6018649969053775, 0.5699533907173693, 0.5384275386756233, 0.5072874407801399, 0.47653309703091873, 0.4461645074279599, 0.41618167197126354, 0.38658459066082934, 0.3573732634966576, 0.3285476904787483, 0.3001078716071013, 0.27205380688171665, 0.24438549630259448, 0.21710293986973456, 0.190206137583137, 0.1636950894428018, 0.13756979544872897, 0.11183025560091855, 0.08647646989937055, 0.061508438344084704, 0.03692616093506143, 0.012729637672300287, -0.011081131444198256, -0.03450614641443467, -0.05754540723840834, -0.08019891391612005, -0.10246666644756935, -0.12434866483275608, -0.14584490907168068, -0.1669553991643427, -0.1876801351107425, -0.20801911691087976, -0.2279723445647549, -0.24753981807236747, -0.2667215374337179, -0.2855175026488057, -0.3039277137176313, -0.32195217064019443, -0.3395908734164954, -0.3568438220465341, -0.37371101653031, -0.3901924568678239, -0.40628814305907524, -0.4219980751040642, -0.43732225300279104, -0.4522606767552554, -0.4668133463614573, -0.48098026182139664, -0.494761423135074, -0.5081568303024889, -0.5211664833236416, -0.5337903821985318, -0.5460285269271593, -0.5578809175095248, -0.5693475539456281, -0.5804284362354688, -0.5911235643790469, -0.601432938376363, -0.6113565582274167, -0.6208944239322078, -0.6300465354907365, -0.6388128929030032, -0.6471934961690076, -0.6551883452887495, -0.662797440262229, -0.6700207810894458, -0.6768583677704005, -0.683310200305093, -0.6893762786935231, -0.6950566029356904, -0.7003511730315959, -0.705259988981239, -0.7097830507846197, -0.7139203584417375, -0.7176719119525934, -0.7210377113171869, -0.7240177565355181, -0.726612047607587, -0.728820584533393, -0.7306433673129371, -0.732080395946219, -0.7331316704332382, -0.7337971907739949, -0.7340769569684897, -0.7339709690167218, -0.7334792269186918, -0.732601730674399, -0.7313384802838443], \"yaxis\": \"y\"}, {\"marker\": {\"color\": \"mediumpurple\"}, \"mode\": \"markers\", \"type\": \"scatter\", \"x\": [0.3745401188473625, 0.9507143064099162, 0.7319939418114051, 0.5986584841970366, 0.15601864044243652, 0.15599452033620265, 0.05808361216819946, 0.8661761457749352, 0.6011150117432088, 0.7080725777960455], \"xaxis\": \"x2\", \"y\": [0.6621995859491285, -0.2504894367193866, -1.0399487832345553, -0.6275182299806012, 0.854857342681687, 0.6392487011533475, 0.18441089666331875, -0.8014323286500792, -0.6947217251134631, -0.9340757540684701], \"yaxis\": \"y2\"}, {\"line\": {\"color\": \"lightgreen\"}, \"mode\": \"lines\", \"type\": \"scatter\", \"x\": [0.0, 0.01, 0.02, 0.03, 0.04, 0.05, 0.06, 0.07, 0.08, 0.09, 0.1, 0.11, 0.12, 0.13, 0.14, 0.15, 0.16, 0.17, 0.18, 0.19, 0.2, 0.21, 0.22, 0.23, 0.24, 0.25, 0.26, 0.27, 0.28, 0.29, 0.3, 0.31, 0.32, 0.33, 0.34, 0.35000000000000003, 0.36, 0.37, 0.38, 0.39, 0.4, 0.41000000000000003, 0.42, 0.43, 0.44, 0.45, 0.46, 0.47000000000000003, 0.48, 0.49, 0.5, 0.51, 0.52, 0.53, 0.54, 0.55, 0.56, 0.5700000000000001, 0.58, 0.59, 0.6, 0.61, 0.62, 0.63, 0.64, 0.65, 0.66, 0.67, 0.68, 0.6900000000000001, 0.7000000000000001, 0.71, 0.72, 0.73, 0.74, 0.75, 0.76, 0.77, 0.78, 0.79, 0.8, 0.81, 0.8200000000000001, 0.8300000000000001, 0.84, 0.85, 0.86, 0.87, 0.88, 0.89, 0.9, 0.91, 0.92, 0.93, 0.9400000000000001, 0.9500000000000001, 0.96, 0.97, 0.98, 0.99], \"xaxis\": \"x2\", \"y\": [0.0, 0.06279051952931337, 0.12533323356430426, 0.1873813145857246, 0.2486898871648548, 0.3090169943749474, 0.3681245526846779, 0.4257792915650727, 0.4817536741017153, 0.5358267949789967, 0.5877852522924731, 0.6374239897486896, 0.6845471059286886, 0.7289686274214116, 0.7705132427757893, 0.8090169943749475, 0.8443279255020151, 0.8763066800438637, 0.9048270524660196, 0.9297764858882513, 0.9510565162951535, 0.9685831611286311, 0.9822872507286886, 0.9921147013144779, 0.9980267284282716, 1.0, 0.9980267284282716, 0.9921147013144778, 0.9822872507286886, 0.9685831611286312, 0.9510565162951536, 0.9297764858882513, 0.9048270524660195, 0.8763066800438635, 0.844327925502015, 0.8090169943749475, 0.7705132427757893, 0.7289686274214114, 0.6845471059286888, 0.6374239897486899, 0.5877852522924732, 0.5358267949789967, 0.4817536741017156, 0.4257792915650729, 0.36812455268467814, 0.3090169943749475, 0.24868988716485482, 0.18738131458572457, 0.12533323356430454, 0.06279051952931358, 1.2246467991473532e-16, -0.06279051952931335, -0.12533323356430429, -0.18738131458572477, -0.24868988716485502, -0.30901699437494773, -0.3681245526846783, -0.42577929156507266, -0.481753674101715, -0.5358267949789964, -0.587785252292473, -0.6374239897486896, -0.6845471059286887, -0.7289686274214113, -0.7705132427757894, -0.8090169943749473, -0.8443279255020153, -0.8763066800438636, -0.9048270524660198, -0.9297764858882515, -0.9510565162951535, -0.968583161128631, -0.9822872507286887, -0.9921147013144778, -0.9980267284282716, -1.0, -0.9980267284282716, -0.9921147013144779, -0.9822872507286887, -0.9685831611286311, -0.9510565162951536, -0.9297764858882512, -0.9048270524660196, -0.8763066800438634, -0.8443279255020155, -0.8090169943749476, -0.7705132427757896, -0.7289686274214116, -0.684547105928689, -0.6374239897486896, -0.5877852522924734, -0.5358267949789963, -0.4817536741017153, -0.4257792915650722, -0.36812455268467786, -0.3090169943749476, -0.24868988716485535, -0.18738131458572468, -0.12533323356430465, -0.06279051952931326], \"yaxis\": \"y2\"}, {\"line\": {\"color\": \"lightsalmon\"}, \"mode\": \"lines\", \"type\": \"scatter\", \"x\": [0.0, 0.01, 0.02, 0.03, 0.04, 0.05, 0.06, 0.07, 0.08, 0.09, 0.1, 0.11, 0.12, 0.13, 0.14, 0.15, 0.16, 0.17, 0.18, 0.19, 0.2, 0.21, 0.22, 0.23, 0.24, 0.25, 0.26, 0.27, 0.28, 0.29, 0.3, 0.31, 0.32, 0.33, 0.34, 0.35000000000000003, 0.36, 0.37, 0.38, 0.39, 0.4, 0.41000000000000003, 0.42, 0.43, 0.44, 0.45, 0.46, 0.47000000000000003, 0.48, 0.49, 0.5, 0.51, 0.52, 0.53, 0.54, 0.55, 0.56, 0.5700000000000001, 0.58, 0.59, 0.6, 0.61, 0.62, 0.63, 0.64, 0.65, 0.66, 0.67, 0.68, 0.6900000000000001, 0.7000000000000001, 0.71, 0.72, 0.73, 0.74, 0.75, 0.76, 0.77, 0.78, 0.79, 0.8, 0.81, 0.8200000000000001, 0.8300000000000001, 0.84, 0.85, 0.86, 0.87, 0.88, 0.89, 0.9, 0.91, 0.92, 0.93, 0.9400000000000001, 0.9500000000000001, 0.96, 0.97, 0.98, 0.99], \"xaxis\": \"x2\", \"y\": [-0.5120931109714033, -0.37948414887761195, -0.2543806313043074, -0.13662943381560866, -0.026077431975635258, 0.07742849865149365, 0.1740414825016588, 0.26391464401074083, 0.3472011076146205, 0.4240539977491785, 0.4946264388502957, 0.5590715553538528, 0.6175424716957305, 0.6701923123118092, 0.7171742016379702, 0.7586412641100938, 0.7947466241640608, 0.8256434062357523, 0.8514847347610482, 0.8724237341758303, 0.8886135289159782, 0.9002072434173738, 0.9073580021158967, 0.9102189294474288, 0.9089431498478496, 0.9036837877530405, 0.8945939675988819, 0.8818268138212552, 0.8655354508560406, 0.8458730031391184, 0.8229925951063705, 0.7970473511936764, 0.768190395836918, 0.7365748534719754, 0.7023538485347289, 0.6656805054610602, 0.6267079486868479, 0.5855893026479773, 0.5424776917803236, 0.49752624051977046, 0.4508880733021976, 0.4027163145634878, 0.35316408873952043, 0.30238452026617546, 0.25053073357933364, 0.19775585311487642, 0.14421300330868592, 0.0900553085966389, 0.035435893414621056, -0.01949211780148996, -0.07457560061581336, -0.12966143059246749, -0.18459648329557288, -0.2392276342892461, -0.2934017591376099, -0.3469657334047813, -0.39976643265487954, -0.451650732452026, -0.5024655083603395, -0.5520576359439335, -0.6002739907669374, -0.646961448393462, -0.6919668843876323, -0.7351371743135626, -0.7763191937353744, -0.8153598182171908, -0.8521059233231227, -0.8864043846172969, -0.9181020776638302, -0.947045878026838, -0.9730826612704462, -0.9960593029587752, -1.0158226786559315, -1.0322196639260444, -1.0450971343332345, -1.0543019654416206, -1.0596810328153161, -1.0610812120184452, -1.0583493786151266, -1.051332408169479, -1.0398771762456214, -1.0238305584076723, -1.0030394302197472, -0.9773506672459717, -0.9466111450504702, -0.910667739197347, -0.8693673252507352, -0.8225567787747501, -0.770082975333505, -0.7117927904911205, -0.6475330998117244, -0.5771507788594299, -0.5004927031983506, -0.41740574839262123, -0.3277367900063517, -0.23133270360364477, -0.12804036474865654, -0.017706649005475583, 0.09982156806176334, 0.22469741088895034], \"yaxis\": \"y2\"}, {\"marker\": {\"color\": \"mediumpurple\"}, \"mode\": \"markers\", \"type\": \"scatter\", \"x\": [0.3745401188473625, 0.9507143064099162, 0.7319939418114051, 0.5986584841970366, 0.15601864044243652, 0.15599452033620265, 0.05808361216819946, 0.8661761457749352, 0.6011150117432088, 0.7080725777960455], \"xaxis\": \"x3\", \"y\": [0.6621995859491285, -0.2504894367193866, -1.0399487832345553, -0.6275182299806012, 0.854857342681687, 0.6392487011533475, 0.18441089666331875, -0.8014323286500792, -0.6947217251134631, -0.9340757540684701], \"yaxis\": \"y3\"}, {\"line\": {\"color\": \"lightgreen\"}, \"mode\": \"lines\", \"type\": \"scatter\", \"x\": [0.0, 0.01, 0.02, 0.03, 0.04, 0.05, 0.06, 0.07, 0.08, 0.09, 0.1, 0.11, 0.12, 0.13, 0.14, 0.15, 0.16, 0.17, 0.18, 0.19, 0.2, 0.21, 0.22, 0.23, 0.24, 0.25, 0.26, 0.27, 0.28, 0.29, 0.3, 0.31, 0.32, 0.33, 0.34, 0.35000000000000003, 0.36, 0.37, 0.38, 0.39, 0.4, 0.41000000000000003, 0.42, 0.43, 0.44, 0.45, 0.46, 0.47000000000000003, 0.48, 0.49, 0.5, 0.51, 0.52, 0.53, 0.54, 0.55, 0.56, 0.5700000000000001, 0.58, 0.59, 0.6, 0.61, 0.62, 0.63, 0.64, 0.65, 0.66, 0.67, 0.68, 0.6900000000000001, 0.7000000000000001, 0.71, 0.72, 0.73, 0.74, 0.75, 0.76, 0.77, 0.78, 0.79, 0.8, 0.81, 0.8200000000000001, 0.8300000000000001, 0.84, 0.85, 0.86, 0.87, 0.88, 0.89, 0.9, 0.91, 0.92, 0.93, 0.9400000000000001, 0.9500000000000001, 0.96, 0.97, 0.98, 0.99], \"xaxis\": \"x3\", \"y\": [0.0, 0.06279051952931337, 0.12533323356430426, 0.1873813145857246, 0.2486898871648548, 0.3090169943749474, 0.3681245526846779, 0.4257792915650727, 0.4817536741017153, 0.5358267949789967, 0.5877852522924731, 0.6374239897486896, 0.6845471059286886, 0.7289686274214116, 0.7705132427757893, 0.8090169943749475, 0.8443279255020151, 0.8763066800438637, 0.9048270524660196, 0.9297764858882513, 0.9510565162951535, 0.9685831611286311, 0.9822872507286886, 0.9921147013144779, 0.9980267284282716, 1.0, 0.9980267284282716, 0.9921147013144778, 0.9822872507286886, 0.9685831611286312, 0.9510565162951536, 0.9297764858882513, 0.9048270524660195, 0.8763066800438635, 0.844327925502015, 0.8090169943749475, 0.7705132427757893, 0.7289686274214114, 0.6845471059286888, 0.6374239897486899, 0.5877852522924732, 0.5358267949789967, 0.4817536741017156, 0.4257792915650729, 0.36812455268467814, 0.3090169943749475, 0.24868988716485482, 0.18738131458572457, 0.12533323356430454, 0.06279051952931358, 1.2246467991473532e-16, -0.06279051952931335, -0.12533323356430429, -0.18738131458572477, -0.24868988716485502, -0.30901699437494773, -0.3681245526846783, -0.42577929156507266, -0.481753674101715, -0.5358267949789964, -0.587785252292473, -0.6374239897486896, -0.6845471059286887, -0.7289686274214113, -0.7705132427757894, -0.8090169943749473, -0.8443279255020153, -0.8763066800438636, -0.9048270524660198, -0.9297764858882515, -0.9510565162951535, -0.968583161128631, -0.9822872507286887, -0.9921147013144778, -0.9980267284282716, -1.0, -0.9980267284282716, -0.9921147013144779, -0.9822872507286887, -0.9685831611286311, -0.9510565162951536, -0.9297764858882512, -0.9048270524660196, -0.8763066800438634, -0.8443279255020155, -0.8090169943749476, -0.7705132427757896, -0.7289686274214116, -0.684547105928689, -0.6374239897486896, -0.5877852522924734, -0.5358267949789963, -0.4817536741017153, -0.4257792915650722, -0.36812455268467786, -0.3090169943749476, -0.24868988716485535, -0.18738131458572468, -0.12533323356430465, -0.06279051952931326], \"yaxis\": \"y3\"}, {\"line\": {\"color\": \"lightsalmon\"}, \"mode\": \"lines\", \"type\": \"scatter\", \"x\": [0.0, 0.01, 0.02, 0.03, 0.04, 0.05, 0.06, 0.07, 0.08, 0.09, 0.1, 0.11, 0.12, 0.13, 0.14, 0.15, 0.16, 0.17, 0.18, 0.19, 0.2, 0.21, 0.22, 0.23, 0.24, 0.25, 0.26, 0.27, 0.28, 0.29, 0.3, 0.31, 0.32, 0.33, 0.34, 0.35000000000000003, 0.36, 0.37, 0.38, 0.39, 0.4, 0.41000000000000003, 0.42, 0.43, 0.44, 0.45, 0.46, 0.47000000000000003, 0.48, 0.49, 0.5, 0.51, 0.52, 0.53, 0.54, 0.55, 0.56, 0.5700000000000001, 0.58, 0.59, 0.6, 0.61, 0.62, 0.63, 0.64, 0.65, 0.66, 0.67, 0.68, 0.6900000000000001, 0.7000000000000001, 0.71, 0.72, 0.73, 0.74, 0.75, 0.76, 0.77, 0.78, 0.79, 0.8, 0.81, 0.8200000000000001, 0.8300000000000001, 0.84, 0.85, 0.86, 0.87, 0.88, 0.89, 0.9, 0.91, 0.92, 0.93, 0.9400000000000001, 0.9500000000000001, 0.96, 0.97, 0.98, 0.99], \"xaxis\": \"x3\", \"y\": [46.16034428733764, 30.96992383474717, 19.699783377290032, 11.564979647688084, 5.89989474260571, 2.145043661345291, -0.16516625239070493, -1.4137516328452762, -1.9115750114693242, -1.9069040674870337, -1.5941415907288388, -1.1217609383430727, -0.5994829307689997, -0.10473106832006351, 0.31159733306566295, 0.6200059808138576, 0.8078820064491765, 0.8755473997423451, 0.8328410150826357, 0.6961929295008531, 0.4861533367179618, 0.22533872189728754, -0.06324123169815721, -0.3575117092136679, -0.6373505370893326, -0.8853293046302042, -1.0872102756354707, -1.2322302296047383, -1.3132009782925707, -1.3264548268468843, -1.2716616984134816, -1.151543026127456, -0.9715058457395571, -0.739218804947086, -0.4641500507905221, -0.15708517328857852, 0.1703584190413494, 0.5062061289418125, 0.838577056793838, 1.1561002012772406, 1.4482868212940048, 1.7058515699004602, 1.9209767392203503, 2.0875156400343258, 2.2011327709451507, 2.259380001391037, 2.2617094903762336, 2.2094254808989717, 2.105578437918666, 1.9548062278554426, 1.7631281598887654, 1.5376987148838452, 1.2865286687037951, 1.0181820612460797, 0.7414580651638971, 0.46506725676772476, 0.19731207887070923, -0.054218598237639526, -0.2829309756789371, -0.4834742950988584, -0.6519461394254904, -0.7860465852281777, -0.8851735998487129, -0.9504531771963229, -0.9846990399764763, -0.992298311986815, -0.979021396715325, -0.9517563867138961, -0.9181706931904046, -0.8863052245742438, -0.8641093747210107, -0.8589283090241224, -0.8769575715650717, -0.9226838877821137, -0.9983352135186578, -1.1033675891630992, -1.2340212143790268, -1.38298335955551, -1.5392013017080899, -1.687894403556129, -1.8108207767218119, -1.8868606690011802, -1.8929858220508322, -1.8056915501365438, -1.6029762196667434, -1.2669611524179345, -0.7872527640101907, -0.16515796789099113, 0.581126442317327, 1.4102195831947029, 2.2500159912524396, 2.9887463012310036, 3.4644749826475163, 3.452858936332632, 2.652978185622487, 0.6710367953091918, -2.9982814579743717, -8.993032307749672, -18.108049422633485, -31.322061625065544], \"yaxis\": \"y3\"}],\n",
              "                        {\"annotations\": [{\"font\": {\"size\": 16}, \"showarrow\": false, \"text\": \"poly2 fit\", \"x\": 0.14444444444444446, \"xanchor\": \"center\", \"xref\": \"paper\", \"y\": 1.0, \"yanchor\": \"bottom\", \"yref\": \"paper\"}, {\"font\": {\"size\": 16}, \"showarrow\": false, \"text\": \"poly3 fit\", \"x\": 0.5, \"xanchor\": \"center\", \"xref\": \"paper\", \"y\": 1.0, \"yanchor\": \"bottom\", \"yref\": \"paper\"}, {\"font\": {\"size\": 16}, \"showarrow\": false, \"text\": \"poly10 fit\", \"x\": 0.8555555555555556, \"xanchor\": \"center\", \"xref\": \"paper\", \"y\": 1.0, \"yanchor\": \"bottom\", \"yref\": \"paper\"}], \"height\": 700, \"showlegend\": false, \"template\": {\"data\": {\"bar\": [{\"error_x\": {\"color\": \"#2a3f5f\"}, \"error_y\": {\"color\": \"#2a3f5f\"}, \"marker\": {\"line\": {\"color\": \"#E5ECF6\", \"width\": 0.5}}, \"type\": \"bar\"}], \"barpolar\": [{\"marker\": {\"line\": {\"color\": \"#E5ECF6\", \"width\": 0.5}}, \"type\": \"barpolar\"}], \"carpet\": [{\"aaxis\": {\"endlinecolor\": \"#2a3f5f\", \"gridcolor\": \"white\", \"linecolor\": \"white\", \"minorgridcolor\": \"white\", \"startlinecolor\": \"#2a3f5f\"}, \"baxis\": {\"endlinecolor\": \"#2a3f5f\", \"gridcolor\": \"white\", \"linecolor\": \"white\", \"minorgridcolor\": \"white\", \"startlinecolor\": \"#2a3f5f\"}, \"type\": \"carpet\"}], \"choropleth\": [{\"colorbar\": {\"outlinewidth\": 0, \"ticks\": \"\"}, \"type\": \"choropleth\"}], \"contour\": [{\"colorbar\": {\"outlinewidth\": 0, \"ticks\": \"\"}, \"colorscale\": [[0.0, \"#0d0887\"], [0.1111111111111111, \"#46039f\"], [0.2222222222222222, \"#7201a8\"], [0.3333333333333333, \"#9c179e\"], [0.4444444444444444, \"#bd3786\"], [0.5555555555555556, \"#d8576b\"], [0.6666666666666666, \"#ed7953\"], [0.7777777777777778, \"#fb9f3a\"], [0.8888888888888888, \"#fdca26\"], [1.0, \"#f0f921\"]], \"type\": \"contour\"}], \"contourcarpet\": [{\"colorbar\": {\"outlinewidth\": 0, \"ticks\": \"\"}, \"type\": \"contourcarpet\"}], \"heatmap\": [{\"colorbar\": {\"outlinewidth\": 0, \"ticks\": \"\"}, \"colorscale\": [[0.0, \"#0d0887\"], [0.1111111111111111, \"#46039f\"], [0.2222222222222222, \"#7201a8\"], [0.3333333333333333, \"#9c179e\"], [0.4444444444444444, \"#bd3786\"], [0.5555555555555556, \"#d8576b\"], [0.6666666666666666, \"#ed7953\"], [0.7777777777777778, \"#fb9f3a\"], [0.8888888888888888, \"#fdca26\"], [1.0, \"#f0f921\"]], \"type\": \"heatmap\"}], \"heatmapgl\": [{\"colorbar\": {\"outlinewidth\": 0, \"ticks\": \"\"}, \"colorscale\": [[0.0, \"#0d0887\"], [0.1111111111111111, \"#46039f\"], [0.2222222222222222, \"#7201a8\"], [0.3333333333333333, \"#9c179e\"], [0.4444444444444444, \"#bd3786\"], [0.5555555555555556, \"#d8576b\"], [0.6666666666666666, \"#ed7953\"], [0.7777777777777778, \"#fb9f3a\"], [0.8888888888888888, \"#fdca26\"], [1.0, \"#f0f921\"]], \"type\": \"heatmapgl\"}], \"histogram\": [{\"marker\": {\"colorbar\": {\"outlinewidth\": 0, \"ticks\": \"\"}}, \"type\": \"histogram\"}], \"histogram2d\": [{\"colorbar\": {\"outlinewidth\": 0, \"ticks\": \"\"}, \"colorscale\": [[0.0, \"#0d0887\"], [0.1111111111111111, \"#46039f\"], [0.2222222222222222, \"#7201a8\"], [0.3333333333333333, \"#9c179e\"], [0.4444444444444444, \"#bd3786\"], [0.5555555555555556, \"#d8576b\"], [0.6666666666666666, \"#ed7953\"], [0.7777777777777778, \"#fb9f3a\"], [0.8888888888888888, \"#fdca26\"], [1.0, \"#f0f921\"]], \"type\": \"histogram2d\"}], \"histogram2dcontour\": [{\"colorbar\": {\"outlinewidth\": 0, \"ticks\": \"\"}, \"colorscale\": [[0.0, \"#0d0887\"], [0.1111111111111111, \"#46039f\"], [0.2222222222222222, \"#7201a8\"], [0.3333333333333333, \"#9c179e\"], [0.4444444444444444, \"#bd3786\"], [0.5555555555555556, \"#d8576b\"], [0.6666666666666666, \"#ed7953\"], [0.7777777777777778, \"#fb9f3a\"], [0.8888888888888888, \"#fdca26\"], [1.0, \"#f0f921\"]], \"type\": \"histogram2dcontour\"}], \"mesh3d\": [{\"colorbar\": {\"outlinewidth\": 0, \"ticks\": \"\"}, \"type\": \"mesh3d\"}], \"parcoords\": [{\"line\": {\"colorbar\": {\"outlinewidth\": 0, \"ticks\": \"\"}}, \"type\": \"parcoords\"}], \"pie\": [{\"automargin\": true, \"type\": \"pie\"}], \"scatter\": [{\"marker\": {\"colorbar\": {\"outlinewidth\": 0, \"ticks\": \"\"}}, \"type\": \"scatter\"}], \"scatter3d\": [{\"line\": {\"colorbar\": {\"outlinewidth\": 0, \"ticks\": \"\"}}, \"marker\": {\"colorbar\": {\"outlinewidth\": 0, \"ticks\": \"\"}}, \"type\": \"scatter3d\"}], \"scattercarpet\": [{\"marker\": {\"colorbar\": {\"outlinewidth\": 0, \"ticks\": \"\"}}, \"type\": \"scattercarpet\"}], \"scattergeo\": [{\"marker\": {\"colorbar\": {\"outlinewidth\": 0, \"ticks\": \"\"}}, \"type\": \"scattergeo\"}], \"scattergl\": [{\"marker\": {\"colorbar\": {\"outlinewidth\": 0, \"ticks\": \"\"}}, \"type\": \"scattergl\"}], \"scattermapbox\": [{\"marker\": {\"colorbar\": {\"outlinewidth\": 0, \"ticks\": \"\"}}, \"type\": \"scattermapbox\"}], \"scatterpolar\": [{\"marker\": {\"colorbar\": {\"outlinewidth\": 0, \"ticks\": \"\"}}, \"type\": \"scatterpolar\"}], \"scatterpolargl\": [{\"marker\": {\"colorbar\": {\"outlinewidth\": 0, \"ticks\": \"\"}}, \"type\": \"scatterpolargl\"}], \"scatterternary\": [{\"marker\": {\"colorbar\": {\"outlinewidth\": 0, \"ticks\": \"\"}}, \"type\": \"scatterternary\"}], \"surface\": [{\"colorbar\": {\"outlinewidth\": 0, \"ticks\": \"\"}, \"colorscale\": [[0.0, \"#0d0887\"], [0.1111111111111111, \"#46039f\"], [0.2222222222222222, \"#7201a8\"], [0.3333333333333333, \"#9c179e\"], [0.4444444444444444, \"#bd3786\"], [0.5555555555555556, \"#d8576b\"], [0.6666666666666666, \"#ed7953\"], [0.7777777777777778, \"#fb9f3a\"], [0.8888888888888888, \"#fdca26\"], [1.0, \"#f0f921\"]], \"type\": \"surface\"}], \"table\": [{\"cells\": {\"fill\": {\"color\": \"#EBF0F8\"}, \"line\": {\"color\": \"white\"}}, \"header\": {\"fill\": {\"color\": \"#C8D4E3\"}, \"line\": {\"color\": \"white\"}}, \"type\": \"table\"}]}, \"layout\": {\"annotationdefaults\": {\"arrowcolor\": \"#2a3f5f\", \"arrowhead\": 0, \"arrowwidth\": 1}, \"coloraxis\": {\"colorbar\": {\"outlinewidth\": 0, \"ticks\": \"\"}}, \"colorscale\": {\"diverging\": [[0, \"#8e0152\"], [0.1, \"#c51b7d\"], [0.2, \"#de77ae\"], [0.3, \"#f1b6da\"], [0.4, \"#fde0ef\"], [0.5, \"#f7f7f7\"], [0.6, \"#e6f5d0\"], [0.7, \"#b8e186\"], [0.8, \"#7fbc41\"], [0.9, \"#4d9221\"], [1, \"#276419\"]], \"sequential\": [[0.0, \"#0d0887\"], [0.1111111111111111, \"#46039f\"], [0.2222222222222222, \"#7201a8\"], [0.3333333333333333, \"#9c179e\"], [0.4444444444444444, \"#bd3786\"], [0.5555555555555556, \"#d8576b\"], [0.6666666666666666, \"#ed7953\"], [0.7777777777777778, \"#fb9f3a\"], [0.8888888888888888, \"#fdca26\"], [1.0, \"#f0f921\"]], \"sequentialminus\": [[0.0, \"#0d0887\"], [0.1111111111111111, \"#46039f\"], [0.2222222222222222, \"#7201a8\"], [0.3333333333333333, \"#9c179e\"], [0.4444444444444444, \"#bd3786\"], [0.5555555555555556, \"#d8576b\"], [0.6666666666666666, \"#ed7953\"], [0.7777777777777778, \"#fb9f3a\"], [0.8888888888888888, \"#fdca26\"], [1.0, \"#f0f921\"]]}, \"colorway\": [\"#636efa\", \"#EF553B\", \"#00cc96\", \"#ab63fa\", \"#FFA15A\", \"#19d3f3\", \"#FF6692\", \"#B6E880\", \"#FF97FF\", \"#FECB52\"], \"font\": {\"color\": \"#2a3f5f\"}, \"geo\": {\"bgcolor\": \"white\", \"lakecolor\": \"white\", \"landcolor\": \"#E5ECF6\", \"showlakes\": true, \"showland\": true, \"subunitcolor\": \"white\"}, \"hoverlabel\": {\"align\": \"left\"}, \"hovermode\": \"closest\", \"mapbox\": {\"style\": \"light\"}, \"paper_bgcolor\": \"white\", \"plot_bgcolor\": \"#E5ECF6\", \"polar\": {\"angularaxis\": {\"gridcolor\": \"white\", \"linecolor\": \"white\", \"ticks\": \"\"}, \"bgcolor\": \"#E5ECF6\", \"radialaxis\": {\"gridcolor\": \"white\", \"linecolor\": \"white\", \"ticks\": \"\"}}, \"scene\": {\"xaxis\": {\"backgroundcolor\": \"#E5ECF6\", \"gridcolor\": \"white\", \"gridwidth\": 2, \"linecolor\": \"white\", \"showbackground\": true, \"ticks\": \"\", \"zerolinecolor\": \"white\"}, \"yaxis\": {\"backgroundcolor\": \"#E5ECF6\", \"gridcolor\": \"white\", \"gridwidth\": 2, \"linecolor\": \"white\", \"showbackground\": true, \"ticks\": \"\", \"zerolinecolor\": \"white\"}, \"zaxis\": {\"backgroundcolor\": \"#E5ECF6\", \"gridcolor\": \"white\", \"gridwidth\": 2, \"linecolor\": \"white\", \"showbackground\": true, \"ticks\": \"\", \"zerolinecolor\": \"white\"}}, \"shapedefaults\": {\"line\": {\"color\": \"#2a3f5f\"}}, \"ternary\": {\"aaxis\": {\"gridcolor\": \"white\", \"linecolor\": \"white\", \"ticks\": \"\"}, \"baxis\": {\"gridcolor\": \"white\", \"linecolor\": \"white\", \"ticks\": \"\"}, \"bgcolor\": \"#E5ECF6\", \"caxis\": {\"gridcolor\": \"white\", \"linecolor\": \"white\", \"ticks\": \"\"}}, \"title\": {\"x\": 0.05}, \"xaxis\": {\"automargin\": true, \"gridcolor\": \"white\", \"linecolor\": \"white\", \"ticks\": \"\", \"title\": {\"standoff\": 15}, \"zerolinecolor\": \"white\", \"zerolinewidth\": 2}, \"yaxis\": {\"automargin\": true, \"gridcolor\": \"white\", \"linecolor\": \"white\", \"ticks\": \"\", \"title\": {\"standoff\": 15}, \"zerolinecolor\": \"white\", \"zerolinewidth\": 2}}}, \"title\": {\"text\": \"Polynomial fits and their coefficients\"}, \"width\": 1300, \"xaxis\": {\"anchor\": \"y\", \"domain\": [0.0, 0.2888888888888889], \"range\": [0, 1], \"title\": {\"text\": \"x<br><br><br>a: 1.93<br>b: -3.67<br>c: 1.01\"}}, \"xaxis2\": {\"anchor\": \"y2\", \"domain\": [0.35555555555555557, 0.6444444444444445], \"range\": [0, 1], \"title\": {\"text\": \"x<br><br><br>a: 25.52<br>b: -38.29<br>c: 13.64<br>d: -0.51\"}}, \"xaxis3\": {\"anchor\": \"y3\", \"domain\": [0.7111111111111111, 1.0], \"range\": [0, 1], \"title\": {\"text\": \"x<br><br><br>a: -249726.7<br>b: 840051.62<br>c: -820800.88<br>d: -356469.62<br>e: 1416613.75<br>f: -1306068.75<br>g: 618725.98<br>h: -164808.61<br>i: 24131.7<br>j: -1744.48<br>k: 46.16\"}}, \"yaxis\": {\"anchor\": \"x\", \"domain\": [0.0, 1.0], \"range\": [-5, 5], \"title\": {\"text\": \"t\"}}, \"yaxis2\": {\"anchor\": \"x2\", \"domain\": [0.0, 1.0], \"range\": [-5, 5], \"title\": {\"text\": \"t\"}}, \"yaxis3\": {\"anchor\": \"x3\", \"domain\": [0.0, 1.0], \"range\": [-5, 5], \"title\": {\"text\": \"t\"}}},\n",
              "                        {\"responsive\": true}\n",
              "                    ).then(function(){\n",
              "                            \n",
              "var gd = document.getElementById('9202c2a5-61fd-46e3-92d5-ddfb90eade11');\n",
              "var x = new MutationObserver(function (mutations, observer) {{\n",
              "        var display = window.getComputedStyle(gd).display;\n",
              "        if (!display || display === 'none') {{\n",
              "            console.log([gd, 'removed!']);\n",
              "            Plotly.purge(gd);\n",
              "            observer.disconnect();\n",
              "        }}\n",
              "}});\n",
              "\n",
              "// Listen for the removal of the full notebook cells\n",
              "var notebookContainer = gd.closest('#notebook-container');\n",
              "if (notebookContainer) {{\n",
              "    x.observe(notebookContainer, {childList: true});\n",
              "}}\n",
              "\n",
              "// Listen for the clearing of the current output cell\n",
              "var outputEl = gd.closest('.output');\n",
              "if (outputEl) {{\n",
              "    x.observe(outputEl, {childList: true});\n",
              "}}\n",
              "\n",
              "                        })\n",
              "                };\n",
              "                \n",
              "            </script>\n",
              "        </div>\n",
              "</body>\n",
              "</html>"
            ]
          },
          "metadata": {
            "tags": []
          }
        }
      ]
    },
    {
      "cell_type": "markdown",
      "metadata": {
        "id": "4KPPrymvhAmb"
      },
      "source": [
        "Nevertheless you should find *evidence* to support your judgement, that now could be something like \"*High degree polynomial fits lead to a high generalization error for this dataset*\".\n",
        "\n",
        "As you have learnt in the lecture, a useful study you can perform consists in evaluating the MSE loss on a *test set*. So on samples not used in training. \n",
        "\n",
        "Such the ones that are going to magically appear in the next cell.\n",
        "\n",
        "(Often you get all the available data in the beginning, where you should perform a train-val-test split) "
      ]
    },
    {
      "cell_type": "code",
      "metadata": {
        "id": "QPi-ZFkUliUA"
      },
      "source": [
        "x_test = np.random.rand(10)\n",
        "t_test = np.sin(2 * np.pi * x_test) + 0.1 * np.random.randn(10)"
      ],
      "execution_count": 18,
      "outputs": []
    },
    {
      "cell_type": "markdown",
      "metadata": {
        "id": "YJu_1xXUloK0"
      },
      "source": [
        "> **EXERCISE**: Do a nice plot \"MSE loss **vs** degree of the polynomial fit\" that shows the trends of the training set and the test set."
      ]
    },
    {
      "cell_type": "code",
      "metadata": {
        "id": "HuQphUAXhh_w"
      },
      "source": [
        "# ✏️ your code here "
      ],
      "execution_count": 19,
      "outputs": []
    },
    {
      "cell_type": "markdown",
      "metadata": {
        "id": "5z1iX6ltDTx8"
      },
      "source": [
        "###Regularization"
      ]
    },
    {
      "cell_type": "markdown",
      "metadata": {
        "id": "ENt79TByFzyD"
      },
      "source": [
        "Still, it is not always desirable to work with simple models with few parameters. \n",
        "\n",
        "Think about the true link between the input variable $x$ and the target variable $t$, it is through a $\\sin$ function.\n",
        "And a $\\sin$ function written in a polynomial basis (i.e. its Taylor series) contains terms of *every* odd degree, i.e. infinite terms. Our approximation of the ground truth function should benefit from high order terms... \n",
        "\n",
        "We want to have many parameters, and we want to rule them all.\n",
        "This is why we need **regularizers**.\n",
        "\n",
        "Let's start looking at the effects of applying the simplest and most universal regularizer, *more data*.\n"
      ]
    },
    {
      "cell_type": "code",
      "metadata": {
        "id": "qcikXP28Ntfo",
        "colab": {
          "base_uri": "https://localhost:8080/",
          "height": 717
        },
        "outputId": "e1097ad9-4497-4d2b-f866-7077929ad3aa"
      },
      "source": [
        "# @title Regularized polynomial fits: more data { run: \"auto\" }\n",
        "\n",
        "training_dataset_size = 75  #@param {type:\"slider\", min:1, max:100, step:1}\n",
        "temp_x, temp_t = x, t\n",
        "x = np.random.rand(training_dataset_size)\n",
        "t = np.sin(2 * np.pi * x) + 0.1 * np.random.randn(training_dataset_size)\n",
        "\n",
        "deg_1 = 2  #@param {type:\"slider\", min:0, max:15, step:1}\n",
        "deg_2 = 6  #@param {type:\"slider\", min:0, max:15, step:1}\n",
        "deg_3 = 13  #@param {type:\"slider\", min:0, max:15, step:1}\n",
        "\n",
        "degree = {}\n",
        "degree[0], degree[1], degree[2] = deg_1, deg_2, deg_3\n",
        "\n",
        "max_degree = max(degree.values())\n",
        "y = torch.from_numpy(t)\n",
        "X_full = torch.ones((y.shape[0], max_degree + 1), dtype=torch.float64)  # double precision is needed for this calculation! \n",
        "for i in range(max_degree):\n",
        "    X_full[:,i] =  torch.from_numpy(x) ** (max_degree - i)\n",
        "\n",
        "theta_collection = {}\n",
        "\n",
        "for i in range(3):\n",
        "    X = X_full[:,-(degree[i] + 1):]\n",
        "    temp_inverse = torch.inverse(torch.einsum('ij,jk->ik', X.t(), X))\n",
        "    theta_collection[i] = torch.einsum('ij,jk,k->i', temp_inverse, X.t(), y)\n",
        "\n",
        "fig = make_subplots(\n",
        "    rows=1, cols=3,\n",
        "    subplot_titles=(f\"poly{degree[0]} fit\", f\"poly{degree[1]} fit\", f\"poly{degree[2]} fit\"))\n",
        "\n",
        "x_funcs = np.arange(0,1,1./100)\n",
        "y_funcs = {}\n",
        "for i in range(3):\n",
        "    theta_funcs = theta_collection[i].numpy()\n",
        "    X_funcs = np.ones((x_funcs.shape[0], degree[i] + 1), dtype=np.float64)\n",
        "    for j in range(degree[i]):\n",
        "        X_funcs[:,j] =  x_funcs ** (degree[i] - j)\n",
        "    y_funcs[i] = np.einsum('ij,j->i', X_funcs, theta_funcs)\n",
        "    coefficients_string = '<br><br><br>' + '<br>'.join([c + f': {np.round(theta_funcs[i], decimals=2)}' for i, c in enumerate('abcdefghijklmnopqrstuvwxyz'[:len(theta_funcs)])])\n",
        "\n",
        "    fig.add_trace(go.Scatter(x=x, y=t, mode='markers', marker=dict(color=\"mediumpurple\")), row=1, col=i + 1)\n",
        "    fig.add_trace(go.Scatter(x=x_funcs, y=np.sin(2*np.pi*x_funcs), mode='lines', line=dict(color=\"lightgreen\")), row=1, col=i + 1)\n",
        "    fig.add_trace(go.Scatter(x=x_funcs, y=y_funcs[i], mode='lines', line=dict(color=\"lightsalmon\")), row=1, col=i + 1)\n",
        "    fig.update_xaxes(title_text=\"x\" + coefficients_string, range = [0,1], row=1, col=i+1)\n",
        "\n",
        "fig.update_layout(showlegend=False)\n",
        "fig.update_yaxes(title_text=\"t\", range = [-5,5])\n",
        "fig.update_layout(height=700, width=1300, title_text=\"Polynomial fits and their coefficients\")\n",
        "fig.show()\n",
        "\n",
        "x, t = temp_x, temp_t"
      ],
      "execution_count": 20,
      "outputs": [
        {
          "output_type": "display_data",
          "data": {
            "text/html": [
              "<html>\n",
              "<head><meta charset=\"utf-8\" /></head>\n",
              "<body>\n",
              "    <div>\n",
              "            <script src=\"https://cdnjs.cloudflare.com/ajax/libs/mathjax/2.7.5/MathJax.js?config=TeX-AMS-MML_SVG\"></script><script type=\"text/javascript\">if (window.MathJax) {MathJax.Hub.Config({SVG: {font: \"STIX-Web\"}});}</script>\n",
              "                <script type=\"text/javascript\">window.PlotlyConfig = {MathJaxConfig: 'local'};</script>\n",
              "        <script src=\"https://cdn.plot.ly/plotly-latest.min.js\"></script>    \n",
              "            <div id=\"414a9c76-15ff-4125-a79a-e2e03b9319b4\" class=\"plotly-graph-div\" style=\"height:700px; width:1300px;\"></div>\n",
              "            <script type=\"text/javascript\">\n",
              "                \n",
              "                    window.PLOTLYENV=window.PLOTLYENV || {};\n",
              "                    \n",
              "                if (document.getElementById(\"414a9c76-15ff-4125-a79a-e2e03b9319b4\")) {\n",
              "                    Plotly.newPlot(\n",
              "                        '414a9c76-15ff-4125-a79a-e2e03b9319b4',\n",
              "                        [{\"marker\": {\"color\": \"mediumpurple\"}, \"mode\": \"markers\", \"type\": \"scatter\", \"x\": [0.7689874151805105, 0.944765729882428, 0.8496473906774115, 0.24734810174319766, 0.4505441353100935, 0.12915941515149498, 0.9540510272587224, 0.60617463445088, 0.22864280550346272, 0.6717006844058567, 0.6181282404578958, 0.3581627180328405, 0.11355759219962902, 0.6715731955927996, 0.5203077009037933, 0.7723183917356393, 0.5201635011119934, 0.8521815003185401, 0.5519068387744855, 0.5609379715353863, 0.876653602658345, 0.40348286621239704, 0.13401522845064073, 0.028782676313338973, 0.755137255673619, 0.6203095513534647, 0.7040797680992236, 0.21296416150891073, 0.13637147558676976, 0.014544665667881929, 0.350587558806597, 0.5899176868546331, 0.3922440450997323, 0.43747492202372906, 0.9041586944937484, 0.34825546702330035, 0.5139894891598108, 0.7836530127411431, 0.39654278232127016, 0.6220867002278735, 0.8623637087467452, 0.9495206236576421, 0.14707348092903794, 0.9265876251614944, 0.4921162930795382, 0.25824438829895835, 0.4591357562382613, 0.980032575285477, 0.4926180939928696, 0.3287516102875082, 0.6334008543167258, 0.24014561877819307, 0.07586332810866392, 0.12887972191064923, 0.12804583895777244, 0.15190269351229435, 0.13882717264941014, 0.6408747448032146, 0.18188008439914483, 0.3456672833238632, 0.8967884099060118, 0.47396164026287235, 0.6675577385210272, 0.17231987120162984, 0.19228901880867078, 0.04086861626647886, 0.16893506307216455, 0.2785903390319586, 0.17701048427674682, 0.08870253375705561, 0.12063587110060081, 0.46077876803272577, 0.2063337184057925, 0.36426986104807546, 0.5034172708548569], \"xaxis\": \"x\", \"y\": [-1.0030869700541025, -0.33590908586968693, -0.7588583526548709, 1.1203246932128537, 0.3908990511743548, 0.6633066347722828, -0.3583531498133372, -0.5607715641460059, 0.9362818786731293, -1.0042098367321786, -0.4385126719958622, 0.7467477245280314, 0.5918341881648834, -1.100238778506168, -0.04211088571582566, -1.0889773770755946, -0.12349031844819512, -0.7040222972411384, -0.4176160263520146, -0.3656494730867589, -0.5473432436158812, 0.324267105397709, 0.6649542834431234, 0.08940852706147241, -1.0181696122117478, -0.6907427190144673, -1.0647907829288896, 0.9076092726367068, 0.6784593317486224, 0.05618075455897162, 0.8286638087038088, -0.444333634198128, 0.7320300445023946, 0.4481924290499091, -0.653844929170768, 0.8150815185470195, 0.14964753020420118, -0.8762747461282595, 0.5611684853204665, -0.535841775506875, -0.7997687561198744, -0.3787203772513928, 0.9376459172208558, -0.5760448928372386, -0.14186322126936105, 1.0927870849867114, 0.25671489178451024, -0.1123936204674302, 0.010222971146239185, 0.8562091570366543, -0.7892396254269181, 0.9354844678255023, 0.42062599533230066, 0.6827870157700877, 0.6376504002327472, 0.7614690533445988, 0.5155191766759172, -0.7055407665048586, 0.948818827197945, 0.8162258013680368, -0.5802572056846277, 0.19023271314772663, -0.941211380335023, 0.8299774391271417, 0.9878062917565974, 0.274722719684555, 1.0773956278067982, 1.1458695814367732, 0.9899714154236798, 0.45275242686289385, 0.6309983797664684, 0.14374283979857433, 0.9905736209047372, 0.47904151432814873, -0.06733162397621217], \"yaxis\": \"y\"}, {\"line\": {\"color\": \"lightgreen\"}, \"mode\": \"lines\", \"type\": \"scatter\", \"x\": [0.0, 0.01, 0.02, 0.03, 0.04, 0.05, 0.06, 0.07, 0.08, 0.09, 0.1, 0.11, 0.12, 0.13, 0.14, 0.15, 0.16, 0.17, 0.18, 0.19, 0.2, 0.21, 0.22, 0.23, 0.24, 0.25, 0.26, 0.27, 0.28, 0.29, 0.3, 0.31, 0.32, 0.33, 0.34, 0.35000000000000003, 0.36, 0.37, 0.38, 0.39, 0.4, 0.41000000000000003, 0.42, 0.43, 0.44, 0.45, 0.46, 0.47000000000000003, 0.48, 0.49, 0.5, 0.51, 0.52, 0.53, 0.54, 0.55, 0.56, 0.5700000000000001, 0.58, 0.59, 0.6, 0.61, 0.62, 0.63, 0.64, 0.65, 0.66, 0.67, 0.68, 0.6900000000000001, 0.7000000000000001, 0.71, 0.72, 0.73, 0.74, 0.75, 0.76, 0.77, 0.78, 0.79, 0.8, 0.81, 0.8200000000000001, 0.8300000000000001, 0.84, 0.85, 0.86, 0.87, 0.88, 0.89, 0.9, 0.91, 0.92, 0.93, 0.9400000000000001, 0.9500000000000001, 0.96, 0.97, 0.98, 0.99], \"xaxis\": \"x\", \"y\": [0.0, 0.06279051952931337, 0.12533323356430426, 0.1873813145857246, 0.2486898871648548, 0.3090169943749474, 0.3681245526846779, 0.4257792915650727, 0.4817536741017153, 0.5358267949789967, 0.5877852522924731, 0.6374239897486896, 0.6845471059286886, 0.7289686274214116, 0.7705132427757893, 0.8090169943749475, 0.8443279255020151, 0.8763066800438637, 0.9048270524660196, 0.9297764858882513, 0.9510565162951535, 0.9685831611286311, 0.9822872507286886, 0.9921147013144779, 0.9980267284282716, 1.0, 0.9980267284282716, 0.9921147013144778, 0.9822872507286886, 0.9685831611286312, 0.9510565162951536, 0.9297764858882513, 0.9048270524660195, 0.8763066800438635, 0.844327925502015, 0.8090169943749475, 0.7705132427757893, 0.7289686274214114, 0.6845471059286888, 0.6374239897486899, 0.5877852522924732, 0.5358267949789967, 0.4817536741017156, 0.4257792915650729, 0.36812455268467814, 0.3090169943749475, 0.24868988716485482, 0.18738131458572457, 0.12533323356430454, 0.06279051952931358, 1.2246467991473532e-16, -0.06279051952931335, -0.12533323356430429, -0.18738131458572477, -0.24868988716485502, -0.30901699437494773, -0.3681245526846783, -0.42577929156507266, -0.481753674101715, -0.5358267949789964, -0.587785252292473, -0.6374239897486896, -0.6845471059286887, -0.7289686274214113, -0.7705132427757894, -0.8090169943749473, -0.8443279255020153, -0.8763066800438636, -0.9048270524660198, -0.9297764858882515, -0.9510565162951535, -0.968583161128631, -0.9822872507286887, -0.9921147013144778, -0.9980267284282716, -1.0, -0.9980267284282716, -0.9921147013144779, -0.9822872507286887, -0.9685831611286311, -0.9510565162951536, -0.9297764858882512, -0.9048270524660196, -0.8763066800438634, -0.8443279255020155, -0.8090169943749476, -0.7705132427757896, -0.7289686274214116, -0.684547105928689, -0.6374239897486896, -0.5877852522924734, -0.5358267949789963, -0.4817536741017153, -0.4257792915650722, -0.36812455268467786, -0.3090169943749476, -0.24868988716485535, -0.18738131458572468, -0.12533323356430465, -0.06279051952931326], \"yaxis\": \"y\"}, {\"line\": {\"color\": \"lightsalmon\"}, \"mode\": \"lines\", \"type\": \"scatter\", \"x\": [0.0, 0.01, 0.02, 0.03, 0.04, 0.05, 0.06, 0.07, 0.08, 0.09, 0.1, 0.11, 0.12, 0.13, 0.14, 0.15, 0.16, 0.17, 0.18, 0.19, 0.2, 0.21, 0.22, 0.23, 0.24, 0.25, 0.26, 0.27, 0.28, 0.29, 0.3, 0.31, 0.32, 0.33, 0.34, 0.35000000000000003, 0.36, 0.37, 0.38, 0.39, 0.4, 0.41000000000000003, 0.42, 0.43, 0.44, 0.45, 0.46, 0.47000000000000003, 0.48, 0.49, 0.5, 0.51, 0.52, 0.53, 0.54, 0.55, 0.56, 0.5700000000000001, 0.58, 0.59, 0.6, 0.61, 0.62, 0.63, 0.64, 0.65, 0.66, 0.67, 0.68, 0.6900000000000001, 0.7000000000000001, 0.71, 0.72, 0.73, 0.74, 0.75, 0.76, 0.77, 0.78, 0.79, 0.8, 0.81, 0.8200000000000001, 0.8300000000000001, 0.84, 0.85, 0.86, 0.87, 0.88, 0.89, 0.9, 0.91, 0.92, 0.93, 0.9400000000000001, 0.9500000000000001, 0.96, 0.97, 0.98, 0.99], \"xaxis\": \"x\", \"y\": [1.01496255000506, 0.9955209953352067, 0.9760650799758755, 0.9565948039270669, 0.9371101671887806, 0.9176111697610168, 0.8980978116437753, 0.8785700928370563, 0.8590280133408597, 0.8394715731551855, 0.8199007722800338, 0.8003156107154042, 0.7807160884612974, 0.7611022055177127, 0.7414739618846506, 0.7218313575621109, 0.7021743925500935, 0.6825030668485985, 0.6628173804576261, 0.6431173333771759, 0.6234029256072482, 0.6036741571478429, 0.58393102799896, 0.5641735381605996, 0.5444016876327615, 0.5246154764154458, 0.5048149045086525, 0.4849999719123817, 0.4651706786266332, 0.44532702465140733, 0.4254690099867036, 0.4055966346325224, 0.3857098985888636, 0.3658088018557272, 0.3458933444331132, 0.3259635263210216, 0.3060193475194525, 0.2860608080284058, 0.26608790784788133, 0.24610064697787945, 0.22609902541839985, 0.20608304316944268, 0.18605270023100812, 0.16600799660309576, 0.1459489322857059, 0.12587550727883837, 0.10578772158249322, 0.08568557519667061, 0.0655690681213704, 0.0454382003565926, 0.02529297190233709, 0.005133382758603998, -0.01504056707460669, -0.03522887759729486, -0.055431548809460614, -0.07564858071110396, -0.09587997330222513, -0.11612572658282366, -0.13638584055289954, -0.1566603152124535, -0.17694915056148477, -0.1972523465999937, -0.2175699033279804, -0.23790182074544447, -0.25824809885238614, -0.2786087376488054, -0.29898373713470244, -0.3193730973100769, -0.33977681817492894, -0.3601948997292588, -0.380627341973066, -0.40107414490635057, -0.4215353085291132, -0.4420108328413532, -0.4625007178430708, -0.48300496353426614, -0.503523569914939, -0.5240565369850892, -0.5446038647447172, -0.565165553193823, -0.5857416023324061, -0.6063320121604668, -0.6269367826780053, -0.6475559138850212, -0.6681894057815145, -0.6888372583674858, -0.7094994716429345, -0.7301760456078608, -0.7508669802622646, -0.7715722756061463, -0.7922919316395053, -0.8130259483623419, -0.8337743257746564, -0.8545370638764482, -0.8753141626677176, -0.8961056221484646, -0.9169114423186892, -0.9377316231783913, -0.9585661647275711, -0.9794150669662287], \"yaxis\": \"y\"}, {\"marker\": {\"color\": \"mediumpurple\"}, \"mode\": \"markers\", \"type\": \"scatter\", \"x\": [0.7689874151805105, 0.944765729882428, 0.8496473906774115, 0.24734810174319766, 0.4505441353100935, 0.12915941515149498, 0.9540510272587224, 0.60617463445088, 0.22864280550346272, 0.6717006844058567, 0.6181282404578958, 0.3581627180328405, 0.11355759219962902, 0.6715731955927996, 0.5203077009037933, 0.7723183917356393, 0.5201635011119934, 0.8521815003185401, 0.5519068387744855, 0.5609379715353863, 0.876653602658345, 0.40348286621239704, 0.13401522845064073, 0.028782676313338973, 0.755137255673619, 0.6203095513534647, 0.7040797680992236, 0.21296416150891073, 0.13637147558676976, 0.014544665667881929, 0.350587558806597, 0.5899176868546331, 0.3922440450997323, 0.43747492202372906, 0.9041586944937484, 0.34825546702330035, 0.5139894891598108, 0.7836530127411431, 0.39654278232127016, 0.6220867002278735, 0.8623637087467452, 0.9495206236576421, 0.14707348092903794, 0.9265876251614944, 0.4921162930795382, 0.25824438829895835, 0.4591357562382613, 0.980032575285477, 0.4926180939928696, 0.3287516102875082, 0.6334008543167258, 0.24014561877819307, 0.07586332810866392, 0.12887972191064923, 0.12804583895777244, 0.15190269351229435, 0.13882717264941014, 0.6408747448032146, 0.18188008439914483, 0.3456672833238632, 0.8967884099060118, 0.47396164026287235, 0.6675577385210272, 0.17231987120162984, 0.19228901880867078, 0.04086861626647886, 0.16893506307216455, 0.2785903390319586, 0.17701048427674682, 0.08870253375705561, 0.12063587110060081, 0.46077876803272577, 0.2063337184057925, 0.36426986104807546, 0.5034172708548569], \"xaxis\": \"x2\", \"y\": [-1.0030869700541025, -0.33590908586968693, -0.7588583526548709, 1.1203246932128537, 0.3908990511743548, 0.6633066347722828, -0.3583531498133372, -0.5607715641460059, 0.9362818786731293, -1.0042098367321786, -0.4385126719958622, 0.7467477245280314, 0.5918341881648834, -1.100238778506168, -0.04211088571582566, -1.0889773770755946, -0.12349031844819512, -0.7040222972411384, -0.4176160263520146, -0.3656494730867589, -0.5473432436158812, 0.324267105397709, 0.6649542834431234, 0.08940852706147241, -1.0181696122117478, -0.6907427190144673, -1.0647907829288896, 0.9076092726367068, 0.6784593317486224, 0.05618075455897162, 0.8286638087038088, -0.444333634198128, 0.7320300445023946, 0.4481924290499091, -0.653844929170768, 0.8150815185470195, 0.14964753020420118, -0.8762747461282595, 0.5611684853204665, -0.535841775506875, -0.7997687561198744, -0.3787203772513928, 0.9376459172208558, -0.5760448928372386, -0.14186322126936105, 1.0927870849867114, 0.25671489178451024, -0.1123936204674302, 0.010222971146239185, 0.8562091570366543, -0.7892396254269181, 0.9354844678255023, 0.42062599533230066, 0.6827870157700877, 0.6376504002327472, 0.7614690533445988, 0.5155191766759172, -0.7055407665048586, 0.948818827197945, 0.8162258013680368, -0.5802572056846277, 0.19023271314772663, -0.941211380335023, 0.8299774391271417, 0.9878062917565974, 0.274722719684555, 1.0773956278067982, 1.1458695814367732, 0.9899714154236798, 0.45275242686289385, 0.6309983797664684, 0.14374283979857433, 0.9905736209047372, 0.47904151432814873, -0.06733162397621217], \"yaxis\": \"y2\"}, {\"line\": {\"color\": \"lightgreen\"}, \"mode\": \"lines\", \"type\": \"scatter\", \"x\": [0.0, 0.01, 0.02, 0.03, 0.04, 0.05, 0.06, 0.07, 0.08, 0.09, 0.1, 0.11, 0.12, 0.13, 0.14, 0.15, 0.16, 0.17, 0.18, 0.19, 0.2, 0.21, 0.22, 0.23, 0.24, 0.25, 0.26, 0.27, 0.28, 0.29, 0.3, 0.31, 0.32, 0.33, 0.34, 0.35000000000000003, 0.36, 0.37, 0.38, 0.39, 0.4, 0.41000000000000003, 0.42, 0.43, 0.44, 0.45, 0.46, 0.47000000000000003, 0.48, 0.49, 0.5, 0.51, 0.52, 0.53, 0.54, 0.55, 0.56, 0.5700000000000001, 0.58, 0.59, 0.6, 0.61, 0.62, 0.63, 0.64, 0.65, 0.66, 0.67, 0.68, 0.6900000000000001, 0.7000000000000001, 0.71, 0.72, 0.73, 0.74, 0.75, 0.76, 0.77, 0.78, 0.79, 0.8, 0.81, 0.8200000000000001, 0.8300000000000001, 0.84, 0.85, 0.86, 0.87, 0.88, 0.89, 0.9, 0.91, 0.92, 0.93, 0.9400000000000001, 0.9500000000000001, 0.96, 0.97, 0.98, 0.99], \"xaxis\": \"x2\", \"y\": [0.0, 0.06279051952931337, 0.12533323356430426, 0.1873813145857246, 0.2486898871648548, 0.3090169943749474, 0.3681245526846779, 0.4257792915650727, 0.4817536741017153, 0.5358267949789967, 0.5877852522924731, 0.6374239897486896, 0.6845471059286886, 0.7289686274214116, 0.7705132427757893, 0.8090169943749475, 0.8443279255020151, 0.8763066800438637, 0.9048270524660196, 0.9297764858882513, 0.9510565162951535, 0.9685831611286311, 0.9822872507286886, 0.9921147013144779, 0.9980267284282716, 1.0, 0.9980267284282716, 0.9921147013144778, 0.9822872507286886, 0.9685831611286312, 0.9510565162951536, 0.9297764858882513, 0.9048270524660195, 0.8763066800438635, 0.844327925502015, 0.8090169943749475, 0.7705132427757893, 0.7289686274214114, 0.6845471059286888, 0.6374239897486899, 0.5877852522924732, 0.5358267949789967, 0.4817536741017156, 0.4257792915650729, 0.36812455268467814, 0.3090169943749475, 0.24868988716485482, 0.18738131458572457, 0.12533323356430454, 0.06279051952931358, 1.2246467991473532e-16, -0.06279051952931335, -0.12533323356430429, -0.18738131458572477, -0.24868988716485502, -0.30901699437494773, -0.3681245526846783, -0.42577929156507266, -0.481753674101715, -0.5358267949789964, -0.587785252292473, -0.6374239897486896, -0.6845471059286887, -0.7289686274214113, -0.7705132427757894, -0.8090169943749473, -0.8443279255020153, -0.8763066800438636, -0.9048270524660198, -0.9297764858882515, -0.9510565162951535, -0.968583161128631, -0.9822872507286887, -0.9921147013144778, -0.9980267284282716, -1.0, -0.9980267284282716, -0.9921147013144779, -0.9822872507286887, -0.9685831611286311, -0.9510565162951536, -0.9297764858882512, -0.9048270524660196, -0.8763066800438634, -0.8443279255020155, -0.8090169943749476, -0.7705132427757896, -0.7289686274214116, -0.684547105928689, -0.6374239897486896, -0.5877852522924734, -0.5358267949789963, -0.4817536741017153, -0.4257792915650722, -0.36812455268467786, -0.3090169943749476, -0.24868988716485535, -0.18738131458572468, -0.12533323356430465, -0.06279051952931326], \"yaxis\": \"y2\"}, {\"line\": {\"color\": \"lightsalmon\"}, \"mode\": \"lines\", \"type\": \"scatter\", \"x\": [0.0, 0.01, 0.02, 0.03, 0.04, 0.05, 0.06, 0.07, 0.08, 0.09, 0.1, 0.11, 0.12, 0.13, 0.14, 0.15, 0.16, 0.17, 0.18, 0.19, 0.2, 0.21, 0.22, 0.23, 0.24, 0.25, 0.26, 0.27, 0.28, 0.29, 0.3, 0.31, 0.32, 0.33, 0.34, 0.35000000000000003, 0.36, 0.37, 0.38, 0.39, 0.4, 0.41000000000000003, 0.42, 0.43, 0.44, 0.45, 0.46, 0.47000000000000003, 0.48, 0.49, 0.5, 0.51, 0.52, 0.53, 0.54, 0.55, 0.56, 0.5700000000000001, 0.58, 0.59, 0.6, 0.61, 0.62, 0.63, 0.64, 0.65, 0.66, 0.67, 0.68, 0.6900000000000001, 0.7000000000000001, 0.71, 0.72, 0.73, 0.74, 0.75, 0.76, 0.77, 0.78, 0.79, 0.8, 0.81, 0.8200000000000001, 0.8300000000000001, 0.84, 0.85, 0.86, 0.87, 0.88, 0.89, 0.9, 0.91, 0.92, 0.93, 0.9400000000000001, 0.9500000000000001, 0.96, 0.97, 0.98, 0.99], \"xaxis\": \"x2\", \"y\": [-0.033255173540792965, 0.018454459994603562, 0.07325114253412496, 0.13039649745337326, 0.1891986274080338, 0.24901080157945504, 0.3092301559179458, 0.369296406383789, 0.42869057518597165, 0.4869337300186334, 0.5435857362952297, 0.5982440223804141, 0.6505423578196347, 0.70014964456645, 0.7467687212075603, 0.7901351801855563, 0.8300161980193836, 0.8662093785225264, 0.8985416090189043, 0.92686792955649, 0.9510704151186408, 0.9710570708331493, 0.9867607401790068, 0.9981380261908914, 1.005168225661362, 1.007852276340781, 1.006211717134943, 1.0002876613004281, 0.9901397826376696, 0.9758453146817359, 0.9574980628908313, 0.9352074298325179, 0.9090974533676459, 0.8793058578320072, 0.8459831182157045, 0.8092915373402317, 0.7694043360332837, 0.7265047563012659, 0.6807851774995416, 0.6324462455003724, 0.5816960148585931, 0.5287491039750043, 0.4738258632574588, 0.41715155627969913, 0.3589555539378846, 0.29947054160484365, 0.23893173928205805, 0.17757613474932468, 0.11564172971218131, 0.05336679894702173, -0.00901083755606491, -0.07125452945275013, -0.13312949790617956, -0.19440352445099834, -0.25484762685964174, -0.314236722010905, -0.3723502757608025, -0.4289729398157379, -0.4838951756079152, -0.5369138651730404, -0.587832909030316, -0.6364638110647525, -0.6826262504116605, -0.7261486403435753, -0.766868674159342, -0.8046338580754766, -0.8393020311200023, -0.8707418720282338, -0.8988333931411865, -0.923468421306094, -0.9445510657791294, -0.9619981731306675, -0.9757397691525815, -0.9857194877679056, -0.9918949869428646, -0.9942383516010556, -0.9927364835400043, -0.9873914783499451, -0.9782209893349529, -0.965258578436285, -0.9485540541580617, -0.9281737964951109, -0.9042010688633981, -0.8767363170323152, -0.8458974550595766, -0.8118201382283416, -0.7746580229863804, -0.7345830138879998, -0.6917854975376354, -0.6464745635364011, -0.5988782124302858, -0.5492435506610516, -0.49783697251929304, -0.4449443290998545, -0.39087108425923667, -0.3359424575757277, -0.28050355431136076, -0.2249194823766203, -0.16957545629709259, -0.11487688818240116], \"yaxis\": \"y2\"}, {\"marker\": {\"color\": \"mediumpurple\"}, \"mode\": \"markers\", \"type\": \"scatter\", \"x\": [0.7689874151805105, 0.944765729882428, 0.8496473906774115, 0.24734810174319766, 0.4505441353100935, 0.12915941515149498, 0.9540510272587224, 0.60617463445088, 0.22864280550346272, 0.6717006844058567, 0.6181282404578958, 0.3581627180328405, 0.11355759219962902, 0.6715731955927996, 0.5203077009037933, 0.7723183917356393, 0.5201635011119934, 0.8521815003185401, 0.5519068387744855, 0.5609379715353863, 0.876653602658345, 0.40348286621239704, 0.13401522845064073, 0.028782676313338973, 0.755137255673619, 0.6203095513534647, 0.7040797680992236, 0.21296416150891073, 0.13637147558676976, 0.014544665667881929, 0.350587558806597, 0.5899176868546331, 0.3922440450997323, 0.43747492202372906, 0.9041586944937484, 0.34825546702330035, 0.5139894891598108, 0.7836530127411431, 0.39654278232127016, 0.6220867002278735, 0.8623637087467452, 0.9495206236576421, 0.14707348092903794, 0.9265876251614944, 0.4921162930795382, 0.25824438829895835, 0.4591357562382613, 0.980032575285477, 0.4926180939928696, 0.3287516102875082, 0.6334008543167258, 0.24014561877819307, 0.07586332810866392, 0.12887972191064923, 0.12804583895777244, 0.15190269351229435, 0.13882717264941014, 0.6408747448032146, 0.18188008439914483, 0.3456672833238632, 0.8967884099060118, 0.47396164026287235, 0.6675577385210272, 0.17231987120162984, 0.19228901880867078, 0.04086861626647886, 0.16893506307216455, 0.2785903390319586, 0.17701048427674682, 0.08870253375705561, 0.12063587110060081, 0.46077876803272577, 0.2063337184057925, 0.36426986104807546, 0.5034172708548569], \"xaxis\": \"x3\", \"y\": [-1.0030869700541025, -0.33590908586968693, -0.7588583526548709, 1.1203246932128537, 0.3908990511743548, 0.6633066347722828, -0.3583531498133372, -0.5607715641460059, 0.9362818786731293, -1.0042098367321786, -0.4385126719958622, 0.7467477245280314, 0.5918341881648834, -1.100238778506168, -0.04211088571582566, -1.0889773770755946, -0.12349031844819512, -0.7040222972411384, -0.4176160263520146, -0.3656494730867589, -0.5473432436158812, 0.324267105397709, 0.6649542834431234, 0.08940852706147241, -1.0181696122117478, -0.6907427190144673, -1.0647907829288896, 0.9076092726367068, 0.6784593317486224, 0.05618075455897162, 0.8286638087038088, -0.444333634198128, 0.7320300445023946, 0.4481924290499091, -0.653844929170768, 0.8150815185470195, 0.14964753020420118, -0.8762747461282595, 0.5611684853204665, -0.535841775506875, -0.7997687561198744, -0.3787203772513928, 0.9376459172208558, -0.5760448928372386, -0.14186322126936105, 1.0927870849867114, 0.25671489178451024, -0.1123936204674302, 0.010222971146239185, 0.8562091570366543, -0.7892396254269181, 0.9354844678255023, 0.42062599533230066, 0.6827870157700877, 0.6376504002327472, 0.7614690533445988, 0.5155191766759172, -0.7055407665048586, 0.948818827197945, 0.8162258013680368, -0.5802572056846277, 0.19023271314772663, -0.941211380335023, 0.8299774391271417, 0.9878062917565974, 0.274722719684555, 1.0773956278067982, 1.1458695814367732, 0.9899714154236798, 0.45275242686289385, 0.6309983797664684, 0.14374283979857433, 0.9905736209047372, 0.47904151432814873, -0.06733162397621217], \"yaxis\": \"y3\"}, {\"line\": {\"color\": \"lightgreen\"}, \"mode\": \"lines\", \"type\": \"scatter\", \"x\": [0.0, 0.01, 0.02, 0.03, 0.04, 0.05, 0.06, 0.07, 0.08, 0.09, 0.1, 0.11, 0.12, 0.13, 0.14, 0.15, 0.16, 0.17, 0.18, 0.19, 0.2, 0.21, 0.22, 0.23, 0.24, 0.25, 0.26, 0.27, 0.28, 0.29, 0.3, 0.31, 0.32, 0.33, 0.34, 0.35000000000000003, 0.36, 0.37, 0.38, 0.39, 0.4, 0.41000000000000003, 0.42, 0.43, 0.44, 0.45, 0.46, 0.47000000000000003, 0.48, 0.49, 0.5, 0.51, 0.52, 0.53, 0.54, 0.55, 0.56, 0.5700000000000001, 0.58, 0.59, 0.6, 0.61, 0.62, 0.63, 0.64, 0.65, 0.66, 0.67, 0.68, 0.6900000000000001, 0.7000000000000001, 0.71, 0.72, 0.73, 0.74, 0.75, 0.76, 0.77, 0.78, 0.79, 0.8, 0.81, 0.8200000000000001, 0.8300000000000001, 0.84, 0.85, 0.86, 0.87, 0.88, 0.89, 0.9, 0.91, 0.92, 0.93, 0.9400000000000001, 0.9500000000000001, 0.96, 0.97, 0.98, 0.99], \"xaxis\": \"x3\", \"y\": [0.0, 0.06279051952931337, 0.12533323356430426, 0.1873813145857246, 0.2486898871648548, 0.3090169943749474, 0.3681245526846779, 0.4257792915650727, 0.4817536741017153, 0.5358267949789967, 0.5877852522924731, 0.6374239897486896, 0.6845471059286886, 0.7289686274214116, 0.7705132427757893, 0.8090169943749475, 0.8443279255020151, 0.8763066800438637, 0.9048270524660196, 0.9297764858882513, 0.9510565162951535, 0.9685831611286311, 0.9822872507286886, 0.9921147013144779, 0.9980267284282716, 1.0, 0.9980267284282716, 0.9921147013144778, 0.9822872507286886, 0.9685831611286312, 0.9510565162951536, 0.9297764858882513, 0.9048270524660195, 0.8763066800438635, 0.844327925502015, 0.8090169943749475, 0.7705132427757893, 0.7289686274214114, 0.6845471059286888, 0.6374239897486899, 0.5877852522924732, 0.5358267949789967, 0.4817536741017156, 0.4257792915650729, 0.36812455268467814, 0.3090169943749475, 0.24868988716485482, 0.18738131458572457, 0.12533323356430454, 0.06279051952931358, 1.2246467991473532e-16, -0.06279051952931335, -0.12533323356430429, -0.18738131458572477, -0.24868988716485502, -0.30901699437494773, -0.3681245526846783, -0.42577929156507266, -0.481753674101715, -0.5358267949789964, -0.587785252292473, -0.6374239897486896, -0.6845471059286887, -0.7289686274214113, -0.7705132427757894, -0.8090169943749473, -0.8443279255020153, -0.8763066800438636, -0.9048270524660198, -0.9297764858882515, -0.9510565162951535, -0.968583161128631, -0.9822872507286887, -0.9921147013144778, -0.9980267284282716, -1.0, -0.9980267284282716, -0.9921147013144779, -0.9822872507286887, -0.9685831611286311, -0.9510565162951536, -0.9297764858882512, -0.9048270524660196, -0.8763066800438634, -0.8443279255020155, -0.8090169943749476, -0.7705132427757896, -0.7289686274214116, -0.684547105928689, -0.6374239897486896, -0.5877852522924734, -0.5358267949789963, -0.4817536741017153, -0.4257792915650722, -0.36812455268467786, -0.3090169943749476, -0.24868988716485535, -0.18738131458572468, -0.12533323356430465, -0.06279051952931326], \"yaxis\": \"y3\"}, {\"line\": {\"color\": \"lightsalmon\"}, \"mode\": \"lines\", \"type\": \"scatter\", \"x\": [0.0, 0.01, 0.02, 0.03, 0.04, 0.05, 0.06, 0.07, 0.08, 0.09, 0.1, 0.11, 0.12, 0.13, 0.14, 0.15, 0.16, 0.17, 0.18, 0.19, 0.2, 0.21, 0.22, 0.23, 0.24, 0.25, 0.26, 0.27, 0.28, 0.29, 0.3, 0.31, 0.32, 0.33, 0.34, 0.35000000000000003, 0.36, 0.37, 0.38, 0.39, 0.4, 0.41000000000000003, 0.42, 0.43, 0.44, 0.45, 0.46, 0.47000000000000003, 0.48, 0.49, 0.5, 0.51, 0.52, 0.53, 0.54, 0.55, 0.56, 0.5700000000000001, 0.58, 0.59, 0.6, 0.61, 0.62, 0.63, 0.64, 0.65, 0.66, 0.67, 0.68, 0.6900000000000001, 0.7000000000000001, 0.71, 0.72, 0.73, 0.74, 0.75, 0.76, 0.77, 0.78, 0.79, 0.8, 0.81, 0.8200000000000001, 0.8300000000000001, 0.84, 0.85, 0.86, 0.87, 0.88, 0.89, 0.9, 0.91, 0.92, 0.93, 0.9400000000000001, 0.9500000000000001, 0.96, 0.97, 0.98, 0.99], \"xaxis\": \"x3\", \"y\": [-0.21682563211549, -0.031675363427991425, 0.08969035759031269, 0.17106093951575088, 0.22929795627088428, 0.27592250986405503, 0.31841266219050035, 0.3612516994623218, 0.40676405258322845, 0.45577191391651417, 0.5081019862709923, 0.5629683901515077, 0.6192545530647466, 0.675713919009234, 0.7311065529892868, 0.7842861772612046, 0.8342498631270026, 0.880160512091674, 0.9213503885933889, 0.9573123068980962, 0.9876836190697276, 1.0122268897073354, 1.0308100657222354, 1.0433880441684096, 1.0499867956243918, 1.050690601864403, 1.0456325011592185, 1.0349876889011966, 1.0189693816745944, 0.9978265058099964, 0.9718425034949973, 0.9413345476849599, 0.9066525088065873, 0.8681771096746616, 0.8263168288368661, 0.7815032562946271, 0.7341847595025683, 0.684818473067935, 0.6338607748118648, 0.5817565471081707, 0.5289276399566916, 0.4757610463884703, 0.4225973680468087, 0.3697201865475108, 0.31734696318972055, 0.26562206526978116, 0.2146124624150616, 0.16430655256863247, 0.1146164670581129, 0.06538407108200772, 0.016390724042139482, -0.03262930138043885, -0.08197201672101073, -0.13194398287851072, -0.18284026633227768, -0.2349208704472403, -0.2883865693529515, -0.3433551903872285, -0.3998394782629475, -0.45772772419513785, -0.5167683493273216, -0.5765595899574691, -0.6365453374310164, -0.6960180354399199, -0.7541293299618701, -0.809908902458119, -0.8622915961277613, -0.9101525732767186, -0.9523498234520957, -0.9877728878018388, -1.0153961842079298, -1.0343348286114633, -1.043900364471483, -1.0436533615720691, -1.033449449125328, -1.0134750417710165, -0.9842688306598575, -0.9467250949383015, -0.9020750761192176, -0.8518431148331729, -0.7977750237914734, -0.7417373352218419, -0.6855876852350775, -0.6310187632479938, -0.5793810478498926, -0.5314930720924167, -0.4874523132311879, -0.4464651023881743, -0.4067203190061264, -0.3653392189589795, -0.3184426744992379, -0.26138755421561655, -0.1892360914789606, -0.09753609242034145, 0.016494130453793332, 0.15226388908922672, 0.3034582954715006, 0.4548799399926793, 0.5783010040468071, 0.6271129979577381], \"yaxis\": \"y3\"}],\n",
              "                        {\"annotations\": [{\"font\": {\"size\": 16}, \"showarrow\": false, \"text\": \"poly2 fit\", \"x\": 0.14444444444444446, \"xanchor\": \"center\", \"xref\": \"paper\", \"y\": 1.0, \"yanchor\": \"bottom\", \"yref\": \"paper\"}, {\"font\": {\"size\": 16}, \"showarrow\": false, \"text\": \"poly6 fit\", \"x\": 0.5, \"xanchor\": \"center\", \"xref\": \"paper\", \"y\": 1.0, \"yanchor\": \"bottom\", \"yref\": \"paper\"}, {\"font\": {\"size\": 16}, \"showarrow\": false, \"text\": \"poly13 fit\", \"x\": 0.8555555555555556, \"xanchor\": \"center\", \"xref\": \"paper\", \"y\": 1.0, \"yanchor\": \"bottom\", \"yref\": \"paper\"}], \"height\": 700, \"showlegend\": false, \"template\": {\"data\": {\"bar\": [{\"error_x\": {\"color\": \"#2a3f5f\"}, \"error_y\": {\"color\": \"#2a3f5f\"}, \"marker\": {\"line\": {\"color\": \"#E5ECF6\", \"width\": 0.5}}, \"type\": \"bar\"}], \"barpolar\": [{\"marker\": {\"line\": {\"color\": \"#E5ECF6\", \"width\": 0.5}}, \"type\": \"barpolar\"}], \"carpet\": [{\"aaxis\": {\"endlinecolor\": \"#2a3f5f\", \"gridcolor\": \"white\", \"linecolor\": \"white\", \"minorgridcolor\": \"white\", \"startlinecolor\": \"#2a3f5f\"}, \"baxis\": {\"endlinecolor\": \"#2a3f5f\", \"gridcolor\": \"white\", \"linecolor\": \"white\", \"minorgridcolor\": \"white\", \"startlinecolor\": \"#2a3f5f\"}, \"type\": \"carpet\"}], \"choropleth\": [{\"colorbar\": {\"outlinewidth\": 0, \"ticks\": \"\"}, \"type\": \"choropleth\"}], \"contour\": [{\"colorbar\": {\"outlinewidth\": 0, \"ticks\": \"\"}, \"colorscale\": [[0.0, \"#0d0887\"], [0.1111111111111111, \"#46039f\"], [0.2222222222222222, \"#7201a8\"], [0.3333333333333333, \"#9c179e\"], [0.4444444444444444, \"#bd3786\"], [0.5555555555555556, \"#d8576b\"], [0.6666666666666666, \"#ed7953\"], [0.7777777777777778, \"#fb9f3a\"], [0.8888888888888888, \"#fdca26\"], [1.0, \"#f0f921\"]], \"type\": \"contour\"}], \"contourcarpet\": [{\"colorbar\": {\"outlinewidth\": 0, \"ticks\": \"\"}, \"type\": \"contourcarpet\"}], \"heatmap\": [{\"colorbar\": {\"outlinewidth\": 0, \"ticks\": \"\"}, \"colorscale\": [[0.0, \"#0d0887\"], [0.1111111111111111, \"#46039f\"], [0.2222222222222222, \"#7201a8\"], [0.3333333333333333, \"#9c179e\"], [0.4444444444444444, \"#bd3786\"], [0.5555555555555556, \"#d8576b\"], [0.6666666666666666, \"#ed7953\"], [0.7777777777777778, \"#fb9f3a\"], [0.8888888888888888, \"#fdca26\"], [1.0, \"#f0f921\"]], \"type\": \"heatmap\"}], \"heatmapgl\": [{\"colorbar\": {\"outlinewidth\": 0, \"ticks\": \"\"}, \"colorscale\": [[0.0, \"#0d0887\"], [0.1111111111111111, \"#46039f\"], [0.2222222222222222, \"#7201a8\"], [0.3333333333333333, \"#9c179e\"], [0.4444444444444444, \"#bd3786\"], [0.5555555555555556, \"#d8576b\"], [0.6666666666666666, \"#ed7953\"], [0.7777777777777778, \"#fb9f3a\"], [0.8888888888888888, \"#fdca26\"], [1.0, \"#f0f921\"]], \"type\": \"heatmapgl\"}], \"histogram\": [{\"marker\": {\"colorbar\": {\"outlinewidth\": 0, \"ticks\": \"\"}}, \"type\": \"histogram\"}], \"histogram2d\": [{\"colorbar\": {\"outlinewidth\": 0, \"ticks\": \"\"}, \"colorscale\": [[0.0, \"#0d0887\"], [0.1111111111111111, \"#46039f\"], [0.2222222222222222, \"#7201a8\"], [0.3333333333333333, \"#9c179e\"], [0.4444444444444444, \"#bd3786\"], [0.5555555555555556, \"#d8576b\"], [0.6666666666666666, \"#ed7953\"], [0.7777777777777778, \"#fb9f3a\"], [0.8888888888888888, \"#fdca26\"], [1.0, \"#f0f921\"]], \"type\": \"histogram2d\"}], \"histogram2dcontour\": [{\"colorbar\": {\"outlinewidth\": 0, \"ticks\": \"\"}, \"colorscale\": [[0.0, \"#0d0887\"], [0.1111111111111111, \"#46039f\"], [0.2222222222222222, \"#7201a8\"], [0.3333333333333333, \"#9c179e\"], [0.4444444444444444, \"#bd3786\"], [0.5555555555555556, \"#d8576b\"], [0.6666666666666666, \"#ed7953\"], [0.7777777777777778, \"#fb9f3a\"], [0.8888888888888888, \"#fdca26\"], [1.0, \"#f0f921\"]], \"type\": \"histogram2dcontour\"}], \"mesh3d\": [{\"colorbar\": {\"outlinewidth\": 0, \"ticks\": \"\"}, \"type\": \"mesh3d\"}], \"parcoords\": [{\"line\": {\"colorbar\": {\"outlinewidth\": 0, \"ticks\": \"\"}}, \"type\": \"parcoords\"}], \"pie\": [{\"automargin\": true, \"type\": \"pie\"}], \"scatter\": [{\"marker\": {\"colorbar\": {\"outlinewidth\": 0, \"ticks\": \"\"}}, \"type\": \"scatter\"}], \"scatter3d\": [{\"line\": {\"colorbar\": {\"outlinewidth\": 0, \"ticks\": \"\"}}, \"marker\": {\"colorbar\": {\"outlinewidth\": 0, \"ticks\": \"\"}}, \"type\": \"scatter3d\"}], \"scattercarpet\": [{\"marker\": {\"colorbar\": {\"outlinewidth\": 0, \"ticks\": \"\"}}, \"type\": \"scattercarpet\"}], \"scattergeo\": [{\"marker\": {\"colorbar\": {\"outlinewidth\": 0, \"ticks\": \"\"}}, \"type\": \"scattergeo\"}], \"scattergl\": [{\"marker\": {\"colorbar\": {\"outlinewidth\": 0, \"ticks\": \"\"}}, \"type\": \"scattergl\"}], \"scattermapbox\": [{\"marker\": {\"colorbar\": {\"outlinewidth\": 0, \"ticks\": \"\"}}, \"type\": \"scattermapbox\"}], \"scatterpolar\": [{\"marker\": {\"colorbar\": {\"outlinewidth\": 0, \"ticks\": \"\"}}, \"type\": \"scatterpolar\"}], \"scatterpolargl\": [{\"marker\": {\"colorbar\": {\"outlinewidth\": 0, \"ticks\": \"\"}}, \"type\": \"scatterpolargl\"}], \"scatterternary\": [{\"marker\": {\"colorbar\": {\"outlinewidth\": 0, \"ticks\": \"\"}}, \"type\": \"scatterternary\"}], \"surface\": [{\"colorbar\": {\"outlinewidth\": 0, \"ticks\": \"\"}, \"colorscale\": [[0.0, \"#0d0887\"], [0.1111111111111111, \"#46039f\"], [0.2222222222222222, \"#7201a8\"], [0.3333333333333333, \"#9c179e\"], [0.4444444444444444, \"#bd3786\"], [0.5555555555555556, \"#d8576b\"], [0.6666666666666666, \"#ed7953\"], [0.7777777777777778, \"#fb9f3a\"], [0.8888888888888888, \"#fdca26\"], [1.0, \"#f0f921\"]], \"type\": \"surface\"}], \"table\": [{\"cells\": {\"fill\": {\"color\": \"#EBF0F8\"}, \"line\": {\"color\": \"white\"}}, \"header\": {\"fill\": {\"color\": \"#C8D4E3\"}, \"line\": {\"color\": \"white\"}}, \"type\": \"table\"}]}, \"layout\": {\"annotationdefaults\": {\"arrowcolor\": \"#2a3f5f\", \"arrowhead\": 0, \"arrowwidth\": 1}, \"coloraxis\": {\"colorbar\": {\"outlinewidth\": 0, \"ticks\": \"\"}}, \"colorscale\": {\"diverging\": [[0, \"#8e0152\"], [0.1, \"#c51b7d\"], [0.2, \"#de77ae\"], [0.3, \"#f1b6da\"], [0.4, \"#fde0ef\"], [0.5, \"#f7f7f7\"], [0.6, \"#e6f5d0\"], [0.7, \"#b8e186\"], [0.8, \"#7fbc41\"], [0.9, \"#4d9221\"], [1, \"#276419\"]], \"sequential\": [[0.0, \"#0d0887\"], [0.1111111111111111, \"#46039f\"], [0.2222222222222222, \"#7201a8\"], [0.3333333333333333, \"#9c179e\"], [0.4444444444444444, \"#bd3786\"], [0.5555555555555556, \"#d8576b\"], [0.6666666666666666, \"#ed7953\"], [0.7777777777777778, \"#fb9f3a\"], [0.8888888888888888, \"#fdca26\"], [1.0, \"#f0f921\"]], \"sequentialminus\": [[0.0, \"#0d0887\"], [0.1111111111111111, \"#46039f\"], [0.2222222222222222, \"#7201a8\"], [0.3333333333333333, \"#9c179e\"], [0.4444444444444444, \"#bd3786\"], [0.5555555555555556, \"#d8576b\"], [0.6666666666666666, \"#ed7953\"], [0.7777777777777778, \"#fb9f3a\"], [0.8888888888888888, \"#fdca26\"], [1.0, \"#f0f921\"]]}, \"colorway\": [\"#636efa\", \"#EF553B\", \"#00cc96\", \"#ab63fa\", \"#FFA15A\", \"#19d3f3\", \"#FF6692\", \"#B6E880\", \"#FF97FF\", \"#FECB52\"], \"font\": {\"color\": \"#2a3f5f\"}, \"geo\": {\"bgcolor\": \"white\", \"lakecolor\": \"white\", \"landcolor\": \"#E5ECF6\", \"showlakes\": true, \"showland\": true, \"subunitcolor\": \"white\"}, \"hoverlabel\": {\"align\": \"left\"}, \"hovermode\": \"closest\", \"mapbox\": {\"style\": \"light\"}, \"paper_bgcolor\": \"white\", \"plot_bgcolor\": \"#E5ECF6\", \"polar\": {\"angularaxis\": {\"gridcolor\": \"white\", \"linecolor\": \"white\", \"ticks\": \"\"}, \"bgcolor\": \"#E5ECF6\", \"radialaxis\": {\"gridcolor\": \"white\", \"linecolor\": \"white\", \"ticks\": \"\"}}, \"scene\": {\"xaxis\": {\"backgroundcolor\": \"#E5ECF6\", \"gridcolor\": \"white\", \"gridwidth\": 2, \"linecolor\": \"white\", \"showbackground\": true, \"ticks\": \"\", \"zerolinecolor\": \"white\"}, \"yaxis\": {\"backgroundcolor\": \"#E5ECF6\", \"gridcolor\": \"white\", \"gridwidth\": 2, \"linecolor\": \"white\", \"showbackground\": true, \"ticks\": \"\", \"zerolinecolor\": \"white\"}, \"zaxis\": {\"backgroundcolor\": \"#E5ECF6\", \"gridcolor\": \"white\", \"gridwidth\": 2, \"linecolor\": \"white\", \"showbackground\": true, \"ticks\": \"\", \"zerolinecolor\": \"white\"}}, \"shapedefaults\": {\"line\": {\"color\": \"#2a3f5f\"}}, \"ternary\": {\"aaxis\": {\"gridcolor\": \"white\", \"linecolor\": \"white\", \"ticks\": \"\"}, \"baxis\": {\"gridcolor\": \"white\", \"linecolor\": \"white\", \"ticks\": \"\"}, \"bgcolor\": \"#E5ECF6\", \"caxis\": {\"gridcolor\": \"white\", \"linecolor\": \"white\", \"ticks\": \"\"}}, \"title\": {\"x\": 0.05}, \"xaxis\": {\"automargin\": true, \"gridcolor\": \"white\", \"linecolor\": \"white\", \"ticks\": \"\", \"title\": {\"standoff\": 15}, \"zerolinecolor\": \"white\", \"zerolinewidth\": 2}, \"yaxis\": {\"automargin\": true, \"gridcolor\": \"white\", \"linecolor\": \"white\", \"ticks\": \"\", \"title\": {\"standoff\": 15}, \"zerolinecolor\": \"white\", \"zerolinewidth\": 2}}}, \"title\": {\"text\": \"Polynomial fits and their coefficients\"}, \"width\": 1300, \"xaxis\": {\"anchor\": \"y\", \"domain\": [0.0, 0.2888888888888889], \"range\": [0, 1], \"title\": {\"text\": \"x<br><br><br>a: -0.07<br>b: -1.94<br>c: 1.01\"}}, \"xaxis2\": {\"anchor\": \"y2\", \"domain\": [0.35555555555555557, 0.6444444444444445], \"range\": [0, 1], \"title\": {\"text\": \"x<br><br><br>a: 18.05<br>b: -112.1<br>c: 204.76<br>d: -135.07<br>e: 19.35<br>f: 4.99<br>g: -0.03\"}}, \"xaxis3\": {\"anchor\": \"y3\", \"domain\": [0.7111111111111111, 1.0], \"range\": [0, 1], \"title\": {\"text\": \"x<br><br><br>a: -171186.75<br>b: 826701.85<br>c: -1570651.15<br>d: 1304475.86<br>e: 10304.65<br>f: -1061413.07<br>g: 1098804.33<br>h: -605495.11<br>i: 208829.83<br>j: -46179.82<br>k: 6264.91<br>l: -477.5<br>m: 22.71<br>n: -0.22\"}}, \"yaxis\": {\"anchor\": \"x\", \"domain\": [0.0, 1.0], \"range\": [-5, 5], \"title\": {\"text\": \"t\"}}, \"yaxis2\": {\"anchor\": \"x2\", \"domain\": [0.0, 1.0], \"range\": [-5, 5], \"title\": {\"text\": \"t\"}}, \"yaxis3\": {\"anchor\": \"x3\", \"domain\": [0.0, 1.0], \"range\": [-5, 5], \"title\": {\"text\": \"t\"}}},\n",
              "                        {\"responsive\": true}\n",
              "                    ).then(function(){\n",
              "                            \n",
              "var gd = document.getElementById('414a9c76-15ff-4125-a79a-e2e03b9319b4');\n",
              "var x = new MutationObserver(function (mutations, observer) {{\n",
              "        var display = window.getComputedStyle(gd).display;\n",
              "        if (!display || display === 'none') {{\n",
              "            console.log([gd, 'removed!']);\n",
              "            Plotly.purge(gd);\n",
              "            observer.disconnect();\n",
              "        }}\n",
              "}});\n",
              "\n",
              "// Listen for the removal of the full notebook cells\n",
              "var notebookContainer = gd.closest('#notebook-container');\n",
              "if (notebookContainer) {{\n",
              "    x.observe(notebookContainer, {childList: true});\n",
              "}}\n",
              "\n",
              "// Listen for the clearing of the current output cell\n",
              "var outputEl = gd.closest('.output');\n",
              "if (outputEl) {{\n",
              "    x.observe(outputEl, {childList: true});\n",
              "}}\n",
              "\n",
              "                        })\n",
              "                };\n",
              "                \n",
              "            </script>\n",
              "        </div>\n",
              "</body>\n",
              "</html>"
            ]
          },
          "metadata": {
            "tags": []
          }
        }
      ]
    },
    {
      "cell_type": "markdown",
      "metadata": {
        "id": "AdW9hYYgPAey"
      },
      "source": [
        "Nevertheless we do not have always access to more data. And sometimes our goal is to explicitily learn a general rule from a *few* samples, take for instance the [ARC challenge](https://www.kaggle.com/c/abstraction-and-reasoning-challenge/overview).\n",
        "\n",
        "Have you noticed the huge value of $\\theta$ parameters in the cases of overfitting? Aren't the coefficients of the high order terms in the taylor expansion of the $\\sin$ function smaller and smaller?\n",
        "What if we try to discourage this behaviour adding to the loss a penalization term proportional to the norm of $\\theta$?\n",
        "\n",
        "You have already seen this very common regularization technique in the slides:\n",
        "$$E'(\\theta) = \\lambda \\|\\theta\\|^2 + \\frac{1}{N} \\sum_{i=1}^N(f_\\theta(x_i) - t_i)^2$$\n",
        "\n",
        "> **EXERCISE**: Obtain the vectorized closed form solution for $\\theta$ that minimizes $E'$. (The one for $E$ was $\\theta = (X^TX)^{-1}X^T\\mathbf{y}$)\n",
        ">\n",
        "> **Hint**: This is the first step\n",
        "> $$ E'(\\theta) = (\\mathbf{y} - X\\theta)^T(\\mathbf{y} - X\\theta) + \\lambda\\theta^T\\theta$$\n",
        "\n",
        "After this pen and paper exercise in the old-fashioned way, let's play with the $\\lambda$ parameter."
      ]
    },
    {
      "cell_type": "code",
      "metadata": {
        "id": "7TO701p_BoFJ",
        "colab": {
          "base_uri": "https://localhost:8080/",
          "height": 717
        },
        "cellView": "form",
        "outputId": "cb889972-ce93-49f0-ea81-bcfc95542eb7"
      },
      "source": [
        "# @title Regularized polynomial fits: weight decay { run: \"auto\" }\n",
        "\n",
        "deg_1 = 2  #@param {type:\"slider\", min:0, max:15, step:1}\n",
        "deg_2 = 6  #@param {type:\"slider\", min:0, max:15, step:1}\n",
        "deg_3 = 12  #@param {type:\"slider\", min:0, max:15, step:1}\n",
        "lam =   0.001#@param {type:\"number\"}\n",
        "\n",
        "degree = {}\n",
        "degree[0], degree[1], degree[2] = deg_1, deg_2, deg_3\n",
        "\n",
        "max_degree = max(degree.values())\n",
        "y = torch.from_numpy(t)\n",
        "X_full = torch.ones((y.shape[0], max_degree + 1), dtype=torch.float64)  # double precision is needed for this calculation! \n",
        "for i in range(max_degree):\n",
        "    X_full[:,i] =  torch.from_numpy(x) ** (max_degree - i)\n",
        "\n",
        "theta_collection = {}\n",
        "\n",
        "for i in range(3):\n",
        "    X = X_full[:,-(degree[i] + 1):]\n",
        "    temp_inverse = torch.inverse(torch.einsum('ij,jk->ik', X.t(), X) + lam * torch.eye(degree[i] + 1))\n",
        "    theta_collection[i] = torch.einsum('ij,jk,k->i', temp_inverse, X.t(), y)\n",
        "\n",
        "fig = make_subplots(\n",
        "    rows=1, cols=3,\n",
        "    subplot_titles=(f\"poly{degree[0]} fit\", f\"poly{degree[1]} fit\", f\"poly{degree[2]} fit\"))\n",
        "\n",
        "x_funcs = np.arange(0,1,1./100)\n",
        "y_funcs = {}\n",
        "for i in range(3):\n",
        "    theta_funcs = theta_collection[i].numpy()\n",
        "    X_funcs = np.ones((x_funcs.shape[0], degree[i] + 1), dtype=np.float64)\n",
        "    for j in range(degree[i]):\n",
        "        X_funcs[:,j] =  x_funcs ** (degree[i] - j)\n",
        "    y_funcs[i] = np.einsum('ij,j->i', X_funcs, theta_funcs)\n",
        "    coefficients_string = '<br><br><br>' + '<br>'.join([c + f': {np.round(theta_funcs[i], decimals=2)}' for i, c in enumerate('abcdefghijklmnopqrstuvwxyz'[:len(theta_funcs)])])\n",
        "\n",
        "    fig.add_trace(go.Scatter(x=x, y=t, mode='markers', marker=dict(color=\"mediumpurple\")), row=1, col=i + 1)\n",
        "    fig.add_trace(go.Scatter(x=x_funcs, y=np.sin(2*np.pi*x_funcs), mode='lines', line=dict(color=\"lightgreen\")), row=1, col=i + 1)\n",
        "    fig.add_trace(go.Scatter(x=x_funcs, y=y_funcs[i], mode='lines', line=dict(color=\"lightsalmon\")), row=1, col=i + 1)\n",
        "    fig.update_xaxes(title_text=\"x\" + coefficients_string, range = [0,1], row=1, col=i+1)\n",
        "\n",
        "fig.update_layout(showlegend=False)\n",
        "fig.update_yaxes(title_text=\"t\", range = [-5,5])\n",
        "fig.update_layout(height=700, width=1300, title_text=\"Polynomial fits and their coefficients\")\n",
        "fig.show()"
      ],
      "execution_count": 21,
      "outputs": [
        {
          "output_type": "display_data",
          "data": {
            "text/html": [
              "<html>\n",
              "<head><meta charset=\"utf-8\" /></head>\n",
              "<body>\n",
              "    <div>\n",
              "            <script src=\"https://cdnjs.cloudflare.com/ajax/libs/mathjax/2.7.5/MathJax.js?config=TeX-AMS-MML_SVG\"></script><script type=\"text/javascript\">if (window.MathJax) {MathJax.Hub.Config({SVG: {font: \"STIX-Web\"}});}</script>\n",
              "                <script type=\"text/javascript\">window.PlotlyConfig = {MathJaxConfig: 'local'};</script>\n",
              "        <script src=\"https://cdn.plot.ly/plotly-latest.min.js\"></script>    \n",
              "            <div id=\"e1f2999d-6c8a-4cfe-99f6-98d6a06b9209\" class=\"plotly-graph-div\" style=\"height:700px; width:1300px;\"></div>\n",
              "            <script type=\"text/javascript\">\n",
              "                \n",
              "                    window.PLOTLYENV=window.PLOTLYENV || {};\n",
              "                    \n",
              "                if (document.getElementById(\"e1f2999d-6c8a-4cfe-99f6-98d6a06b9209\")) {\n",
              "                    Plotly.newPlot(\n",
              "                        'e1f2999d-6c8a-4cfe-99f6-98d6a06b9209',\n",
              "                        [{\"marker\": {\"color\": \"mediumpurple\"}, \"mode\": \"markers\", \"type\": \"scatter\", \"x\": [0.3745401188473625, 0.9507143064099162, 0.7319939418114051, 0.5986584841970366, 0.15601864044243652, 0.15599452033620265, 0.05808361216819946, 0.8661761457749352, 0.6011150117432088, 0.7080725777960455], \"xaxis\": \"x\", \"y\": [0.6621995859491285, -0.2504894367193866, -1.0399487832345553, -0.6275182299806012, 0.854857342681687, 0.6392487011533475, 0.18441089666331875, -0.8014323286500792, -0.6947217251134631, -0.9340757540684701], \"yaxis\": \"y\"}, {\"line\": {\"color\": \"lightgreen\"}, \"mode\": \"lines\", \"type\": \"scatter\", \"x\": [0.0, 0.01, 0.02, 0.03, 0.04, 0.05, 0.06, 0.07, 0.08, 0.09, 0.1, 0.11, 0.12, 0.13, 0.14, 0.15, 0.16, 0.17, 0.18, 0.19, 0.2, 0.21, 0.22, 0.23, 0.24, 0.25, 0.26, 0.27, 0.28, 0.29, 0.3, 0.31, 0.32, 0.33, 0.34, 0.35000000000000003, 0.36, 0.37, 0.38, 0.39, 0.4, 0.41000000000000003, 0.42, 0.43, 0.44, 0.45, 0.46, 0.47000000000000003, 0.48, 0.49, 0.5, 0.51, 0.52, 0.53, 0.54, 0.55, 0.56, 0.5700000000000001, 0.58, 0.59, 0.6, 0.61, 0.62, 0.63, 0.64, 0.65, 0.66, 0.67, 0.68, 0.6900000000000001, 0.7000000000000001, 0.71, 0.72, 0.73, 0.74, 0.75, 0.76, 0.77, 0.78, 0.79, 0.8, 0.81, 0.8200000000000001, 0.8300000000000001, 0.84, 0.85, 0.86, 0.87, 0.88, 0.89, 0.9, 0.91, 0.92, 0.93, 0.9400000000000001, 0.9500000000000001, 0.96, 0.97, 0.98, 0.99], \"xaxis\": \"x\", \"y\": [0.0, 0.06279051952931337, 0.12533323356430426, 0.1873813145857246, 0.2486898871648548, 0.3090169943749474, 0.3681245526846779, 0.4257792915650727, 0.4817536741017153, 0.5358267949789967, 0.5877852522924731, 0.6374239897486896, 0.6845471059286886, 0.7289686274214116, 0.7705132427757893, 0.8090169943749475, 0.8443279255020151, 0.8763066800438637, 0.9048270524660196, 0.9297764858882513, 0.9510565162951535, 0.9685831611286311, 0.9822872507286886, 0.9921147013144779, 0.9980267284282716, 1.0, 0.9980267284282716, 0.9921147013144778, 0.9822872507286886, 0.9685831611286312, 0.9510565162951536, 0.9297764858882513, 0.9048270524660195, 0.8763066800438635, 0.844327925502015, 0.8090169943749475, 0.7705132427757893, 0.7289686274214114, 0.6845471059286888, 0.6374239897486899, 0.5877852522924732, 0.5358267949789967, 0.4817536741017156, 0.4257792915650729, 0.36812455268467814, 0.3090169943749475, 0.24868988716485482, 0.18738131458572457, 0.12533323356430454, 0.06279051952931358, 1.2246467991473532e-16, -0.06279051952931335, -0.12533323356430429, -0.18738131458572477, -0.24868988716485502, -0.30901699437494773, -0.3681245526846783, -0.42577929156507266, -0.481753674101715, -0.5358267949789964, -0.587785252292473, -0.6374239897486896, -0.6845471059286887, -0.7289686274214113, -0.7705132427757894, -0.8090169943749473, -0.8443279255020153, -0.8763066800438636, -0.9048270524660198, -0.9297764858882515, -0.9510565162951535, -0.968583161128631, -0.9822872507286887, -0.9921147013144778, -0.9980267284282716, -1.0, -0.9980267284282716, -0.9921147013144779, -0.9822872507286887, -0.9685831611286311, -0.9510565162951536, -0.9297764858882512, -0.9048270524660196, -0.8763066800438634, -0.8443279255020155, -0.8090169943749476, -0.7705132427757896, -0.7289686274214116, -0.684547105928689, -0.6374239897486896, -0.5877852522924734, -0.5358267949789963, -0.4817536741017153, -0.4257792915650722, -0.36812455268467786, -0.3090169943749476, -0.24868988716485535, -0.18738131458572468, -0.12533323356430465, -0.06279051952931326], \"yaxis\": \"y\"}, {\"line\": {\"color\": \"lightsalmon\"}, \"mode\": \"lines\", \"type\": \"scatter\", \"x\": [0.0, 0.01, 0.02, 0.03, 0.04, 0.05, 0.06, 0.07, 0.08, 0.09, 0.1, 0.11, 0.12, 0.13, 0.14, 0.15, 0.16, 0.17, 0.18, 0.19, 0.2, 0.21, 0.22, 0.23, 0.24, 0.25, 0.26, 0.27, 0.28, 0.29, 0.3, 0.31, 0.32, 0.33, 0.34, 0.35000000000000003, 0.36, 0.37, 0.38, 0.39, 0.4, 0.41000000000000003, 0.42, 0.43, 0.44, 0.45, 0.46, 0.47000000000000003, 0.48, 0.49, 0.5, 0.51, 0.52, 0.53, 0.54, 0.55, 0.56, 0.5700000000000001, 0.58, 0.59, 0.6, 0.61, 0.62, 0.63, 0.64, 0.65, 0.66, 0.67, 0.68, 0.6900000000000001, 0.7000000000000001, 0.71, 0.72, 0.73, 0.74, 0.75, 0.76, 0.77, 0.78, 0.79, 0.8, 0.81, 0.8200000000000001, 0.8300000000000001, 0.84, 0.85, 0.86, 0.87, 0.88, 0.89, 0.9, 0.91, 0.92, 0.93, 0.9400000000000001, 0.9500000000000001, 0.96, 0.97, 0.98, 0.99], \"xaxis\": \"x\", \"y\": [0.9961220577581057, 0.9607027046778656, 0.9256467752642293, 0.8909542695171969, 0.8566251874367683, 0.8226595290229437, 0.7890572942757229, 0.7558184831951059, 0.7229430957810927, 0.6904311320336833, 0.6582825919528781, 0.6264974755386765, 0.5950757827910789, 0.5640175137100849, 0.5333226682956949, 0.5029912465479088, 0.4730232484667265, 0.4434186740521481, 0.41417752330417357, 0.3852997962228029, 0.35678549280803606, 0.32863461305987307, 0.30084715697831393, 0.2734231245633586, 0.24636251581500723, 0.21966533073325964, 0.1933315693181159, 0.167361231569576, 0.14175431748763997, 0.11651082707230798, 0.09163076032357964, 0.06711411724145519, 0.04296089782593457, 0.019171102077017832, -0.004255270005295048, -0.027318218421004098, -0.050017743170109125, -0.07235384425261046, -0.09432652166850769, -0.11593577541780131, -0.13718160550049102, -0.15806401191657693, -0.17858299466605887, -0.19873855374893706, -0.2185306891652114, -0.23795940091488182, -0.25702468899794845, -0.27572655341441116, -0.29406499416426995, -0.31204001124752506, -0.3296516046641762, -0.34689977441422354, -0.36378452049766696, -0.38030584291450664, -0.3964637416647424, -0.41225821674837426, -0.4276892681654023, -0.44275689591582634, -0.4574610999996467, -0.471801880416863, -0.48577923716747584, -0.49939317025148433, -0.5126436796688895, -0.5255307654196902, -0.5380544275038878, -0.5502146659214808, -0.5620114806724705, -0.5734448717568559, -0.5845148391746379, -0.5952213829258156, -0.6055645030103899, -0.6155441994283597, -0.6251604721797263, -0.6344133212644886, -0.6433027466826474, -0.651828748434202, -0.6599913265191526, -0.6677904809374999, -0.6752262116892429, -0.6822985187743824, -0.6890074021929176, -0.6953528619448495, -0.701334898030177, -0.7069535104489013, -0.712208699201021, -0.7171004642865375, -0.7216288057054496, -0.7257937234577583, -0.7295952175434628, -0.7330332879625636, -0.7361079347150603, -0.7388191578009535, -0.7411669572202426, -0.7431513329729282, -0.7447722850590093, -0.7460298134784873, -0.7469239182313607, -0.7474545993176309, -0.747621856737297, -0.7474256904903593], \"yaxis\": \"y\"}, {\"marker\": {\"color\": \"mediumpurple\"}, \"mode\": \"markers\", \"type\": \"scatter\", \"x\": [0.3745401188473625, 0.9507143064099162, 0.7319939418114051, 0.5986584841970366, 0.15601864044243652, 0.15599452033620265, 0.05808361216819946, 0.8661761457749352, 0.6011150117432088, 0.7080725777960455], \"xaxis\": \"x2\", \"y\": [0.6621995859491285, -0.2504894367193866, -1.0399487832345553, -0.6275182299806012, 0.854857342681687, 0.6392487011533475, 0.18441089666331875, -0.8014323286500792, -0.6947217251134631, -0.9340757540684701], \"yaxis\": \"y2\"}, {\"line\": {\"color\": \"lightgreen\"}, \"mode\": \"lines\", \"type\": \"scatter\", \"x\": [0.0, 0.01, 0.02, 0.03, 0.04, 0.05, 0.06, 0.07, 0.08, 0.09, 0.1, 0.11, 0.12, 0.13, 0.14, 0.15, 0.16, 0.17, 0.18, 0.19, 0.2, 0.21, 0.22, 0.23, 0.24, 0.25, 0.26, 0.27, 0.28, 0.29, 0.3, 0.31, 0.32, 0.33, 0.34, 0.35000000000000003, 0.36, 0.37, 0.38, 0.39, 0.4, 0.41000000000000003, 0.42, 0.43, 0.44, 0.45, 0.46, 0.47000000000000003, 0.48, 0.49, 0.5, 0.51, 0.52, 0.53, 0.54, 0.55, 0.56, 0.5700000000000001, 0.58, 0.59, 0.6, 0.61, 0.62, 0.63, 0.64, 0.65, 0.66, 0.67, 0.68, 0.6900000000000001, 0.7000000000000001, 0.71, 0.72, 0.73, 0.74, 0.75, 0.76, 0.77, 0.78, 0.79, 0.8, 0.81, 0.8200000000000001, 0.8300000000000001, 0.84, 0.85, 0.86, 0.87, 0.88, 0.89, 0.9, 0.91, 0.92, 0.93, 0.9400000000000001, 0.9500000000000001, 0.96, 0.97, 0.98, 0.99], \"xaxis\": \"x2\", \"y\": [0.0, 0.06279051952931337, 0.12533323356430426, 0.1873813145857246, 0.2486898871648548, 0.3090169943749474, 0.3681245526846779, 0.4257792915650727, 0.4817536741017153, 0.5358267949789967, 0.5877852522924731, 0.6374239897486896, 0.6845471059286886, 0.7289686274214116, 0.7705132427757893, 0.8090169943749475, 0.8443279255020151, 0.8763066800438637, 0.9048270524660196, 0.9297764858882513, 0.9510565162951535, 0.9685831611286311, 0.9822872507286886, 0.9921147013144779, 0.9980267284282716, 1.0, 0.9980267284282716, 0.9921147013144778, 0.9822872507286886, 0.9685831611286312, 0.9510565162951536, 0.9297764858882513, 0.9048270524660195, 0.8763066800438635, 0.844327925502015, 0.8090169943749475, 0.7705132427757893, 0.7289686274214114, 0.6845471059286888, 0.6374239897486899, 0.5877852522924732, 0.5358267949789967, 0.4817536741017156, 0.4257792915650729, 0.36812455268467814, 0.3090169943749475, 0.24868988716485482, 0.18738131458572457, 0.12533323356430454, 0.06279051952931358, 1.2246467991473532e-16, -0.06279051952931335, -0.12533323356430429, -0.18738131458572477, -0.24868988716485502, -0.30901699437494773, -0.3681245526846783, -0.42577929156507266, -0.481753674101715, -0.5358267949789964, -0.587785252292473, -0.6374239897486896, -0.6845471059286887, -0.7289686274214113, -0.7705132427757894, -0.8090169943749473, -0.8443279255020153, -0.8763066800438636, -0.9048270524660198, -0.9297764858882515, -0.9510565162951535, -0.968583161128631, -0.9822872507286887, -0.9921147013144778, -0.9980267284282716, -1.0, -0.9980267284282716, -0.9921147013144779, -0.9822872507286887, -0.9685831611286311, -0.9510565162951536, -0.9297764858882512, -0.9048270524660196, -0.8763066800438634, -0.8443279255020155, -0.8090169943749476, -0.7705132427757896, -0.7289686274214116, -0.684547105928689, -0.6374239897486896, -0.5877852522924734, -0.5358267949789963, -0.4817536741017153, -0.4257792915650722, -0.36812455268467786, -0.3090169943749476, -0.24868988716485535, -0.18738131458572468, -0.12533323356430465, -0.06279051952931326], \"yaxis\": \"y2\"}, {\"line\": {\"color\": \"lightsalmon\"}, \"mode\": \"lines\", \"type\": \"scatter\", \"x\": [0.0, 0.01, 0.02, 0.03, 0.04, 0.05, 0.06, 0.07, 0.08, 0.09, 0.1, 0.11, 0.12, 0.13, 0.14, 0.15, 0.16, 0.17, 0.18, 0.19, 0.2, 0.21, 0.22, 0.23, 0.24, 0.25, 0.26, 0.27, 0.28, 0.29, 0.3, 0.31, 0.32, 0.33, 0.34, 0.35000000000000003, 0.36, 0.37, 0.38, 0.39, 0.4, 0.41000000000000003, 0.42, 0.43, 0.44, 0.45, 0.46, 0.47000000000000003, 0.48, 0.49, 0.5, 0.51, 0.52, 0.53, 0.54, 0.55, 0.56, 0.5700000000000001, 0.58, 0.59, 0.6, 0.61, 0.62, 0.63, 0.64, 0.65, 0.66, 0.67, 0.68, 0.6900000000000001, 0.7000000000000001, 0.71, 0.72, 0.73, 0.74, 0.75, 0.76, 0.77, 0.78, 0.79, 0.8, 0.81, 0.8200000000000001, 0.8300000000000001, 0.84, 0.85, 0.86, 0.87, 0.88, 0.89, 0.9, 0.91, 0.92, 0.93, 0.9400000000000001, 0.9500000000000001, 0.96, 0.97, 0.98, 0.99], \"xaxis\": \"x2\", \"y\": [0.20295928604506214, 0.2442399051240544, 0.28379609483459767, 0.3216059969704218, 0.3576481914177009, 0.3919017460326037, 0.4243462689581287, 0.4549619633802288, 0.4837296847232202, 0.5106310002844804, 0.5356482513084323, 0.5587646174998144, 0.5799641839762402, 0.5992320106600416, 0.6165542041094028, 0.6319179917887762, 0.6453117987785911, 0.6567253269242457, 0.6661496364243847, 0.6735772298584691, 0.6790021386536278, 0.682420011990798, 0.6838282081501539, 0.6832258882958204, 0.6806141126998738, 0.6759959394056323, 0.6693765253302278, 0.6607632298064724, 0.6501657205640027, 0.6375960821497201, 0.623068926787512, 0.6066015076772617, 0.5882138347331455, 0.5679287927612164, 0.5457722620762757, 0.5217732415580302, 0.495963974146537, 0.4683800747769346, 0.4390606607534625, 0.40804848456276654, 0.3753900691264903, 0.3411358454931567, 0.3053402929693323, 0.26806208169008094, 0.22936421762870612, 0.18931419004577466, 0.14798412137743533, 0.10545091956301486, 0.06179643281191137, 0.017107606809764947, -0.028523355636079308, -0.07499883251181921, -0.12221561807316411, -0.1700647558820086, -0.21843136940382507, -0.26719449016576746, -0.31622688347548333, -0.365394871700649, -0.4145581551092071, -0.46356963027032533, -0.5122752060160655, -0.56051361696376, -0.6081162345991136, -0.6549068759200056, -0.7007016096410117, -0.7453085599586424, -0.788527707877283, -0.8301506900958591, -0.8699605954552045, -0.9077317589461531, -0.9432295532783339, -0.9762101780096821, -1.0064204462366706, -1.0335975688452392, -1.0574689363224579, -1.0777518981288758, -1.0941535396316124, -1.1063704565981398, -1.114088527250793, -1.1169826818819788, -1.1147166700301092, -1.1069428252162454, -1.0933018272414519, -1.073422462044865, -1.0469213791224794, -1.0134028465066325, -0.9724585033062203, -0.923667109807621, -0.8665942951363221, -0.8007923024792702, -0.7257997318679319, -0.6411412805220664, -0.5463274807542127, -0.4408544354348858, -0.3242035510184955, -0.19584126812996328, -0.05521878971207261, 0.0982281932664999, 0.2650797785423942, 0.4459321317281044], \"yaxis\": \"y2\"}, {\"marker\": {\"color\": \"mediumpurple\"}, \"mode\": \"markers\", \"type\": \"scatter\", \"x\": [0.3745401188473625, 0.9507143064099162, 0.7319939418114051, 0.5986584841970366, 0.15601864044243652, 0.15599452033620265, 0.05808361216819946, 0.8661761457749352, 0.6011150117432088, 0.7080725777960455], \"xaxis\": \"x3\", \"y\": [0.6621995859491285, -0.2504894367193866, -1.0399487832345553, -0.6275182299806012, 0.854857342681687, 0.6392487011533475, 0.18441089666331875, -0.8014323286500792, -0.6947217251134631, -0.9340757540684701], \"yaxis\": \"y3\"}, {\"line\": {\"color\": \"lightgreen\"}, \"mode\": \"lines\", \"type\": \"scatter\", \"x\": [0.0, 0.01, 0.02, 0.03, 0.04, 0.05, 0.06, 0.07, 0.08, 0.09, 0.1, 0.11, 0.12, 0.13, 0.14, 0.15, 0.16, 0.17, 0.18, 0.19, 0.2, 0.21, 0.22, 0.23, 0.24, 0.25, 0.26, 0.27, 0.28, 0.29, 0.3, 0.31, 0.32, 0.33, 0.34, 0.35000000000000003, 0.36, 0.37, 0.38, 0.39, 0.4, 0.41000000000000003, 0.42, 0.43, 0.44, 0.45, 0.46, 0.47000000000000003, 0.48, 0.49, 0.5, 0.51, 0.52, 0.53, 0.54, 0.55, 0.56, 0.5700000000000001, 0.58, 0.59, 0.6, 0.61, 0.62, 0.63, 0.64, 0.65, 0.66, 0.67, 0.68, 0.6900000000000001, 0.7000000000000001, 0.71, 0.72, 0.73, 0.74, 0.75, 0.76, 0.77, 0.78, 0.79, 0.8, 0.81, 0.8200000000000001, 0.8300000000000001, 0.84, 0.85, 0.86, 0.87, 0.88, 0.89, 0.9, 0.91, 0.92, 0.93, 0.9400000000000001, 0.9500000000000001, 0.96, 0.97, 0.98, 0.99], \"xaxis\": \"x3\", \"y\": [0.0, 0.06279051952931337, 0.12533323356430426, 0.1873813145857246, 0.2486898871648548, 0.3090169943749474, 0.3681245526846779, 0.4257792915650727, 0.4817536741017153, 0.5358267949789967, 0.5877852522924731, 0.6374239897486896, 0.6845471059286886, 0.7289686274214116, 0.7705132427757893, 0.8090169943749475, 0.8443279255020151, 0.8763066800438637, 0.9048270524660196, 0.9297764858882513, 0.9510565162951535, 0.9685831611286311, 0.9822872507286886, 0.9921147013144779, 0.9980267284282716, 1.0, 0.9980267284282716, 0.9921147013144778, 0.9822872507286886, 0.9685831611286312, 0.9510565162951536, 0.9297764858882513, 0.9048270524660195, 0.8763066800438635, 0.844327925502015, 0.8090169943749475, 0.7705132427757893, 0.7289686274214114, 0.6845471059286888, 0.6374239897486899, 0.5877852522924732, 0.5358267949789967, 0.4817536741017156, 0.4257792915650729, 0.36812455268467814, 0.3090169943749475, 0.24868988716485482, 0.18738131458572457, 0.12533323356430454, 0.06279051952931358, 1.2246467991473532e-16, -0.06279051952931335, -0.12533323356430429, -0.18738131458572477, -0.24868988716485502, -0.30901699437494773, -0.3681245526846783, -0.42577929156507266, -0.481753674101715, -0.5358267949789964, -0.587785252292473, -0.6374239897486896, -0.6845471059286887, -0.7289686274214113, -0.7705132427757894, -0.8090169943749473, -0.8443279255020153, -0.8763066800438636, -0.9048270524660198, -0.9297764858882515, -0.9510565162951535, -0.968583161128631, -0.9822872507286887, -0.9921147013144778, -0.9980267284282716, -1.0, -0.9980267284282716, -0.9921147013144779, -0.9822872507286887, -0.9685831611286311, -0.9510565162951536, -0.9297764858882512, -0.9048270524660196, -0.8763066800438634, -0.8443279255020155, -0.8090169943749476, -0.7705132427757896, -0.7289686274214116, -0.684547105928689, -0.6374239897486896, -0.5877852522924734, -0.5358267949789963, -0.4817536741017153, -0.4257792915650722, -0.36812455268467786, -0.3090169943749476, -0.24868988716485535, -0.18738131458572468, -0.12533323356430465, -0.06279051952931326], \"yaxis\": \"y3\"}, {\"line\": {\"color\": \"lightsalmon\"}, \"mode\": \"lines\", \"type\": \"scatter\", \"x\": [0.0, 0.01, 0.02, 0.03, 0.04, 0.05, 0.06, 0.07, 0.08, 0.09, 0.1, 0.11, 0.12, 0.13, 0.14, 0.15, 0.16, 0.17, 0.18, 0.19, 0.2, 0.21, 0.22, 0.23, 0.24, 0.25, 0.26, 0.27, 0.28, 0.29, 0.3, 0.31, 0.32, 0.33, 0.34, 0.35000000000000003, 0.36, 0.37, 0.38, 0.39, 0.4, 0.41000000000000003, 0.42, 0.43, 0.44, 0.45, 0.46, 0.47000000000000003, 0.48, 0.49, 0.5, 0.51, 0.52, 0.53, 0.54, 0.55, 0.56, 0.5700000000000001, 0.58, 0.59, 0.6, 0.61, 0.62, 0.63, 0.64, 0.65, 0.66, 0.67, 0.68, 0.6900000000000001, 0.7000000000000001, 0.71, 0.72, 0.73, 0.74, 0.75, 0.76, 0.77, 0.78, 0.79, 0.8, 0.81, 0.8200000000000001, 0.8300000000000001, 0.84, 0.85, 0.86, 0.87, 0.88, 0.89, 0.9, 0.91, 0.92, 0.93, 0.9400000000000001, 0.9500000000000001, 0.96, 0.97, 0.98, 0.99], \"xaxis\": \"x3\", \"y\": [0.17054858172512816, 0.21400364043199516, 0.25580784314848415, 0.2959345881884667, 0.3343574034881648, 0.37104998707406434, 0.405986250550351, 0.4391403657898748, 0.4704868150218289, 0.5000004445186494, 0.5276565220940641, 0.5534307986336569, 0.5772995738886916, 0.5992397667731564, 0.6192289904129256, 0.6372456322044704, 0.6532689391485197, 0.6672791087313152, 0.6792573856324413, 0.6891861645433986, 0.6970490993849362, 0.7028312192133759, 0.7065190511064686, 0.7081007503174398, 0.7075662379814263, 0.70490734665115, 0.7001179739280187, 0.69319424444043, 0.684134680402479, 0.6729403809629873, 0.6596152105262983, 0.6441659961920403, 0.626602734420435, 0.6069388069821363, 0.5851912061962831, 0.5613807693967823, 0.5355324224940265, 0.5076754324164777, 0.47784366812301954, 0.4460758697717574, 0.4124159255131356, 0.37691315524384256, 0.33962260051195814, 0.300605319602123, 0.2599286866509847, 0.21766669344666983, 0.17390025235031728, 0.12871749854145006, 0.08221408953087456, 0.03449349960343367, -0.014332693453107392, -0.06414453230904832, -0.11481341807972156, -0.16620186606402299, -0.21816328338077112, -0.27054177310266864, -0.32317196997590136, -0.3758789133382801, -0.4284779634122146, -0.48077476775289685, -0.532565285278679, -0.5836358760022793, -0.6337634653200216, -0.6827157925043843, -0.7302517538849537, -0.7761218520969385, -0.8200687637272178, -0.8618280386981378, -0.9011289458015617, -0.9376954799327966, -0.9712475477788757, -1.0015023499911464, -1.0281759792211742, -1.0509852548248708, -1.0696498165455053, -1.0838945010752188, -1.0934520270702257, -1.0980660159603963, -1.0974943777530133, -1.0915130929867405, -1.0799204240490134, -1.0625415912318998, -1.0392339511720001, -1.0098927177029986, -0.9744572676494434, -0.9329180767109464, -0.8853243333321394, -0.8317922813292677, -0.7725143450541172, -0.7077690940244554, -0.6379321072421291, -0.5634878008602002, -0.4850422864538702, -0.4033373309016003, -0.319265492797729, -0.23388651440154426, -0.14844505238520245, -0.06438983507978871, 0.016605661459116017, 0.092620921432542], \"yaxis\": \"y3\"}],\n",
              "                        {\"annotations\": [{\"font\": {\"size\": 16}, \"showarrow\": false, \"text\": \"poly2 fit\", \"x\": 0.14444444444444446, \"xanchor\": \"center\", \"xref\": \"paper\", \"y\": 1.0, \"yanchor\": \"bottom\", \"yref\": \"paper\"}, {\"font\": {\"size\": 16}, \"showarrow\": false, \"text\": \"poly6 fit\", \"x\": 0.5, \"xanchor\": \"center\", \"xref\": \"paper\", \"y\": 1.0, \"yanchor\": \"bottom\", \"yref\": \"paper\"}, {\"font\": {\"size\": 16}, \"showarrow\": false, \"text\": \"poly12 fit\", \"x\": 0.8555555555555556, \"xanchor\": \"center\", \"xref\": \"paper\", \"y\": 1.0, \"yanchor\": \"bottom\", \"yref\": \"paper\"}], \"height\": 700, \"showlegend\": false, \"template\": {\"data\": {\"bar\": [{\"error_x\": {\"color\": \"#2a3f5f\"}, \"error_y\": {\"color\": \"#2a3f5f\"}, \"marker\": {\"line\": {\"color\": \"#E5ECF6\", \"width\": 0.5}}, \"type\": \"bar\"}], \"barpolar\": [{\"marker\": {\"line\": {\"color\": \"#E5ECF6\", \"width\": 0.5}}, \"type\": \"barpolar\"}], \"carpet\": [{\"aaxis\": {\"endlinecolor\": \"#2a3f5f\", \"gridcolor\": \"white\", \"linecolor\": \"white\", \"minorgridcolor\": \"white\", \"startlinecolor\": \"#2a3f5f\"}, \"baxis\": {\"endlinecolor\": \"#2a3f5f\", \"gridcolor\": \"white\", \"linecolor\": \"white\", \"minorgridcolor\": \"white\", \"startlinecolor\": \"#2a3f5f\"}, \"type\": \"carpet\"}], \"choropleth\": [{\"colorbar\": {\"outlinewidth\": 0, \"ticks\": \"\"}, \"type\": \"choropleth\"}], \"contour\": [{\"colorbar\": {\"outlinewidth\": 0, \"ticks\": \"\"}, \"colorscale\": [[0.0, \"#0d0887\"], [0.1111111111111111, \"#46039f\"], [0.2222222222222222, \"#7201a8\"], [0.3333333333333333, \"#9c179e\"], [0.4444444444444444, \"#bd3786\"], [0.5555555555555556, \"#d8576b\"], [0.6666666666666666, \"#ed7953\"], [0.7777777777777778, \"#fb9f3a\"], [0.8888888888888888, \"#fdca26\"], [1.0, \"#f0f921\"]], \"type\": \"contour\"}], \"contourcarpet\": [{\"colorbar\": {\"outlinewidth\": 0, \"ticks\": \"\"}, \"type\": \"contourcarpet\"}], \"heatmap\": [{\"colorbar\": {\"outlinewidth\": 0, \"ticks\": \"\"}, \"colorscale\": [[0.0, \"#0d0887\"], [0.1111111111111111, \"#46039f\"], [0.2222222222222222, \"#7201a8\"], [0.3333333333333333, \"#9c179e\"], [0.4444444444444444, \"#bd3786\"], [0.5555555555555556, \"#d8576b\"], [0.6666666666666666, \"#ed7953\"], [0.7777777777777778, \"#fb9f3a\"], [0.8888888888888888, \"#fdca26\"], [1.0, \"#f0f921\"]], \"type\": \"heatmap\"}], \"heatmapgl\": [{\"colorbar\": {\"outlinewidth\": 0, \"ticks\": \"\"}, \"colorscale\": [[0.0, \"#0d0887\"], [0.1111111111111111, \"#46039f\"], [0.2222222222222222, \"#7201a8\"], [0.3333333333333333, \"#9c179e\"], [0.4444444444444444, \"#bd3786\"], [0.5555555555555556, \"#d8576b\"], [0.6666666666666666, \"#ed7953\"], [0.7777777777777778, \"#fb9f3a\"], [0.8888888888888888, \"#fdca26\"], [1.0, \"#f0f921\"]], \"type\": \"heatmapgl\"}], \"histogram\": [{\"marker\": {\"colorbar\": {\"outlinewidth\": 0, \"ticks\": \"\"}}, \"type\": \"histogram\"}], \"histogram2d\": [{\"colorbar\": {\"outlinewidth\": 0, \"ticks\": \"\"}, \"colorscale\": [[0.0, \"#0d0887\"], [0.1111111111111111, \"#46039f\"], [0.2222222222222222, \"#7201a8\"], [0.3333333333333333, \"#9c179e\"], [0.4444444444444444, \"#bd3786\"], [0.5555555555555556, \"#d8576b\"], [0.6666666666666666, \"#ed7953\"], [0.7777777777777778, \"#fb9f3a\"], [0.8888888888888888, \"#fdca26\"], [1.0, \"#f0f921\"]], \"type\": \"histogram2d\"}], \"histogram2dcontour\": [{\"colorbar\": {\"outlinewidth\": 0, \"ticks\": \"\"}, \"colorscale\": [[0.0, \"#0d0887\"], [0.1111111111111111, \"#46039f\"], [0.2222222222222222, \"#7201a8\"], [0.3333333333333333, \"#9c179e\"], [0.4444444444444444, \"#bd3786\"], [0.5555555555555556, \"#d8576b\"], [0.6666666666666666, \"#ed7953\"], [0.7777777777777778, \"#fb9f3a\"], [0.8888888888888888, \"#fdca26\"], [1.0, \"#f0f921\"]], \"type\": \"histogram2dcontour\"}], \"mesh3d\": [{\"colorbar\": {\"outlinewidth\": 0, \"ticks\": \"\"}, \"type\": \"mesh3d\"}], \"parcoords\": [{\"line\": {\"colorbar\": {\"outlinewidth\": 0, \"ticks\": \"\"}}, \"type\": \"parcoords\"}], \"pie\": [{\"automargin\": true, \"type\": \"pie\"}], \"scatter\": [{\"marker\": {\"colorbar\": {\"outlinewidth\": 0, \"ticks\": \"\"}}, \"type\": \"scatter\"}], \"scatter3d\": [{\"line\": {\"colorbar\": {\"outlinewidth\": 0, \"ticks\": \"\"}}, \"marker\": {\"colorbar\": {\"outlinewidth\": 0, \"ticks\": \"\"}}, \"type\": \"scatter3d\"}], \"scattercarpet\": [{\"marker\": {\"colorbar\": {\"outlinewidth\": 0, \"ticks\": \"\"}}, \"type\": \"scattercarpet\"}], \"scattergeo\": [{\"marker\": {\"colorbar\": {\"outlinewidth\": 0, \"ticks\": \"\"}}, \"type\": \"scattergeo\"}], \"scattergl\": [{\"marker\": {\"colorbar\": {\"outlinewidth\": 0, \"ticks\": \"\"}}, \"type\": \"scattergl\"}], \"scattermapbox\": [{\"marker\": {\"colorbar\": {\"outlinewidth\": 0, \"ticks\": \"\"}}, \"type\": \"scattermapbox\"}], \"scatterpolar\": [{\"marker\": {\"colorbar\": {\"outlinewidth\": 0, \"ticks\": \"\"}}, \"type\": \"scatterpolar\"}], \"scatterpolargl\": [{\"marker\": {\"colorbar\": {\"outlinewidth\": 0, \"ticks\": \"\"}}, \"type\": \"scatterpolargl\"}], \"scatterternary\": [{\"marker\": {\"colorbar\": {\"outlinewidth\": 0, \"ticks\": \"\"}}, \"type\": \"scatterternary\"}], \"surface\": [{\"colorbar\": {\"outlinewidth\": 0, \"ticks\": \"\"}, \"colorscale\": [[0.0, \"#0d0887\"], [0.1111111111111111, \"#46039f\"], [0.2222222222222222, \"#7201a8\"], [0.3333333333333333, \"#9c179e\"], [0.4444444444444444, \"#bd3786\"], [0.5555555555555556, \"#d8576b\"], [0.6666666666666666, \"#ed7953\"], [0.7777777777777778, \"#fb9f3a\"], [0.8888888888888888, \"#fdca26\"], [1.0, \"#f0f921\"]], \"type\": \"surface\"}], \"table\": [{\"cells\": {\"fill\": {\"color\": \"#EBF0F8\"}, \"line\": {\"color\": \"white\"}}, \"header\": {\"fill\": {\"color\": \"#C8D4E3\"}, \"line\": {\"color\": \"white\"}}, \"type\": \"table\"}]}, \"layout\": {\"annotationdefaults\": {\"arrowcolor\": \"#2a3f5f\", \"arrowhead\": 0, \"arrowwidth\": 1}, \"coloraxis\": {\"colorbar\": {\"outlinewidth\": 0, \"ticks\": \"\"}}, \"colorscale\": {\"diverging\": [[0, \"#8e0152\"], [0.1, \"#c51b7d\"], [0.2, \"#de77ae\"], [0.3, \"#f1b6da\"], [0.4, \"#fde0ef\"], [0.5, \"#f7f7f7\"], [0.6, \"#e6f5d0\"], [0.7, \"#b8e186\"], [0.8, \"#7fbc41\"], [0.9, \"#4d9221\"], [1, \"#276419\"]], \"sequential\": [[0.0, \"#0d0887\"], [0.1111111111111111, \"#46039f\"], [0.2222222222222222, \"#7201a8\"], [0.3333333333333333, \"#9c179e\"], [0.4444444444444444, \"#bd3786\"], [0.5555555555555556, \"#d8576b\"], [0.6666666666666666, \"#ed7953\"], [0.7777777777777778, \"#fb9f3a\"], [0.8888888888888888, \"#fdca26\"], [1.0, \"#f0f921\"]], \"sequentialminus\": [[0.0, \"#0d0887\"], [0.1111111111111111, \"#46039f\"], [0.2222222222222222, \"#7201a8\"], [0.3333333333333333, \"#9c179e\"], [0.4444444444444444, \"#bd3786\"], [0.5555555555555556, \"#d8576b\"], [0.6666666666666666, \"#ed7953\"], [0.7777777777777778, \"#fb9f3a\"], [0.8888888888888888, \"#fdca26\"], [1.0, \"#f0f921\"]]}, \"colorway\": [\"#636efa\", \"#EF553B\", \"#00cc96\", \"#ab63fa\", \"#FFA15A\", \"#19d3f3\", \"#FF6692\", \"#B6E880\", \"#FF97FF\", \"#FECB52\"], \"font\": {\"color\": \"#2a3f5f\"}, \"geo\": {\"bgcolor\": \"white\", \"lakecolor\": \"white\", \"landcolor\": \"#E5ECF6\", \"showlakes\": true, \"showland\": true, \"subunitcolor\": \"white\"}, \"hoverlabel\": {\"align\": \"left\"}, \"hovermode\": \"closest\", \"mapbox\": {\"style\": \"light\"}, \"paper_bgcolor\": \"white\", \"plot_bgcolor\": \"#E5ECF6\", \"polar\": {\"angularaxis\": {\"gridcolor\": \"white\", \"linecolor\": \"white\", \"ticks\": \"\"}, \"bgcolor\": \"#E5ECF6\", \"radialaxis\": {\"gridcolor\": \"white\", \"linecolor\": \"white\", \"ticks\": \"\"}}, \"scene\": {\"xaxis\": {\"backgroundcolor\": \"#E5ECF6\", \"gridcolor\": \"white\", \"gridwidth\": 2, \"linecolor\": \"white\", \"showbackground\": true, \"ticks\": \"\", \"zerolinecolor\": \"white\"}, \"yaxis\": {\"backgroundcolor\": \"#E5ECF6\", \"gridcolor\": \"white\", \"gridwidth\": 2, \"linecolor\": \"white\", \"showbackground\": true, \"ticks\": \"\", \"zerolinecolor\": \"white\"}, \"zaxis\": {\"backgroundcolor\": \"#E5ECF6\", \"gridcolor\": \"white\", \"gridwidth\": 2, \"linecolor\": \"white\", \"showbackground\": true, \"ticks\": \"\", \"zerolinecolor\": \"white\"}}, \"shapedefaults\": {\"line\": {\"color\": \"#2a3f5f\"}}, \"ternary\": {\"aaxis\": {\"gridcolor\": \"white\", \"linecolor\": \"white\", \"ticks\": \"\"}, \"baxis\": {\"gridcolor\": \"white\", \"linecolor\": \"white\", \"ticks\": \"\"}, \"bgcolor\": \"#E5ECF6\", \"caxis\": {\"gridcolor\": \"white\", \"linecolor\": \"white\", \"ticks\": \"\"}}, \"title\": {\"x\": 0.05}, \"xaxis\": {\"automargin\": true, \"gridcolor\": \"white\", \"linecolor\": \"white\", \"ticks\": \"\", \"title\": {\"standoff\": 15}, \"zerolinecolor\": \"white\", \"zerolinewidth\": 2}, \"yaxis\": {\"automargin\": true, \"gridcolor\": \"white\", \"linecolor\": \"white\", \"ticks\": \"\", \"title\": {\"standoff\": 15}, \"zerolinecolor\": \"white\", \"zerolinewidth\": 2}}}, \"title\": {\"text\": \"Polynomial fits and their coefficients\"}, \"width\": 1300, \"xaxis\": {\"anchor\": \"y\", \"domain\": [0.0, 0.2888888888888889], \"range\": [0, 1], \"title\": {\"text\": \"x<br><br><br>a: 1.82<br>b: -3.56<br>c: 1.0\"}}, \"xaxis2\": {\"anchor\": \"y2\", \"domain\": [0.35555555555555557, 0.6444444444444445], \"range\": [0, 1], \"title\": {\"text\": \"x<br><br><br>a: 3.39<br>b: 3.65<br>c: 1.44<br>d: -3.74<br>e: -8.51<br>f: 4.21<br>g: 0.2\"}}, \"xaxis3\": {\"anchor\": \"y3\", \"domain\": [0.7111111111111111, 1.0], \"range\": [0, 1], \"title\": {\"text\": \"x<br><br><br>a: -2.42<br>b: -1.48<br>c: -0.39<br>d: 0.82<br>e: 2.03<br>f: 3.05<br>g: 3.5<br>h: 2.8<br>i: 0.24<br>j: -4.46<br>k: -8.12<br>l: 4.43<br>m: 0.17\"}}, \"yaxis\": {\"anchor\": \"x\", \"domain\": [0.0, 1.0], \"range\": [-5, 5], \"title\": {\"text\": \"t\"}}, \"yaxis2\": {\"anchor\": \"x2\", \"domain\": [0.0, 1.0], \"range\": [-5, 5], \"title\": {\"text\": \"t\"}}, \"yaxis3\": {\"anchor\": \"x3\", \"domain\": [0.0, 1.0], \"range\": [-5, 5], \"title\": {\"text\": \"t\"}}},\n",
              "                        {\"responsive\": true}\n",
              "                    ).then(function(){\n",
              "                            \n",
              "var gd = document.getElementById('e1f2999d-6c8a-4cfe-99f6-98d6a06b9209');\n",
              "var x = new MutationObserver(function (mutations, observer) {{\n",
              "        var display = window.getComputedStyle(gd).display;\n",
              "        if (!display || display === 'none') {{\n",
              "            console.log([gd, 'removed!']);\n",
              "            Plotly.purge(gd);\n",
              "            observer.disconnect();\n",
              "        }}\n",
              "}});\n",
              "\n",
              "// Listen for the removal of the full notebook cells\n",
              "var notebookContainer = gd.closest('#notebook-container');\n",
              "if (notebookContainer) {{\n",
              "    x.observe(notebookContainer, {childList: true});\n",
              "}}\n",
              "\n",
              "// Listen for the clearing of the current output cell\n",
              "var outputEl = gd.closest('.output');\n",
              "if (outputEl) {{\n",
              "    x.observe(outputEl, {childList: true});\n",
              "}}\n",
              "\n",
              "                        })\n",
              "                };\n",
              "                \n",
              "            </script>\n",
              "        </div>\n",
              "</body>\n",
              "</html>"
            ]
          },
          "metadata": {
            "tags": []
          }
        }
      ]
    },
    {
      "cell_type": "markdown",
      "metadata": {
        "id": "3vQ8ittKYZjQ"
      },
      "source": [
        "Not so easy to tune, isn't it?\n",
        "\n",
        "It's a good moment to take a break, two new Pytorch classes await us in the next sections!"
      ]
    },
    {
      "cell_type": "markdown",
      "metadata": {
        "id": "Tvpx3YbdcKlK"
      },
      "source": [
        "## Dataset class\n",
        "In PyTorch (and other common frameworks) you can decouple the code that manages the data and the code that uses the data to learn.\n",
        "This produces simpler and more understandable code, and enables to possibility to re-use the same dataset with different models or the same model with different datasets.\n",
        "\n",
        "In the following sections we will see an introduction on how to manage the data pipeline.\n",
        "\n",
        "\n",
        "[`torch.utils.data.Dataset`](https://pytorch.org/docs/stable/data.html?highlight=dataset#torch.utils.data.Dataset) is an abstract class representing a dataset. Your custom dataset should inherit `Dataset` and override the following methods:\n",
        "\n",
        "- `__len__`: so that `len(dataset)` returns the size of the dataset\n",
        "- `__getitem__`: so that `dataset[i]` returns the $i$-th sample from the dataset.\n",
        "\n",
        "Let's create a toy dataset:"
      ]
    },
    {
      "cell_type": "code",
      "metadata": {
        "id": "HclJRK7QdOZM",
        "colab": {
          "base_uri": "https://localhost:8080/"
        },
        "outputId": "9e373437-dfb2-4045-8a75-194bb2337391"
      },
      "source": [
        "from torch.utils.data import Dataset\n",
        "\n",
        "class ToyDataset(Dataset):\n",
        "\n",
        "  def __init__(self, n_points: int = 20, noise: float = .1):\n",
        "    super().__init__()  # In python 3 this is enough\n",
        "\n",
        "    self.n_points = n_points\n",
        "    self.x = torch.linspace(-1, 1, n_points)\n",
        "    self.y = self.x ** 3 + noise * torch.randn(n_points)\n",
        "\n",
        "  def __len__(self):\n",
        "    return self.n_points\n",
        "\n",
        "  def __getitem__(self, idx):\n",
        "    return {\n",
        "        'x': self.x[idx],\n",
        "        'y': self.y[idx]\n",
        "    }\n",
        "\n",
        "toydataset = ToyDataset(20, noise=.1)\n",
        "toydataset[5]"
      ],
      "execution_count": null,
      "outputs": [
        {
          "output_type": "execute_result",
          "data": {
            "text/plain": [
              "{'x': tensor(-0.4737), 'y': tensor(-0.1500)}"
            ]
          },
          "metadata": {
            "tags": []
          },
          "execution_count": 80
        }
      ]
    },
    {
      "cell_type": "markdown",
      "metadata": {
        "id": "BZRoEO92fefK"
      },
      "source": [
        "In this case the dataset is composed of simple pairs of points:"
      ]
    },
    {
      "cell_type": "code",
      "metadata": {
        "colab": {
          "base_uri": "https://localhost:8080/"
        },
        "id": "Z-jhx5AUvQ2E",
        "outputId": "336ace15-4c3c-4531-97b9-0eb1e5d17150"
      },
      "source": [
        "toydataset[2]"
      ],
      "execution_count": null,
      "outputs": [
        {
          "output_type": "execute_result",
          "data": {
            "text/plain": [
              "{'x': tensor(-0.7895), 'y': tensor(-0.4615)}"
            ]
          },
          "metadata": {
            "tags": []
          },
          "execution_count": 81
        }
      ]
    },
    {
      "cell_type": "code",
      "metadata": {
        "id": "M6vM4yKRfZEm",
        "colab": {
          "base_uri": "https://localhost:8080/",
          "height": 542
        },
        "outputId": "ae689bf1-7403-4c07-b88e-9631c0ebdbe5"
      },
      "source": [
        "import plotly.express as px\n",
        "fig = px.scatter(x=toydataset.x.numpy(), y=toydataset.y.numpy())\n",
        "fig.show()"
      ],
      "execution_count": null,
      "outputs": [
        {
          "output_type": "display_data",
          "data": {
            "text/html": [
              "<html>\n",
              "<head><meta charset=\"utf-8\" /></head>\n",
              "<body>\n",
              "    <div>\n",
              "            <script src=\"https://cdnjs.cloudflare.com/ajax/libs/mathjax/2.7.5/MathJax.js?config=TeX-AMS-MML_SVG\"></script><script type=\"text/javascript\">if (window.MathJax) {MathJax.Hub.Config({SVG: {font: \"STIX-Web\"}});}</script>\n",
              "                <script type=\"text/javascript\">window.PlotlyConfig = {MathJaxConfig: 'local'};</script>\n",
              "        <script src=\"https://cdn.plot.ly/plotly-latest.min.js\"></script>    \n",
              "            <div id=\"72e586ad-d82e-43e0-a91d-465e085fb98e\" class=\"plotly-graph-div\" style=\"height:525px; width:100%;\"></div>\n",
              "            <script type=\"text/javascript\">\n",
              "                \n",
              "                    window.PLOTLYENV=window.PLOTLYENV || {};\n",
              "                    \n",
              "                if (document.getElementById(\"72e586ad-d82e-43e0-a91d-465e085fb98e\")) {\n",
              "                    Plotly.newPlot(\n",
              "                        '72e586ad-d82e-43e0-a91d-465e085fb98e',\n",
              "                        [{\"hoverlabel\": {\"namelength\": 0}, \"hovertemplate\": \"x=%{x}<br>y=%{y}\", \"legendgroup\": \"\", \"marker\": {\"color\": \"#636efa\", \"symbol\": \"circle\"}, \"mode\": \"markers\", \"name\": \"\", \"showlegend\": false, \"type\": \"scatter\", \"x\": [-1.0, -0.8947368264198303, -0.7894736528396606, -0.6842105388641357, -0.5789473652839661, -0.4736841917037964, -0.3684210777282715, -0.2631579041481018, -0.15789473056793213, -0.052631571888923645, 0.05263158679008484, 0.15789473056793213, 0.2631579041481018, 0.3684210777282715, 0.4736841917037964, 0.5789473652839661, 0.6842105388641357, 0.7894736528396606, 0.8947368264198303, 1.0], \"xaxis\": \"x\", \"y\": [-0.9152134656906128, -0.7858189344406128, -0.46149250864982605, -0.29121845960617065, -0.14502288401126862, -0.15003028512001038, -0.17201842367649078, -0.0767657458782196, 0.06270094960927963, -0.0075722504407167435, -0.020814688876271248, 0.020568564534187317, -0.16493862867355347, 0.08570676296949387, 0.19771268963813782, 0.4128752052783966, 0.22179391980171204, 0.24320825934410095, 0.6831532120704651, 1.0843579769134521], \"yaxis\": \"y\"}],\n",
              "                        {\"legend\": {\"tracegroupgap\": 0}, \"margin\": {\"t\": 60}, \"template\": {\"data\": {\"bar\": [{\"error_x\": {\"color\": \"#2a3f5f\"}, \"error_y\": {\"color\": \"#2a3f5f\"}, \"marker\": {\"line\": {\"color\": \"#E5ECF6\", \"width\": 0.5}}, \"type\": \"bar\"}], \"barpolar\": [{\"marker\": {\"line\": {\"color\": \"#E5ECF6\", \"width\": 0.5}}, \"type\": \"barpolar\"}], \"carpet\": [{\"aaxis\": {\"endlinecolor\": \"#2a3f5f\", \"gridcolor\": \"white\", \"linecolor\": \"white\", \"minorgridcolor\": \"white\", \"startlinecolor\": \"#2a3f5f\"}, \"baxis\": {\"endlinecolor\": \"#2a3f5f\", \"gridcolor\": \"white\", \"linecolor\": \"white\", \"minorgridcolor\": \"white\", \"startlinecolor\": \"#2a3f5f\"}, \"type\": \"carpet\"}], \"choropleth\": [{\"colorbar\": {\"outlinewidth\": 0, \"ticks\": \"\"}, \"type\": \"choropleth\"}], \"contour\": [{\"colorbar\": {\"outlinewidth\": 0, \"ticks\": \"\"}, \"colorscale\": [[0.0, \"#0d0887\"], [0.1111111111111111, \"#46039f\"], [0.2222222222222222, \"#7201a8\"], [0.3333333333333333, \"#9c179e\"], [0.4444444444444444, \"#bd3786\"], [0.5555555555555556, \"#d8576b\"], [0.6666666666666666, \"#ed7953\"], [0.7777777777777778, \"#fb9f3a\"], [0.8888888888888888, \"#fdca26\"], [1.0, \"#f0f921\"]], \"type\": \"contour\"}], \"contourcarpet\": [{\"colorbar\": {\"outlinewidth\": 0, \"ticks\": \"\"}, \"type\": \"contourcarpet\"}], \"heatmap\": [{\"colorbar\": {\"outlinewidth\": 0, \"ticks\": \"\"}, \"colorscale\": [[0.0, \"#0d0887\"], [0.1111111111111111, \"#46039f\"], [0.2222222222222222, \"#7201a8\"], [0.3333333333333333, \"#9c179e\"], [0.4444444444444444, \"#bd3786\"], [0.5555555555555556, \"#d8576b\"], [0.6666666666666666, \"#ed7953\"], [0.7777777777777778, \"#fb9f3a\"], [0.8888888888888888, \"#fdca26\"], [1.0, \"#f0f921\"]], \"type\": \"heatmap\"}], \"heatmapgl\": [{\"colorbar\": {\"outlinewidth\": 0, \"ticks\": \"\"}, \"colorscale\": [[0.0, \"#0d0887\"], [0.1111111111111111, \"#46039f\"], [0.2222222222222222, \"#7201a8\"], [0.3333333333333333, \"#9c179e\"], [0.4444444444444444, \"#bd3786\"], [0.5555555555555556, \"#d8576b\"], [0.6666666666666666, \"#ed7953\"], [0.7777777777777778, \"#fb9f3a\"], [0.8888888888888888, \"#fdca26\"], [1.0, \"#f0f921\"]], \"type\": \"heatmapgl\"}], \"histogram\": [{\"marker\": {\"colorbar\": {\"outlinewidth\": 0, \"ticks\": \"\"}}, \"type\": \"histogram\"}], \"histogram2d\": [{\"colorbar\": {\"outlinewidth\": 0, \"ticks\": \"\"}, \"colorscale\": [[0.0, \"#0d0887\"], [0.1111111111111111, \"#46039f\"], [0.2222222222222222, \"#7201a8\"], [0.3333333333333333, \"#9c179e\"], [0.4444444444444444, \"#bd3786\"], [0.5555555555555556, \"#d8576b\"], [0.6666666666666666, \"#ed7953\"], [0.7777777777777778, \"#fb9f3a\"], [0.8888888888888888, \"#fdca26\"], [1.0, \"#f0f921\"]], \"type\": \"histogram2d\"}], \"histogram2dcontour\": [{\"colorbar\": {\"outlinewidth\": 0, \"ticks\": \"\"}, \"colorscale\": [[0.0, \"#0d0887\"], [0.1111111111111111, \"#46039f\"], [0.2222222222222222, \"#7201a8\"], [0.3333333333333333, \"#9c179e\"], [0.4444444444444444, \"#bd3786\"], [0.5555555555555556, \"#d8576b\"], [0.6666666666666666, \"#ed7953\"], [0.7777777777777778, \"#fb9f3a\"], [0.8888888888888888, \"#fdca26\"], [1.0, \"#f0f921\"]], \"type\": \"histogram2dcontour\"}], \"mesh3d\": [{\"colorbar\": {\"outlinewidth\": 0, \"ticks\": \"\"}, \"type\": \"mesh3d\"}], \"parcoords\": [{\"line\": {\"colorbar\": {\"outlinewidth\": 0, \"ticks\": \"\"}}, \"type\": \"parcoords\"}], \"pie\": [{\"automargin\": true, \"type\": \"pie\"}], \"scatter\": [{\"marker\": {\"colorbar\": {\"outlinewidth\": 0, \"ticks\": \"\"}}, \"type\": \"scatter\"}], \"scatter3d\": [{\"line\": {\"colorbar\": {\"outlinewidth\": 0, \"ticks\": \"\"}}, \"marker\": {\"colorbar\": {\"outlinewidth\": 0, \"ticks\": \"\"}}, \"type\": \"scatter3d\"}], \"scattercarpet\": [{\"marker\": {\"colorbar\": {\"outlinewidth\": 0, \"ticks\": \"\"}}, \"type\": \"scattercarpet\"}], \"scattergeo\": [{\"marker\": {\"colorbar\": {\"outlinewidth\": 0, \"ticks\": \"\"}}, \"type\": \"scattergeo\"}], \"scattergl\": [{\"marker\": {\"colorbar\": {\"outlinewidth\": 0, \"ticks\": \"\"}}, \"type\": \"scattergl\"}], \"scattermapbox\": [{\"marker\": {\"colorbar\": {\"outlinewidth\": 0, \"ticks\": \"\"}}, \"type\": \"scattermapbox\"}], \"scatterpolar\": [{\"marker\": {\"colorbar\": {\"outlinewidth\": 0, \"ticks\": \"\"}}, \"type\": \"scatterpolar\"}], \"scatterpolargl\": [{\"marker\": {\"colorbar\": {\"outlinewidth\": 0, \"ticks\": \"\"}}, \"type\": \"scatterpolargl\"}], \"scatterternary\": [{\"marker\": {\"colorbar\": {\"outlinewidth\": 0, \"ticks\": \"\"}}, \"type\": \"scatterternary\"}], \"surface\": [{\"colorbar\": {\"outlinewidth\": 0, \"ticks\": \"\"}, \"colorscale\": [[0.0, \"#0d0887\"], [0.1111111111111111, \"#46039f\"], [0.2222222222222222, \"#7201a8\"], [0.3333333333333333, \"#9c179e\"], [0.4444444444444444, \"#bd3786\"], [0.5555555555555556, \"#d8576b\"], [0.6666666666666666, \"#ed7953\"], [0.7777777777777778, \"#fb9f3a\"], [0.8888888888888888, \"#fdca26\"], [1.0, \"#f0f921\"]], \"type\": \"surface\"}], \"table\": [{\"cells\": {\"fill\": {\"color\": \"#EBF0F8\"}, \"line\": {\"color\": \"white\"}}, \"header\": {\"fill\": {\"color\": \"#C8D4E3\"}, \"line\": {\"color\": \"white\"}}, \"type\": \"table\"}]}, \"layout\": {\"annotationdefaults\": {\"arrowcolor\": \"#2a3f5f\", \"arrowhead\": 0, \"arrowwidth\": 1}, \"coloraxis\": {\"colorbar\": {\"outlinewidth\": 0, \"ticks\": \"\"}}, \"colorscale\": {\"diverging\": [[0, \"#8e0152\"], [0.1, \"#c51b7d\"], [0.2, \"#de77ae\"], [0.3, \"#f1b6da\"], [0.4, \"#fde0ef\"], [0.5, \"#f7f7f7\"], [0.6, \"#e6f5d0\"], [0.7, \"#b8e186\"], [0.8, \"#7fbc41\"], [0.9, \"#4d9221\"], [1, \"#276419\"]], \"sequential\": [[0.0, \"#0d0887\"], [0.1111111111111111, \"#46039f\"], [0.2222222222222222, \"#7201a8\"], [0.3333333333333333, \"#9c179e\"], [0.4444444444444444, \"#bd3786\"], [0.5555555555555556, \"#d8576b\"], [0.6666666666666666, \"#ed7953\"], [0.7777777777777778, \"#fb9f3a\"], [0.8888888888888888, \"#fdca26\"], [1.0, \"#f0f921\"]], \"sequentialminus\": [[0.0, \"#0d0887\"], [0.1111111111111111, \"#46039f\"], [0.2222222222222222, \"#7201a8\"], [0.3333333333333333, \"#9c179e\"], [0.4444444444444444, \"#bd3786\"], [0.5555555555555556, \"#d8576b\"], [0.6666666666666666, \"#ed7953\"], [0.7777777777777778, \"#fb9f3a\"], [0.8888888888888888, \"#fdca26\"], [1.0, \"#f0f921\"]]}, \"colorway\": [\"#636efa\", \"#EF553B\", \"#00cc96\", \"#ab63fa\", \"#FFA15A\", \"#19d3f3\", \"#FF6692\", \"#B6E880\", \"#FF97FF\", \"#FECB52\"], \"font\": {\"color\": \"#2a3f5f\"}, \"geo\": {\"bgcolor\": \"white\", \"lakecolor\": \"white\", \"landcolor\": \"#E5ECF6\", \"showlakes\": true, \"showland\": true, \"subunitcolor\": \"white\"}, \"hoverlabel\": {\"align\": \"left\"}, \"hovermode\": \"closest\", \"mapbox\": {\"style\": \"light\"}, \"paper_bgcolor\": \"white\", \"plot_bgcolor\": \"#E5ECF6\", \"polar\": {\"angularaxis\": {\"gridcolor\": \"white\", \"linecolor\": \"white\", \"ticks\": \"\"}, \"bgcolor\": \"#E5ECF6\", \"radialaxis\": {\"gridcolor\": \"white\", \"linecolor\": \"white\", \"ticks\": \"\"}}, \"scene\": {\"xaxis\": {\"backgroundcolor\": \"#E5ECF6\", \"gridcolor\": \"white\", \"gridwidth\": 2, \"linecolor\": \"white\", \"showbackground\": true, \"ticks\": \"\", \"zerolinecolor\": \"white\"}, \"yaxis\": {\"backgroundcolor\": \"#E5ECF6\", \"gridcolor\": \"white\", \"gridwidth\": 2, \"linecolor\": \"white\", \"showbackground\": true, \"ticks\": \"\", \"zerolinecolor\": \"white\"}, \"zaxis\": {\"backgroundcolor\": \"#E5ECF6\", \"gridcolor\": \"white\", \"gridwidth\": 2, \"linecolor\": \"white\", \"showbackground\": true, \"ticks\": \"\", \"zerolinecolor\": \"white\"}}, \"shapedefaults\": {\"line\": {\"color\": \"#2a3f5f\"}}, \"ternary\": {\"aaxis\": {\"gridcolor\": \"white\", \"linecolor\": \"white\", \"ticks\": \"\"}, \"baxis\": {\"gridcolor\": \"white\", \"linecolor\": \"white\", \"ticks\": \"\"}, \"bgcolor\": \"#E5ECF6\", \"caxis\": {\"gridcolor\": \"white\", \"linecolor\": \"white\", \"ticks\": \"\"}}, \"title\": {\"x\": 0.05}, \"xaxis\": {\"automargin\": true, \"gridcolor\": \"white\", \"linecolor\": \"white\", \"ticks\": \"\", \"title\": {\"standoff\": 15}, \"zerolinecolor\": \"white\", \"zerolinewidth\": 2}, \"yaxis\": {\"automargin\": true, \"gridcolor\": \"white\", \"linecolor\": \"white\", \"ticks\": \"\", \"title\": {\"standoff\": 15}, \"zerolinecolor\": \"white\", \"zerolinewidth\": 2}}}, \"xaxis\": {\"anchor\": \"y\", \"domain\": [0.0, 1.0], \"title\": {\"text\": \"x\"}}, \"yaxis\": {\"anchor\": \"x\", \"domain\": [0.0, 1.0], \"title\": {\"text\": \"y\"}}},\n",
              "                        {\"responsive\": true}\n",
              "                    ).then(function(){\n",
              "                            \n",
              "var gd = document.getElementById('72e586ad-d82e-43e0-a91d-465e085fb98e');\n",
              "var x = new MutationObserver(function (mutations, observer) {{\n",
              "        var display = window.getComputedStyle(gd).display;\n",
              "        if (!display || display === 'none') {{\n",
              "            console.log([gd, 'removed!']);\n",
              "            Plotly.purge(gd);\n",
              "            observer.disconnect();\n",
              "        }}\n",
              "}});\n",
              "\n",
              "// Listen for the removal of the full notebook cells\n",
              "var notebookContainer = gd.closest('#notebook-container');\n",
              "if (notebookContainer) {{\n",
              "    x.observe(notebookContainer, {childList: true});\n",
              "}}\n",
              "\n",
              "// Listen for the clearing of the current output cell\n",
              "var outputEl = gd.closest('.output');\n",
              "if (outputEl) {{\n",
              "    x.observe(outputEl, {childList: true});\n",
              "}}\n",
              "\n",
              "                        })\n",
              "                };\n",
              "                \n",
              "            </script>\n",
              "        </div>\n",
              "</body>\n",
              "</html>"
            ]
          },
          "metadata": {
            "tags": []
          }
        }
      ]
    },
    {
      "cell_type": "markdown",
      "metadata": {
        "id": "NS0j3M_pgk8s"
      },
      "source": [
        "> **NOTE**\n",
        "> \n",
        "> Small Python reminder. Every object that implements the `__getitem__` method follows the [iterator procotol](https://www.python.org/dev/peps/pep-0234/#python-api-specification). It means that you can **iterate** the dataset:\n",
        "\n",
        "\n"
      ]
    },
    {
      "cell_type": "code",
      "metadata": {
        "id": "sMdwLEFDhZCu",
        "colab": {
          "base_uri": "https://localhost:8080/",
          "height": 155,
          "referenced_widgets": [
            "e008a393d65c48a78baffbced4d1268a",
            "a3ecf9263ed14590ac886a520d6b6efb",
            "23571d6e4c1d4169a962dc4b8eb131c8",
            "3ea746f07dd34c3780b255658ec578ed",
            "1af3c7dfccba4768ae7b35c764957243",
            "0af0cf7b768b416e91044481c967ea99",
            "7e4dcf58357d47fcb45c82a761ccde93",
            "7cda4ecaf3744351b3b8799b677f808b"
          ]
        },
        "outputId": "5c432905-45df-4af5-c727-776419f35662"
      },
      "source": [
        "from tqdm import tqdm_notebook as tqdm  # just a progress bar\n",
        "\n",
        "for sample in tqdm(toydataset):\n",
        "  pass"
      ],
      "execution_count": null,
      "outputs": [
        {
          "output_type": "stream",
          "text": [
            "/usr/local/lib/python3.7/dist-packages/ipykernel_launcher.py:3: TqdmDeprecationWarning:\n",
            "\n",
            "This function will be removed in tqdm==5.0.0\n",
            "Please use `tqdm.notebook.tqdm` instead of `tqdm.tqdm_notebook`\n",
            "\n"
          ],
          "name": "stderr"
        },
        {
          "output_type": "display_data",
          "data": {
            "application/vnd.jupyter.widget-view+json": {
              "model_id": "e008a393d65c48a78baffbced4d1268a",
              "version_minor": 0,
              "version_major": 2
            },
            "text/plain": [
              "HBox(children=(FloatProgress(value=0.0, max=20000.0), HTML(value='')))"
            ]
          },
          "metadata": {
            "tags": []
          }
        },
        {
          "output_type": "stream",
          "text": [
            "\n"
          ],
          "name": "stdout"
        }
      ]
    },
    {
      "cell_type": "markdown",
      "metadata": {
        "id": "9GXYYwNTfK7D"
      },
      "source": [
        "In the `ToyDataset` the whole dataset is stored **in memory**, i.e. in attributes of the `ToyDataset` class. \n",
        "This is the fastest and simplest way to implement a dataset, but it is **not always feasible**.\n",
        "What if you must train a neural network on 500GB of images? \n",
        "The whole datates does not fit in memory!\n",
        "\n",
        "> Using a single file to store the whole dataset does not scale with the dataset size \n",
        "\n",
        "The `Dataset` abstraction is particularly useful when implementing *lazy loading* policies, that is, when you load each item **only when you need it**.\n",
        "You can even apply some preprocessing on the fly, to each item.\n",
        "\n",
        "One example of how it can be done:\n",
        "\n",
        "```python\n",
        "class LazyDataset(Dataset):\n",
        "\n",
        "  def __init__(self, file_paths: Sequence[Path]):\n",
        "    super().__init__()  \n",
        "    self.file_paths = file_paths\n",
        "\n",
        "  def __len__(self):\n",
        "    return len(self.file_paths)\n",
        "\n",
        "  def __getitem__(self, idx):\n",
        "    sample_path = self.file_paths[idx]\n",
        "\n",
        "    # -> Load sample_path in memory\n",
        "    # -> Perform some lightweight preprocessing\n",
        "    # -> Generate (sample_input, sample_output) \n",
        "\n",
        "    return {\n",
        "        'x': sample_input,\n",
        "        'y': sample_output\n",
        "    }\n",
        "\n",
        "```\n",
        " "
      ]
    },
    {
      "cell_type": "markdown",
      "metadata": {
        "id": "P79iR6q0gIzw"
      },
      "source": [
        "**NOTE**\n",
        "\n",
        "The dataset can return any type of object, you are *not* forced to return a dictionary of tensors:\n",
        "\n"
      ]
    },
    {
      "cell_type": "code",
      "metadata": {
        "id": "nDg1ggjdiMA4",
        "colab": {
          "base_uri": "https://localhost:8080/",
          "height": 34
        },
        "outputId": "49e73f68-8885-477e-ec9e-79e6de6fa089"
      },
      "source": [
        "from torch.utils.data import Dataset\n",
        "\n",
        "class AnotherDataset(Dataset):\n",
        "  def __init__(self):\n",
        "    super().__init__()  \n",
        "    self.myitems = torch.arange(100)\n",
        "\n",
        "  def __len__(self):\n",
        "    return len(self.myitems)\n",
        "\n",
        "  def __getitem__(self, idx):\n",
        "    return f'Sample{idx}', self.myitems[idx], None, 3.5\n",
        "\n",
        "dataset = AnotherDataset()\n",
        "dataset[5]"
      ],
      "execution_count": null,
      "outputs": [
        {
          "output_type": "execute_result",
          "data": {
            "text/plain": [
              "('Sample5', tensor(5), None, 3.5)"
            ]
          },
          "metadata": {
            "tags": []
          },
          "execution_count": 83
        }
      ]
    },
    {
      "cell_type": "markdown",
      "metadata": {
        "id": "zOwlr_u2iLh6"
      },
      "source": [
        "\n",
        "However, it is often useful to return a dictionary of tensors. \n",
        "\n",
        "Note that the returned tensors should *not* be on the GPU memory, as of today it [causes problems](https://pytorch.org/docs/stable/data.html#multi-process-data-loading) with the multiprocessing behaviour of the DataLoader.\n",
        "\n",
        "\n",
        "Returning a dictionary of tensors will:\n",
        "\n",
        "- Make your code more readable\n",
        "- Ease the batch creation process: you can use the `DataLoader` default `collate_fn` \n",
        "\n"
      ]
    },
    {
      "cell_type": "markdown",
      "metadata": {
        "id": "ndnx7HJxkvXH"
      },
      "source": [
        "## DataLoader class\n",
        "\n",
        "[`torch.utils.data.DataLoader`](https://pytorch.org/docs/stable/data.html?highlight=dataloader#torch.utils.data.DataLoader) is an iterator which provides:\n",
        "\n",
        "- Batching the data\n",
        "- Shuffling the data\n",
        "- Load the data in parallel, using `multiprocessing` workers. Meaning that while the `GPU` is performing some computation on a batch, in parallel you can load the next batch.\n",
        "\n",
        "\n",
        "Creating a dataloader from a dataset is straightforward, this is one example that highlights some of the most used parameters:\n"
      ]
    },
    {
      "cell_type": "code",
      "metadata": {
        "id": "bNxfH3vayfVx",
        "colab": {
          "base_uri": "https://localhost:8080/",
          "height": 438,
          "referenced_widgets": [
            "519441628bab4ecf8b60277794e0ed2f",
            "3258522a8fc74584ac9129a8881affa4",
            "e10d5f1459434061807d68b22fd2aea2",
            "c8b80003c8aa47e2b7339e2da7325034",
            "4d1a0693b7a34753b5f12469f1349fcf",
            "c4ca384546694b53bf0d747b52bdd675",
            "3152a68d37134fd5a3dfa09c344d609d",
            "256daa14adfb423dadac72f08048991c",
            "26783c0e1ee6419aa16a465f59c1c00d",
            "f1556961dfcc4c4696651fded74c8a8b",
            "6b2592acac494c2d90aa735be4544724",
            "c7e1d744ed984e919a45b7ebcd11f05f",
            "021d02e549c1476bbb35140015740577",
            "7c1803e766a04ae6919642b3200569c5",
            "a9ba298be9534b399e0c6b72cea97a77",
            "7c22b752d1e1492cb38aa09380c1082b"
          ]
        },
        "outputId": "7d0b51f0-9b6b-4c3f-f782-e0d9eea9743c"
      },
      "source": [
        "from torch.utils.data import DataLoader\n",
        "\n",
        "toydataset = ToyDataset(200)\n",
        "toyloader = DataLoader(toydataset,\n",
        "                       batch_size=8,    # number of elements in each batch\n",
        "                       shuffle=True,    # shuffle the dataset\n",
        "                       num_workers=4,   # number of workers, i.e. batches to prefetch\n",
        "                       pin_memory=True  # return memory pinnded tensors\n",
        "                       )\n",
        "\n",
        "# 200 iterations\n",
        "for sample in tqdm(toydataset): \n",
        "  pass\n",
        "print(sample)\n",
        "\n",
        "# 25 iterations\n",
        "for batch in tqdm(toyloader):  # there is some overhead when using multiple workers!\n",
        "  pass\n",
        "batch"
      ],
      "execution_count": null,
      "outputs": [
        {
          "output_type": "stream",
          "text": [
            "/usr/local/lib/python3.7/dist-packages/torch/utils/data/dataloader.py:477: UserWarning:\n",
            "\n",
            "This DataLoader will create 4 worker processes in total. Our suggested max number of worker in current system is 2, which is smaller than what this DataLoader is going to create. Please be aware that excessive worker creation might get DataLoader running slow or even freeze, lower the worker number to avoid potential slowness/freeze if necessary.\n",
            "\n",
            "/usr/local/lib/python3.7/dist-packages/ipykernel_launcher.py:12: TqdmDeprecationWarning:\n",
            "\n",
            "This function will be removed in tqdm==5.0.0\n",
            "Please use `tqdm.notebook.tqdm` instead of `tqdm.tqdm_notebook`\n",
            "\n"
          ],
          "name": "stderr"
        },
        {
          "output_type": "display_data",
          "data": {
            "application/vnd.jupyter.widget-view+json": {
              "model_id": "519441628bab4ecf8b60277794e0ed2f",
              "version_minor": 0,
              "version_major": 2
            },
            "text/plain": [
              "HBox(children=(FloatProgress(value=0.0, max=200.0), HTML(value='')))"
            ]
          },
          "metadata": {
            "tags": []
          }
        },
        {
          "output_type": "stream",
          "text": [
            "\n",
            "{'x': tensor(1.), 'y': tensor(1.0816)}\n"
          ],
          "name": "stdout"
        },
        {
          "output_type": "stream",
          "text": [
            "/usr/local/lib/python3.7/dist-packages/ipykernel_launcher.py:17: TqdmDeprecationWarning:\n",
            "\n",
            "This function will be removed in tqdm==5.0.0\n",
            "Please use `tqdm.notebook.tqdm` instead of `tqdm.tqdm_notebook`\n",
            "\n"
          ],
          "name": "stderr"
        },
        {
          "output_type": "display_data",
          "data": {
            "application/vnd.jupyter.widget-view+json": {
              "model_id": "26783c0e1ee6419aa16a465f59c1c00d",
              "version_minor": 0,
              "version_major": 2
            },
            "text/plain": [
              "HBox(children=(FloatProgress(value=0.0, max=25.0), HTML(value='')))"
            ]
          },
          "metadata": {
            "tags": []
          }
        },
        {
          "output_type": "stream",
          "text": [
            "\n"
          ],
          "name": "stdout"
        },
        {
          "output_type": "execute_result",
          "data": {
            "text/plain": [
              "{'x': tensor([ 0.0251, -0.0452,  0.2965, -0.2764, -0.4874, -0.6784, -0.1759, -0.7688]),\n",
              " 'y': tensor([ 0.0650, -0.1143,  0.0625, -0.0337, -0.2850, -0.3424,  0.0006, -0.3945])}"
            ]
          },
          "metadata": {
            "tags": []
          },
          "execution_count": 83
        }
      ]
    },
    {
      "cell_type": "markdown",
      "metadata": {
        "id": "Bm9Uhxbt52fy"
      },
      "source": [
        "If you are not returning a dictionary or some other form of regular structure from the dataset, you must manually specify *how* to combine the samples together to form the batches. This can be done with the `collate_fn` parameter of the `DataLoader`.\n",
        "\n",
        "Please read these [docs](https://pytorch.org/docs/stable/data.html#loading-batched-and-non-batched-data) to understand the default behaviour of the `collate_fn` and how you can define custom `collate_fn` functions."
      ]
    },
    {
      "cell_type": "markdown",
      "metadata": {
        "id": "pALUlr9Czk_B"
      },
      "source": [
        "> **NOTE**\n",
        "> \n",
        "> The `DataLoader` is just an iterator, it can't be indexed!"
      ]
    },
    {
      "cell_type": "code",
      "metadata": {
        "id": "ijjb5ujOzpvQ",
        "colab": {
          "base_uri": "https://localhost:8080/",
          "height": 34
        },
        "outputId": "ac59b640-d8d0-453a-b85c-8b2101e144cb"
      },
      "source": [
        "try:\n",
        "  toyloader[0]\n",
        "except Exception as e:\n",
        "  print(e)"
      ],
      "execution_count": null,
      "outputs": [
        {
          "output_type": "stream",
          "text": [
            "'DataLoader' object does not support indexing\n"
          ],
          "name": "stdout"
        }
      ]
    },
    {
      "cell_type": "markdown",
      "metadata": {
        "id": "SYYP8rCj2-Ae"
      },
      "source": [
        "### Memory pinning"
      ]
    },
    {
      "cell_type": "markdown",
      "metadata": {
        "id": "GRqZeY_A1Ink"
      },
      "source": [
        "Pytorch tensors support [memory pinning](https://devblogs.nvidia.com/how-optimize-data-transfers-cuda-cc/):"
      ]
    },
    {
      "cell_type": "markdown",
      "metadata": {
        "id": "T1BIKzR36fww"
      },
      "source": [
        "![](https://devblogs.nvidia.com/wp-content/uploads/2012/12/pinned-1024x541.jpg)"
      ]
    },
    {
      "cell_type": "markdown",
      "metadata": {
        "id": "84rs4T_66ffq"
      },
      "source": [
        "\n",
        "Pinned tensors enable:\n",
        "- **Much faster copies** from CPU to GPU. \n",
        "- **Aynchronous GPU copies**, just pass an additional **`non_blocking=True`** argument to a `to()` or a `cuda()` call. Meaning that *while* the tensor is being transferred, the code continues if it does not need that tensor. (**gpu operations are [asynchronous](https://pytorch.org/docs/stable/notes/cuda.html#asynchronous-execution) by default**)\n",
        "\n",
        "Given a tensor you can manually pin it:"
      ]
    },
    {
      "cell_type": "code",
      "metadata": {
        "id": "tF0GVdOq3tnG",
        "colab": {
          "base_uri": "https://localhost:8080/"
        },
        "outputId": "c9e4eb8c-ca0b-4da8-bc95-73ebbc626f0f"
      },
      "source": [
        "t = torch.rand(100)\n",
        "t.is_pinned()"
      ],
      "execution_count": null,
      "outputs": [
        {
          "output_type": "execute_result",
          "data": {
            "text/plain": [
              "False"
            ]
          },
          "metadata": {
            "tags": []
          },
          "execution_count": 84
        }
      ]
    },
    {
      "cell_type": "code",
      "metadata": {
        "id": "6p_mlBoh3p-a"
      },
      "source": [
        "# be sure to use a GPU runtime, otherwise it won't be pinned\n",
        "t = t.pin_memory()  # rember to reassign"
      ],
      "execution_count": null,
      "outputs": []
    },
    {
      "cell_type": "code",
      "metadata": {
        "id": "kgFj15grDJPl",
        "colab": {
          "base_uri": "https://localhost:8080/"
        },
        "outputId": "3a4d259c-9437-46bd-b7c9-737825c4c325"
      },
      "source": [
        "t.is_pinned()"
      ],
      "execution_count": null,
      "outputs": [
        {
          "output_type": "execute_result",
          "data": {
            "text/plain": [
              "True"
            ]
          },
          "metadata": {
            "tags": []
          },
          "execution_count": 86
        }
      ]
    },
    {
      "cell_type": "markdown",
      "metadata": {
        "id": "nY2UFPT14EkF"
      },
      "source": [
        "Passing `pin_memory=True` to a `DataLoader` will automatically put the fetched data Tensors in pinned memory, and thus enables faster data transfer to CUDA-enabled GPUs. \n",
        "\n",
        "Only some types returned by the `Dataset` are automatically pinned by the `DataLoader` (Tensor, Map and Sequence of Tensors), if you want to pin some custom type read more [here](https://pytorch.org/docs/stable/data.html#memory-pinning)."
      ]
    },
    {
      "cell_type": "code",
      "metadata": {
        "id": "5gNnoz6U5sMz",
        "colab": {
          "base_uri": "https://localhost:8080/"
        },
        "outputId": "42c10d91-87f2-410c-a227-117fa94b547a"
      },
      "source": [
        "batch['x'].is_pinned()  "
      ],
      "execution_count": null,
      "outputs": [
        {
          "output_type": "execute_result",
          "data": {
            "text/plain": [
              "True"
            ]
          },
          "metadata": {
            "tags": []
          },
          "execution_count": 88
        }
      ]
    },
    {
      "cell_type": "markdown",
      "metadata": {
        "id": "Q4l1TIvepi6H"
      },
      "source": [
        "### Bottlenecks\n",
        "Always be sure that the data loading is **not a bottleneck** in your pipeline.\n",
        "Your GPU must not **wait for data**.\n",
        "\n"
      ]
    },
    {
      "cell_type": "markdown",
      "metadata": {
        "id": "zFEIytCKlMsQ"
      },
      "source": [
        "#### How to check if your data loading is a bottleneck?\n",
        "\n",
        "##### **Check resource usage**\n",
        "\n",
        "Check the GPU (or CPU) usage, if it is ~$100\\%$ it is being fully utilised. \n",
        "\n",
        "Otherwise you may have some bottleneck somewhere, or, your operations may not be GPU friendly (e.g. small batches).\n",
        "\n",
        "\n",
        "##### **Check data loading speed**\n",
        "\n",
        "Iterate over the `Dataset` or `DataLoader` and check the data loading speed, i.e. the items per seconds. \n",
        "\n",
        "If the number of items per seconds that you are able to load is greater than the items per seconds that you can process in your train-loop, you don't have a bottleneck in the data loading part of the pipeline. \n",
        "\n",
        "You can use the [tqdm](https://github.com/tqdm/tqdm) package to easily check the iteration speed of any iterable with a minimal overhead."
      ]
    },
    {
      "cell_type": "code",
      "metadata": {
        "id": "-PLGSqUenoTz",
        "colab": {
          "base_uri": "https://localhost:8080/",
          "height": 246,
          "referenced_widgets": [
            "38ed4d6571cf42b2a112acd40c989fa9",
            "d347edce71db4282bfdc6b78b9440dfd",
            "dd50069045e54ca4870485cd47a129e7",
            "f0df272f60ef406a919a3a6ca44c5846",
            "a62403bf3d1a4885b663846afd3d4114",
            "268c1045f2ab4161af2067171b7710ea",
            "c84520e3bad54e91bee762be8b37a545",
            "d01df6d5d77b4a85b80d1b32d3f0c4ed"
          ]
        },
        "outputId": "8e031cc8-b3a4-43fd-e539-052a8b3e3c37"
      },
      "source": [
        "# Checking the loading speed\n",
        "from tqdm import tqdm_notebook as tqdm  # just a progress bar\n",
        "\n",
        "toydataset = ToyDataset(20000)\n",
        "toyloader = DataLoader(toydataset,\n",
        "                       batch_size=8,    # number of elements in each batch\n",
        "                       shuffle=True,    # shuffle the dataset\n",
        "                       num_workers=4,   # number of workers, i.e. batches to prefetch\n",
        "                       pin_memory=True  # return memory pinnded tensors\n",
        "                       )\n",
        "for batch in tqdm(toyloader):\n",
        "  pass\n",
        "\n",
        "# tqdm reports ~500.00it/s (iteration each second).\n",
        "# If the train-loop is faster, the bottleneck is somewhere else."
      ],
      "execution_count": null,
      "outputs": [
        {
          "output_type": "stream",
          "text": [
            "/usr/local/lib/python3.7/dist-packages/torch/utils/data/dataloader.py:477: UserWarning:\n",
            "\n",
            "This DataLoader will create 4 worker processes in total. Our suggested max number of worker in current system is 2, which is smaller than what this DataLoader is going to create. Please be aware that excessive worker creation might get DataLoader running slow or even freeze, lower the worker number to avoid potential slowness/freeze if necessary.\n",
            "\n",
            "/usr/local/lib/python3.7/dist-packages/ipykernel_launcher.py:11: TqdmDeprecationWarning:\n",
            "\n",
            "This function will be removed in tqdm==5.0.0\n",
            "Please use `tqdm.notebook.tqdm` instead of `tqdm.tqdm_notebook`\n",
            "\n"
          ],
          "name": "stderr"
        },
        {
          "output_type": "display_data",
          "data": {
            "application/vnd.jupyter.widget-view+json": {
              "model_id": "38ed4d6571cf42b2a112acd40c989fa9",
              "version_minor": 0,
              "version_major": 2
            },
            "text/plain": [
              "HBox(children=(FloatProgress(value=0.0, max=2500.0), HTML(value='')))"
            ]
          },
          "metadata": {
            "tags": []
          }
        },
        {
          "output_type": "stream",
          "text": [
            "\n"
          ],
          "name": "stdout"
        }
      ]
    },
    {
      "cell_type": "markdown",
      "metadata": {
        "id": "DUhUSCRNoTQb"
      },
      "source": [
        "#### How to fix a bottleneck in the data loading?\n",
        "\n",
        "##### 1) **Use in-memory datasets**\n",
        "If your dataset fits on memory, load the whole dataset in memory.\n",
        "\n",
        "##### 2) **Tune DataLoader parameters**\n",
        "Tune the `num_workers` and `batch_size` parameter of the `DataLoader`, pay attention that the batch size has a direct impact on the training. A sane default for `num_workers` is the number of cores in your CPU.\n",
        "\n",
        "##### 3) **Do not preprocess on the fly**\n",
        "If you are preprocessing your files, save the preprocessed files to the disk \n",
        "\n",
        "##### 4) **Speed up raw file loading**\n",
        "If even just loading the files from disk is slow, consider changing the way in which the files are stored (e.g. another format, a [database](https://github.com/google/leveldb))."
      ]
    },
    {
      "cell_type": "markdown",
      "metadata": {
        "id": "34YGEYsZyBvS"
      },
      "source": [
        "> **NOTE**\n",
        "> \n",
        "> You can read much more on the `torch.utils.data` package [here](https://pytorch.org/docs/stable/data.html).\n",
        "> \n",
        "> Moreover, keep in mind that the [`torchvision`](https://pytorch.org/docs/stable/torchvision/index.html#) package provides some common datasets and transforms."
      ]
    },
    {
      "cell_type": "markdown",
      "metadata": {
        "id": "JiCv7axFUEel"
      },
      "source": [
        "> **EXERCISE**\n",
        "> \n",
        "> You want to create a neural network that is able to learn how to recover corrupted images from the [CIFAR10](https://www.cs.toronto.edu/~kriz/cifar.html) dataset. That is, given in input a corrupted image the model outputs the correspondent original uncorrupted image.\n",
        ">\n",
        "> You are free to choose the type of corruption to apply. Possible examples are: random noise, random black patches, random crop, random reflections, all the previous together.\n",
        ">\n",
        "> 1) Think about the data pipeline this model would require. What should the dataset return?\n",
        ">\n",
        "> 2) Create the `Dataset` and `DataLoader` to implement it.\n",
        ">\n",
        "> 3) Plot the images in a **batch** to ensure you are doing everything right.\n",
        "> \n",
        ">  *hint*: you may use [`torchvision.datasets.CIFAR10`](https://pytorch.org/vision/stable/datasets.html#cifar) and [`torchvision.transforms`](https://pytorch.org/vision/stable/transforms.html)"
      ]
    },
    {
      "cell_type": "markdown",
      "metadata": {
        "id": "U07puKsVdCXZ"
      },
      "source": [
        "> **EXERCISE**\n",
        "> \n",
        "> Consider [The Abstraction and Reasoning Corpus (ARC)](https://github.com/fchollet/ARC).\n",
        "> \n",
        "> If you want, you can clone the ARC repository on your computer and play yourself against some proposed tasks, it is enough to open `apps/testing_interface.html` in your browser.\n",
        "> \n",
        "> > *ARC can be seen as a general artificial intelligence benchmark, as a program synthesis benchmark, or as a psychometric intelligence test. It is targeted at both humans and artificially intelligent systems that aim at emulating a human-like form of general fluid intelligence.*\n",
        "> >\n",
        "> > **Dataset goal**\n",
        "> > \n",
        "> > A test-taker is said to solve a task when, upon seeing the task for the first time, they are able to produce the correct output grid for *all* test inputs in the task (this includes picking the dimensions of the output grid). For each test input, the test-taker is allowed 3 trials (this holds for all test-takers, either humans or AI).\n",
        "> >\n",
        "> > **Task file format**\n",
        "> > \n",
        "> > The `data` directory contains two subdirectories:\n",
        "> > \n",
        "> > - `data/training`: contains the task files for training (400 tasks). Use these to prototype your algorithm or to train your algorithm to acquire ARC-relevant cognitive priors.\n",
        "> > - `data/evaluation`: contains the task files for evaluation (400 tasks). Use these to evaluate your final algorithm. To ensure fair evaluation results, do not leak information from the evaluation set into your algorithm (e.g. by looking at the evaluation tasks yourself during development, or by repeatedly modifying an algorithm while using its evaluation score as feedback).\n",
        "> > \n",
        "> > The tasks are stored in JSON format. Each task JSON file contains a dictionary with two fields:\n",
        "> > \n",
        "> > - `\"train\"`: demonstration input/output pairs. It is a list of \"pairs\" (typically 3 pairs).\n",
        "> > - `\"test\"`: test input/output pairs. It is a list of \"pairs\" (typically 1 pair).\n",
        "> > \n",
        "> > A \"pair\" is a dictionary with two fields:\n",
        "> > \n",
        "> > - `\"input\"`: the input \"grid\" for the pair.\n",
        "> > - `\"output\"`: the output \"grid\" for the pair.\n",
        "> > \n",
        "> > A \"grid\" is a rectangular matrix (list of lists) of integers between 0 and 9 (inclusive). The smallest possible grid size is 1x1 and the largest is 30x30.\n",
        "> \n",
        ">\n",
        "> - What would your`Dataset` return for this task? \n",
        "> - What would each batch contain?\n",
        "> \n",
        "> Discuss and compare your choices with your colleagues. Did you all make the same choices? Why or why not?\n"
      ]
    },
    {
      "cell_type": "code",
      "metadata": {
        "id": "M6X0SY2R_nwq"
      },
      "source": [
        ""
      ],
      "execution_count": null,
      "outputs": []
    }
  ]
}
